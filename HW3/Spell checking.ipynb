{
 "cells": [
  {
   "cell_type": "code",
   "execution_count": null,
   "id": "f181c43a",
   "metadata": {},
   "outputs": [],
   "source": [
    "# В этом задании вам необходимо будет реализовать статистический Spell Checker"
   ]
  },
  {
   "cell_type": "code",
   "execution_count": 10,
   "id": "3daf63c3",
   "metadata": {},
   "outputs": [
    {
     "name": "stderr",
     "output_type": "stream",
     "text": [
      "\"wget\" ­Ґ пў«пҐвбп ў­гваҐ­­Ґ© Ё«Ё ў­Ґи­Ґ©\n",
      "Є®¬ ­¤®©, ЁбЇ®«­пҐ¬®© Їа®Ја ¬¬®© Ё«Ё Ї ЄҐв­л¬ д ©«®¬.\n"
     ]
    }
   ],
   "source": [
    "# !pip install razdel corus numpy nltk tqdm\n",
    "\n",
    "# !wget https://github.com/yutkin/Lenta.Ru-News-Dataset/releases/download/v1.0/lenta-ru-news.csv.gz"
   ]
  },
  {
   "cell_type": "code",
   "execution_count": 3,
   "id": "70242cc1",
   "metadata": {},
   "outputs": [],
   "source": [
    "import razdel\n",
    "import corus\n",
    "import numpy as np\n",
    "import nltk\n",
    "import tqdm\n",
    "from collections import Counter"
   ]
  },
  {
   "cell_type": "code",
   "execution_count": 4,
   "id": "0243198e",
   "metadata": {},
   "outputs": [],
   "source": [
    "# Данные: Корпус русских текстов для n-gram статистики --> возьмем новостный корпус с corus\n",
    "# Словарь слов русского языка (чем больше, тем лучше)\n",
    "# Предложения, которые необходимо исправить"
   ]
  },
  {
   "cell_type": "code",
   "execution_count": null,
   "id": "c0a60287",
   "metadata": {},
   "outputs": [],
   "source": [
    "# Шаг 1:\n",
    "\n",
    "# На первом шаге коррекции наших текстов определим такие токены, которым требуется исправление.\n",
    "# Для этого проведем статистическую бинарную классификацию токенов в наших предложениях\n",
    "# (1- токен содержит опечатку, 0- токен не содержит опечатку)\n",
    "\n",
    "# Определять неправильные токены будем с помощью формулы расчета \"подозрительности\" триграмм из статьи 1975 года \n",
    "# \"Computer Detection of Typographical Errors  R. Morris, L. Cherry\". Статья приложена.\n",
    "\n",
    "# Сначала напишем формулу для получения n-gram слова. Для формулы нам нужны только биграммы и триграммы, но мы напишем\n",
    "# функцию, которая возвращает n-граммы для любого заданного n."
   ]
  },
  {
   "cell_type": "code",
   "execution_count": 5,
   "id": "882adb05",
   "metadata": {},
   "outputs": [],
   "source": [
    "def ngram(word, n):\n",
    "    ngrams = []\n",
    "    \n",
    "    if len(word) == n:\n",
    "        ngrams.append(word)\n",
    "        return ngrams\n",
    "\n",
    "    for i in range(len(word)):\n",
    "        if i == (len(word) - 2):\n",
    "            break\n",
    "        string = ''\n",
    "        while len(string) != n:\n",
    "            if len(string) == n:\n",
    "                break\n",
    "            else:\n",
    "                string += word[i]\n",
    "                i += 1\n",
    "        ngrams.append(string)\n",
    "        \n",
    "    return ngrams\n",
    "\n",
    "\n",
    "# как --> ['как']\n",
    "# не --> []\n",
    "# шарик --> ['шар', 'ари', 'рик']\n",
    "# неправильный --> ['неп', 'епр', 'пра', 'рав', 'ави', 'вил', 'иль', 'льн', 'ьны', 'ный']\n",
    "\n",
    "\n",
    "assert ngram('неправильный', 3) == [''.join(g) for g in list(nltk.ngrams('неправильный', 3))]"
   ]
  },
  {
   "cell_type": "code",
   "execution_count": 42,
   "id": "5b7625a8",
   "metadata": {},
   "outputs": [],
   "source": [
    "# Логика сбора статистики такова:\n",
    "# 1) Идем по текстам корпуса новостей\n",
    "# 2) Токенизируем тексты с помощью razdel.tokenize()\n",
    "# 3) Приводим каждый токен к нижнему регистру\n",
    "# 4) Токены, которые содержат только символы кириллицы, копим в статистику \n",
    "#    (делим токен на биграмы и триграммы и копим статистику в Counter)"
   ]
  },
  {
   "cell_type": "code",
   "execution_count": 9,
   "id": "9fb91811",
   "metadata": {},
   "outputs": [
    {
     "ename": "FileNotFoundError",
     "evalue": "[Errno 2] No such file or directory: 'lenta-ru-news.csv.gz'",
     "output_type": "error",
     "traceback": [
      "\u001b[1;31m---------------------------------------------------------------------------\u001b[0m",
      "\u001b[1;31mFileNotFoundError\u001b[0m                         Traceback (most recent call last)",
      "\u001b[1;32m~\\AppData\\Local\\Temp/ipykernel_7680/2917171581.py\u001b[0m in \u001b[0;36m<module>\u001b[1;34m\u001b[0m\n\u001b[0;32m      5\u001b[0m \u001b[0mrecords\u001b[0m \u001b[1;33m=\u001b[0m \u001b[0mload_lenta\u001b[0m\u001b[1;33m(\u001b[0m\u001b[0mpath\u001b[0m\u001b[1;33m)\u001b[0m\u001b[1;33m\u001b[0m\u001b[1;33m\u001b[0m\u001b[0m\n\u001b[0;32m      6\u001b[0m \u001b[1;33m\u001b[0m\u001b[0m\n\u001b[1;32m----> 7\u001b[1;33m \u001b[0mnext\u001b[0m\u001b[1;33m(\u001b[0m\u001b[0mrecords\u001b[0m\u001b[1;33m)\u001b[0m\u001b[1;33m\u001b[0m\u001b[1;33m\u001b[0m\u001b[0m\n\u001b[0m\u001b[0;32m      8\u001b[0m \u001b[0mrecords\u001b[0m\u001b[1;33m\u001b[0m\u001b[1;33m\u001b[0m\u001b[0m\n",
      "\u001b[1;32md:\\venvs\\hw\\lib\\site-packages\\corus\\sources\\lenta.py\u001b[0m in \u001b[0;36mparse_lenta\u001b[1;34m(lines)\u001b[0m\n\u001b[0;32m     25\u001b[0m \u001b[1;32mdef\u001b[0m \u001b[0mparse_lenta\u001b[0m\u001b[1;33m(\u001b[0m\u001b[0mlines\u001b[0m\u001b[1;33m)\u001b[0m\u001b[1;33m:\u001b[0m\u001b[1;33m\u001b[0m\u001b[1;33m\u001b[0m\u001b[0m\n\u001b[0;32m     26\u001b[0m     \u001b[0mrows\u001b[0m \u001b[1;33m=\u001b[0m \u001b[0mparse_csv\u001b[0m\u001b[1;33m(\u001b[0m\u001b[0mlines\u001b[0m\u001b[1;33m)\u001b[0m\u001b[1;33m\u001b[0m\u001b[1;33m\u001b[0m\u001b[0m\n\u001b[1;32m---> 27\u001b[1;33m     \u001b[0mskip_header\u001b[0m\u001b[1;33m(\u001b[0m\u001b[0mrows\u001b[0m\u001b[1;33m)\u001b[0m\u001b[1;33m\u001b[0m\u001b[1;33m\u001b[0m\u001b[0m\n\u001b[0m\u001b[0;32m     28\u001b[0m     \u001b[1;32mfor\u001b[0m \u001b[0mcells\u001b[0m \u001b[1;32min\u001b[0m \u001b[0mrows\u001b[0m\u001b[1;33m:\u001b[0m\u001b[1;33m\u001b[0m\u001b[1;33m\u001b[0m\u001b[0m\n\u001b[0;32m     29\u001b[0m         \u001b[1;32myield\u001b[0m \u001b[0mLentaRecord\u001b[0m\u001b[1;33m(\u001b[0m\u001b[1;33m*\u001b[0m\u001b[0mcells\u001b[0m\u001b[1;33m)\u001b[0m\u001b[1;33m\u001b[0m\u001b[1;33m\u001b[0m\u001b[0m\n",
      "\u001b[1;32md:\\venvs\\hw\\lib\\site-packages\\corus\\io.py\u001b[0m in \u001b[0;36mskip_header\u001b[1;34m(rows)\u001b[0m\n\u001b[0;32m    133\u001b[0m \u001b[1;33m\u001b[0m\u001b[0m\n\u001b[0;32m    134\u001b[0m \u001b[1;32mdef\u001b[0m \u001b[0mskip_header\u001b[0m\u001b[1;33m(\u001b[0m\u001b[0mrows\u001b[0m\u001b[1;33m)\u001b[0m\u001b[1;33m:\u001b[0m\u001b[1;33m\u001b[0m\u001b[1;33m\u001b[0m\u001b[0m\n\u001b[1;32m--> 135\u001b[1;33m     \u001b[1;32mreturn\u001b[0m \u001b[0mnext\u001b[0m\u001b[1;33m(\u001b[0m\u001b[0mrows\u001b[0m\u001b[1;33m)\u001b[0m\u001b[1;33m\u001b[0m\u001b[1;33m\u001b[0m\u001b[0m\n\u001b[0m\u001b[0;32m    136\u001b[0m \u001b[1;33m\u001b[0m\u001b[0m\n\u001b[0;32m    137\u001b[0m \u001b[1;33m\u001b[0m\u001b[0m\n",
      "\u001b[1;32md:\\venvs\\hw\\lib\\site-packages\\corus\\io.py\u001b[0m in \u001b[0;36mload_z_lines\u001b[1;34m(path, open, encoding)\u001b[0m\n\u001b[0;32m     72\u001b[0m \u001b[1;33m\u001b[0m\u001b[0m\n\u001b[0;32m     73\u001b[0m \u001b[1;32mdef\u001b[0m \u001b[0mload_z_lines\u001b[0m\u001b[1;33m(\u001b[0m\u001b[0mpath\u001b[0m\u001b[1;33m,\u001b[0m \u001b[0mopen\u001b[0m\u001b[1;33m,\u001b[0m \u001b[0mencoding\u001b[0m\u001b[1;33m=\u001b[0m\u001b[1;34m'utf8'\u001b[0m\u001b[1;33m)\u001b[0m\u001b[1;33m:\u001b[0m\u001b[1;33m\u001b[0m\u001b[1;33m\u001b[0m\u001b[0m\n\u001b[1;32m---> 74\u001b[1;33m     \u001b[1;32mwith\u001b[0m \u001b[0mopen\u001b[0m\u001b[1;33m(\u001b[0m\u001b[0mpath\u001b[0m\u001b[1;33m,\u001b[0m \u001b[0mmode\u001b[0m\u001b[1;33m=\u001b[0m\u001b[1;34m'rt'\u001b[0m\u001b[1;33m,\u001b[0m \u001b[0mencoding\u001b[0m\u001b[1;33m=\u001b[0m\u001b[0mencoding\u001b[0m\u001b[1;33m)\u001b[0m \u001b[1;32mas\u001b[0m \u001b[0mfile\u001b[0m\u001b[1;33m:\u001b[0m\u001b[1;33m\u001b[0m\u001b[1;33m\u001b[0m\u001b[0m\n\u001b[0m\u001b[0;32m     75\u001b[0m         \u001b[1;32mfor\u001b[0m \u001b[0mline\u001b[0m \u001b[1;32min\u001b[0m \u001b[0mfile\u001b[0m\u001b[1;33m:\u001b[0m\u001b[1;33m\u001b[0m\u001b[1;33m\u001b[0m\u001b[0m\n\u001b[0;32m     76\u001b[0m             \u001b[1;32myield\u001b[0m \u001b[0mrstrip\u001b[0m\u001b[1;33m(\u001b[0m\u001b[0mline\u001b[0m\u001b[1;33m)\u001b[0m\u001b[1;33m\u001b[0m\u001b[1;33m\u001b[0m\u001b[0m\n",
      "\u001b[1;32m~\\AppData\\Local\\Programs\\Python\\Python39\\lib\\gzip.py\u001b[0m in \u001b[0;36mopen\u001b[1;34m(filename, mode, compresslevel, encoding, errors, newline)\u001b[0m\n\u001b[0;32m     56\u001b[0m     \u001b[0mgz_mode\u001b[0m \u001b[1;33m=\u001b[0m \u001b[0mmode\u001b[0m\u001b[1;33m.\u001b[0m\u001b[0mreplace\u001b[0m\u001b[1;33m(\u001b[0m\u001b[1;34m\"t\"\u001b[0m\u001b[1;33m,\u001b[0m \u001b[1;34m\"\"\u001b[0m\u001b[1;33m)\u001b[0m\u001b[1;33m\u001b[0m\u001b[1;33m\u001b[0m\u001b[0m\n\u001b[0;32m     57\u001b[0m     \u001b[1;32mif\u001b[0m \u001b[0misinstance\u001b[0m\u001b[1;33m(\u001b[0m\u001b[0mfilename\u001b[0m\u001b[1;33m,\u001b[0m \u001b[1;33m(\u001b[0m\u001b[0mstr\u001b[0m\u001b[1;33m,\u001b[0m \u001b[0mbytes\u001b[0m\u001b[1;33m,\u001b[0m \u001b[0mos\u001b[0m\u001b[1;33m.\u001b[0m\u001b[0mPathLike\u001b[0m\u001b[1;33m)\u001b[0m\u001b[1;33m)\u001b[0m\u001b[1;33m:\u001b[0m\u001b[1;33m\u001b[0m\u001b[1;33m\u001b[0m\u001b[0m\n\u001b[1;32m---> 58\u001b[1;33m         \u001b[0mbinary_file\u001b[0m \u001b[1;33m=\u001b[0m \u001b[0mGzipFile\u001b[0m\u001b[1;33m(\u001b[0m\u001b[0mfilename\u001b[0m\u001b[1;33m,\u001b[0m \u001b[0mgz_mode\u001b[0m\u001b[1;33m,\u001b[0m \u001b[0mcompresslevel\u001b[0m\u001b[1;33m)\u001b[0m\u001b[1;33m\u001b[0m\u001b[1;33m\u001b[0m\u001b[0m\n\u001b[0m\u001b[0;32m     59\u001b[0m     \u001b[1;32melif\u001b[0m \u001b[0mhasattr\u001b[0m\u001b[1;33m(\u001b[0m\u001b[0mfilename\u001b[0m\u001b[1;33m,\u001b[0m \u001b[1;34m\"read\"\u001b[0m\u001b[1;33m)\u001b[0m \u001b[1;32mor\u001b[0m \u001b[0mhasattr\u001b[0m\u001b[1;33m(\u001b[0m\u001b[0mfilename\u001b[0m\u001b[1;33m,\u001b[0m \u001b[1;34m\"write\"\u001b[0m\u001b[1;33m)\u001b[0m\u001b[1;33m:\u001b[0m\u001b[1;33m\u001b[0m\u001b[1;33m\u001b[0m\u001b[0m\n\u001b[0;32m     60\u001b[0m         \u001b[0mbinary_file\u001b[0m \u001b[1;33m=\u001b[0m \u001b[0mGzipFile\u001b[0m\u001b[1;33m(\u001b[0m\u001b[1;32mNone\u001b[0m\u001b[1;33m,\u001b[0m \u001b[0mgz_mode\u001b[0m\u001b[1;33m,\u001b[0m \u001b[0mcompresslevel\u001b[0m\u001b[1;33m,\u001b[0m \u001b[0mfilename\u001b[0m\u001b[1;33m)\u001b[0m\u001b[1;33m\u001b[0m\u001b[1;33m\u001b[0m\u001b[0m\n",
      "\u001b[1;32m~\\AppData\\Local\\Programs\\Python\\Python39\\lib\\gzip.py\u001b[0m in \u001b[0;36m__init__\u001b[1;34m(self, filename, mode, compresslevel, fileobj, mtime)\u001b[0m\n\u001b[0;32m    171\u001b[0m             \u001b[0mmode\u001b[0m \u001b[1;33m+=\u001b[0m \u001b[1;34m'b'\u001b[0m\u001b[1;33m\u001b[0m\u001b[1;33m\u001b[0m\u001b[0m\n\u001b[0;32m    172\u001b[0m         \u001b[1;32mif\u001b[0m \u001b[0mfileobj\u001b[0m \u001b[1;32mis\u001b[0m \u001b[1;32mNone\u001b[0m\u001b[1;33m:\u001b[0m\u001b[1;33m\u001b[0m\u001b[1;33m\u001b[0m\u001b[0m\n\u001b[1;32m--> 173\u001b[1;33m             \u001b[0mfileobj\u001b[0m \u001b[1;33m=\u001b[0m \u001b[0mself\u001b[0m\u001b[1;33m.\u001b[0m\u001b[0mmyfileobj\u001b[0m \u001b[1;33m=\u001b[0m \u001b[0mbuiltins\u001b[0m\u001b[1;33m.\u001b[0m\u001b[0mopen\u001b[0m\u001b[1;33m(\u001b[0m\u001b[0mfilename\u001b[0m\u001b[1;33m,\u001b[0m \u001b[0mmode\u001b[0m \u001b[1;32mor\u001b[0m \u001b[1;34m'rb'\u001b[0m\u001b[1;33m)\u001b[0m\u001b[1;33m\u001b[0m\u001b[1;33m\u001b[0m\u001b[0m\n\u001b[0m\u001b[0;32m    174\u001b[0m         \u001b[1;32mif\u001b[0m \u001b[0mfilename\u001b[0m \u001b[1;32mis\u001b[0m \u001b[1;32mNone\u001b[0m\u001b[1;33m:\u001b[0m\u001b[1;33m\u001b[0m\u001b[1;33m\u001b[0m\u001b[0m\n\u001b[0;32m    175\u001b[0m             \u001b[0mfilename\u001b[0m \u001b[1;33m=\u001b[0m \u001b[0mgetattr\u001b[0m\u001b[1;33m(\u001b[0m\u001b[0mfileobj\u001b[0m\u001b[1;33m,\u001b[0m \u001b[1;34m'name'\u001b[0m\u001b[1;33m,\u001b[0m \u001b[1;34m''\u001b[0m\u001b[1;33m)\u001b[0m\u001b[1;33m\u001b[0m\u001b[1;33m\u001b[0m\u001b[0m\n",
      "\u001b[1;31mFileNotFoundError\u001b[0m: [Errno 2] No such file or directory: 'lenta-ru-news.csv.gz'"
     ]
    }
   ],
   "source": [
    "# Корпус русских текстов\n",
    "from corus import load_lenta\n",
    "\n",
    "path = 'lenta-ru-news.csv.gz'\n",
    "records = load_lenta(path)\n",
    "\n",
    "next(records)\n",
    "records"
   ]
  },
  {
   "cell_type": "code",
   "execution_count": 98,
   "id": "5cfcf11f",
   "metadata": {},
   "outputs": [
    {
     "name": "stderr",
     "output_type": "stream",
     "text": [
      "739351it [36:51, 334.27it/s]\n"
     ]
    }
   ],
   "source": [
    "def is_cyrillic(word):\n",
    "    return True\n",
    "\n",
    "ngram_stats = Counter()\n",
    "\n",
    "for record in tqdm.tqdm(records):\n",
    "    #TODO: на основе текстов создать статистику триграм \n",
    "\n",
    "    # Токенизируем текст\n",
    "    tokens = None\n",
    "    for token in tokens:\n",
    "        if not is_cyrillic(token):\n",
    "            continue\n",
    "\n",
    "        # Нижний регистр\n",
    "        token = token.lower()\n",
    "        \n",
    "        # Получаем триграммы и биграммы\n",
    "        n_grams = None\n",
    "        for g in ngrams:\n",
    "            ngram_stats[g] += 1\n",
    "        \n"
   ]
  },
  {
   "cell_type": "code",
   "execution_count": 114,
   "id": "343c208b",
   "metadata": {},
   "outputs": [],
   "source": [
    "import pandas as pd\n",
    "\n",
    "df = pd.read_csv('broken_texts.csv.gz', compression='gzip')[['text']]"
   ]
  },
  {
   "cell_type": "code",
   "execution_count": 183,
   "id": "af039bcc",
   "metadata": {
    "scrolled": true
   },
   "outputs": [
    {
     "data": {
      "text/plain": [
       "'в 1996 г . плоучил звание заслуженныйй профессор харьковского государственного университета .'"
      ]
     },
     "execution_count": 183,
     "metadata": {},
     "output_type": "execute_result"
    }
   ],
   "source": [
    "df['text'].iloc[11]"
   ]
  },
  {
   "cell_type": "markdown",
   "id": "bcb727b5",
   "metadata": {},
   "source": [
    "Формула для расчета подозрительности триграмы (обозначается xyz) выглядит следующим образом:\n",
    "\n",
    "$$ i(T) = \\frac{1}{2}[log(xy) + log(yz)] - log(xyz) $$\n",
    "\n",
    "Если биграма или триграма отсутствует в словаре, то значение логарифма по задумке авторов сразу равно -10\n",
    "\n",
    "Эту логику лучше вынести в отдельную функцию"
   ]
  },
  {
   "cell_type": "code",
   "execution_count": 184,
   "id": "709c90d9",
   "metadata": {},
   "outputs": [],
   "source": [
    "def count_log(g):\n",
    "    if g in ngram_stats:\n",
    "        pass"
   ]
  },
  {
   "cell_type": "code",
   "execution_count": null,
   "id": "c62d676e",
   "metadata": {},
   "outputs": [],
   "source": [
    "# Соберем всё вместе\n",
    "\n",
    "def pecularity(trigram):\n",
    "    return \n",
    "\n",
    "def get_scores(token):\n",
    "#    В конечном итоге скоры для одного слова должны выглядеть как-то так:\n",
    "#     {'плоучил': \n",
    "#          {'пло': 2.59,\n",
    "#           'лоу': 3.29,\n",
    "#           'оуч': 4.09,\n",
    "#           'учи': 1.56,\n",
    "#           'чил': 2.40}\n",
    "#     }\n",
    "    return\n",
    "# Если токен имеет триграмы с скорами > 4, то мы считаем, что такой токен имеет ошибку.\n",
    "# То есть его частота в нашем корпусе частот практически незначительна\n",
    "    \n",
    "\n"
   ]
  },
  {
   "cell_type": "code",
   "execution_count": null,
   "id": "c289dc91",
   "metadata": {},
   "outputs": [],
   "source": [
    "# Токены, в которых есть значения выше 4: пробуем восстановить\n",
    "\n",
    "# По аналогии с решением предыдущей задачи воспользуйтесь n-gram преобразованием, чтобы найти top-k ближайших кандидатов\n",
    "# для исправления токена с помощью списка слов русского языка и функции scipy.cdist \n",
    "\n",
    "# Будем использовать и униграмы, и биграмы, и триграмы для этой части задания\n"
   ]
  },
  {
   "cell_type": "code",
   "execution_count": 186,
   "id": "8da8dbe8",
   "metadata": {},
   "outputs": [
    {
     "name": "stdout",
     "output_type": "stream",
     "text": [
      "['абаками', 'Абакан', 'Абакана', 'Абакане', 'абаканец', 'Абаканом', 'абаканская', 'абаканские', 'абаканский', 'абаканским']\n"
     ]
    },
    {
     "data": {
      "text/plain": [
       "1532629"
      ]
     },
     "execution_count": 186,
     "metadata": {},
     "output_type": "execute_result"
    }
   ],
   "source": [
    "# Слова русского языка\n",
    "words = list(pd.read_csv('russian_words.zip', compression='zip').values.flatten())\n",
    "\n",
    "print(words[120:130])\n",
    "\n",
    "len(words)"
   ]
  },
  {
   "cell_type": "code",
   "execution_count": null,
   "id": "db671fce",
   "metadata": {},
   "outputs": [],
   "source": [
    "def predict_candidates(word, k):\n",
    "    # TODO: predict top k most similar words from russian word dictionary\n",
    "    return candidates"
   ]
  }
 ],
 "metadata": {
  "kernelspec": {
   "display_name": "Python 3 (ipykernel)",
   "language": "python",
   "name": "python3"
  },
  "language_info": {
   "codemirror_mode": {
    "name": "ipython",
    "version": 3
   },
   "file_extension": ".py",
   "mimetype": "text/x-python",
   "name": "python",
   "nbconvert_exporter": "python",
   "pygments_lexer": "ipython3",
   "version": "3.9.5"
  }
 },
 "nbformat": 4,
 "nbformat_minor": 5
}
