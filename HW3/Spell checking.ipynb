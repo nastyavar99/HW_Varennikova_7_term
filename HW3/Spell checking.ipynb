{
 "cells": [
  {
   "cell_type": "code",
   "execution_count": null,
   "id": "f181c43a",
   "metadata": {},
   "outputs": [],
   "source": [
    "# В этом задании вам необходимо будет реализовать статистический Spell Checker"
   ]
  },
  {
   "cell_type": "code",
   "execution_count": 11,
   "id": "3daf63c3",
   "metadata": {},
   "outputs": [],
   "source": [
    "# !pip install razdel corus numpy nltk tqdm\n",
    "\n",
    "# !wget https://github.com/yutkin/Lenta.Ru-News-Dataset/releases/download/v1.0/lenta-ru-news.csv.gz"
   ]
  },
  {
   "cell_type": "code",
   "execution_count": 19,
   "id": "70242cc1",
   "metadata": {},
   "outputs": [],
   "source": [
    "import re\n",
    "import razdel\n",
    "import corus\n",
    "import numpy as np\n",
    "import nltk\n",
    "from nltk.tokenize import word_tokenize\n",
    "import tqdm\n",
    "from collections import Counter\n",
    "import pickle"
   ]
  },
  {
   "cell_type": "code",
   "execution_count": 4,
   "id": "0243198e",
   "metadata": {},
   "outputs": [],
   "source": [
    "# Данные: Корпус русских текстов для n-gram статистики --> возьмем новостный корпус с corus\n",
    "# Словарь слов русского языка (чем больше, тем лучше)\n",
    "# Предложения, которые необходимо исправить"
   ]
  },
  {
   "cell_type": "code",
   "execution_count": null,
   "id": "c0a60287",
   "metadata": {},
   "outputs": [],
   "source": [
    "# Шаг 1:\n",
    "\n",
    "# На первом шаге коррекции наших текстов определим такие токены, которым требуется исправление.\n",
    "# Для этого проведем статистическую бинарную классификацию токенов в наших предложениях\n",
    "# (1- токен содержит опечатку, 0- токен не содержит опечатку)\n",
    "\n",
    "# Определять неправильные токены будем с помощью формулы расчета \"подозрительности\" триграмм из статьи 1975 года \n",
    "# \"Computer Detection of Typographical Errors  R. Morris, L. Cherry\". Статья приложена.\n",
    "\n",
    "# Сначала напишем формулу для получения n-gram слова. Для формулы нам нужны только биграммы и триграммы, но мы напишем\n",
    "# функцию, которая возвращает n-граммы для любого заданного n."
   ]
  },
  {
   "cell_type": "code",
   "execution_count": 25,
   "id": "882adb05",
   "metadata": {},
   "outputs": [],
   "source": [
    "def ngram(word, n):\n",
    "    ngrams = []\n",
    "    if len(word) < n:\n",
    "        return ngrams\n",
    "    elif len(word) == n:\n",
    "        ngrams.append(word)\n",
    "        return ngrams\n",
    "    else:\n",
    "        for i in range(len(word)):\n",
    "            if i == (len(word) - 2):\n",
    "                break\n",
    "            string = ''\n",
    "            while len(string) != n:\n",
    "                if len(string) == n:\n",
    "                    break\n",
    "                else:\n",
    "                    string += word[i]\n",
    "                    i += 1\n",
    "            ngrams.append(string)\n",
    "    return ngrams\n",
    "\n",
    "# как --> ['как']\n",
    "# не --> []\n",
    "# шарик --> ['шар', 'ари', 'рик']\n",
    "# неправильный --> ['неп', 'епр', 'пра', 'рав', 'ави', 'вил', 'иль', 'льн', 'ьны', 'ный']\n",
    "\n",
    "\n",
    "assert ngram('неправильный', 3) == [''.join(g) for g in list(nltk.ngrams('неправильный', 3))]"
   ]
  },
  {
   "cell_type": "code",
   "execution_count": 42,
   "id": "5b7625a8",
   "metadata": {},
   "outputs": [],
   "source": [
    "# Логика сбора статистики такова:\n",
    "# 1) Идем по текстам корпуса новостей\n",
    "# 2) Токенизируем тексты с помощью razdel.tokenize()\n",
    "# 3) Приводим каждый токен к нижнему регистру\n",
    "# 4) Токены, которые содержат только символы кириллицы, копим в статистику \n",
    "#    (делим токен на биграмы и триграммы и копим статистику в Counter)"
   ]
  },
  {
   "cell_type": "code",
   "execution_count": 26,
   "id": "9fb91811",
   "metadata": {},
   "outputs": [
    {
     "data": {
      "text/plain": [
       "LentaRecord(\n",
       "    url='https://lenta.ru/news/2018/12/14/cancer/',\n",
       "    title='Названы регионы России с\\xa0самой высокой смертностью от\\xa0рака',\n",
       "    text='Вице-премьер по социальным вопросам Татьяна Голикова рассказала, в каких регионах России зафиксирована наиболее высокая смертность от рака, сообщает РИА Новости. По словам Голиковой, чаще всего онкологические заболевания становились причиной смерти в Псковской, Тверской, Тульской и Орловской областях, а также в Севастополе. Вице-премьер напомнила, что главные факторы смертности в России — рак и болезни системы кровообращения. В начале года стало известно, что смертность от онкологических заболеваний среди россиян снизилась впервые за три года. По данным Росстата, в 2017 году от рака умерли 289 тысяч человек. Это на 3,5 процента меньше, чем годом ранее.',\n",
       "    topic='Россия',\n",
       "    tags='Общество',\n",
       "    date=None\n",
       ")"
      ]
     },
     "execution_count": 26,
     "metadata": {},
     "output_type": "execute_result"
    }
   ],
   "source": [
    "# Корпус русских текстов\n",
    "from corus import load_lenta\n",
    "\n",
    "path = 'lenta-ru-news.csv.gz'\n",
    "records = load_lenta(path)\n",
    "\n",
    "next(records)"
   ]
  },
  {
   "cell_type": "code",
   "execution_count": 27,
   "id": "5cfcf11f",
   "metadata": {},
   "outputs": [
    {
     "name": "stderr",
     "output_type": "stream",
     "text": [
      "739350it [1:26:02, 143.23it/s]\n"
     ]
    }
   ],
   "source": [
    "def is_cyrillic(word):\n",
    "    if re.search('[а-яА-ЯЁё]', word):\n",
    "        return True\n",
    "\n",
    "ngram_stats = Counter()\n",
    "\n",
    "for record in tqdm.tqdm(records):\n",
    "    # Токенизируем текст\n",
    "    tokens = word_tokenize(record.text)\n",
    "    for token in tokens:\n",
    "        if not is_cyrillic(token):\n",
    "            continue\n",
    "        # Нижний регистр\n",
    "        token = token.lower()\n",
    "        # Получаем триграммы и биграммы\n",
    "        n_grams = ngram(token, 2) + ngram(token, 3)\n",
    "        for g in n_grams:\n",
    "            ngram_stats[g] += 1\n",
    "\n",
    "with open('counter_ngrams.pickle', 'wb') as f:\n",
    "    pickle.dump(ngram_stats, f)"
   ]
  },
  {
   "cell_type": "code",
   "execution_count": 28,
   "id": "5bc31cfc",
   "metadata": {},
   "outputs": [
    {
     "ename": "NameError",
     "evalue": "name 'ngram_stat' is not defined",
     "output_type": "error",
     "traceback": [
      "\u001b[1;31m---------------------------------------------------------------------------\u001b[0m",
      "\u001b[1;31mNameError\u001b[0m                                 Traceback (most recent call last)",
      "\u001b[1;32m~\\AppData\\Local\\Temp/ipykernel_7680/3500148504.py\u001b[0m in \u001b[0;36m<module>\u001b[1;34m\u001b[0m\n\u001b[1;32m----> 1\u001b[1;33m \u001b[0mngram_stat\u001b[0m\u001b[1;33m.\u001b[0m\u001b[0mmost_common\u001b[0m\u001b[1;33m(\u001b[0m\u001b[1;33m)\u001b[0m\u001b[1;33m\u001b[0m\u001b[1;33m\u001b[0m\u001b[0m\n\u001b[0m",
      "\u001b[1;31mNameError\u001b[0m: name 'ngram_stat' is not defined"
     ]
    }
   ],
   "source": [
    "ngram_stat.most_common()"
   ]
  },
  {
   "cell_type": "code",
   "execution_count": 114,
   "id": "343c208b",
   "metadata": {},
   "outputs": [],
   "source": [
    "import pandas as pd\n",
    "\n",
    "df = pd.read_csv('broken_texts.csv.gz', compression='gzip')[['text']]"
   ]
  },
  {
   "cell_type": "code",
   "execution_count": 183,
   "id": "af039bcc",
   "metadata": {
    "scrolled": true
   },
   "outputs": [
    {
     "data": {
      "text/plain": [
       "'в 1996 г . плоучил звание заслуженныйй профессор харьковского государственного университета .'"
      ]
     },
     "execution_count": 183,
     "metadata": {},
     "output_type": "execute_result"
    }
   ],
   "source": [
    "df['text'].iloc[11]"
   ]
  },
  {
   "cell_type": "markdown",
   "id": "bcb727b5",
   "metadata": {},
   "source": [
    "Формула для расчета подозрительности триграмы (обозначается xyz) выглядит следующим образом:\n",
    "\n",
    "$$ i(T) = \\frac{1}{2}[log(xy) + log(yz)] - log(xyz) $$\n",
    "\n",
    "Если биграма или триграма отсутствует в словаре, то значение логарифма по задумке авторов сразу равно -10\n",
    "\n",
    "Эту логику лучше вынести в отдельную функцию"
   ]
  },
  {
   "cell_type": "code",
   "execution_count": null,
   "id": "481890f2",
   "metadata": {},
   "outputs": [],
   "source": [
    "with open('counter_ngrams.pickle', 'rb') as f:\n",
    "    ngram_stats = pickle.load(f)"
   ]
  },
  {
   "cell_type": "code",
   "execution_count": 184,
   "id": "709c90d9",
   "metadata": {},
   "outputs": [],
   "source": [
    "def count_log(g):\n",
    "    if g in ngram_stats:\n",
    "        pass"
   ]
  },
  {
   "cell_type": "code",
   "execution_count": null,
   "id": "c62d676e",
   "metadata": {},
   "outputs": [],
   "source": [
    "# Соберем всё вместе\n",
    "\n",
    "    def pecularity(trigram):\n",
    "    return \n",
    "\n",
    "def get_scores(token):\n",
    "#    В конечном итоге скоры для одного слова должны выглядеть как-то так:\n",
    "#     {'плоучил': \n",
    "#          {'пло': 2.59,\n",
    "#           'лоу': 3.29,\n",
    "#           'оуч': 4.09,\n",
    "#           'учи': 1.56,\n",
    "#           'чил': 2.40}\n",
    "#     }\n",
    "    return\n",
    "# Если токен имеет триграмы с скорами > 4, то мы считаем, что такой токен имеет ошибку.\n",
    "# То есть его частота в нашем корпусе частот практически незначительна\n",
    "    \n",
    "\n"
   ]
  },
  {
   "cell_type": "code",
   "execution_count": null,
   "id": "c289dc91",
   "metadata": {},
   "outputs": [],
   "source": [
    "# Токены, в которых есть значения выше 4: пробуем восстановить\n",
    "\n",
    "# По аналогии с решением предыдущей задачи воспользуйтесь n-gram преобразованием, чтобы найти top-k ближайших кандидатов\n",
    "# для исправления токена с помощью списка слов русского языка и функции scipy.cdist \n",
    "\n",
    "# Будем использовать и униграмы, и биграмы, и триграмы для этой части задания\n"
   ]
  },
  {
   "cell_type": "code",
   "execution_count": 186,
   "id": "8da8dbe8",
   "metadata": {},
   "outputs": [
    {
     "name": "stdout",
     "output_type": "stream",
     "text": [
      "['абаками', 'Абакан', 'Абакана', 'Абакане', 'абаканец', 'Абаканом', 'абаканская', 'абаканские', 'абаканский', 'абаканским']\n"
     ]
    },
    {
     "data": {
      "text/plain": [
       "1532629"
      ]
     },
     "execution_count": 186,
     "metadata": {},
     "output_type": "execute_result"
    }
   ],
   "source": [
    "# Слова русского языка\n",
    "words = list(pd.read_csv('russian_words.zip', compression='zip').values.flatten())\n",
    "\n",
    "print(words[120:130])\n",
    "\n",
    "len(words)"
   ]
  },
  {
   "cell_type": "code",
   "execution_count": null,
   "id": "db671fce",
   "metadata": {},
   "outputs": [],
   "source": [
    "def predict_candidates(word, k):\n",
    "    # TODO: predict top k most similar words from russian word dictionary\n",
    "    return candidates"
   ]
  }
 ],
 "metadata": {
  "kernelspec": {
   "display_name": "Python 3 (ipykernel)",
   "language": "python",
   "name": "python3"
  },
  "language_info": {
   "codemirror_mode": {
    "name": "ipython",
    "version": 3
   },
   "file_extension": ".py",
   "mimetype": "text/x-python",
   "name": "python",
   "nbconvert_exporter": "python",
   "pygments_lexer": "ipython3",
   "version": "3.9.5"
  }
 },
 "nbformat": 4,
 "nbformat_minor": 5
}
