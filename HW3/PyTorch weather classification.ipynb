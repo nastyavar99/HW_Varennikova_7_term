{
 "cells": [
  {
   "cell_type": "code",
   "execution_count": 26,
   "id": "291fc186",
   "metadata": {},
   "outputs": [],
   "source": [
    "import numpy as np\n",
    "import pandas as pd\n",
    "import torch\n",
    "import torch.nn as nn\n",
    "import torch.optim as optim\n",
    "from sklearn.metrics import classification_report\n",
    "from sklearn.metrics import f1_score\n",
    "from sklearn.model_selection import train_test_split\n",
    "from sklearn.preprocessing import StandardScaler, LabelEncoder\n",
    "\n",
    "import seaborn as sns\n",
    "import matplotlib.pyplot as plt\n",
    "import chart_studio.plotly as py\n",
    "import plotly.figure_factory as ff"
   ]
  },
  {
   "cell_type": "code",
   "execution_count": 24,
   "id": "038cbd23",
   "metadata": {},
   "outputs": [],
   "source": [
    "df = pd.read_csv('weatherAUS.csv.zip', compression='zip')\n",
    "df = df.drop(['RainToday', 'Date'], axis=1)"
   ]
  },
  {
   "cell_type": "code",
   "execution_count": 3,
   "id": "d5ee07f8",
   "metadata": {},
   "outputs": [
    {
     "data": {
      "text/html": [
       "<div>\n",
       "<style scoped>\n",
       "    .dataframe tbody tr th:only-of-type {\n",
       "        vertical-align: middle;\n",
       "    }\n",
       "\n",
       "    .dataframe tbody tr th {\n",
       "        vertical-align: top;\n",
       "    }\n",
       "\n",
       "    .dataframe thead th {\n",
       "        text-align: right;\n",
       "    }\n",
       "</style>\n",
       "<table border=\"1\" class=\"dataframe\">\n",
       "  <thead>\n",
       "    <tr style=\"text-align: right;\">\n",
       "      <th></th>\n",
       "      <th>Location</th>\n",
       "      <th>MinTemp</th>\n",
       "      <th>MaxTemp</th>\n",
       "      <th>Rainfall</th>\n",
       "      <th>Evaporation</th>\n",
       "      <th>Sunshine</th>\n",
       "      <th>WindGustDir</th>\n",
       "      <th>WindGustSpeed</th>\n",
       "      <th>WindDir9am</th>\n",
       "      <th>WindDir3pm</th>\n",
       "      <th>...</th>\n",
       "      <th>WindSpeed3pm</th>\n",
       "      <th>Humidity9am</th>\n",
       "      <th>Humidity3pm</th>\n",
       "      <th>Pressure9am</th>\n",
       "      <th>Pressure3pm</th>\n",
       "      <th>Cloud9am</th>\n",
       "      <th>Cloud3pm</th>\n",
       "      <th>Temp9am</th>\n",
       "      <th>Temp3pm</th>\n",
       "      <th>RainTomorrow</th>\n",
       "    </tr>\n",
       "  </thead>\n",
       "  <tbody>\n",
       "    <tr>\n",
       "      <th>83924</th>\n",
       "      <td>Dartmoor</td>\n",
       "      <td>6.8</td>\n",
       "      <td>24.7</td>\n",
       "      <td>0.0</td>\n",
       "      <td>NaN</td>\n",
       "      <td>NaN</td>\n",
       "      <td>ESE</td>\n",
       "      <td>19.0</td>\n",
       "      <td>ESE</td>\n",
       "      <td>S</td>\n",
       "      <td>...</td>\n",
       "      <td>4.0</td>\n",
       "      <td>97.0</td>\n",
       "      <td>40.0</td>\n",
       "      <td>1028.9</td>\n",
       "      <td>1025.6</td>\n",
       "      <td>NaN</td>\n",
       "      <td>NaN</td>\n",
       "      <td>11.9</td>\n",
       "      <td>23.5</td>\n",
       "      <td>No</td>\n",
       "    </tr>\n",
       "    <tr>\n",
       "      <th>116973</th>\n",
       "      <td>PearceRAAF</td>\n",
       "      <td>11.7</td>\n",
       "      <td>30.8</td>\n",
       "      <td>0.0</td>\n",
       "      <td>NaN</td>\n",
       "      <td>10.4</td>\n",
       "      <td>NE</td>\n",
       "      <td>44.0</td>\n",
       "      <td>N</td>\n",
       "      <td>NNE</td>\n",
       "      <td>...</td>\n",
       "      <td>28.0</td>\n",
       "      <td>29.0</td>\n",
       "      <td>22.0</td>\n",
       "      <td>1018.8</td>\n",
       "      <td>1014.5</td>\n",
       "      <td>NaN</td>\n",
       "      <td>NaN</td>\n",
       "      <td>21.2</td>\n",
       "      <td>30.7</td>\n",
       "      <td>No</td>\n",
       "    </tr>\n",
       "    <tr>\n",
       "      <th>72167</th>\n",
       "      <td>Mildura</td>\n",
       "      <td>17.2</td>\n",
       "      <td>40.4</td>\n",
       "      <td>0.0</td>\n",
       "      <td>12.0</td>\n",
       "      <td>12.8</td>\n",
       "      <td>W</td>\n",
       "      <td>31.0</td>\n",
       "      <td>WSW</td>\n",
       "      <td>W</td>\n",
       "      <td>...</td>\n",
       "      <td>15.0</td>\n",
       "      <td>52.0</td>\n",
       "      <td>12.0</td>\n",
       "      <td>1011.3</td>\n",
       "      <td>1009.4</td>\n",
       "      <td>0.0</td>\n",
       "      <td>1.0</td>\n",
       "      <td>21.4</td>\n",
       "      <td>38.7</td>\n",
       "      <td>No</td>\n",
       "    </tr>\n",
       "    <tr>\n",
       "      <th>141048</th>\n",
       "      <td>Darwin</td>\n",
       "      <td>23.6</td>\n",
       "      <td>31.2</td>\n",
       "      <td>14.6</td>\n",
       "      <td>5.2</td>\n",
       "      <td>1.5</td>\n",
       "      <td>NW</td>\n",
       "      <td>70.0</td>\n",
       "      <td>N</td>\n",
       "      <td>NW</td>\n",
       "      <td>...</td>\n",
       "      <td>20.0</td>\n",
       "      <td>87.0</td>\n",
       "      <td>81.0</td>\n",
       "      <td>1005.4</td>\n",
       "      <td>1002.5</td>\n",
       "      <td>7.0</td>\n",
       "      <td>8.0</td>\n",
       "      <td>26.6</td>\n",
       "      <td>28.7</td>\n",
       "      <td>Yes</td>\n",
       "    </tr>\n",
       "    <tr>\n",
       "      <th>26826</th>\n",
       "      <td>Penrith</td>\n",
       "      <td>13.5</td>\n",
       "      <td>16.6</td>\n",
       "      <td>23.8</td>\n",
       "      <td>NaN</td>\n",
       "      <td>NaN</td>\n",
       "      <td>SSW</td>\n",
       "      <td>30.0</td>\n",
       "      <td>SSW</td>\n",
       "      <td>NaN</td>\n",
       "      <td>...</td>\n",
       "      <td>0.0</td>\n",
       "      <td>98.0</td>\n",
       "      <td>98.0</td>\n",
       "      <td>NaN</td>\n",
       "      <td>NaN</td>\n",
       "      <td>NaN</td>\n",
       "      <td>NaN</td>\n",
       "      <td>15.8</td>\n",
       "      <td>16.5</td>\n",
       "      <td>Yes</td>\n",
       "    </tr>\n",
       "  </tbody>\n",
       "</table>\n",
       "<p>5 rows × 21 columns</p>\n",
       "</div>"
      ],
      "text/plain": [
       "          Location  MinTemp  MaxTemp  Rainfall  Evaporation  Sunshine  \\\n",
       "83924     Dartmoor      6.8     24.7       0.0          NaN       NaN   \n",
       "116973  PearceRAAF     11.7     30.8       0.0          NaN      10.4   \n",
       "72167      Mildura     17.2     40.4       0.0         12.0      12.8   \n",
       "141048      Darwin     23.6     31.2      14.6          5.2       1.5   \n",
       "26826      Penrith     13.5     16.6      23.8          NaN       NaN   \n",
       "\n",
       "       WindGustDir  WindGustSpeed WindDir9am WindDir3pm  ...  WindSpeed3pm  \\\n",
       "83924          ESE           19.0        ESE          S  ...           4.0   \n",
       "116973          NE           44.0          N        NNE  ...          28.0   \n",
       "72167            W           31.0        WSW          W  ...          15.0   \n",
       "141048          NW           70.0          N         NW  ...          20.0   \n",
       "26826          SSW           30.0        SSW        NaN  ...           0.0   \n",
       "\n",
       "        Humidity9am  Humidity3pm  Pressure9am  Pressure3pm  Cloud9am  \\\n",
       "83924          97.0         40.0       1028.9       1025.6       NaN   \n",
       "116973         29.0         22.0       1018.8       1014.5       NaN   \n",
       "72167          52.0         12.0       1011.3       1009.4       0.0   \n",
       "141048         87.0         81.0       1005.4       1002.5       7.0   \n",
       "26826          98.0         98.0          NaN          NaN       NaN   \n",
       "\n",
       "        Cloud3pm  Temp9am  Temp3pm  RainTomorrow  \n",
       "83924        NaN     11.9     23.5            No  \n",
       "116973       NaN     21.2     30.7            No  \n",
       "72167        1.0     21.4     38.7            No  \n",
       "141048       8.0     26.6     28.7           Yes  \n",
       "26826        NaN     15.8     16.5           Yes  \n",
       "\n",
       "[5 rows x 21 columns]"
      ]
     },
     "execution_count": 3,
     "metadata": {},
     "output_type": "execute_result"
    }
   ],
   "source": [
    "df.sample(5)"
   ]
  },
  {
   "cell_type": "code",
   "execution_count": 4,
   "id": "37e96e83",
   "metadata": {},
   "outputs": [
    {
     "data": {
      "text/plain": [
       "No     110316\n",
       "Yes     31877\n",
       "Name: RainTomorrow, dtype: int64"
      ]
     },
     "execution_count": 4,
     "metadata": {},
     "output_type": "execute_result"
    }
   ],
   "source": [
    "df.RainTomorrow.value_counts()"
   ]
  },
  {
   "cell_type": "code",
   "execution_count": 5,
   "id": "62df27b3",
   "metadata": {},
   "outputs": [],
   "source": [
    "# Задание 1: провести EDA (Explanatory Data Analysis)\n",
    "\n",
    "# Желательно построить графики по некоторым, на ваш взгляд, ключевым признакам и целевой переменной,\n",
    "# чтобы оценить данные, с которыми мы работаем. Это задание полностью творческое и будет оценено субъективно\n",
    "# с точки зрения степени раскрытия инсайтов и \"красивости\" графиков и статистических расчетов"
   ]
  },
  {
   "cell_type": "code",
   "execution_count": 25,
   "id": "4123c272",
   "metadata": {},
   "outputs": [
    {
     "name": "stdout",
     "output_type": "stream",
     "text": [
      "<class 'pandas.core.frame.DataFrame'>\n",
      "RangeIndex: 145460 entries, 0 to 145459\n",
      "Data columns (total 21 columns):\n",
      " #   Column         Non-Null Count   Dtype  \n",
      "---  ------         --------------   -----  \n",
      " 0   Location       145460 non-null  object \n",
      " 1   MinTemp        143975 non-null  float64\n",
      " 2   MaxTemp        144199 non-null  float64\n",
      " 3   Rainfall       142199 non-null  float64\n",
      " 4   Evaporation    82670 non-null   float64\n",
      " 5   Sunshine       75625 non-null   float64\n",
      " 6   WindGustDir    135134 non-null  object \n",
      " 7   WindGustSpeed  135197 non-null  float64\n",
      " 8   WindDir9am     134894 non-null  object \n",
      " 9   WindDir3pm     141232 non-null  object \n",
      " 10  WindSpeed9am   143693 non-null  float64\n",
      " 11  WindSpeed3pm   142398 non-null  float64\n",
      " 12  Humidity9am    142806 non-null  float64\n",
      " 13  Humidity3pm    140953 non-null  float64\n",
      " 14  Pressure9am    130395 non-null  float64\n",
      " 15  Pressure3pm    130432 non-null  float64\n",
      " 16  Cloud9am       89572 non-null   float64\n",
      " 17  Cloud3pm       86102 non-null   float64\n",
      " 18  Temp9am        143693 non-null  float64\n",
      " 19  Temp3pm        141851 non-null  float64\n",
      " 20  RainTomorrow   142193 non-null  object \n",
      "dtypes: float64(16), object(5)\n",
      "memory usage: 23.3+ MB\n"
     ]
    }
   ],
   "source": [
    "df.info()"
   ]
  },
  {
   "cell_type": "code",
   "execution_count": 39,
   "id": "19b76524",
   "metadata": {},
   "outputs": [
    {
     "data": {
      "text/html": [
       "<div>\n",
       "<style scoped>\n",
       "    .dataframe tbody tr th:only-of-type {\n",
       "        vertical-align: middle;\n",
       "    }\n",
       "\n",
       "    .dataframe tbody tr th {\n",
       "        vertical-align: top;\n",
       "    }\n",
       "\n",
       "    .dataframe thead th {\n",
       "        text-align: right;\n",
       "    }\n",
       "</style>\n",
       "<table border=\"1\" class=\"dataframe\">\n",
       "  <thead>\n",
       "    <tr style=\"text-align: right;\">\n",
       "      <th></th>\n",
       "      <th>Location</th>\n",
       "      <th>MinTemp</th>\n",
       "      <th>MaxTemp</th>\n",
       "      <th>Rainfall</th>\n",
       "      <th>Evaporation</th>\n",
       "      <th>Sunshine</th>\n",
       "      <th>WindGustDir</th>\n",
       "      <th>WindGustSpeed</th>\n",
       "      <th>WindDir9am</th>\n",
       "      <th>WindDir3pm</th>\n",
       "      <th>...</th>\n",
       "      <th>Humidity9am</th>\n",
       "      <th>Humidity3pm</th>\n",
       "      <th>Pressure9am</th>\n",
       "      <th>Pressure3pm</th>\n",
       "      <th>Cloud9am</th>\n",
       "      <th>Cloud3pm</th>\n",
       "      <th>Temp9am</th>\n",
       "      <th>Temp3pm</th>\n",
       "      <th>RainTomorrow</th>\n",
       "      <th>RainTomorrow_int</th>\n",
       "    </tr>\n",
       "  </thead>\n",
       "  <tbody>\n",
       "    <tr>\n",
       "      <th>6049</th>\n",
       "      <td>Cobar</td>\n",
       "      <td>17.9</td>\n",
       "      <td>35.2</td>\n",
       "      <td>0.0</td>\n",
       "      <td>12.0</td>\n",
       "      <td>12.3</td>\n",
       "      <td>SSW</td>\n",
       "      <td>48.0</td>\n",
       "      <td>ENE</td>\n",
       "      <td>SW</td>\n",
       "      <td>...</td>\n",
       "      <td>20.0</td>\n",
       "      <td>13.0</td>\n",
       "      <td>1006.3</td>\n",
       "      <td>1004.4</td>\n",
       "      <td>2.0</td>\n",
       "      <td>5.0</td>\n",
       "      <td>26.6</td>\n",
       "      <td>33.4</td>\n",
       "      <td>No</td>\n",
       "      <td>0</td>\n",
       "    </tr>\n",
       "    <tr>\n",
       "      <th>6050</th>\n",
       "      <td>Cobar</td>\n",
       "      <td>18.4</td>\n",
       "      <td>28.9</td>\n",
       "      <td>0.0</td>\n",
       "      <td>14.8</td>\n",
       "      <td>13.0</td>\n",
       "      <td>S</td>\n",
       "      <td>37.0</td>\n",
       "      <td>SSE</td>\n",
       "      <td>SSE</td>\n",
       "      <td>...</td>\n",
       "      <td>30.0</td>\n",
       "      <td>8.0</td>\n",
       "      <td>1012.9</td>\n",
       "      <td>1012.1</td>\n",
       "      <td>1.0</td>\n",
       "      <td>1.0</td>\n",
       "      <td>20.3</td>\n",
       "      <td>27.0</td>\n",
       "      <td>No</td>\n",
       "      <td>0</td>\n",
       "    </tr>\n",
       "    <tr>\n",
       "      <th>6052</th>\n",
       "      <td>Cobar</td>\n",
       "      <td>19.4</td>\n",
       "      <td>37.6</td>\n",
       "      <td>0.0</td>\n",
       "      <td>10.8</td>\n",
       "      <td>10.6</td>\n",
       "      <td>NNE</td>\n",
       "      <td>46.0</td>\n",
       "      <td>NNE</td>\n",
       "      <td>NNW</td>\n",
       "      <td>...</td>\n",
       "      <td>42.0</td>\n",
       "      <td>22.0</td>\n",
       "      <td>1012.3</td>\n",
       "      <td>1009.2</td>\n",
       "      <td>1.0</td>\n",
       "      <td>6.0</td>\n",
       "      <td>28.7</td>\n",
       "      <td>34.9</td>\n",
       "      <td>No</td>\n",
       "      <td>0</td>\n",
       "    </tr>\n",
       "    <tr>\n",
       "      <th>6053</th>\n",
       "      <td>Cobar</td>\n",
       "      <td>21.9</td>\n",
       "      <td>38.4</td>\n",
       "      <td>0.0</td>\n",
       "      <td>11.4</td>\n",
       "      <td>12.2</td>\n",
       "      <td>WNW</td>\n",
       "      <td>31.0</td>\n",
       "      <td>WNW</td>\n",
       "      <td>WSW</td>\n",
       "      <td>...</td>\n",
       "      <td>37.0</td>\n",
       "      <td>22.0</td>\n",
       "      <td>1012.7</td>\n",
       "      <td>1009.1</td>\n",
       "      <td>1.0</td>\n",
       "      <td>5.0</td>\n",
       "      <td>29.1</td>\n",
       "      <td>35.6</td>\n",
       "      <td>No</td>\n",
       "      <td>0</td>\n",
       "    </tr>\n",
       "    <tr>\n",
       "      <th>6054</th>\n",
       "      <td>Cobar</td>\n",
       "      <td>24.2</td>\n",
       "      <td>41.0</td>\n",
       "      <td>0.0</td>\n",
       "      <td>11.2</td>\n",
       "      <td>8.4</td>\n",
       "      <td>WNW</td>\n",
       "      <td>35.0</td>\n",
       "      <td>NW</td>\n",
       "      <td>WNW</td>\n",
       "      <td>...</td>\n",
       "      <td>19.0</td>\n",
       "      <td>15.0</td>\n",
       "      <td>1010.7</td>\n",
       "      <td>1007.4</td>\n",
       "      <td>1.0</td>\n",
       "      <td>6.0</td>\n",
       "      <td>33.6</td>\n",
       "      <td>37.6</td>\n",
       "      <td>No</td>\n",
       "      <td>0</td>\n",
       "    </tr>\n",
       "  </tbody>\n",
       "</table>\n",
       "<p>5 rows × 22 columns</p>\n",
       "</div>"
      ],
      "text/plain": [
       "     Location  MinTemp  MaxTemp  Rainfall  Evaporation  Sunshine WindGustDir  \\\n",
       "6049    Cobar     17.9     35.2       0.0         12.0      12.3         SSW   \n",
       "6050    Cobar     18.4     28.9       0.0         14.8      13.0           S   \n",
       "6052    Cobar     19.4     37.6       0.0         10.8      10.6         NNE   \n",
       "6053    Cobar     21.9     38.4       0.0         11.4      12.2         WNW   \n",
       "6054    Cobar     24.2     41.0       0.0         11.2       8.4         WNW   \n",
       "\n",
       "      WindGustSpeed WindDir9am WindDir3pm  ...  Humidity9am  Humidity3pm  \\\n",
       "6049           48.0        ENE         SW  ...         20.0         13.0   \n",
       "6050           37.0        SSE        SSE  ...         30.0          8.0   \n",
       "6052           46.0        NNE        NNW  ...         42.0         22.0   \n",
       "6053           31.0        WNW        WSW  ...         37.0         22.0   \n",
       "6054           35.0         NW        WNW  ...         19.0         15.0   \n",
       "\n",
       "      Pressure9am  Pressure3pm  Cloud9am  Cloud3pm  Temp9am  Temp3pm  \\\n",
       "6049       1006.3       1004.4       2.0       5.0     26.6     33.4   \n",
       "6050       1012.9       1012.1       1.0       1.0     20.3     27.0   \n",
       "6052       1012.3       1009.2       1.0       6.0     28.7     34.9   \n",
       "6053       1012.7       1009.1       1.0       5.0     29.1     35.6   \n",
       "6054       1010.7       1007.4       1.0       6.0     33.6     37.6   \n",
       "\n",
       "      RainTomorrow  RainTomorrow_int  \n",
       "6049            No                 0  \n",
       "6050            No                 0  \n",
       "6052            No                 0  \n",
       "6053            No                 0  \n",
       "6054            No                 0  \n",
       "\n",
       "[5 rows x 22 columns]"
      ]
     },
     "execution_count": 39,
     "metadata": {},
     "output_type": "execute_result"
    }
   ],
   "source": [
    "# По информационному графику видно, что во многих столюцах пропущены данные (NaN), поэтому делаем dropna\n",
    "df = df.dropna()\n",
    "\n",
    "df['RainTomorrow_int'] = np.where(df['RainTomorrow'] == 'Yes', 1, 0)\n",
    "\n",
    "df.head()"
   ]
  },
  {
   "cell_type": "code",
   "execution_count": 41,
   "id": "7fc1060e",
   "metadata": {},
   "outputs": [
    {
     "data": {
      "image/png": "[encoded data removed]",
      "text/plain": [
       "<Figure size 360x360 with 1 Axes>"
      ]
     },
     "metadata": {
      "needs_background": "light"
     },
     "output_type": "display_data"
    }
   ],
   "source": [
    "fig, ax = plt.subplots(figsize = (5, 5))\n",
    "sns.countplot(x = df.RainTomorrow_int.values, data=df)\n",
    "labels = [item.get_text() for item in ax.get_xticklabels()]\n",
    "labels[0] = 'Wont Rain'\n",
    "labels[1] = 'Will Rain'\n",
    "ax.set_xticklabels(labels)\n",
    "ax.set_title('Rain Tomorrow')\n",
    "plt.show()\n",
    "\n",
    "# Судя по графику, есть большой перевес в сторону примеров данных с меткой Wont Rain, \n",
    "# скорее всего при обучении модель будет с большим количеством ошибок определять данные с лейблом Will Rain"
   ]
  },
  {
   "cell_type": "code",
   "execution_count": 45,
   "id": "7b2605e7",
   "metadata": {},
   "outputs": [
    {
     "data": {
      "image/png": "[encoded data removed]",
      "text/plain": [
       "<Figure size 1080x936 with 12 Axes>"
      ]
     },
     "metadata": {
      "needs_background": "light"
     },
     "output_type": "display_data"
    }
   ],
   "source": [
    "# Посмотрим на диапозон и распределение важных числовых переменных\n",
    "\n",
    "fig, ax = plt.subplots(6, 2, figsize = (15, 13))\n",
    "sns.boxplot(x= df['Temp3pm'], ax=ax[0,0])\n",
    "sns.histplot(df['Temp3pm'], ax=ax[0,1], kde=True)\n",
    "sns.boxplot(x=df['Sunshine'], ax=ax[1,0])\n",
    "sns.histplot(df['Sunshine'], ax = ax[1,1], kde=True)\n",
    "sns.boxplot(x=df['Humidity9am'], ax=ax[2,0])\n",
    "sns.histplot(df['Humidity9am'], ax=ax[2,1], kde=True)\n",
    "sns.boxplot(x=df['Humidity3pm'], ax=ax[3,0])\n",
    "sns.histplot(df['Humidity3pm'], ax=ax[3,1], kde=True)\n",
    "sns.boxplot(x=df['Cloud9am'], ax=ax[4,0])\n",
    "sns.histplot(df['Cloud9am'], ax=ax[4,1], kde=True)\n",
    "sns.boxplot(x=df['Cloud3pm'], ax=ax[5,0])\n",
    "sns.histplot(df['Cloud3pm'], ax=ax[5,1], kde=True)\n",
    "\n",
    "plt.tight_layout()"
   ]
  },
  {
   "cell_type": "code",
   "execution_count": 7,
   "id": "9480421d",
   "metadata": {},
   "outputs": [
    {
     "data": {
      "text/html": [
       "<div>\n",
       "<style scoped>\n",
       "    .dataframe tbody tr th:only-of-type {\n",
       "        vertical-align: middle;\n",
       "    }\n",
       "\n",
       "    .dataframe tbody tr th {\n",
       "        vertical-align: top;\n",
       "    }\n",
       "\n",
       "    .dataframe thead th {\n",
       "        text-align: right;\n",
       "    }\n",
       "</style>\n",
       "<table border=\"1\" class=\"dataframe\">\n",
       "  <thead>\n",
       "    <tr style=\"text-align: right;\">\n",
       "      <th></th>\n",
       "      <th>MinTemp</th>\n",
       "      <th>MaxTemp</th>\n",
       "      <th>Rainfall</th>\n",
       "      <th>Evaporation</th>\n",
       "      <th>Sunshine</th>\n",
       "      <th>WindGustSpeed</th>\n",
       "      <th>WindSpeed9am</th>\n",
       "      <th>WindSpeed3pm</th>\n",
       "      <th>Humidity9am</th>\n",
       "      <th>Humidity3pm</th>\n",
       "      <th>Pressure9am</th>\n",
       "      <th>Pressure3pm</th>\n",
       "      <th>Cloud9am</th>\n",
       "      <th>Cloud3pm</th>\n",
       "      <th>Temp9am</th>\n",
       "      <th>Temp3pm</th>\n",
       "      <th>RainTomorrow_int</th>\n",
       "    </tr>\n",
       "  </thead>\n",
       "  <tbody>\n",
       "    <tr>\n",
       "      <th>count</th>\n",
       "      <td>12427.000000</td>\n",
       "      <td>12427.000000</td>\n",
       "      <td>12427.000000</td>\n",
       "      <td>12427.000000</td>\n",
       "      <td>12427.000000</td>\n",
       "      <td>12427.000000</td>\n",
       "      <td>12427.000000</td>\n",
       "      <td>12427.000000</td>\n",
       "      <td>12427.000000</td>\n",
       "      <td>12427.000000</td>\n",
       "      <td>12427.000000</td>\n",
       "      <td>12427.000000</td>\n",
       "      <td>12427.000000</td>\n",
       "      <td>12427.000000</td>\n",
       "      <td>12427.000000</td>\n",
       "      <td>12427.000000</td>\n",
       "      <td>12427.0</td>\n",
       "    </tr>\n",
       "    <tr>\n",
       "      <th>mean</th>\n",
       "      <td>14.520286</td>\n",
       "      <td>22.285129</td>\n",
       "      <td>5.487302</td>\n",
       "      <td>4.599026</td>\n",
       "      <td>4.529597</td>\n",
       "      <td>46.727368</td>\n",
       "      <td>16.980204</td>\n",
       "      <td>21.209624</td>\n",
       "      <td>75.314959</td>\n",
       "      <td>66.905931</td>\n",
       "      <td>1013.926909</td>\n",
       "      <td>1011.816834</td>\n",
       "      <td>5.946729</td>\n",
       "      <td>6.261930</td>\n",
       "      <td>17.980309</td>\n",
       "      <td>20.348869</td>\n",
       "      <td>1.0</td>\n",
       "    </tr>\n",
       "    <tr>\n",
       "      <th>std</th>\n",
       "      <td>6.475014</td>\n",
       "      <td>6.866919</td>\n",
       "      <td>11.553907</td>\n",
       "      <td>3.155133</td>\n",
       "      <td>3.390385</td>\n",
       "      <td>15.453586</td>\n",
       "      <td>9.031452</td>\n",
       "      <td>9.284455</td>\n",
       "      <td>15.746792</td>\n",
       "      <td>18.449353</td>\n",
       "      <td>7.127063</td>\n",
       "      <td>7.163316</td>\n",
       "      <td>2.163760</td>\n",
       "      <td>1.840983</td>\n",
       "      <td>6.599997</td>\n",
       "      <td>6.712269</td>\n",
       "      <td>0.0</td>\n",
       "    </tr>\n",
       "    <tr>\n",
       "      <th>min</th>\n",
       "      <td>-4.700000</td>\n",
       "      <td>7.000000</td>\n",
       "      <td>0.000000</td>\n",
       "      <td>0.000000</td>\n",
       "      <td>0.000000</td>\n",
       "      <td>11.000000</td>\n",
       "      <td>2.000000</td>\n",
       "      <td>2.000000</td>\n",
       "      <td>5.000000</td>\n",
       "      <td>1.000000</td>\n",
       "      <td>980.500000</td>\n",
       "      <td>977.100000</td>\n",
       "      <td>0.000000</td>\n",
       "      <td>0.000000</td>\n",
       "      <td>-0.100000</td>\n",
       "      <td>4.300000</td>\n",
       "      <td>1.0</td>\n",
       "    </tr>\n",
       "    <tr>\n",
       "      <th>25%</th>\n",
       "      <td>9.200000</td>\n",
       "      <td>16.800000</td>\n",
       "      <td>0.000000</td>\n",
       "      <td>2.200000</td>\n",
       "      <td>1.400000</td>\n",
       "      <td>35.000000</td>\n",
       "      <td>11.000000</td>\n",
       "      <td>15.000000</td>\n",
       "      <td>66.000000</td>\n",
       "      <td>55.000000</td>\n",
       "      <td>1009.300000</td>\n",
       "      <td>1007.000000</td>\n",
       "      <td>5.000000</td>\n",
       "      <td>6.000000</td>\n",
       "      <td>12.600000</td>\n",
       "      <td>14.900000</td>\n",
       "      <td>1.0</td>\n",
       "    </tr>\n",
       "    <tr>\n",
       "      <th>50%</th>\n",
       "      <td>14.000000</td>\n",
       "      <td>21.400000</td>\n",
       "      <td>0.800000</td>\n",
       "      <td>4.000000</td>\n",
       "      <td>4.300000</td>\n",
       "      <td>44.000000</td>\n",
       "      <td>15.000000</td>\n",
       "      <td>20.000000</td>\n",
       "      <td>77.000000</td>\n",
       "      <td>68.000000</td>\n",
       "      <td>1013.800000</td>\n",
       "      <td>1011.600000</td>\n",
       "      <td>7.000000</td>\n",
       "      <td>7.000000</td>\n",
       "      <td>17.300000</td>\n",
       "      <td>19.600000</td>\n",
       "      <td>1.0</td>\n",
       "    </tr>\n",
       "    <tr>\n",
       "      <th>75%</th>\n",
       "      <td>19.900000</td>\n",
       "      <td>27.800000</td>\n",
       "      <td>5.800000</td>\n",
       "      <td>6.400000</td>\n",
       "      <td>7.200000</td>\n",
       "      <td>56.000000</td>\n",
       "      <td>22.000000</td>\n",
       "      <td>28.000000</td>\n",
       "      <td>88.000000</td>\n",
       "      <td>81.000000</td>\n",
       "      <td>1018.600000</td>\n",
       "      <td>1016.500000</td>\n",
       "      <td>7.000000</td>\n",
       "      <td>7.000000</td>\n",
       "      <td>23.200000</td>\n",
       "      <td>25.400000</td>\n",
       "      <td>1.0</td>\n",
       "    </tr>\n",
       "    <tr>\n",
       "      <th>max</th>\n",
       "      <td>29.800000</td>\n",
       "      <td>46.800000</td>\n",
       "      <td>206.200000</td>\n",
       "      <td>43.000000</td>\n",
       "      <td>13.900000</td>\n",
       "      <td>122.000000</td>\n",
       "      <td>65.000000</td>\n",
       "      <td>65.000000</td>\n",
       "      <td>100.000000</td>\n",
       "      <td>100.000000</td>\n",
       "      <td>1039.500000</td>\n",
       "      <td>1036.000000</td>\n",
       "      <td>8.000000</td>\n",
       "      <td>8.000000</td>\n",
       "      <td>36.400000</td>\n",
       "      <td>46.100000</td>\n",
       "      <td>1.0</td>\n",
       "    </tr>\n",
       "  </tbody>\n",
       "</table>\n",
       "</div>"
      ],
      "text/plain": [
       "            MinTemp       MaxTemp      Rainfall   Evaporation      Sunshine  \\\n",
       "count  12427.000000  12427.000000  12427.000000  12427.000000  12427.000000   \n",
       "mean      14.520286     22.285129      5.487302      4.599026      4.529597   \n",
       "std        6.475014      6.866919     11.553907      3.155133      3.390385   \n",
       "min       -4.700000      7.000000      0.000000      0.000000      0.000000   \n",
       "25%        9.200000     16.800000      0.000000      2.200000      1.400000   \n",
       "50%       14.000000     21.400000      0.800000      4.000000      4.300000   \n",
       "75%       19.900000     27.800000      5.800000      6.400000      7.200000   \n",
       "max       29.800000     46.800000    206.200000     43.000000     13.900000   \n",
       "\n",
       "       WindGustSpeed  WindSpeed9am  WindSpeed3pm   Humidity9am   Humidity3pm  \\\n",
       "count   12427.000000  12427.000000  12427.000000  12427.000000  12427.000000   \n",
       "mean       46.727368     16.980204     21.209624     75.314959     66.905931   \n",
       "std        15.453586      9.031452      9.284455     15.746792     18.449353   \n",
       "min        11.000000      2.000000      2.000000      5.000000      1.000000   \n",
       "25%        35.000000     11.000000     15.000000     66.000000     55.000000   \n",
       "50%        44.000000     15.000000     20.000000     77.000000     68.000000   \n",
       "75%        56.000000     22.000000     28.000000     88.000000     81.000000   \n",
       "max       122.000000     65.000000     65.000000    100.000000    100.000000   \n",
       "\n",
       "        Pressure9am   Pressure3pm      Cloud9am      Cloud3pm       Temp9am  \\\n",
       "count  12427.000000  12427.000000  12427.000000  12427.000000  12427.000000   \n",
       "mean    1013.926909   1011.816834      5.946729      6.261930     17.980309   \n",
       "std        7.127063      7.163316      2.163760      1.840983      6.599997   \n",
       "min      980.500000    977.100000      0.000000      0.000000     -0.100000   \n",
       "25%     1009.300000   1007.000000      5.000000      6.000000     12.600000   \n",
       "50%     1013.800000   1011.600000      7.000000      7.000000     17.300000   \n",
       "75%     1018.600000   1016.500000      7.000000      7.000000     23.200000   \n",
       "max     1039.500000   1036.000000      8.000000      8.000000     36.400000   \n",
       "\n",
       "            Temp3pm  RainTomorrow_int  \n",
       "count  12427.000000           12427.0  \n",
       "mean      20.348869               1.0  \n",
       "std        6.712269               0.0  \n",
       "min        4.300000               1.0  \n",
       "25%       14.900000               1.0  \n",
       "50%       19.600000               1.0  \n",
       "75%       25.400000               1.0  \n",
       "max       46.100000               1.0  "
      ]
     },
     "execution_count": 7,
     "metadata": {},
     "output_type": "execute_result"
    }
   ],
   "source": [
    "df_yes = df[df['RainTomorrow_int'] == 1]\n",
    "df_yes.describe()"
   ]
  },
  {
   "cell_type": "code",
   "execution_count": 8,
   "id": "662e5f11",
   "metadata": {},
   "outputs": [
    {
     "data": {
      "text/html": [
       "<div>\n",
       "<style scoped>\n",
       "    .dataframe tbody tr th:only-of-type {\n",
       "        vertical-align: middle;\n",
       "    }\n",
       "\n",
       "    .dataframe tbody tr th {\n",
       "        vertical-align: top;\n",
       "    }\n",
       "\n",
       "    .dataframe thead th {\n",
       "        text-align: right;\n",
       "    }\n",
       "</style>\n",
       "<table border=\"1\" class=\"dataframe\">\n",
       "  <thead>\n",
       "    <tr style=\"text-align: right;\">\n",
       "      <th></th>\n",
       "      <th>MinTemp</th>\n",
       "      <th>MaxTemp</th>\n",
       "      <th>Rainfall</th>\n",
       "      <th>Evaporation</th>\n",
       "      <th>Sunshine</th>\n",
       "      <th>WindGustSpeed</th>\n",
       "      <th>WindSpeed9am</th>\n",
       "      <th>WindSpeed3pm</th>\n",
       "      <th>Humidity9am</th>\n",
       "      <th>Humidity3pm</th>\n",
       "      <th>Pressure9am</th>\n",
       "      <th>Pressure3pm</th>\n",
       "      <th>Cloud9am</th>\n",
       "      <th>Cloud3pm</th>\n",
       "      <th>Temp9am</th>\n",
       "      <th>Temp3pm</th>\n",
       "      <th>RainTomorrow_int</th>\n",
       "    </tr>\n",
       "  </thead>\n",
       "  <tbody>\n",
       "    <tr>\n",
       "      <th>count</th>\n",
       "      <td>43993.000000</td>\n",
       "      <td>43993.000000</td>\n",
       "      <td>43993.000000</td>\n",
       "      <td>43993.000000</td>\n",
       "      <td>43993.000000</td>\n",
       "      <td>43993.000000</td>\n",
       "      <td>43993.000000</td>\n",
       "      <td>43993.000000</td>\n",
       "      <td>43993.000000</td>\n",
       "      <td>43993.000000</td>\n",
       "      <td>43993.000000</td>\n",
       "      <td>43993.000000</td>\n",
       "      <td>43993.000000</td>\n",
       "      <td>43993.000000</td>\n",
       "      <td>43993.000000</td>\n",
       "      <td>43993.000000</td>\n",
       "      <td>43993.0</td>\n",
       "    </tr>\n",
       "    <tr>\n",
       "      <th>mean</th>\n",
       "      <td>13.166611</td>\n",
       "      <td>24.765538</td>\n",
       "      <td>1.182149</td>\n",
       "      <td>5.758525</td>\n",
       "      <td>8.641254</td>\n",
       "      <td>39.224877</td>\n",
       "      <td>15.296343</td>\n",
       "      <td>19.384857</td>\n",
       "      <td>63.207306</td>\n",
       "      <td>44.714023</td>\n",
       "      <td>1018.175237</td>\n",
       "      <td>1015.637006</td>\n",
       "      <td>3.760075</td>\n",
       "      <td>3.779806</td>\n",
       "      <td>18.268420</td>\n",
       "      <td>23.377392</td>\n",
       "      <td>0.0</td>\n",
       "    </tr>\n",
       "    <tr>\n",
       "      <th>std</th>\n",
       "      <td>6.368581</td>\n",
       "      <td>6.902305</td>\n",
       "      <td>4.617274</td>\n",
       "      <td>3.796570</td>\n",
       "      <td>3.338099</td>\n",
       "      <td>12.174093</td>\n",
       "      <td>8.065273</td>\n",
       "      <td>8.234055</td>\n",
       "      <td>18.363871</td>\n",
       "      <td>17.847462</td>\n",
       "      <td>6.549944</td>\n",
       "      <td>6.544964</td>\n",
       "      <td>2.767432</td>\n",
       "      <td>2.583256</td>\n",
       "      <td>6.557603</td>\n",
       "      <td>6.722703</td>\n",
       "      <td>0.0</td>\n",
       "    </tr>\n",
       "    <tr>\n",
       "      <th>min</th>\n",
       "      <td>-6.700000</td>\n",
       "      <td>4.100000</td>\n",
       "      <td>0.000000</td>\n",
       "      <td>0.000000</td>\n",
       "      <td>0.000000</td>\n",
       "      <td>9.000000</td>\n",
       "      <td>2.000000</td>\n",
       "      <td>2.000000</td>\n",
       "      <td>0.000000</td>\n",
       "      <td>0.000000</td>\n",
       "      <td>982.900000</td>\n",
       "      <td>983.200000</td>\n",
       "      <td>0.000000</td>\n",
       "      <td>0.000000</td>\n",
       "      <td>-0.700000</td>\n",
       "      <td>3.700000</td>\n",
       "      <td>0.0</td>\n",
       "    </tr>\n",
       "    <tr>\n",
       "      <th>25%</th>\n",
       "      <td>8.400000</td>\n",
       "      <td>19.300000</td>\n",
       "      <td>0.000000</td>\n",
       "      <td>3.000000</td>\n",
       "      <td>6.700000</td>\n",
       "      <td>31.000000</td>\n",
       "      <td>9.000000</td>\n",
       "      <td>13.000000</td>\n",
       "      <td>53.000000</td>\n",
       "      <td>32.000000</td>\n",
       "      <td>1013.700000</td>\n",
       "      <td>1011.000000</td>\n",
       "      <td>1.000000</td>\n",
       "      <td>1.000000</td>\n",
       "      <td>13.300000</td>\n",
       "      <td>18.100000</td>\n",
       "      <td>0.0</td>\n",
       "    </tr>\n",
       "    <tr>\n",
       "      <th>50%</th>\n",
       "      <td>13.000000</td>\n",
       "      <td>24.600000</td>\n",
       "      <td>0.000000</td>\n",
       "      <td>5.200000</td>\n",
       "      <td>9.500000</td>\n",
       "      <td>37.000000</td>\n",
       "      <td>15.000000</td>\n",
       "      <td>19.000000</td>\n",
       "      <td>64.000000</td>\n",
       "      <td>46.000000</td>\n",
       "      <td>1018.000000</td>\n",
       "      <td>1015.500000</td>\n",
       "      <td>3.000000</td>\n",
       "      <td>3.000000</td>\n",
       "      <td>17.900000</td>\n",
       "      <td>23.100000</td>\n",
       "      <td>0.0</td>\n",
       "    </tr>\n",
       "    <tr>\n",
       "      <th>75%</th>\n",
       "      <td>18.000000</td>\n",
       "      <td>30.100000</td>\n",
       "      <td>0.200000</td>\n",
       "      <td>7.800000</td>\n",
       "      <td>11.000000</td>\n",
       "      <td>46.000000</td>\n",
       "      <td>20.000000</td>\n",
       "      <td>24.000000</td>\n",
       "      <td>76.000000</td>\n",
       "      <td>58.000000</td>\n",
       "      <td>1022.500000</td>\n",
       "      <td>1020.100000</td>\n",
       "      <td>7.000000</td>\n",
       "      <td>6.000000</td>\n",
       "      <td>23.300000</td>\n",
       "      <td>28.500000</td>\n",
       "      <td>0.0</td>\n",
       "    </tr>\n",
       "    <tr>\n",
       "      <th>max</th>\n",
       "      <td>31.400000</td>\n",
       "      <td>48.100000</td>\n",
       "      <td>182.600000</td>\n",
       "      <td>81.200000</td>\n",
       "      <td>14.500000</td>\n",
       "      <td>124.000000</td>\n",
       "      <td>67.000000</td>\n",
       "      <td>76.000000</td>\n",
       "      <td>100.000000</td>\n",
       "      <td>100.000000</td>\n",
       "      <td>1040.400000</td>\n",
       "      <td>1038.900000</td>\n",
       "      <td>8.000000</td>\n",
       "      <td>9.000000</td>\n",
       "      <td>39.400000</td>\n",
       "      <td>46.100000</td>\n",
       "      <td>0.0</td>\n",
       "    </tr>\n",
       "  </tbody>\n",
       "</table>\n",
       "</div>"
      ],
      "text/plain": [
       "            MinTemp       MaxTemp      Rainfall   Evaporation      Sunshine  \\\n",
       "count  43993.000000  43993.000000  43993.000000  43993.000000  43993.000000   \n",
       "mean      13.166611     24.765538      1.182149      5.758525      8.641254   \n",
       "std        6.368581      6.902305      4.617274      3.796570      3.338099   \n",
       "min       -6.700000      4.100000      0.000000      0.000000      0.000000   \n",
       "25%        8.400000     19.300000      0.000000      3.000000      6.700000   \n",
       "50%       13.000000     24.600000      0.000000      5.200000      9.500000   \n",
       "75%       18.000000     30.100000      0.200000      7.800000     11.000000   \n",
       "max       31.400000     48.100000    182.600000     81.200000     14.500000   \n",
       "\n",
       "       WindGustSpeed  WindSpeed9am  WindSpeed3pm   Humidity9am   Humidity3pm  \\\n",
       "count   43993.000000  43993.000000  43993.000000  43993.000000  43993.000000   \n",
       "mean       39.224877     15.296343     19.384857     63.207306     44.714023   \n",
       "std        12.174093      8.065273      8.234055     18.363871     17.847462   \n",
       "min         9.000000      2.000000      2.000000      0.000000      0.000000   \n",
       "25%        31.000000      9.000000     13.000000     53.000000     32.000000   \n",
       "50%        37.000000     15.000000     19.000000     64.000000     46.000000   \n",
       "75%        46.000000     20.000000     24.000000     76.000000     58.000000   \n",
       "max       124.000000     67.000000     76.000000    100.000000    100.000000   \n",
       "\n",
       "        Pressure9am   Pressure3pm      Cloud9am      Cloud3pm       Temp9am  \\\n",
       "count  43993.000000  43993.000000  43993.000000  43993.000000  43993.000000   \n",
       "mean    1018.175237   1015.637006      3.760075      3.779806     18.268420   \n",
       "std        6.549944      6.544964      2.767432      2.583256      6.557603   \n",
       "min      982.900000    983.200000      0.000000      0.000000     -0.700000   \n",
       "25%     1013.700000   1011.000000      1.000000      1.000000     13.300000   \n",
       "50%     1018.000000   1015.500000      3.000000      3.000000     17.900000   \n",
       "75%     1022.500000   1020.100000      7.000000      6.000000     23.300000   \n",
       "max     1040.400000   1038.900000      8.000000      9.000000     39.400000   \n",
       "\n",
       "            Temp3pm  RainTomorrow_int  \n",
       "count  43993.000000           43993.0  \n",
       "mean      23.377392               0.0  \n",
       "std        6.722703               0.0  \n",
       "min        3.700000               0.0  \n",
       "25%       18.100000               0.0  \n",
       "50%       23.100000               0.0  \n",
       "75%       28.500000               0.0  \n",
       "max       46.100000               0.0  "
      ]
     },
     "execution_count": 8,
     "metadata": {},
     "output_type": "execute_result"
    }
   ],
   "source": [
    "df_no = df[df['RainTomorrow_int'] == 0]\n",
    "df_no.describe()"
   ]
  },
  {
   "cell_type": "code",
   "execution_count": 9,
   "id": "37d839a7",
   "metadata": {},
   "outputs": [],
   "source": [
    "# Если смотреть по mean, то сильные различия есть в столбцах Rainfall, WindGustSpeed, Humidity9am, Humidity3pm"
   ]
  },
  {
   "cell_type": "code",
   "execution_count": 46,
   "id": "aebb9d6f",
   "metadata": {},
   "outputs": [
    {
     "data": {
      "application/vnd.plotly.v1+json": {
       "config": {
        "plotlyServerURL": "https://plot.ly"
       },
       "data": [
        {
         "colorscale": [
          [
           0,
           "#0d0887"
          ],
          [
           0.1111111111111111,
           "#46039f"
          ],
          [
           0.2222222222222222,
           "#7201a8"
          ],
          [
           0.3333333333333333,
           "#9c179e"
          ],
          [
           0.4444444444444444,
           "#bd3786"
          ],
          [
           0.5555555555555556,
           "#d8576b"
          ],
          [
           0.6666666666666666,
           "#ed7953"
          ],
          [
           0.7777777777777778,
           "#fb9f3a"
          ],
          [
           0.8888888888888888,
           "#fdca26"
          ],
          [
           1,
           "#f0f921"
          ]
         ],
         "reversescale": false,
         "showscale": true,
         "type": "heatmap",
         "x": [
          "MinTemp",
          "MaxTemp",
          "Rainfall",
          "Evaporation",
          "Sunshine",
          "WindGustSpeed",
          "WindSpeed9am",
          "WindSpeed3pm",
          "Humidity9am",
          "Humidity3pm",
          "Pressure9am",
          "Pressure3pm",
          "Cloud9am",
          "Cloud3pm",
          "Temp9am",
          "Temp3pm",
          "RainTomorrow_int"
         ],
         "y": [
          "MinTemp",
          "MaxTemp",
          "Rainfall",
          "Evaporation",
          "Sunshine",
          "WindGustSpeed",
          "WindSpeed9am",
          "WindSpeed3pm",
          "Humidity9am",
          "Humidity3pm",
          "Pressure9am",
          "Pressure3pm",
          "Cloud9am",
          "Cloud3pm",
          "Temp9am",
          "Temp3pm",
          "RainTomorrow_int"
         ],
         "z": [
          [
           1,
           0.74968725006187,
           0.11079983536062248,
           0.5067643004002697,
           0.07608698967168084,
           0.11805376093581034,
           0.10852150348181126,
           0.13727348637824113,
           -0.17499134378437972,
           0.07082706420666895,
           -0.47566107183127704,
           -0.4955770150750671,
           0.10617711693657131,
           0.04217282588875977,
           0.9062947809969243,
           0.7272220532100605,
           0.08742777349456149
          ],
          [
           0.74968725006187,
           1,
           -0.06998069074898317,
           0.6509644138597251,
           0.46391279450932077,
           0.03553098852264497,
           -0.008171392771255304,
           0.012265736544026552,
           -0.49578136824708025,
           -0.44811551118983883,
           -0.3509795644242887,
           -0.4516908712770106,
           -0.26363392858210893,
           -0.2577517446323383,
           0.8933869518819971,
           0.9848414081018141,
           -0.14746671406446152
          ],
          [
           0.11079983536062248,
           -0.06998069074898317,
           1,
           -0.07723881151626667,
           -0.24637932231846418,
           0.10630831835042477,
           0.05058410947371728,
           0.04411181285206474,
           0.2636252673337517,
           0.27762523292502245,
           -0.18060598542640616,
           -0.1373019599956863,
           0.21716854040629338,
           0.19143323222444925,
           0.0137131678588351,
           -0.07462669577576876,
           0.2543416983102593
          ],
          [
           0.5067643004002697,
           0.6509644138597251,
           -0.07723881151626667,
           1,
           0.36924973356036134,
           0.20956619898537918,
           0.19315402426057698,
           0.12434479988518055,
           -0.5542319011705917,
           -0.4224357733021531,
           -0.2973187589137575,
           -0.32595442140487463,
           -0.19980920156228646,
           -0.20236643598138268,
           0.593121539131916,
           0.6307274157062941,
           -0.13000226520358316
          ],
          [
           0.07608698967168084,
           0.46391279450932077,
           -0.24637932231846418,
           0.36924973356036134,
           1,
           -0.05242215686779018,
           -0.013841629316877059,
           0.029200104989720515,
           -0.5003426508855054,
           -0.629298732550077,
           0.04332978336011984,
           -0.020631851998052005,
           -0.6779385107635449,
           -0.7020222558338544,
           0.2890376351352365,
           0.4861289657005702,
           -0.4534069127165123
          ],
          [
           0.11805376093581034,
           0.03553098852264497,
           0.10630831835042477,
           0.20956619898537918,
           -0.05242215686779018,
           1,
           0.6088518372528908,
           0.6852363743295763,
           -0.1934104031458954,
           -0.0426528146914665,
           -0.4303628691260885,
           -0.38368252993078056,
           0.08812859389474738,
           0.1315895244819006,
           0.08552002605963162,
           -0.0003821692382510493,
           0.2331581691859726
          ],
          [
           0.10852150348181126,
           -0.008171392771255304,
           0.05058410947371728,
           0.19315402426057698,
           -0.013841629316877059,
           0.6088518372528908,
           1,
           0.5022263737692769,
           -0.23679457105648194,
           -0.05844919481009932,
           -0.20151791767339372,
           -0.15548392681852968,
           0.03490810196149203,
           0.06250687913418103,
           0.05374853734394071,
           -0.018357398621067285,
           0.08390448846790978
          ],
          [
           0.13727348637824113,
           0.012265736544026552,
           0.04411181285206474,
           0.12434479988518055,
           0.029200104989720515,
           0.6852363743295763,
           0.5022263737692769,
           1,
           -0.10062638568537392,
           0.03184310443182262,
           -0.29315549502997723,
           -0.25209516944283644,
           0.06822374161075984,
           0.04147545920743049,
           0.11404267167558209,
           -0.00943578927853742,
           0.0888616713970024
          ],
          [
           -0.17499134378437972,
           -0.49578136824708025,
           0.2636252673337517,
           -0.5542319011705917,
           -0.5003426508855054,
           -0.1934104031458954,
           -0.23679457105648194,
           -0.10062638568537392,
           1,
           0.6856969247641806,
           0.11457464703860352,
           0.17297235221429605,
           0.43896228172093,
           0.34870702487545746,
           -0.4235980056118628,
           -0.4877579791178821,
           0.2710329603474702
          ],
          [
           0.07082706420666895,
           -0.44811551118983883,
           0.27762523292502245,
           -0.4224357733021531,
           -0.629298732550077,
           -0.0426528146914665,
           -0.05844919481009932,
           0.03184310443182262,
           0.6856969247641806,
           1,
           -0.0634543267674232,
           0.024109359922735055,
           0.5092229901379068,
           0.5109960795626295,
           -0.15161404659760935,
           -0.49724528658038253,
           0.45535763701195064
          ],
          [
           -0.47566107183127704,
           -0.3509795644242887,
           -0.18060598542640616,
           -0.2973187589137575,
           0.04332978336011984,
           -0.4303628691260885,
           -0.20151791767339372,
           -0.29315549502997723,
           0.11457464703860352,
           -0.0634543267674232,
           1,
           0.961538322269745,
           -0.15042680432107913,
           -0.16633408702910807,
           -0.4434102107964896,
           -0.3107736567828055,
           -0.25481565590711786
          ],
          [
           -0.4955770150750671,
           -0.4516908712770106,
           -0.1373019599956863,
           -0.32595442140487463,
           -0.020631851998052005,
           -0.38368252993078056,
           -0.15548392681852968,
           -0.25209516944283644,
           0.17297235221429605,
           0.024109359922735055,
           0.961538322269745,
           1,
           -0.08179124791512812,
           -0.10317283768892051,
           -0.5005092665210911,
           -0.42131786440762253,
           -0.23041750623236035
          ],
          [
           0.10617711693657131,
           -0.26363392858210893,
           0.21716854040629338,
           -0.19980920156228646,
           -0.6779385107635449,
           0.08812859389474738,
           0.03490810196149203,
           0.06822374161075984,
           0.43896228172093,
           0.5092229901379068,
           -0.15042680432107913,
           -0.08179124791512812,
           1,
           0.6143804777488254,
           -0.10959102899531596,
           -0.2812133809403684,
           0.32397238104945836
          ],
          [
           0.04217282588875977,
           -0.2577517446323383,
           0.19143323222444925,
           -0.20236643598138268,
           -0.7020222558338544,
           0.1315895244819006,
           0.06250687913418103,
           0.04147545920743049,
           0.34870702487545746,
           0.5109960795626295,
           -0.16633408702910807,
           -0.10317283768892051,
           0.6143804777488254,
           1,
           -0.10788487672858303,
           -0.297230008512919,
           0.38857421111885565
          ],
          [
           0.9062947809969243,
           0.8933869518819971,
           0.0137131678588351,
           0.593121539131916,
           0.2890376351352365,
           0.08552002605963162,
           0.05374853734394071,
           0.11404267167558209,
           -0.4235980056118628,
           -0.15161404659760935,
           -0.4434102107964896,
           -0.5005092665210911,
           -0.10959102899531596,
           -0.10788487672858303,
           1,
           0.8706196502876495,
           -0.01817912343389307
          ],
          [
           0.7272220532100605,
           0.9848414081018141,
           -0.07462669577576876,
           0.6307274157062941,
           0.4861289657005702,
           -0.0003821692382510493,
           -0.018357398621067285,
           -0.00943578927853742,
           -0.4877579791178821,
           -0.49724528658038253,
           -0.3107736567828055,
           -0.42131786440762253,
           -0.2812133809403684,
           -0.297230008512919,
           0.8706196502876495,
           1,
           -0.18358616395145888
          ],
          [
           0.08742777349456149,
           -0.14746671406446152,
           0.2543416983102593,
           -0.13000226520358316,
           -0.4534069127165123,
           0.2331581691859726,
           0.08390448846790978,
           0.0888616713970024,
           0.2710329603474702,
           0.45535763701195064,
           -0.25481565590711786,
           -0.23041750623236035,
           0.32397238104945836,
           0.38857421111885565,
           -0.01817912343389307,
           -0.18358616395145888,
           1
          ]
         ]
        }
       ],
       "layout": {
        "annotations": [
         {
          "font": {
           "color": "#000000"
          },
          "showarrow": false,
          "text": "1.0",
          "x": "MinTemp",
          "xref": "x",
          "y": "MinTemp",
          "yref": "y"
         },
         {
          "font": {
           "color": "#000000"
          },
          "showarrow": false,
          "text": "0.75",
          "x": "MaxTemp",
          "xref": "x",
          "y": "MinTemp",
          "yref": "y"
         },
         {
          "font": {
           "color": "#FFFFFF"
          },
          "showarrow": false,
          "text": "0.11",
          "x": "Rainfall",
          "xref": "x",
          "y": "MinTemp",
          "yref": "y"
         },
         {
          "font": {
           "color": "#000000"
          },
          "showarrow": false,
          "text": "0.51",
          "x": "Evaporation",
          "xref": "x",
          "y": "MinTemp",
          "yref": "y"
         },
         {
          "font": {
           "color": "#FFFFFF"
          },
          "showarrow": false,
          "text": "0.08",
          "x": "Sunshine",
          "xref": "x",
          "y": "MinTemp",
          "yref": "y"
         },
         {
          "font": {
           "color": "#FFFFFF"
          },
          "showarrow": false,
          "text": "0.12",
          "x": "WindGustSpeed",
          "xref": "x",
          "y": "MinTemp",
          "yref": "y"
         },
         {
          "font": {
           "color": "#FFFFFF"
          },
          "showarrow": false,
          "text": "0.11",
          "x": "WindSpeed9am",
          "xref": "x",
          "y": "MinTemp",
          "yref": "y"
         },
         {
          "font": {
           "color": "#FFFFFF"
          },
          "showarrow": false,
          "text": "0.14",
          "x": "WindSpeed3pm",
          "xref": "x",
          "y": "MinTemp",
          "yref": "y"
         },
         {
          "font": {
           "color": "#FFFFFF"
          },
          "showarrow": false,
          "text": "-0.17",
          "x": "Humidity9am",
          "xref": "x",
          "y": "MinTemp",
          "yref": "y"
         },
         {
          "font": {
           "color": "#FFFFFF"
          },
          "showarrow": false,
          "text": "0.07",
          "x": "Humidity3pm",
          "xref": "x",
          "y": "MinTemp",
          "yref": "y"
         },
         {
          "font": {
           "color": "#FFFFFF"
          },
          "showarrow": false,
          "text": "-0.48",
          "x": "Pressure9am",
          "xref": "x",
          "y": "MinTemp",
          "yref": "y"
         },
         {
          "font": {
           "color": "#FFFFFF"
          },
          "showarrow": false,
          "text": "-0.5",
          "x": "Pressure3pm",
          "xref": "x",
          "y": "MinTemp",
          "yref": "y"
         },
         {
          "font": {
           "color": "#FFFFFF"
          },
          "showarrow": false,
          "text": "0.11",
          "x": "Cloud9am",
          "xref": "x",
          "y": "MinTemp",
          "yref": "y"
         },
         {
          "font": {
           "color": "#FFFFFF"
          },
          "showarrow": false,
          "text": "0.04",
          "x": "Cloud3pm",
          "xref": "x",
          "y": "MinTemp",
          "yref": "y"
         },
         {
          "font": {
           "color": "#000000"
          },
          "showarrow": false,
          "text": "0.91",
          "x": "Temp9am",
          "xref": "x",
          "y": "MinTemp",
          "yref": "y"
         },
         {
          "font": {
           "color": "#000000"
          },
          "showarrow": false,
          "text": "0.73",
          "x": "Temp3pm",
          "xref": "x",
          "y": "MinTemp",
          "yref": "y"
         },
         {
          "font": {
           "color": "#FFFFFF"
          },
          "showarrow": false,
          "text": "0.09",
          "x": "RainTomorrow_int",
          "xref": "x",
          "y": "MinTemp",
          "yref": "y"
         },
         {
          "font": {
           "color": "#000000"
          },
          "showarrow": false,
          "text": "0.75",
          "x": "MinTemp",
          "xref": "x",
          "y": "MaxTemp",
          "yref": "y"
         },
         {
          "font": {
           "color": "#000000"
          },
          "showarrow": false,
          "text": "1.0",
          "x": "MaxTemp",
          "xref": "x",
          "y": "MaxTemp",
          "yref": "y"
         },
         {
          "font": {
           "color": "#FFFFFF"
          },
          "showarrow": false,
          "text": "-0.07",
          "x": "Rainfall",
          "xref": "x",
          "y": "MaxTemp",
          "yref": "y"
         },
         {
          "font": {
           "color": "#000000"
          },
          "showarrow": false,
          "text": "0.65",
          "x": "Evaporation",
          "xref": "x",
          "y": "MaxTemp",
          "yref": "y"
         },
         {
          "font": {
           "color": "#000000"
          },
          "showarrow": false,
          "text": "0.46",
          "x": "Sunshine",
          "xref": "x",
          "y": "MaxTemp",
          "yref": "y"
         },
         {
          "font": {
           "color": "#FFFFFF"
          },
          "showarrow": false,
          "text": "0.04",
          "x": "WindGustSpeed",
          "xref": "x",
          "y": "MaxTemp",
          "yref": "y"
         },
         {
          "font": {
           "color": "#FFFFFF"
          },
          "showarrow": false,
          "text": "-0.01",
          "x": "WindSpeed9am",
          "xref": "x",
          "y": "MaxTemp",
          "yref": "y"
         },
         {
          "font": {
           "color": "#FFFFFF"
          },
          "showarrow": false,
          "text": "0.01",
          "x": "WindSpeed3pm",
          "xref": "x",
          "y": "MaxTemp",
          "yref": "y"
         },
         {
          "font": {
           "color": "#FFFFFF"
          },
          "showarrow": false,
          "text": "-0.5",
          "x": "Humidity9am",
          "xref": "x",
          "y": "MaxTemp",
          "yref": "y"
         },
         {
          "font": {
           "color": "#FFFFFF"
          },
          "showarrow": false,
          "text": "-0.45",
          "x": "Humidity3pm",
          "xref": "x",
          "y": "MaxTemp",
          "yref": "y"
         },
         {
          "font": {
           "color": "#FFFFFF"
          },
          "showarrow": false,
          "text": "-0.35",
          "x": "Pressure9am",
          "xref": "x",
          "y": "MaxTemp",
          "yref": "y"
         },
         {
          "font": {
           "color": "#FFFFFF"
          },
          "showarrow": false,
          "text": "-0.45",
          "x": "Pressure3pm",
          "xref": "x",
          "y": "MaxTemp",
          "yref": "y"
         },
         {
          "font": {
           "color": "#FFFFFF"
          },
          "showarrow": false,
          "text": "-0.26",
          "x": "Cloud9am",
          "xref": "x",
          "y": "MaxTemp",
          "yref": "y"
         },
         {
          "font": {
           "color": "#FFFFFF"
          },
          "showarrow": false,
          "text": "-0.26",
          "x": "Cloud3pm",
          "xref": "x",
          "y": "MaxTemp",
          "yref": "y"
         },
         {
          "font": {
           "color": "#000000"
          },
          "showarrow": false,
          "text": "0.89",
          "x": "Temp9am",
          "xref": "x",
          "y": "MaxTemp",
          "yref": "y"
         },
         {
          "font": {
           "color": "#000000"
          },
          "showarrow": false,
          "text": "0.98",
          "x": "Temp3pm",
          "xref": "x",
          "y": "MaxTemp",
          "yref": "y"
         },
         {
          "font": {
           "color": "#FFFFFF"
          },
          "showarrow": false,
          "text": "-0.15",
          "x": "RainTomorrow_int",
          "xref": "x",
          "y": "MaxTemp",
          "yref": "y"
         },
         {
          "font": {
           "color": "#FFFFFF"
          },
          "showarrow": false,
          "text": "0.11",
          "x": "MinTemp",
          "xref": "x",
          "y": "Rainfall",
          "yref": "y"
         },
         {
          "font": {
           "color": "#FFFFFF"
          },
          "showarrow": false,
          "text": "-0.07",
          "x": "MaxTemp",
          "xref": "x",
          "y": "Rainfall",
          "yref": "y"
         },
         {
          "font": {
           "color": "#000000"
          },
          "showarrow": false,
          "text": "1.0",
          "x": "Rainfall",
          "xref": "x",
          "y": "Rainfall",
          "yref": "y"
         },
         {
          "font": {
           "color": "#FFFFFF"
          },
          "showarrow": false,
          "text": "-0.08",
          "x": "Evaporation",
          "xref": "x",
          "y": "Rainfall",
          "yref": "y"
         },
         {
          "font": {
           "color": "#FFFFFF"
          },
          "showarrow": false,
          "text": "-0.25",
          "x": "Sunshine",
          "xref": "x",
          "y": "Rainfall",
          "yref": "y"
         },
         {
          "font": {
           "color": "#FFFFFF"
          },
          "showarrow": false,
          "text": "0.11",
          "x": "WindGustSpeed",
          "xref": "x",
          "y": "Rainfall",
          "yref": "y"
         },
         {
          "font": {
           "color": "#FFFFFF"
          },
          "showarrow": false,
          "text": "0.05",
          "x": "WindSpeed9am",
          "xref": "x",
          "y": "Rainfall",
          "yref": "y"
         },
         {
          "font": {
           "color": "#FFFFFF"
          },
          "showarrow": false,
          "text": "0.04",
          "x": "WindSpeed3pm",
          "xref": "x",
          "y": "Rainfall",
          "yref": "y"
         },
         {
          "font": {
           "color": "#000000"
          },
          "showarrow": false,
          "text": "0.26",
          "x": "Humidity9am",
          "xref": "x",
          "y": "Rainfall",
          "yref": "y"
         },
         {
          "font": {
           "color": "#000000"
          },
          "showarrow": false,
          "text": "0.28",
          "x": "Humidity3pm",
          "xref": "x",
          "y": "Rainfall",
          "yref": "y"
         },
         {
          "font": {
           "color": "#FFFFFF"
          },
          "showarrow": false,
          "text": "-0.18",
          "x": "Pressure9am",
          "xref": "x",
          "y": "Rainfall",
          "yref": "y"
         },
         {
          "font": {
           "color": "#FFFFFF"
          },
          "showarrow": false,
          "text": "-0.14",
          "x": "Pressure3pm",
          "xref": "x",
          "y": "Rainfall",
          "yref": "y"
         },
         {
          "font": {
           "color": "#000000"
          },
          "showarrow": false,
          "text": "0.22",
          "x": "Cloud9am",
          "xref": "x",
          "y": "Rainfall",
          "yref": "y"
         },
         {
          "font": {
           "color": "#000000"
          },
          "showarrow": false,
          "text": "0.19",
          "x": "Cloud3pm",
          "xref": "x",
          "y": "Rainfall",
          "yref": "y"
         },
         {
          "font": {
           "color": "#FFFFFF"
          },
          "showarrow": false,
          "text": "0.01",
          "x": "Temp9am",
          "xref": "x",
          "y": "Rainfall",
          "yref": "y"
         },
         {
          "font": {
           "color": "#FFFFFF"
          },
          "showarrow": false,
          "text": "-0.07",
          "x": "Temp3pm",
          "xref": "x",
          "y": "Rainfall",
          "yref": "y"
         },
         {
          "font": {
           "color": "#000000"
          },
          "showarrow": false,
          "text": "0.25",
          "x": "RainTomorrow_int",
          "xref": "x",
          "y": "Rainfall",
          "yref": "y"
         },
         {
          "font": {
           "color": "#000000"
          },
          "showarrow": false,
          "text": "0.51",
          "x": "MinTemp",
          "xref": "x",
          "y": "Evaporation",
          "yref": "y"
         },
         {
          "font": {
           "color": "#000000"
          },
          "showarrow": false,
          "text": "0.65",
          "x": "MaxTemp",
          "xref": "x",
          "y": "Evaporation",
          "yref": "y"
         },
         {
          "font": {
           "color": "#FFFFFF"
          },
          "showarrow": false,
          "text": "-0.08",
          "x": "Rainfall",
          "xref": "x",
          "y": "Evaporation",
          "yref": "y"
         },
         {
          "font": {
           "color": "#000000"
          },
          "showarrow": false,
          "text": "1.0",
          "x": "Evaporation",
          "xref": "x",
          "y": "Evaporation",
          "yref": "y"
         },
         {
          "font": {
           "color": "#000000"
          },
          "showarrow": false,
          "text": "0.37",
          "x": "Sunshine",
          "xref": "x",
          "y": "Evaporation",
          "yref": "y"
         },
         {
          "font": {
           "color": "#000000"
          },
          "showarrow": false,
          "text": "0.21",
          "x": "WindGustSpeed",
          "xref": "x",
          "y": "Evaporation",
          "yref": "y"
         },
         {
          "font": {
           "color": "#000000"
          },
          "showarrow": false,
          "text": "0.19",
          "x": "WindSpeed9am",
          "xref": "x",
          "y": "Evaporation",
          "yref": "y"
         },
         {
          "font": {
           "color": "#FFFFFF"
          },
          "showarrow": false,
          "text": "0.12",
          "x": "WindSpeed3pm",
          "xref": "x",
          "y": "Evaporation",
          "yref": "y"
         },
         {
          "font": {
           "color": "#FFFFFF"
          },
          "showarrow": false,
          "text": "-0.55",
          "x": "Humidity9am",
          "xref": "x",
          "y": "Evaporation",
          "yref": "y"
         },
         {
          "font": {
           "color": "#FFFFFF"
          },
          "showarrow": false,
          "text": "-0.42",
          "x": "Humidity3pm",
          "xref": "x",
          "y": "Evaporation",
          "yref": "y"
         },
         {
          "font": {
           "color": "#FFFFFF"
          },
          "showarrow": false,
          "text": "-0.3",
          "x": "Pressure9am",
          "xref": "x",
          "y": "Evaporation",
          "yref": "y"
         },
         {
          "font": {
           "color": "#FFFFFF"
          },
          "showarrow": false,
          "text": "-0.33",
          "x": "Pressure3pm",
          "xref": "x",
          "y": "Evaporation",
          "yref": "y"
         },
         {
          "font": {
           "color": "#FFFFFF"
          },
          "showarrow": false,
          "text": "-0.2",
          "x": "Cloud9am",
          "xref": "x",
          "y": "Evaporation",
          "yref": "y"
         },
         {
          "font": {
           "color": "#FFFFFF"
          },
          "showarrow": false,
          "text": "-0.2",
          "x": "Cloud3pm",
          "xref": "x",
          "y": "Evaporation",
          "yref": "y"
         },
         {
          "font": {
           "color": "#000000"
          },
          "showarrow": false,
          "text": "0.59",
          "x": "Temp9am",
          "xref": "x",
          "y": "Evaporation",
          "yref": "y"
         },
         {
          "font": {
           "color": "#000000"
          },
          "showarrow": false,
          "text": "0.63",
          "x": "Temp3pm",
          "xref": "x",
          "y": "Evaporation",
          "yref": "y"
         },
         {
          "font": {
           "color": "#FFFFFF"
          },
          "showarrow": false,
          "text": "-0.13",
          "x": "RainTomorrow_int",
          "xref": "x",
          "y": "Evaporation",
          "yref": "y"
         },
         {
          "font": {
           "color": "#FFFFFF"
          },
          "showarrow": false,
          "text": "0.08",
          "x": "MinTemp",
          "xref": "x",
          "y": "Sunshine",
          "yref": "y"
         },
         {
          "font": {
           "color": "#000000"
          },
          "showarrow": false,
          "text": "0.46",
          "x": "MaxTemp",
          "xref": "x",
          "y": "Sunshine",
          "yref": "y"
         },
         {
          "font": {
           "color": "#FFFFFF"
          },
          "showarrow": false,
          "text": "-0.25",
          "x": "Rainfall",
          "xref": "x",
          "y": "Sunshine",
          "yref": "y"
         },
         {
          "font": {
           "color": "#000000"
          },
          "showarrow": false,
          "text": "0.37",
          "x": "Evaporation",
          "xref": "x",
          "y": "Sunshine",
          "yref": "y"
         },
         {
          "font": {
           "color": "#000000"
          },
          "showarrow": false,
          "text": "1.0",
          "x": "Sunshine",
          "xref": "x",
          "y": "Sunshine",
          "yref": "y"
         },
         {
          "font": {
           "color": "#FFFFFF"
          },
          "showarrow": false,
          "text": "-0.05",
          "x": "WindGustSpeed",
          "xref": "x",
          "y": "Sunshine",
          "yref": "y"
         },
         {
          "font": {
           "color": "#FFFFFF"
          },
          "showarrow": false,
          "text": "-0.01",
          "x": "WindSpeed9am",
          "xref": "x",
          "y": "Sunshine",
          "yref": "y"
         },
         {
          "font": {
           "color": "#FFFFFF"
          },
          "showarrow": false,
          "text": "0.03",
          "x": "WindSpeed3pm",
          "xref": "x",
          "y": "Sunshine",
          "yref": "y"
         },
         {
          "font": {
           "color": "#FFFFFF"
          },
          "showarrow": false,
          "text": "-0.5",
          "x": "Humidity9am",
          "xref": "x",
          "y": "Sunshine",
          "yref": "y"
         },
         {
          "font": {
           "color": "#FFFFFF"
          },
          "showarrow": false,
          "text": "-0.63",
          "x": "Humidity3pm",
          "xref": "x",
          "y": "Sunshine",
          "yref": "y"
         },
         {
          "font": {
           "color": "#FFFFFF"
          },
          "showarrow": false,
          "text": "0.04",
          "x": "Pressure9am",
          "xref": "x",
          "y": "Sunshine",
          "yref": "y"
         },
         {
          "font": {
           "color": "#FFFFFF"
          },
          "showarrow": false,
          "text": "-0.02",
          "x": "Pressure3pm",
          "xref": "x",
          "y": "Sunshine",
          "yref": "y"
         },
         {
          "font": {
           "color": "#FFFFFF"
          },
          "showarrow": false,
          "text": "-0.68",
          "x": "Cloud9am",
          "xref": "x",
          "y": "Sunshine",
          "yref": "y"
         },
         {
          "font": {
           "color": "#FFFFFF"
          },
          "showarrow": false,
          "text": "-0.7",
          "x": "Cloud3pm",
          "xref": "x",
          "y": "Sunshine",
          "yref": "y"
         },
         {
          "font": {
           "color": "#000000"
          },
          "showarrow": false,
          "text": "0.29",
          "x": "Temp9am",
          "xref": "x",
          "y": "Sunshine",
          "yref": "y"
         },
         {
          "font": {
           "color": "#000000"
          },
          "showarrow": false,
          "text": "0.49",
          "x": "Temp3pm",
          "xref": "x",
          "y": "Sunshine",
          "yref": "y"
         },
         {
          "font": {
           "color": "#FFFFFF"
          },
          "showarrow": false,
          "text": "-0.45",
          "x": "RainTomorrow_int",
          "xref": "x",
          "y": "Sunshine",
          "yref": "y"
         },
         {
          "font": {
           "color": "#FFFFFF"
          },
          "showarrow": false,
          "text": "0.12",
          "x": "MinTemp",
          "xref": "x",
          "y": "WindGustSpeed",
          "yref": "y"
         },
         {
          "font": {
           "color": "#FFFFFF"
          },
          "showarrow": false,
          "text": "0.04",
          "x": "MaxTemp",
          "xref": "x",
          "y": "WindGustSpeed",
          "yref": "y"
         },
         {
          "font": {
           "color": "#FFFFFF"
          },
          "showarrow": false,
          "text": "0.11",
          "x": "Rainfall",
          "xref": "x",
          "y": "WindGustSpeed",
          "yref": "y"
         },
         {
          "font": {
           "color": "#000000"
          },
          "showarrow": false,
          "text": "0.21",
          "x": "Evaporation",
          "xref": "x",
          "y": "WindGustSpeed",
          "yref": "y"
         },
         {
          "font": {
           "color": "#FFFFFF"
          },
          "showarrow": false,
          "text": "-0.05",
          "x": "Sunshine",
          "xref": "x",
          "y": "WindGustSpeed",
          "yref": "y"
         },
         {
          "font": {
           "color": "#000000"
          },
          "showarrow": false,
          "text": "1.0",
          "x": "WindGustSpeed",
          "xref": "x",
          "y": "WindGustSpeed",
          "yref": "y"
         },
         {
          "font": {
           "color": "#000000"
          },
          "showarrow": false,
          "text": "0.61",
          "x": "WindSpeed9am",
          "xref": "x",
          "y": "WindGustSpeed",
          "yref": "y"
         },
         {
          "font": {
           "color": "#000000"
          },
          "showarrow": false,
          "text": "0.69",
          "x": "WindSpeed3pm",
          "xref": "x",
          "y": "WindGustSpeed",
          "yref": "y"
         },
         {
          "font": {
           "color": "#FFFFFF"
          },
          "showarrow": false,
          "text": "-0.19",
          "x": "Humidity9am",
          "xref": "x",
          "y": "WindGustSpeed",
          "yref": "y"
         },
         {
          "font": {
           "color": "#FFFFFF"
          },
          "showarrow": false,
          "text": "-0.04",
          "x": "Humidity3pm",
          "xref": "x",
          "y": "WindGustSpeed",
          "yref": "y"
         },
         {
          "font": {
           "color": "#FFFFFF"
          },
          "showarrow": false,
          "text": "-0.43",
          "x": "Pressure9am",
          "xref": "x",
          "y": "WindGustSpeed",
          "yref": "y"
         },
         {
          "font": {
           "color": "#FFFFFF"
          },
          "showarrow": false,
          "text": "-0.38",
          "x": "Pressure3pm",
          "xref": "x",
          "y": "WindGustSpeed",
          "yref": "y"
         },
         {
          "font": {
           "color": "#FFFFFF"
          },
          "showarrow": false,
          "text": "0.09",
          "x": "Cloud9am",
          "xref": "x",
          "y": "WindGustSpeed",
          "yref": "y"
         },
         {
          "font": {
           "color": "#FFFFFF"
          },
          "showarrow": false,
          "text": "0.13",
          "x": "Cloud3pm",
          "xref": "x",
          "y": "WindGustSpeed",
          "yref": "y"
         },
         {
          "font": {
           "color": "#FFFFFF"
          },
          "showarrow": false,
          "text": "0.09",
          "x": "Temp9am",
          "xref": "x",
          "y": "WindGustSpeed",
          "yref": "y"
         },
         {
          "font": {
           "color": "#FFFFFF"
          },
          "showarrow": false,
          "text": "-0.0",
          "x": "Temp3pm",
          "xref": "x",
          "y": "WindGustSpeed",
          "yref": "y"
         },
         {
          "font": {
           "color": "#000000"
          },
          "showarrow": false,
          "text": "0.23",
          "x": "RainTomorrow_int",
          "xref": "x",
          "y": "WindGustSpeed",
          "yref": "y"
         },
         {
          "font": {
           "color": "#FFFFFF"
          },
          "showarrow": false,
          "text": "0.11",
          "x": "MinTemp",
          "xref": "x",
          "y": "WindSpeed9am",
          "yref": "y"
         },
         {
          "font": {
           "color": "#FFFFFF"
          },
          "showarrow": false,
          "text": "-0.01",
          "x": "MaxTemp",
          "xref": "x",
          "y": "WindSpeed9am",
          "yref": "y"
         },
         {
          "font": {
           "color": "#FFFFFF"
          },
          "showarrow": false,
          "text": "0.05",
          "x": "Rainfall",
          "xref": "x",
          "y": "WindSpeed9am",
          "yref": "y"
         },
         {
          "font": {
           "color": "#000000"
          },
          "showarrow": false,
          "text": "0.19",
          "x": "Evaporation",
          "xref": "x",
          "y": "WindSpeed9am",
          "yref": "y"
         },
         {
          "font": {
           "color": "#FFFFFF"
          },
          "showarrow": false,
          "text": "-0.01",
          "x": "Sunshine",
          "xref": "x",
          "y": "WindSpeed9am",
          "yref": "y"
         },
         {
          "font": {
           "color": "#000000"
          },
          "showarrow": false,
          "text": "0.61",
          "x": "WindGustSpeed",
          "xref": "x",
          "y": "WindSpeed9am",
          "yref": "y"
         },
         {
          "font": {
           "color": "#000000"
          },
          "showarrow": false,
          "text": "1.0",
          "x": "WindSpeed9am",
          "xref": "x",
          "y": "WindSpeed9am",
          "yref": "y"
         },
         {
          "font": {
           "color": "#000000"
          },
          "showarrow": false,
          "text": "0.5",
          "x": "WindSpeed3pm",
          "xref": "x",
          "y": "WindSpeed9am",
          "yref": "y"
         },
         {
          "font": {
           "color": "#FFFFFF"
          },
          "showarrow": false,
          "text": "-0.24",
          "x": "Humidity9am",
          "xref": "x",
          "y": "WindSpeed9am",
          "yref": "y"
         },
         {
          "font": {
           "color": "#FFFFFF"
          },
          "showarrow": false,
          "text": "-0.06",
          "x": "Humidity3pm",
          "xref": "x",
          "y": "WindSpeed9am",
          "yref": "y"
         },
         {
          "font": {
           "color": "#FFFFFF"
          },
          "showarrow": false,
          "text": "-0.2",
          "x": "Pressure9am",
          "xref": "x",
          "y": "WindSpeed9am",
          "yref": "y"
         },
         {
          "font": {
           "color": "#FFFFFF"
          },
          "showarrow": false,
          "text": "-0.16",
          "x": "Pressure3pm",
          "xref": "x",
          "y": "WindSpeed9am",
          "yref": "y"
         },
         {
          "font": {
           "color": "#FFFFFF"
          },
          "showarrow": false,
          "text": "0.03",
          "x": "Cloud9am",
          "xref": "x",
          "y": "WindSpeed9am",
          "yref": "y"
         },
         {
          "font": {
           "color": "#FFFFFF"
          },
          "showarrow": false,
          "text": "0.06",
          "x": "Cloud3pm",
          "xref": "x",
          "y": "WindSpeed9am",
          "yref": "y"
         },
         {
          "font": {
           "color": "#FFFFFF"
          },
          "showarrow": false,
          "text": "0.05",
          "x": "Temp9am",
          "xref": "x",
          "y": "WindSpeed9am",
          "yref": "y"
         },
         {
          "font": {
           "color": "#FFFFFF"
          },
          "showarrow": false,
          "text": "-0.02",
          "x": "Temp3pm",
          "xref": "x",
          "y": "WindSpeed9am",
          "yref": "y"
         },
         {
          "font": {
           "color": "#FFFFFF"
          },
          "showarrow": false,
          "text": "0.08",
          "x": "RainTomorrow_int",
          "xref": "x",
          "y": "WindSpeed9am",
          "yref": "y"
         },
         {
          "font": {
           "color": "#FFFFFF"
          },
          "showarrow": false,
          "text": "0.14",
          "x": "MinTemp",
          "xref": "x",
          "y": "WindSpeed3pm",
          "yref": "y"
         },
         {
          "font": {
           "color": "#FFFFFF"
          },
          "showarrow": false,
          "text": "0.01",
          "x": "MaxTemp",
          "xref": "x",
          "y": "WindSpeed3pm",
          "yref": "y"
         },
         {
          "font": {
           "color": "#FFFFFF"
          },
          "showarrow": false,
          "text": "0.04",
          "x": "Rainfall",
          "xref": "x",
          "y": "WindSpeed3pm",
          "yref": "y"
         },
         {
          "font": {
           "color": "#FFFFFF"
          },
          "showarrow": false,
          "text": "0.12",
          "x": "Evaporation",
          "xref": "x",
          "y": "WindSpeed3pm",
          "yref": "y"
         },
         {
          "font": {
           "color": "#FFFFFF"
          },
          "showarrow": false,
          "text": "0.03",
          "x": "Sunshine",
          "xref": "x",
          "y": "WindSpeed3pm",
          "yref": "y"
         },
         {
          "font": {
           "color": "#000000"
          },
          "showarrow": false,
          "text": "0.69",
          "x": "WindGustSpeed",
          "xref": "x",
          "y": "WindSpeed3pm",
          "yref": "y"
         },
         {
          "font": {
           "color": "#000000"
          },
          "showarrow": false,
          "text": "0.5",
          "x": "WindSpeed9am",
          "xref": "x",
          "y": "WindSpeed3pm",
          "yref": "y"
         },
         {
          "font": {
           "color": "#000000"
          },
          "showarrow": false,
          "text": "1.0",
          "x": "WindSpeed3pm",
          "xref": "x",
          "y": "WindSpeed3pm",
          "yref": "y"
         },
         {
          "font": {
           "color": "#FFFFFF"
          },
          "showarrow": false,
          "text": "-0.1",
          "x": "Humidity9am",
          "xref": "x",
          "y": "WindSpeed3pm",
          "yref": "y"
         },
         {
          "font": {
           "color": "#FFFFFF"
          },
          "showarrow": false,
          "text": "0.03",
          "x": "Humidity3pm",
          "xref": "x",
          "y": "WindSpeed3pm",
          "yref": "y"
         },
         {
          "font": {
           "color": "#FFFFFF"
          },
          "showarrow": false,
          "text": "-0.29",
          "x": "Pressure9am",
          "xref": "x",
          "y": "WindSpeed3pm",
          "yref": "y"
         },
         {
          "font": {
           "color": "#FFFFFF"
          },
          "showarrow": false,
          "text": "-0.25",
          "x": "Pressure3pm",
          "xref": "x",
          "y": "WindSpeed3pm",
          "yref": "y"
         },
         {
          "font": {
           "color": "#FFFFFF"
          },
          "showarrow": false,
          "text": "0.07",
          "x": "Cloud9am",
          "xref": "x",
          "y": "WindSpeed3pm",
          "yref": "y"
         },
         {
          "font": {
           "color": "#FFFFFF"
          },
          "showarrow": false,
          "text": "0.04",
          "x": "Cloud3pm",
          "xref": "x",
          "y": "WindSpeed3pm",
          "yref": "y"
         },
         {
          "font": {
           "color": "#FFFFFF"
          },
          "showarrow": false,
          "text": "0.11",
          "x": "Temp9am",
          "xref": "x",
          "y": "WindSpeed3pm",
          "yref": "y"
         },
         {
          "font": {
           "color": "#FFFFFF"
          },
          "showarrow": false,
          "text": "-0.01",
          "x": "Temp3pm",
          "xref": "x",
          "y": "WindSpeed3pm",
          "yref": "y"
         },
         {
          "font": {
           "color": "#FFFFFF"
          },
          "showarrow": false,
          "text": "0.09",
          "x": "RainTomorrow_int",
          "xref": "x",
          "y": "WindSpeed3pm",
          "yref": "y"
         },
         {
          "font": {
           "color": "#FFFFFF"
          },
          "showarrow": false,
          "text": "-0.17",
          "x": "MinTemp",
          "xref": "x",
          "y": "Humidity9am",
          "yref": "y"
         },
         {
          "font": {
           "color": "#FFFFFF"
          },
          "showarrow": false,
          "text": "-0.5",
          "x": "MaxTemp",
          "xref": "x",
          "y": "Humidity9am",
          "yref": "y"
         },
         {
          "font": {
           "color": "#000000"
          },
          "showarrow": false,
          "text": "0.26",
          "x": "Rainfall",
          "xref": "x",
          "y": "Humidity9am",
          "yref": "y"
         },
         {
          "font": {
           "color": "#FFFFFF"
          },
          "showarrow": false,
          "text": "-0.55",
          "x": "Evaporation",
          "xref": "x",
          "y": "Humidity9am",
          "yref": "y"
         },
         {
          "font": {
           "color": "#FFFFFF"
          },
          "showarrow": false,
          "text": "-0.5",
          "x": "Sunshine",
          "xref": "x",
          "y": "Humidity9am",
          "yref": "y"
         },
         {
          "font": {
           "color": "#FFFFFF"
          },
          "showarrow": false,
          "text": "-0.19",
          "x": "WindGustSpeed",
          "xref": "x",
          "y": "Humidity9am",
          "yref": "y"
         },
         {
          "font": {
           "color": "#FFFFFF"
          },
          "showarrow": false,
          "text": "-0.24",
          "x": "WindSpeed9am",
          "xref": "x",
          "y": "Humidity9am",
          "yref": "y"
         },
         {
          "font": {
           "color": "#FFFFFF"
          },
          "showarrow": false,
          "text": "-0.1",
          "x": "WindSpeed3pm",
          "xref": "x",
          "y": "Humidity9am",
          "yref": "y"
         },
         {
          "font": {
           "color": "#000000"
          },
          "showarrow": false,
          "text": "1.0",
          "x": "Humidity9am",
          "xref": "x",
          "y": "Humidity9am",
          "yref": "y"
         },
         {
          "font": {
           "color": "#000000"
          },
          "showarrow": false,
          "text": "0.69",
          "x": "Humidity3pm",
          "xref": "x",
          "y": "Humidity9am",
          "yref": "y"
         },
         {
          "font": {
           "color": "#FFFFFF"
          },
          "showarrow": false,
          "text": "0.11",
          "x": "Pressure9am",
          "xref": "x",
          "y": "Humidity9am",
          "yref": "y"
         },
         {
          "font": {
           "color": "#000000"
          },
          "showarrow": false,
          "text": "0.17",
          "x": "Pressure3pm",
          "xref": "x",
          "y": "Humidity9am",
          "yref": "y"
         },
         {
          "font": {
           "color": "#000000"
          },
          "showarrow": false,
          "text": "0.44",
          "x": "Cloud9am",
          "xref": "x",
          "y": "Humidity9am",
          "yref": "y"
         },
         {
          "font": {
           "color": "#000000"
          },
          "showarrow": false,
          "text": "0.35",
          "x": "Cloud3pm",
          "xref": "x",
          "y": "Humidity9am",
          "yref": "y"
         },
         {
          "font": {
           "color": "#FFFFFF"
          },
          "showarrow": false,
          "text": "-0.42",
          "x": "Temp9am",
          "xref": "x",
          "y": "Humidity9am",
          "yref": "y"
         },
         {
          "font": {
           "color": "#FFFFFF"
          },
          "showarrow": false,
          "text": "-0.49",
          "x": "Temp3pm",
          "xref": "x",
          "y": "Humidity9am",
          "yref": "y"
         },
         {
          "font": {
           "color": "#000000"
          },
          "showarrow": false,
          "text": "0.27",
          "x": "RainTomorrow_int",
          "xref": "x",
          "y": "Humidity9am",
          "yref": "y"
         },
         {
          "font": {
           "color": "#FFFFFF"
          },
          "showarrow": false,
          "text": "0.07",
          "x": "MinTemp",
          "xref": "x",
          "y": "Humidity3pm",
          "yref": "y"
         },
         {
          "font": {
           "color": "#FFFFFF"
          },
          "showarrow": false,
          "text": "-0.45",
          "x": "MaxTemp",
          "xref": "x",
          "y": "Humidity3pm",
          "yref": "y"
         },
         {
          "font": {
           "color": "#000000"
          },
          "showarrow": false,
          "text": "0.28",
          "x": "Rainfall",
          "xref": "x",
          "y": "Humidity3pm",
          "yref": "y"
         },
         {
          "font": {
           "color": "#FFFFFF"
          },
          "showarrow": false,
          "text": "-0.42",
          "x": "Evaporation",
          "xref": "x",
          "y": "Humidity3pm",
          "yref": "y"
         },
         {
          "font": {
           "color": "#FFFFFF"
          },
          "showarrow": false,
          "text": "-0.63",
          "x": "Sunshine",
          "xref": "x",
          "y": "Humidity3pm",
          "yref": "y"
         },
         {
          "font": {
           "color": "#FFFFFF"
          },
          "showarrow": false,
          "text": "-0.04",
          "x": "WindGustSpeed",
          "xref": "x",
          "y": "Humidity3pm",
          "yref": "y"
         },
         {
          "font": {
           "color": "#FFFFFF"
          },
          "showarrow": false,
          "text": "-0.06",
          "x": "WindSpeed9am",
          "xref": "x",
          "y": "Humidity3pm",
          "yref": "y"
         },
         {
          "font": {
           "color": "#FFFFFF"
          },
          "showarrow": false,
          "text": "0.03",
          "x": "WindSpeed3pm",
          "xref": "x",
          "y": "Humidity3pm",
          "yref": "y"
         },
         {
          "font": {
           "color": "#000000"
          },
          "showarrow": false,
          "text": "0.69",
          "x": "Humidity9am",
          "xref": "x",
          "y": "Humidity3pm",
          "yref": "y"
         },
         {
          "font": {
           "color": "#000000"
          },
          "showarrow": false,
          "text": "1.0",
          "x": "Humidity3pm",
          "xref": "x",
          "y": "Humidity3pm",
          "yref": "y"
         },
         {
          "font": {
           "color": "#FFFFFF"
          },
          "showarrow": false,
          "text": "-0.06",
          "x": "Pressure9am",
          "xref": "x",
          "y": "Humidity3pm",
          "yref": "y"
         },
         {
          "font": {
           "color": "#FFFFFF"
          },
          "showarrow": false,
          "text": "0.02",
          "x": "Pressure3pm",
          "xref": "x",
          "y": "Humidity3pm",
          "yref": "y"
         },
         {
          "font": {
           "color": "#000000"
          },
          "showarrow": false,
          "text": "0.51",
          "x": "Cloud9am",
          "xref": "x",
          "y": "Humidity3pm",
          "yref": "y"
         },
         {
          "font": {
           "color": "#000000"
          },
          "showarrow": false,
          "text": "0.51",
          "x": "Cloud3pm",
          "xref": "x",
          "y": "Humidity3pm",
          "yref": "y"
         },
         {
          "font": {
           "color": "#FFFFFF"
          },
          "showarrow": false,
          "text": "-0.15",
          "x": "Temp9am",
          "xref": "x",
          "y": "Humidity3pm",
          "yref": "y"
         },
         {
          "font": {
           "color": "#FFFFFF"
          },
          "showarrow": false,
          "text": "-0.5",
          "x": "Temp3pm",
          "xref": "x",
          "y": "Humidity3pm",
          "yref": "y"
         },
         {
          "font": {
           "color": "#000000"
          },
          "showarrow": false,
          "text": "0.46",
          "x": "RainTomorrow_int",
          "xref": "x",
          "y": "Humidity3pm",
          "yref": "y"
         },
         {
          "font": {
           "color": "#FFFFFF"
          },
          "showarrow": false,
          "text": "-0.48",
          "x": "MinTemp",
          "xref": "x",
          "y": "Pressure9am",
          "yref": "y"
         },
         {
          "font": {
           "color": "#FFFFFF"
          },
          "showarrow": false,
          "text": "-0.35",
          "x": "MaxTemp",
          "xref": "x",
          "y": "Pressure9am",
          "yref": "y"
         },
         {
          "font": {
           "color": "#FFFFFF"
          },
          "showarrow": false,
          "text": "-0.18",
          "x": "Rainfall",
          "xref": "x",
          "y": "Pressure9am",
          "yref": "y"
         },
         {
          "font": {
           "color": "#FFFFFF"
          },
          "showarrow": false,
          "text": "-0.3",
          "x": "Evaporation",
          "xref": "x",
          "y": "Pressure9am",
          "yref": "y"
         },
         {
          "font": {
           "color": "#FFFFFF"
          },
          "showarrow": false,
          "text": "0.04",
          "x": "Sunshine",
          "xref": "x",
          "y": "Pressure9am",
          "yref": "y"
         },
         {
          "font": {
           "color": "#FFFFFF"
          },
          "showarrow": false,
          "text": "-0.43",
          "x": "WindGustSpeed",
          "xref": "x",
          "y": "Pressure9am",
          "yref": "y"
         },
         {
          "font": {
           "color": "#FFFFFF"
          },
          "showarrow": false,
          "text": "-0.2",
          "x": "WindSpeed9am",
          "xref": "x",
          "y": "Pressure9am",
          "yref": "y"
         },
         {
          "font": {
           "color": "#FFFFFF"
          },
          "showarrow": false,
          "text": "-0.29",
          "x": "WindSpeed3pm",
          "xref": "x",
          "y": "Pressure9am",
          "yref": "y"
         },
         {
          "font": {
           "color": "#FFFFFF"
          },
          "showarrow": false,
          "text": "0.11",
          "x": "Humidity9am",
          "xref": "x",
          "y": "Pressure9am",
          "yref": "y"
         },
         {
          "font": {
           "color": "#FFFFFF"
          },
          "showarrow": false,
          "text": "-0.06",
          "x": "Humidity3pm",
          "xref": "x",
          "y": "Pressure9am",
          "yref": "y"
         },
         {
          "font": {
           "color": "#000000"
          },
          "showarrow": false,
          "text": "1.0",
          "x": "Pressure9am",
          "xref": "x",
          "y": "Pressure9am",
          "yref": "y"
         },
         {
          "font": {
           "color": "#000000"
          },
          "showarrow": false,
          "text": "0.96",
          "x": "Pressure3pm",
          "xref": "x",
          "y": "Pressure9am",
          "yref": "y"
         },
         {
          "font": {
           "color": "#FFFFFF"
          },
          "showarrow": false,
          "text": "-0.15",
          "x": "Cloud9am",
          "xref": "x",
          "y": "Pressure9am",
          "yref": "y"
         },
         {
          "font": {
           "color": "#FFFFFF"
          },
          "showarrow": false,
          "text": "-0.17",
          "x": "Cloud3pm",
          "xref": "x",
          "y": "Pressure9am",
          "yref": "y"
         },
         {
          "font": {
           "color": "#FFFFFF"
          },
          "showarrow": false,
          "text": "-0.44",
          "x": "Temp9am",
          "xref": "x",
          "y": "Pressure9am",
          "yref": "y"
         },
         {
          "font": {
           "color": "#FFFFFF"
          },
          "showarrow": false,
          "text": "-0.31",
          "x": "Temp3pm",
          "xref": "x",
          "y": "Pressure9am",
          "yref": "y"
         },
         {
          "font": {
           "color": "#FFFFFF"
          },
          "showarrow": false,
          "text": "-0.25",
          "x": "RainTomorrow_int",
          "xref": "x",
          "y": "Pressure9am",
          "yref": "y"
         },
         {
          "font": {
           "color": "#FFFFFF"
          },
          "showarrow": false,
          "text": "-0.5",
          "x": "MinTemp",
          "xref": "x",
          "y": "Pressure3pm",
          "yref": "y"
         },
         {
          "font": {
           "color": "#FFFFFF"
          },
          "showarrow": false,
          "text": "-0.45",
          "x": "MaxTemp",
          "xref": "x",
          "y": "Pressure3pm",
          "yref": "y"
         },
         {
          "font": {
           "color": "#FFFFFF"
          },
          "showarrow": false,
          "text": "-0.14",
          "x": "Rainfall",
          "xref": "x",
          "y": "Pressure3pm",
          "yref": "y"
         },
         {
          "font": {
           "color": "#FFFFFF"
          },
          "showarrow": false,
          "text": "-0.33",
          "x": "Evaporation",
          "xref": "x",
          "y": "Pressure3pm",
          "yref": "y"
         },
         {
          "font": {
           "color": "#FFFFFF"
          },
          "showarrow": false,
          "text": "-0.02",
          "x": "Sunshine",
          "xref": "x",
          "y": "Pressure3pm",
          "yref": "y"
         },
         {
          "font": {
           "color": "#FFFFFF"
          },
          "showarrow": false,
          "text": "-0.38",
          "x": "WindGustSpeed",
          "xref": "x",
          "y": "Pressure3pm",
          "yref": "y"
         },
         {
          "font": {
           "color": "#FFFFFF"
          },
          "showarrow": false,
          "text": "-0.16",
          "x": "WindSpeed9am",
          "xref": "x",
          "y": "Pressure3pm",
          "yref": "y"
         },
         {
          "font": {
           "color": "#FFFFFF"
          },
          "showarrow": false,
          "text": "-0.25",
          "x": "WindSpeed3pm",
          "xref": "x",
          "y": "Pressure3pm",
          "yref": "y"
         },
         {
          "font": {
           "color": "#000000"
          },
          "showarrow": false,
          "text": "0.17",
          "x": "Humidity9am",
          "xref": "x",
          "y": "Pressure3pm",
          "yref": "y"
         },
         {
          "font": {
           "color": "#FFFFFF"
          },
          "showarrow": false,
          "text": "0.02",
          "x": "Humidity3pm",
          "xref": "x",
          "y": "Pressure3pm",
          "yref": "y"
         },
         {
          "font": {
           "color": "#000000"
          },
          "showarrow": false,
          "text": "0.96",
          "x": "Pressure9am",
          "xref": "x",
          "y": "Pressure3pm",
          "yref": "y"
         },
         {
          "font": {
           "color": "#000000"
          },
          "showarrow": false,
          "text": "1.0",
          "x": "Pressure3pm",
          "xref": "x",
          "y": "Pressure3pm",
          "yref": "y"
         },
         {
          "font": {
           "color": "#FFFFFF"
          },
          "showarrow": false,
          "text": "-0.08",
          "x": "Cloud9am",
          "xref": "x",
          "y": "Pressure3pm",
          "yref": "y"
         },
         {
          "font": {
           "color": "#FFFFFF"
          },
          "showarrow": false,
          "text": "-0.1",
          "x": "Cloud3pm",
          "xref": "x",
          "y": "Pressure3pm",
          "yref": "y"
         },
         {
          "font": {
           "color": "#FFFFFF"
          },
          "showarrow": false,
          "text": "-0.5",
          "x": "Temp9am",
          "xref": "x",
          "y": "Pressure3pm",
          "yref": "y"
         },
         {
          "font": {
           "color": "#FFFFFF"
          },
          "showarrow": false,
          "text": "-0.42",
          "x": "Temp3pm",
          "xref": "x",
          "y": "Pressure3pm",
          "yref": "y"
         },
         {
          "font": {
           "color": "#FFFFFF"
          },
          "showarrow": false,
          "text": "-0.23",
          "x": "RainTomorrow_int",
          "xref": "x",
          "y": "Pressure3pm",
          "yref": "y"
         },
         {
          "font": {
           "color": "#FFFFFF"
          },
          "showarrow": false,
          "text": "0.11",
          "x": "MinTemp",
          "xref": "x",
          "y": "Cloud9am",
          "yref": "y"
         },
         {
          "font": {
           "color": "#FFFFFF"
          },
          "showarrow": false,
          "text": "-0.26",
          "x": "MaxTemp",
          "xref": "x",
          "y": "Cloud9am",
          "yref": "y"
         },
         {
          "font": {
           "color": "#000000"
          },
          "showarrow": false,
          "text": "0.22",
          "x": "Rainfall",
          "xref": "x",
          "y": "Cloud9am",
          "yref": "y"
         },
         {
          "font": {
           "color": "#FFFFFF"
          },
          "showarrow": false,
          "text": "-0.2",
          "x": "Evaporation",
          "xref": "x",
          "y": "Cloud9am",
          "yref": "y"
         },
         {
          "font": {
           "color": "#FFFFFF"
          },
          "showarrow": false,
          "text": "-0.68",
          "x": "Sunshine",
          "xref": "x",
          "y": "Cloud9am",
          "yref": "y"
         },
         {
          "font": {
           "color": "#FFFFFF"
          },
          "showarrow": false,
          "text": "0.09",
          "x": "WindGustSpeed",
          "xref": "x",
          "y": "Cloud9am",
          "yref": "y"
         },
         {
          "font": {
           "color": "#FFFFFF"
          },
          "showarrow": false,
          "text": "0.03",
          "x": "WindSpeed9am",
          "xref": "x",
          "y": "Cloud9am",
          "yref": "y"
         },
         {
          "font": {
           "color": "#FFFFFF"
          },
          "showarrow": false,
          "text": "0.07",
          "x": "WindSpeed3pm",
          "xref": "x",
          "y": "Cloud9am",
          "yref": "y"
         },
         {
          "font": {
           "color": "#000000"
          },
          "showarrow": false,
          "text": "0.44",
          "x": "Humidity9am",
          "xref": "x",
          "y": "Cloud9am",
          "yref": "y"
         },
         {
          "font": {
           "color": "#000000"
          },
          "showarrow": false,
          "text": "0.51",
          "x": "Humidity3pm",
          "xref": "x",
          "y": "Cloud9am",
          "yref": "y"
         },
         {
          "font": {
           "color": "#FFFFFF"
          },
          "showarrow": false,
          "text": "-0.15",
          "x": "Pressure9am",
          "xref": "x",
          "y": "Cloud9am",
          "yref": "y"
         },
         {
          "font": {
           "color": "#FFFFFF"
          },
          "showarrow": false,
          "text": "-0.08",
          "x": "Pressure3pm",
          "xref": "x",
          "y": "Cloud9am",
          "yref": "y"
         },
         {
          "font": {
           "color": "#000000"
          },
          "showarrow": false,
          "text": "1.0",
          "x": "Cloud9am",
          "xref": "x",
          "y": "Cloud9am",
          "yref": "y"
         },
         {
          "font": {
           "color": "#000000"
          },
          "showarrow": false,
          "text": "0.61",
          "x": "Cloud3pm",
          "xref": "x",
          "y": "Cloud9am",
          "yref": "y"
         },
         {
          "font": {
           "color": "#FFFFFF"
          },
          "showarrow": false,
          "text": "-0.11",
          "x": "Temp9am",
          "xref": "x",
          "y": "Cloud9am",
          "yref": "y"
         },
         {
          "font": {
           "color": "#FFFFFF"
          },
          "showarrow": false,
          "text": "-0.28",
          "x": "Temp3pm",
          "xref": "x",
          "y": "Cloud9am",
          "yref": "y"
         },
         {
          "font": {
           "color": "#000000"
          },
          "showarrow": false,
          "text": "0.32",
          "x": "RainTomorrow_int",
          "xref": "x",
          "y": "Cloud9am",
          "yref": "y"
         },
         {
          "font": {
           "color": "#FFFFFF"
          },
          "showarrow": false,
          "text": "0.04",
          "x": "MinTemp",
          "xref": "x",
          "y": "Cloud3pm",
          "yref": "y"
         },
         {
          "font": {
           "color": "#FFFFFF"
          },
          "showarrow": false,
          "text": "-0.26",
          "x": "MaxTemp",
          "xref": "x",
          "y": "Cloud3pm",
          "yref": "y"
         },
         {
          "font": {
           "color": "#000000"
          },
          "showarrow": false,
          "text": "0.19",
          "x": "Rainfall",
          "xref": "x",
          "y": "Cloud3pm",
          "yref": "y"
         },
         {
          "font": {
           "color": "#FFFFFF"
          },
          "showarrow": false,
          "text": "-0.2",
          "x": "Evaporation",
          "xref": "x",
          "y": "Cloud3pm",
          "yref": "y"
         },
         {
          "font": {
           "color": "#FFFFFF"
          },
          "showarrow": false,
          "text": "-0.7",
          "x": "Sunshine",
          "xref": "x",
          "y": "Cloud3pm",
          "yref": "y"
         },
         {
          "font": {
           "color": "#FFFFFF"
          },
          "showarrow": false,
          "text": "0.13",
          "x": "WindGustSpeed",
          "xref": "x",
          "y": "Cloud3pm",
          "yref": "y"
         },
         {
          "font": {
           "color": "#FFFFFF"
          },
          "showarrow": false,
          "text": "0.06",
          "x": "WindSpeed9am",
          "xref": "x",
          "y": "Cloud3pm",
          "yref": "y"
         },
         {
          "font": {
           "color": "#FFFFFF"
          },
          "showarrow": false,
          "text": "0.04",
          "x": "WindSpeed3pm",
          "xref": "x",
          "y": "Cloud3pm",
          "yref": "y"
         },
         {
          "font": {
           "color": "#000000"
          },
          "showarrow": false,
          "text": "0.35",
          "x": "Humidity9am",
          "xref": "x",
          "y": "Cloud3pm",
          "yref": "y"
         },
         {
          "font": {
           "color": "#000000"
          },
          "showarrow": false,
          "text": "0.51",
          "x": "Humidity3pm",
          "xref": "x",
          "y": "Cloud3pm",
          "yref": "y"
         },
         {
          "font": {
           "color": "#FFFFFF"
          },
          "showarrow": false,
          "text": "-0.17",
          "x": "Pressure9am",
          "xref": "x",
          "y": "Cloud3pm",
          "yref": "y"
         },
         {
          "font": {
           "color": "#FFFFFF"
          },
          "showarrow": false,
          "text": "-0.1",
          "x": "Pressure3pm",
          "xref": "x",
          "y": "Cloud3pm",
          "yref": "y"
         },
         {
          "font": {
           "color": "#000000"
          },
          "showarrow": false,
          "text": "0.61",
          "x": "Cloud9am",
          "xref": "x",
          "y": "Cloud3pm",
          "yref": "y"
         },
         {
          "font": {
           "color": "#000000"
          },
          "showarrow": false,
          "text": "1.0",
          "x": "Cloud3pm",
          "xref": "x",
          "y": "Cloud3pm",
          "yref": "y"
         },
         {
          "font": {
           "color": "#FFFFFF"
          },
          "showarrow": false,
          "text": "-0.11",
          "x": "Temp9am",
          "xref": "x",
          "y": "Cloud3pm",
          "yref": "y"
         },
         {
          "font": {
           "color": "#FFFFFF"
          },
          "showarrow": false,
          "text": "-0.3",
          "x": "Temp3pm",
          "xref": "x",
          "y": "Cloud3pm",
          "yref": "y"
         },
         {
          "font": {
           "color": "#000000"
          },
          "showarrow": false,
          "text": "0.39",
          "x": "RainTomorrow_int",
          "xref": "x",
          "y": "Cloud3pm",
          "yref": "y"
         },
         {
          "font": {
           "color": "#000000"
          },
          "showarrow": false,
          "text": "0.91",
          "x": "MinTemp",
          "xref": "x",
          "y": "Temp9am",
          "yref": "y"
         },
         {
          "font": {
           "color": "#000000"
          },
          "showarrow": false,
          "text": "0.89",
          "x": "MaxTemp",
          "xref": "x",
          "y": "Temp9am",
          "yref": "y"
         },
         {
          "font": {
           "color": "#FFFFFF"
          },
          "showarrow": false,
          "text": "0.01",
          "x": "Rainfall",
          "xref": "x",
          "y": "Temp9am",
          "yref": "y"
         },
         {
          "font": {
           "color": "#000000"
          },
          "showarrow": false,
          "text": "0.59",
          "x": "Evaporation",
          "xref": "x",
          "y": "Temp9am",
          "yref": "y"
         },
         {
          "font": {
           "color": "#000000"
          },
          "showarrow": false,
          "text": "0.29",
          "x": "Sunshine",
          "xref": "x",
          "y": "Temp9am",
          "yref": "y"
         },
         {
          "font": {
           "color": "#FFFFFF"
          },
          "showarrow": false,
          "text": "0.09",
          "x": "WindGustSpeed",
          "xref": "x",
          "y": "Temp9am",
          "yref": "y"
         },
         {
          "font": {
           "color": "#FFFFFF"
          },
          "showarrow": false,
          "text": "0.05",
          "x": "WindSpeed9am",
          "xref": "x",
          "y": "Temp9am",
          "yref": "y"
         },
         {
          "font": {
           "color": "#FFFFFF"
          },
          "showarrow": false,
          "text": "0.11",
          "x": "WindSpeed3pm",
          "xref": "x",
          "y": "Temp9am",
          "yref": "y"
         },
         {
          "font": {
           "color": "#FFFFFF"
          },
          "showarrow": false,
          "text": "-0.42",
          "x": "Humidity9am",
          "xref": "x",
          "y": "Temp9am",
          "yref": "y"
         },
         {
          "font": {
           "color": "#FFFFFF"
          },
          "showarrow": false,
          "text": "-0.15",
          "x": "Humidity3pm",
          "xref": "x",
          "y": "Temp9am",
          "yref": "y"
         },
         {
          "font": {
           "color": "#FFFFFF"
          },
          "showarrow": false,
          "text": "-0.44",
          "x": "Pressure9am",
          "xref": "x",
          "y": "Temp9am",
          "yref": "y"
         },
         {
          "font": {
           "color": "#FFFFFF"
          },
          "showarrow": false,
          "text": "-0.5",
          "x": "Pressure3pm",
          "xref": "x",
          "y": "Temp9am",
          "yref": "y"
         },
         {
          "font": {
           "color": "#FFFFFF"
          },
          "showarrow": false,
          "text": "-0.11",
          "x": "Cloud9am",
          "xref": "x",
          "y": "Temp9am",
          "yref": "y"
         },
         {
          "font": {
           "color": "#FFFFFF"
          },
          "showarrow": false,
          "text": "-0.11",
          "x": "Cloud3pm",
          "xref": "x",
          "y": "Temp9am",
          "yref": "y"
         },
         {
          "font": {
           "color": "#000000"
          },
          "showarrow": false,
          "text": "1.0",
          "x": "Temp9am",
          "xref": "x",
          "y": "Temp9am",
          "yref": "y"
         },
         {
          "font": {
           "color": "#000000"
          },
          "showarrow": false,
          "text": "0.87",
          "x": "Temp3pm",
          "xref": "x",
          "y": "Temp9am",
          "yref": "y"
         },
         {
          "font": {
           "color": "#FFFFFF"
          },
          "showarrow": false,
          "text": "-0.02",
          "x": "RainTomorrow_int",
          "xref": "x",
          "y": "Temp9am",
          "yref": "y"
         },
         {
          "font": {
           "color": "#000000"
          },
          "showarrow": false,
          "text": "0.73",
          "x": "MinTemp",
          "xref": "x",
          "y": "Temp3pm",
          "yref": "y"
         },
         {
          "font": {
           "color": "#000000"
          },
          "showarrow": false,
          "text": "0.98",
          "x": "MaxTemp",
          "xref": "x",
          "y": "Temp3pm",
          "yref": "y"
         },
         {
          "font": {
           "color": "#FFFFFF"
          },
          "showarrow": false,
          "text": "-0.07",
          "x": "Rainfall",
          "xref": "x",
          "y": "Temp3pm",
          "yref": "y"
         },
         {
          "font": {
           "color": "#000000"
          },
          "showarrow": false,
          "text": "0.63",
          "x": "Evaporation",
          "xref": "x",
          "y": "Temp3pm",
          "yref": "y"
         },
         {
          "font": {
           "color": "#000000"
          },
          "showarrow": false,
          "text": "0.49",
          "x": "Sunshine",
          "xref": "x",
          "y": "Temp3pm",
          "yref": "y"
         },
         {
          "font": {
           "color": "#FFFFFF"
          },
          "showarrow": false,
          "text": "-0.0",
          "x": "WindGustSpeed",
          "xref": "x",
          "y": "Temp3pm",
          "yref": "y"
         },
         {
          "font": {
           "color": "#FFFFFF"
          },
          "showarrow": false,
          "text": "-0.02",
          "x": "WindSpeed9am",
          "xref": "x",
          "y": "Temp3pm",
          "yref": "y"
         },
         {
          "font": {
           "color": "#FFFFFF"
          },
          "showarrow": false,
          "text": "-0.01",
          "x": "WindSpeed3pm",
          "xref": "x",
          "y": "Temp3pm",
          "yref": "y"
         },
         {
          "font": {
           "color": "#FFFFFF"
          },
          "showarrow": false,
          "text": "-0.49",
          "x": "Humidity9am",
          "xref": "x",
          "y": "Temp3pm",
          "yref": "y"
         },
         {
          "font": {
           "color": "#FFFFFF"
          },
          "showarrow": false,
          "text": "-0.5",
          "x": "Humidity3pm",
          "xref": "x",
          "y": "Temp3pm",
          "yref": "y"
         },
         {
          "font": {
           "color": "#FFFFFF"
          },
          "showarrow": false,
          "text": "-0.31",
          "x": "Pressure9am",
          "xref": "x",
          "y": "Temp3pm",
          "yref": "y"
         },
         {
          "font": {
           "color": "#FFFFFF"
          },
          "showarrow": false,
          "text": "-0.42",
          "x": "Pressure3pm",
          "xref": "x",
          "y": "Temp3pm",
          "yref": "y"
         },
         {
          "font": {
           "color": "#FFFFFF"
          },
          "showarrow": false,
          "text": "-0.28",
          "x": "Cloud9am",
          "xref": "x",
          "y": "Temp3pm",
          "yref": "y"
         },
         {
          "font": {
           "color": "#FFFFFF"
          },
          "showarrow": false,
          "text": "-0.3",
          "x": "Cloud3pm",
          "xref": "x",
          "y": "Temp3pm",
          "yref": "y"
         },
         {
          "font": {
           "color": "#000000"
          },
          "showarrow": false,
          "text": "0.87",
          "x": "Temp9am",
          "xref": "x",
          "y": "Temp3pm",
          "yref": "y"
         },
         {
          "font": {
           "color": "#000000"
          },
          "showarrow": false,
          "text": "1.0",
          "x": "Temp3pm",
          "xref": "x",
          "y": "Temp3pm",
          "yref": "y"
         },
         {
          "font": {
           "color": "#FFFFFF"
          },
          "showarrow": false,
          "text": "-0.18",
          "x": "RainTomorrow_int",
          "xref": "x",
          "y": "Temp3pm",
          "yref": "y"
         },
         {
          "font": {
           "color": "#FFFFFF"
          },
          "showarrow": false,
          "text": "0.09",
          "x": "MinTemp",
          "xref": "x",
          "y": "RainTomorrow_int",
          "yref": "y"
         },
         {
          "font": {
           "color": "#FFFFFF"
          },
          "showarrow": false,
          "text": "-0.15",
          "x": "MaxTemp",
          "xref": "x",
          "y": "RainTomorrow_int",
          "yref": "y"
         },
         {
          "font": {
           "color": "#000000"
          },
          "showarrow": false,
          "text": "0.25",
          "x": "Rainfall",
          "xref": "x",
          "y": "RainTomorrow_int",
          "yref": "y"
         },
         {
          "font": {
           "color": "#FFFFFF"
          },
          "showarrow": false,
          "text": "-0.13",
          "x": "Evaporation",
          "xref": "x",
          "y": "RainTomorrow_int",
          "yref": "y"
         },
         {
          "font": {
           "color": "#FFFFFF"
          },
          "showarrow": false,
          "text": "-0.45",
          "x": "Sunshine",
          "xref": "x",
          "y": "RainTomorrow_int",
          "yref": "y"
         },
         {
          "font": {
           "color": "#000000"
          },
          "showarrow": false,
          "text": "0.23",
          "x": "WindGustSpeed",
          "xref": "x",
          "y": "RainTomorrow_int",
          "yref": "y"
         },
         {
          "font": {
           "color": "#FFFFFF"
          },
          "showarrow": false,
          "text": "0.08",
          "x": "WindSpeed9am",
          "xref": "x",
          "y": "RainTomorrow_int",
          "yref": "y"
         },
         {
          "font": {
           "color": "#FFFFFF"
          },
          "showarrow": false,
          "text": "0.09",
          "x": "WindSpeed3pm",
          "xref": "x",
          "y": "RainTomorrow_int",
          "yref": "y"
         },
         {
          "font": {
           "color": "#000000"
          },
          "showarrow": false,
          "text": "0.27",
          "x": "Humidity9am",
          "xref": "x",
          "y": "RainTomorrow_int",
          "yref": "y"
         },
         {
          "font": {
           "color": "#000000"
          },
          "showarrow": false,
          "text": "0.46",
          "x": "Humidity3pm",
          "xref": "x",
          "y": "RainTomorrow_int",
          "yref": "y"
         },
         {
          "font": {
           "color": "#FFFFFF"
          },
          "showarrow": false,
          "text": "-0.25",
          "x": "Pressure9am",
          "xref": "x",
          "y": "RainTomorrow_int",
          "yref": "y"
         },
         {
          "font": {
           "color": "#FFFFFF"
          },
          "showarrow": false,
          "text": "-0.23",
          "x": "Pressure3pm",
          "xref": "x",
          "y": "RainTomorrow_int",
          "yref": "y"
         },
         {
          "font": {
           "color": "#000000"
          },
          "showarrow": false,
          "text": "0.32",
          "x": "Cloud9am",
          "xref": "x",
          "y": "RainTomorrow_int",
          "yref": "y"
         },
         {
          "font": {
           "color": "#000000"
          },
          "showarrow": false,
          "text": "0.39",
          "x": "Cloud3pm",
          "xref": "x",
          "y": "RainTomorrow_int",
          "yref": "y"
         },
         {
          "font": {
           "color": "#FFFFFF"
          },
          "showarrow": false,
          "text": "-0.02",
          "x": "Temp9am",
          "xref": "x",
          "y": "RainTomorrow_int",
          "yref": "y"
         },
         {
          "font": {
           "color": "#FFFFFF"
          },
          "showarrow": false,
          "text": "-0.18",
          "x": "Temp3pm",
          "xref": "x",
          "y": "RainTomorrow_int",
          "yref": "y"
         },
         {
          "font": {
           "color": "#000000"
          },
          "showarrow": false,
          "text": "1.0",
          "x": "RainTomorrow_int",
          "xref": "x",
          "y": "RainTomorrow_int",
          "yref": "y"
         }
        ],
        "template": {
         "data": {
          "bar": [
           {
            "error_x": {
             "color": "#2a3f5f"
            },
            "error_y": {
             "color": "#2a3f5f"
            },
            "marker": {
             "line": {
              "color": "#E5ECF6",
              "width": 0.5
             },
             "pattern": {
              "fillmode": "overlay",
              "size": 10,
              "solidity": 0.2
             }
            },
            "type": "bar"
           }
          ],
          "barpolar": [
           {
            "marker": {
             "line": {
              "color": "#E5ECF6",
              "width": 0.5
             },
             "pattern": {
              "fillmode": "overlay",
              "size": 10,
              "solidity": 0.2
             }
            },
            "type": "barpolar"
           }
          ],
          "carpet": [
           {
            "aaxis": {
             "endlinecolor": "#2a3f5f",
             "gridcolor": "white",
             "linecolor": "white",
             "minorgridcolor": "white",
             "startlinecolor": "#2a3f5f"
            },
            "baxis": {
             "endlinecolor": "#2a3f5f",
             "gridcolor": "white",
             "linecolor": "white",
             "minorgridcolor": "white",
             "startlinecolor": "#2a3f5f"
            },
            "type": "carpet"
           }
          ],
          "choropleth": [
           {
            "colorbar": {
             "outlinewidth": 0,
             "ticks": ""
            },
            "type": "choropleth"
           }
          ],
          "contour": [
           {
            "colorbar": {
             "outlinewidth": 0,
             "ticks": ""
            },
            "colorscale": [
             [
              0,
              "#0d0887"
             ],
             [
              0.1111111111111111,
              "#46039f"
             ],
             [
              0.2222222222222222,
              "#7201a8"
             ],
             [
              0.3333333333333333,
              "#9c179e"
             ],
             [
              0.4444444444444444,
              "#bd3786"
             ],
             [
              0.5555555555555556,
              "#d8576b"
             ],
             [
              0.6666666666666666,
              "#ed7953"
             ],
             [
              0.7777777777777778,
              "#fb9f3a"
             ],
             [
              0.8888888888888888,
              "#fdca26"
             ],
             [
              1,
              "#f0f921"
             ]
            ],
            "type": "contour"
           }
          ],
          "contourcarpet": [
           {
            "colorbar": {
             "outlinewidth": 0,
             "ticks": ""
            },
            "type": "contourcarpet"
           }
          ],
          "heatmap": [
           {
            "colorbar": {
             "outlinewidth": 0,
             "ticks": ""
            },
            "colorscale": [
             [
              0,
              "#0d0887"
             ],
             [
              0.1111111111111111,
              "#46039f"
             ],
             [
              0.2222222222222222,
              "#7201a8"
             ],
             [
              0.3333333333333333,
              "#9c179e"
             ],
             [
              0.4444444444444444,
              "#bd3786"
             ],
             [
              0.5555555555555556,
              "#d8576b"
             ],
             [
              0.6666666666666666,
              "#ed7953"
             ],
             [
              0.7777777777777778,
              "#fb9f3a"
             ],
             [
              0.8888888888888888,
              "#fdca26"
             ],
             [
              1,
              "#f0f921"
             ]
            ],
            "type": "heatmap"
           }
          ],
          "heatmapgl": [
           {
            "colorbar": {
             "outlinewidth": 0,
             "ticks": ""
            },
            "colorscale": [
             [
              0,
              "#0d0887"
             ],
             [
              0.1111111111111111,
              "#46039f"
             ],
             [
              0.2222222222222222,
              "#7201a8"
             ],
             [
              0.3333333333333333,
              "#9c179e"
             ],
             [
              0.4444444444444444,
              "#bd3786"
             ],
             [
              0.5555555555555556,
              "#d8576b"
             ],
             [
              0.6666666666666666,
              "#ed7953"
             ],
             [
              0.7777777777777778,
              "#fb9f3a"
             ],
             [
              0.8888888888888888,
              "#fdca26"
             ],
             [
              1,
              "#f0f921"
             ]
            ],
            "type": "heatmapgl"
           }
          ],
          "histogram": [
           {
            "marker": {
             "pattern": {
              "fillmode": "overlay",
              "size": 10,
              "solidity": 0.2
             }
            },
            "type": "histogram"
           }
          ],
          "histogram2d": [
           {
            "colorbar": {
             "outlinewidth": 0,
             "ticks": ""
            },
            "colorscale": [
             [
              0,
              "#0d0887"
             ],
             [
              0.1111111111111111,
              "#46039f"
             ],
             [
              0.2222222222222222,
              "#7201a8"
             ],
             [
              0.3333333333333333,
              "#9c179e"
             ],
             [
              0.4444444444444444,
              "#bd3786"
             ],
             [
              0.5555555555555556,
              "#d8576b"
             ],
             [
              0.6666666666666666,
              "#ed7953"
             ],
             [
              0.7777777777777778,
              "#fb9f3a"
             ],
             [
              0.8888888888888888,
              "#fdca26"
             ],
             [
              1,
              "#f0f921"
             ]
            ],
            "type": "histogram2d"
           }
          ],
          "histogram2dcontour": [
           {
            "colorbar": {
             "outlinewidth": 0,
             "ticks": ""
            },
            "colorscale": [
             [
              0,
              "#0d0887"
             ],
             [
              0.1111111111111111,
              "#46039f"
             ],
             [
              0.2222222222222222,
              "#7201a8"
             ],
             [
              0.3333333333333333,
              "#9c179e"
             ],
             [
              0.4444444444444444,
              "#bd3786"
             ],
             [
              0.5555555555555556,
              "#d8576b"
             ],
             [
              0.6666666666666666,
              "#ed7953"
             ],
             [
              0.7777777777777778,
              "#fb9f3a"
             ],
             [
              0.8888888888888888,
              "#fdca26"
             ],
             [
              1,
              "#f0f921"
             ]
            ],
            "type": "histogram2dcontour"
           }
          ],
          "mesh3d": [
           {
            "colorbar": {
             "outlinewidth": 0,
             "ticks": ""
            },
            "type": "mesh3d"
           }
          ],
          "parcoords": [
           {
            "line": {
             "colorbar": {
              "outlinewidth": 0,
              "ticks": ""
             }
            },
            "type": "parcoords"
           }
          ],
          "pie": [
           {
            "automargin": true,
            "type": "pie"
           }
          ],
          "scatter": [
           {
            "marker": {
             "colorbar": {
              "outlinewidth": 0,
              "ticks": ""
             }
            },
            "type": "scatter"
           }
          ],
          "scatter3d": [
           {
            "line": {
             "colorbar": {
              "outlinewidth": 0,
              "ticks": ""
             }
            },
            "marker": {
             "colorbar": {
              "outlinewidth": 0,
              "ticks": ""
             }
            },
            "type": "scatter3d"
           }
          ],
          "scattercarpet": [
           {
            "marker": {
             "colorbar": {
              "outlinewidth": 0,
              "ticks": ""
             }
            },
            "type": "scattercarpet"
           }
          ],
          "scattergeo": [
           {
            "marker": {
             "colorbar": {
              "outlinewidth": 0,
              "ticks": ""
             }
            },
            "type": "scattergeo"
           }
          ],
          "scattergl": [
           {
            "marker": {
             "colorbar": {
              "outlinewidth": 0,
              "ticks": ""
             }
            },
            "type": "scattergl"
           }
          ],
          "scattermapbox": [
           {
            "marker": {
             "colorbar": {
              "outlinewidth": 0,
              "ticks": ""
             }
            },
            "type": "scattermapbox"
           }
          ],
          "scatterpolar": [
           {
            "marker": {
             "colorbar": {
              "outlinewidth": 0,
              "ticks": ""
             }
            },
            "type": "scatterpolar"
           }
          ],
          "scatterpolargl": [
           {
            "marker": {
             "colorbar": {
              "outlinewidth": 0,
              "ticks": ""
             }
            },
            "type": "scatterpolargl"
           }
          ],
          "scatterternary": [
           {
            "marker": {
             "colorbar": {
              "outlinewidth": 0,
              "ticks": ""
             }
            },
            "type": "scatterternary"
           }
          ],
          "surface": [
           {
            "colorbar": {
             "outlinewidth": 0,
             "ticks": ""
            },
            "colorscale": [
             [
              0,
              "#0d0887"
             ],
             [
              0.1111111111111111,
              "#46039f"
             ],
             [
              0.2222222222222222,
              "#7201a8"
             ],
             [
              0.3333333333333333,
              "#9c179e"
             ],
             [
              0.4444444444444444,
              "#bd3786"
             ],
             [
              0.5555555555555556,
              "#d8576b"
             ],
             [
              0.6666666666666666,
              "#ed7953"
             ],
             [
              0.7777777777777778,
              "#fb9f3a"
             ],
             [
              0.8888888888888888,
              "#fdca26"
             ],
             [
              1,
              "#f0f921"
             ]
            ],
            "type": "surface"
           }
          ],
          "table": [
           {
            "cells": {
             "fill": {
              "color": "#EBF0F8"
             },
             "line": {
              "color": "white"
             }
            },
            "header": {
             "fill": {
              "color": "#C8D4E3"
             },
             "line": {
              "color": "white"
             }
            },
            "type": "table"
           }
          ]
         },
         "layout": {
          "annotationdefaults": {
           "arrowcolor": "#2a3f5f",
           "arrowhead": 0,
           "arrowwidth": 1
          },
          "autotypenumbers": "strict",
          "coloraxis": {
           "colorbar": {
            "outlinewidth": 0,
            "ticks": ""
           }
          },
          "colorscale": {
           "diverging": [
            [
             0,
             "#8e0152"
            ],
            [
             0.1,
             "#c51b7d"
            ],
            [
             0.2,
             "#de77ae"
            ],
            [
             0.3,
             "#f1b6da"
            ],
            [
             0.4,
             "#fde0ef"
            ],
            [
             0.5,
             "#f7f7f7"
            ],
            [
             0.6,
             "#e6f5d0"
            ],
            [
             0.7,
             "#b8e186"
            ],
            [
             0.8,
             "#7fbc41"
            ],
            [
             0.9,
             "#4d9221"
            ],
            [
             1,
             "#276419"
            ]
           ],
           "sequential": [
            [
             0,
             "#0d0887"
            ],
            [
             0.1111111111111111,
             "#46039f"
            ],
            [
             0.2222222222222222,
             "#7201a8"
            ],
            [
             0.3333333333333333,
             "#9c179e"
            ],
            [
             0.4444444444444444,
             "#bd3786"
            ],
            [
             0.5555555555555556,
             "#d8576b"
            ],
            [
             0.6666666666666666,
             "#ed7953"
            ],
            [
             0.7777777777777778,
             "#fb9f3a"
            ],
            [
             0.8888888888888888,
             "#fdca26"
            ],
            [
             1,
             "#f0f921"
            ]
           ],
           "sequentialminus": [
            [
             0,
             "#0d0887"
            ],
            [
             0.1111111111111111,
             "#46039f"
            ],
            [
             0.2222222222222222,
             "#7201a8"
            ],
            [
             0.3333333333333333,
             "#9c179e"
            ],
            [
             0.4444444444444444,
             "#bd3786"
            ],
            [
             0.5555555555555556,
             "#d8576b"
            ],
            [
             0.6666666666666666,
             "#ed7953"
            ],
            [
             0.7777777777777778,
             "#fb9f3a"
            ],
            [
             0.8888888888888888,
             "#fdca26"
            ],
            [
             1,
             "#f0f921"
            ]
           ]
          },
          "colorway": [
           "#636efa",
           "#EF553B",
           "#00cc96",
           "#ab63fa",
           "#FFA15A",
           "#19d3f3",
           "#FF6692",
           "#B6E880",
           "#FF97FF",
           "#FECB52"
          ],
          "font": {
           "color": "#2a3f5f"
          },
          "geo": {
           "bgcolor": "white",
           "lakecolor": "white",
           "landcolor": "#E5ECF6",
           "showlakes": true,
           "showland": true,
           "subunitcolor": "white"
          },
          "hoverlabel": {
           "align": "left"
          },
          "hovermode": "closest",
          "mapbox": {
           "style": "light"
          },
          "paper_bgcolor": "white",
          "plot_bgcolor": "#E5ECF6",
          "polar": {
           "angularaxis": {
            "gridcolor": "white",
            "linecolor": "white",
            "ticks": ""
           },
           "bgcolor": "#E5ECF6",
           "radialaxis": {
            "gridcolor": "white",
            "linecolor": "white",
            "ticks": ""
           }
          },
          "scene": {
           "xaxis": {
            "backgroundcolor": "#E5ECF6",
            "gridcolor": "white",
            "gridwidth": 2,
            "linecolor": "white",
            "showbackground": true,
            "ticks": "",
            "zerolinecolor": "white"
           },
           "yaxis": {
            "backgroundcolor": "#E5ECF6",
            "gridcolor": "white",
            "gridwidth": 2,
            "linecolor": "white",
            "showbackground": true,
            "ticks": "",
            "zerolinecolor": "white"
           },
           "zaxis": {
            "backgroundcolor": "#E5ECF6",
            "gridcolor": "white",
            "gridwidth": 2,
            "linecolor": "white",
            "showbackground": true,
            "ticks": "",
            "zerolinecolor": "white"
           }
          },
          "shapedefaults": {
           "line": {
            "color": "#2a3f5f"
           }
          },
          "ternary": {
           "aaxis": {
            "gridcolor": "white",
            "linecolor": "white",
            "ticks": ""
           },
           "baxis": {
            "gridcolor": "white",
            "linecolor": "white",
            "ticks": ""
           },
           "bgcolor": "#E5ECF6",
           "caxis": {
            "gridcolor": "white",
            "linecolor": "white",
            "ticks": ""
           }
          },
          "title": {
           "x": 0.05
          },
          "xaxis": {
           "automargin": true,
           "gridcolor": "white",
           "linecolor": "white",
           "ticks": "",
           "title": {
            "standoff": 15
           },
           "zerolinecolor": "white",
           "zerolinewidth": 2
          },
          "yaxis": {
           "automargin": true,
           "gridcolor": "white",
           "linecolor": "white",
           "ticks": "",
           "title": {
            "standoff": 15
           },
           "zerolinecolor": "white",
           "zerolinewidth": 2
          }
         }
        },
        "xaxis": {
         "dtick": 1,
         "gridcolor": "rgb(0, 0, 0)",
         "side": "top",
         "ticks": ""
        },
        "yaxis": {
         "dtick": 1,
         "ticks": "",
         "ticksuffix": "  "
        }
       }
      },
      "text/html": [
       "<div>                            <div id=\"1cacf1a8-d7c4-422e-82c4-93857ecc8ecb\" class=\"plotly-graph-div\" style=\"height:525px; width:100%;\"></div>            <script type=\"text/javascript\">                require([\"plotly\"], function(Plotly) {                    window.PLOTLYENV=window.PLOTLYENV || {};                                    if (document.getElementById(\"1cacf1a8-d7c4-422e-82c4-93857ecc8ecb\")) {                    Plotly.newPlot(                        \"1cacf1a8-d7c4-422e-82c4-93857ecc8ecb\",                        [{\"colorscale\":[[0.0,\"#0d0887\"],[0.1111111111111111,\"#46039f\"],[0.2222222222222222,\"#7201a8\"],[0.3333333333333333,\"#9c179e\"],[0.4444444444444444,\"#bd3786\"],[0.5555555555555556,\"#d8576b\"],[0.6666666666666666,\"#ed7953\"],[0.7777777777777778,\"#fb9f3a\"],[0.8888888888888888,\"#fdca26\"],[1.0,\"#f0f921\"]],\"reversescale\":false,\"showscale\":true,\"type\":\"heatmap\",\"x\":[\"MinTemp\",\"MaxTemp\",\"Rainfall\",\"Evaporation\",\"Sunshine\",\"WindGustSpeed\",\"WindSpeed9am\",\"WindSpeed3pm\",\"Humidity9am\",\"Humidity3pm\",\"Pressure9am\",\"Pressure3pm\",\"Cloud9am\",\"Cloud3pm\",\"Temp9am\",\"Temp3pm\",\"RainTomorrow_int\"],\"y\":[\"MinTemp\",\"MaxTemp\",\"Rainfall\",\"Evaporation\",\"Sunshine\",\"WindGustSpeed\",\"WindSpeed9am\",\"WindSpeed3pm\",\"Humidity9am\",\"Humidity3pm\",\"Pressure9am\",\"Pressure3pm\",\"Cloud9am\",\"Cloud3pm\",\"Temp9am\",\"Temp3pm\",\"RainTomorrow_int\"],\"z\":[[1.0,0.74968725006187,0.11079983536062248,0.5067643004002697,0.07608698967168084,0.11805376093581034,0.10852150348181126,0.13727348637824113,-0.17499134378437972,0.07082706420666895,-0.47566107183127704,-0.4955770150750671,0.10617711693657131,0.04217282588875977,0.9062947809969243,0.7272220532100605,0.08742777349456149],[0.74968725006187,1.0,-0.06998069074898317,0.6509644138597251,0.46391279450932077,0.03553098852264497,-0.008171392771255304,0.012265736544026552,-0.49578136824708025,-0.44811551118983883,-0.3509795644242887,-0.4516908712770106,-0.26363392858210893,-0.2577517446323383,0.8933869518819971,0.9848414081018141,-0.14746671406446152],[0.11079983536062248,-0.06998069074898317,1.0,-0.07723881151626667,-0.24637932231846418,0.10630831835042477,0.05058410947371728,0.04411181285206474,0.2636252673337517,0.27762523292502245,-0.18060598542640616,-0.1373019599956863,0.21716854040629338,0.19143323222444925,0.0137131678588351,-0.07462669577576876,0.2543416983102593],[0.5067643004002697,0.6509644138597251,-0.07723881151626667,1.0,0.36924973356036134,0.20956619898537918,0.19315402426057698,0.12434479988518055,-0.5542319011705917,-0.4224357733021531,-0.2973187589137575,-0.32595442140487463,-0.19980920156228646,-0.20236643598138268,0.593121539131916,0.6307274157062941,-0.13000226520358316],[0.07608698967168084,0.46391279450932077,-0.24637932231846418,0.36924973356036134,1.0,-0.05242215686779018,-0.013841629316877059,0.029200104989720515,-0.5003426508855054,-0.629298732550077,0.04332978336011984,-0.020631851998052005,-0.6779385107635449,-0.7020222558338544,0.2890376351352365,0.4861289657005702,-0.4534069127165123],[0.11805376093581034,0.03553098852264497,0.10630831835042477,0.20956619898537918,-0.05242215686779018,1.0,0.6088518372528908,0.6852363743295763,-0.1934104031458954,-0.0426528146914665,-0.4303628691260885,-0.38368252993078056,0.08812859389474738,0.1315895244819006,0.08552002605963162,-0.0003821692382510493,0.2331581691859726],[0.10852150348181126,-0.008171392771255304,0.05058410947371728,0.19315402426057698,-0.013841629316877059,0.6088518372528908,1.0,0.5022263737692769,-0.23679457105648194,-0.05844919481009932,-0.20151791767339372,-0.15548392681852968,0.03490810196149203,0.06250687913418103,0.05374853734394071,-0.018357398621067285,0.08390448846790978],[0.13727348637824113,0.012265736544026552,0.04411181285206474,0.12434479988518055,0.029200104989720515,0.6852363743295763,0.5022263737692769,1.0,-0.10062638568537392,0.03184310443182262,-0.29315549502997723,-0.25209516944283644,0.06822374161075984,0.04147545920743049,0.11404267167558209,-0.00943578927853742,0.0888616713970024],[-0.17499134378437972,-0.49578136824708025,0.2636252673337517,-0.5542319011705917,-0.5003426508855054,-0.1934104031458954,-0.23679457105648194,-0.10062638568537392,1.0,0.6856969247641806,0.11457464703860352,0.17297235221429605,0.43896228172093,0.34870702487545746,-0.4235980056118628,-0.4877579791178821,0.2710329603474702],[0.07082706420666895,-0.44811551118983883,0.27762523292502245,-0.4224357733021531,-0.629298732550077,-0.0426528146914665,-0.05844919481009932,0.03184310443182262,0.6856969247641806,1.0,-0.0634543267674232,0.024109359922735055,0.5092229901379068,0.5109960795626295,-0.15161404659760935,-0.49724528658038253,0.45535763701195064],[-0.47566107183127704,-0.3509795644242887,-0.18060598542640616,-0.2973187589137575,0.04332978336011984,-0.4303628691260885,-0.20151791767339372,-0.29315549502997723,0.11457464703860352,-0.0634543267674232,1.0,0.961538322269745,-0.15042680432107913,-0.16633408702910807,-0.4434102107964896,-0.3107736567828055,-0.25481565590711786],[-0.4955770150750671,-0.4516908712770106,-0.1373019599956863,-0.32595442140487463,-0.020631851998052005,-0.38368252993078056,-0.15548392681852968,-0.25209516944283644,0.17297235221429605,0.024109359922735055,0.961538322269745,1.0,-0.08179124791512812,-0.10317283768892051,-0.5005092665210911,-0.42131786440762253,-0.23041750623236035],[0.10617711693657131,-0.26363392858210893,0.21716854040629338,-0.19980920156228646,-0.6779385107635449,0.08812859389474738,0.03490810196149203,0.06822374161075984,0.43896228172093,0.5092229901379068,-0.15042680432107913,-0.08179124791512812,1.0,0.6143804777488254,-0.10959102899531596,-0.2812133809403684,0.32397238104945836],[0.04217282588875977,-0.2577517446323383,0.19143323222444925,-0.20236643598138268,-0.7020222558338544,0.1315895244819006,0.06250687913418103,0.04147545920743049,0.34870702487545746,0.5109960795626295,-0.16633408702910807,-0.10317283768892051,0.6143804777488254,1.0,-0.10788487672858303,-0.297230008512919,0.38857421111885565],[0.9062947809969243,0.8933869518819971,0.0137131678588351,0.593121539131916,0.2890376351352365,0.08552002605963162,0.05374853734394071,0.11404267167558209,-0.4235980056118628,-0.15161404659760935,-0.4434102107964896,-0.5005092665210911,-0.10959102899531596,-0.10788487672858303,1.0,0.8706196502876495,-0.01817912343389307],[0.7272220532100605,0.9848414081018141,-0.07462669577576876,0.6307274157062941,0.4861289657005702,-0.0003821692382510493,-0.018357398621067285,-0.00943578927853742,-0.4877579791178821,-0.49724528658038253,-0.3107736567828055,-0.42131786440762253,-0.2812133809403684,-0.297230008512919,0.8706196502876495,1.0,-0.18358616395145888],[0.08742777349456149,-0.14746671406446152,0.2543416983102593,-0.13000226520358316,-0.4534069127165123,0.2331581691859726,0.08390448846790978,0.0888616713970024,0.2710329603474702,0.45535763701195064,-0.25481565590711786,-0.23041750623236035,0.32397238104945836,0.38857421111885565,-0.01817912343389307,-0.18358616395145888,1.0]]}],                        {\"annotations\":[{\"font\":{\"color\":\"#000000\"},\"showarrow\":false,\"text\":\"1.0\",\"x\":\"MinTemp\",\"xref\":\"x\",\"y\":\"MinTemp\",\"yref\":\"y\"},{\"font\":{\"color\":\"#000000\"},\"showarrow\":false,\"text\":\"0.75\",\"x\":\"MaxTemp\",\"xref\":\"x\",\"y\":\"MinTemp\",\"yref\":\"y\"},{\"font\":{\"color\":\"#FFFFFF\"},\"showarrow\":false,\"text\":\"0.11\",\"x\":\"Rainfall\",\"xref\":\"x\",\"y\":\"MinTemp\",\"yref\":\"y\"},{\"font\":{\"color\":\"#000000\"},\"showarrow\":false,\"text\":\"0.51\",\"x\":\"Evaporation\",\"xref\":\"x\",\"y\":\"MinTemp\",\"yref\":\"y\"},{\"font\":{\"color\":\"#FFFFFF\"},\"showarrow\":false,\"text\":\"0.08\",\"x\":\"Sunshine\",\"xref\":\"x\",\"y\":\"MinTemp\",\"yref\":\"y\"},{\"font\":{\"color\":\"#FFFFFF\"},\"showarrow\":false,\"text\":\"0.12\",\"x\":\"WindGustSpeed\",\"xref\":\"x\",\"y\":\"MinTemp\",\"yref\":\"y\"},{\"font\":{\"color\":\"#FFFFFF\"},\"showarrow\":false,\"text\":\"0.11\",\"x\":\"WindSpeed9am\",\"xref\":\"x\",\"y\":\"MinTemp\",\"yref\":\"y\"},{\"font\":{\"color\":\"#FFFFFF\"},\"showarrow\":false,\"text\":\"0.14\",\"x\":\"WindSpeed3pm\",\"xref\":\"x\",\"y\":\"MinTemp\",\"yref\":\"y\"},{\"font\":{\"color\":\"#FFFFFF\"},\"showarrow\":false,\"text\":\"-0.17\",\"x\":\"Humidity9am\",\"xref\":\"x\",\"y\":\"MinTemp\",\"yref\":\"y\"},{\"font\":{\"color\":\"#FFFFFF\"},\"showarrow\":false,\"text\":\"0.07\",\"x\":\"Humidity3pm\",\"xref\":\"x\",\"y\":\"MinTemp\",\"yref\":\"y\"},{\"font\":{\"color\":\"#FFFFFF\"},\"showarrow\":false,\"text\":\"-0.48\",\"x\":\"Pressure9am\",\"xref\":\"x\",\"y\":\"MinTemp\",\"yref\":\"y\"},{\"font\":{\"color\":\"#FFFFFF\"},\"showarrow\":false,\"text\":\"-0.5\",\"x\":\"Pressure3pm\",\"xref\":\"x\",\"y\":\"MinTemp\",\"yref\":\"y\"},{\"font\":{\"color\":\"#FFFFFF\"},\"showarrow\":false,\"text\":\"0.11\",\"x\":\"Cloud9am\",\"xref\":\"x\",\"y\":\"MinTemp\",\"yref\":\"y\"},{\"font\":{\"color\":\"#FFFFFF\"},\"showarrow\":false,\"text\":\"0.04\",\"x\":\"Cloud3pm\",\"xref\":\"x\",\"y\":\"MinTemp\",\"yref\":\"y\"},{\"font\":{\"color\":\"#000000\"},\"showarrow\":false,\"text\":\"0.91\",\"x\":\"Temp9am\",\"xref\":\"x\",\"y\":\"MinTemp\",\"yref\":\"y\"},{\"font\":{\"color\":\"#000000\"},\"showarrow\":false,\"text\":\"0.73\",\"x\":\"Temp3pm\",\"xref\":\"x\",\"y\":\"MinTemp\",\"yref\":\"y\"},{\"font\":{\"color\":\"#FFFFFF\"},\"showarrow\":false,\"text\":\"0.09\",\"x\":\"RainTomorrow_int\",\"xref\":\"x\",\"y\":\"MinTemp\",\"yref\":\"y\"},{\"font\":{\"color\":\"#000000\"},\"showarrow\":false,\"text\":\"0.75\",\"x\":\"MinTemp\",\"xref\":\"x\",\"y\":\"MaxTemp\",\"yref\":\"y\"},{\"font\":{\"color\":\"#000000\"},\"showarrow\":false,\"text\":\"1.0\",\"x\":\"MaxTemp\",\"xref\":\"x\",\"y\":\"MaxTemp\",\"yref\":\"y\"},{\"font\":{\"color\":\"#FFFFFF\"},\"showarrow\":false,\"text\":\"-0.07\",\"x\":\"Rainfall\",\"xref\":\"x\",\"y\":\"MaxTemp\",\"yref\":\"y\"},{\"font\":{\"color\":\"#000000\"},\"showarrow\":false,\"text\":\"0.65\",\"x\":\"Evaporation\",\"xref\":\"x\",\"y\":\"MaxTemp\",\"yref\":\"y\"},{\"font\":{\"color\":\"#000000\"},\"showarrow\":false,\"text\":\"0.46\",\"x\":\"Sunshine\",\"xref\":\"x\",\"y\":\"MaxTemp\",\"yref\":\"y\"},{\"font\":{\"color\":\"#FFFFFF\"},\"showarrow\":false,\"text\":\"0.04\",\"x\":\"WindGustSpeed\",\"xref\":\"x\",\"y\":\"MaxTemp\",\"yref\":\"y\"},{\"font\":{\"color\":\"#FFFFFF\"},\"showarrow\":false,\"text\":\"-0.01\",\"x\":\"WindSpeed9am\",\"xref\":\"x\",\"y\":\"MaxTemp\",\"yref\":\"y\"},{\"font\":{\"color\":\"#FFFFFF\"},\"showarrow\":false,\"text\":\"0.01\",\"x\":\"WindSpeed3pm\",\"xref\":\"x\",\"y\":\"MaxTemp\",\"yref\":\"y\"},{\"font\":{\"color\":\"#FFFFFF\"},\"showarrow\":false,\"text\":\"-0.5\",\"x\":\"Humidity9am\",\"xref\":\"x\",\"y\":\"MaxTemp\",\"yref\":\"y\"},{\"font\":{\"color\":\"#FFFFFF\"},\"showarrow\":false,\"text\":\"-0.45\",\"x\":\"Humidity3pm\",\"xref\":\"x\",\"y\":\"MaxTemp\",\"yref\":\"y\"},{\"font\":{\"color\":\"#FFFFFF\"},\"showarrow\":false,\"text\":\"-0.35\",\"x\":\"Pressure9am\",\"xref\":\"x\",\"y\":\"MaxTemp\",\"yref\":\"y\"},{\"font\":{\"color\":\"#FFFFFF\"},\"showarrow\":false,\"text\":\"-0.45\",\"x\":\"Pressure3pm\",\"xref\":\"x\",\"y\":\"MaxTemp\",\"yref\":\"y\"},{\"font\":{\"color\":\"#FFFFFF\"},\"showarrow\":false,\"text\":\"-0.26\",\"x\":\"Cloud9am\",\"xref\":\"x\",\"y\":\"MaxTemp\",\"yref\":\"y\"},{\"font\":{\"color\":\"#FFFFFF\"},\"showarrow\":false,\"text\":\"-0.26\",\"x\":\"Cloud3pm\",\"xref\":\"x\",\"y\":\"MaxTemp\",\"yref\":\"y\"},{\"font\":{\"color\":\"#000000\"},\"showarrow\":false,\"text\":\"0.89\",\"x\":\"Temp9am\",\"xref\":\"x\",\"y\":\"MaxTemp\",\"yref\":\"y\"},{\"font\":{\"color\":\"#000000\"},\"showarrow\":false,\"text\":\"0.98\",\"x\":\"Temp3pm\",\"xref\":\"x\",\"y\":\"MaxTemp\",\"yref\":\"y\"},{\"font\":{\"color\":\"#FFFFFF\"},\"showarrow\":false,\"text\":\"-0.15\",\"x\":\"RainTomorrow_int\",\"xref\":\"x\",\"y\":\"MaxTemp\",\"yref\":\"y\"},{\"font\":{\"color\":\"#FFFFFF\"},\"showarrow\":false,\"text\":\"0.11\",\"x\":\"MinTemp\",\"xref\":\"x\",\"y\":\"Rainfall\",\"yref\":\"y\"},{\"font\":{\"color\":\"#FFFFFF\"},\"showarrow\":false,\"text\":\"-0.07\",\"x\":\"MaxTemp\",\"xref\":\"x\",\"y\":\"Rainfall\",\"yref\":\"y\"},{\"font\":{\"color\":\"#000000\"},\"showarrow\":false,\"text\":\"1.0\",\"x\":\"Rainfall\",\"xref\":\"x\",\"y\":\"Rainfall\",\"yref\":\"y\"},{\"font\":{\"color\":\"#FFFFFF\"},\"showarrow\":false,\"text\":\"-0.08\",\"x\":\"Evaporation\",\"xref\":\"x\",\"y\":\"Rainfall\",\"yref\":\"y\"},{\"font\":{\"color\":\"#FFFFFF\"},\"showarrow\":false,\"text\":\"-0.25\",\"x\":\"Sunshine\",\"xref\":\"x\",\"y\":\"Rainfall\",\"yref\":\"y\"},{\"font\":{\"color\":\"#FFFFFF\"},\"showarrow\":false,\"text\":\"0.11\",\"x\":\"WindGustSpeed\",\"xref\":\"x\",\"y\":\"Rainfall\",\"yref\":\"y\"},{\"font\":{\"color\":\"#FFFFFF\"},\"showarrow\":false,\"text\":\"0.05\",\"x\":\"WindSpeed9am\",\"xref\":\"x\",\"y\":\"Rainfall\",\"yref\":\"y\"},{\"font\":{\"color\":\"#FFFFFF\"},\"showarrow\":false,\"text\":\"0.04\",\"x\":\"WindSpeed3pm\",\"xref\":\"x\",\"y\":\"Rainfall\",\"yref\":\"y\"},{\"font\":{\"color\":\"#000000\"},\"showarrow\":false,\"text\":\"0.26\",\"x\":\"Humidity9am\",\"xref\":\"x\",\"y\":\"Rainfall\",\"yref\":\"y\"},{\"font\":{\"color\":\"#000000\"},\"showarrow\":false,\"text\":\"0.28\",\"x\":\"Humidity3pm\",\"xref\":\"x\",\"y\":\"Rainfall\",\"yref\":\"y\"},{\"font\":{\"color\":\"#FFFFFF\"},\"showarrow\":false,\"text\":\"-0.18\",\"x\":\"Pressure9am\",\"xref\":\"x\",\"y\":\"Rainfall\",\"yref\":\"y\"},{\"font\":{\"color\":\"#FFFFFF\"},\"showarrow\":false,\"text\":\"-0.14\",\"x\":\"Pressure3pm\",\"xref\":\"x\",\"y\":\"Rainfall\",\"yref\":\"y\"},{\"font\":{\"color\":\"#000000\"},\"showarrow\":false,\"text\":\"0.22\",\"x\":\"Cloud9am\",\"xref\":\"x\",\"y\":\"Rainfall\",\"yref\":\"y\"},{\"font\":{\"color\":\"#000000\"},\"showarrow\":false,\"text\":\"0.19\",\"x\":\"Cloud3pm\",\"xref\":\"x\",\"y\":\"Rainfall\",\"yref\":\"y\"},{\"font\":{\"color\":\"#FFFFFF\"},\"showarrow\":false,\"text\":\"0.01\",\"x\":\"Temp9am\",\"xref\":\"x\",\"y\":\"Rainfall\",\"yref\":\"y\"},{\"font\":{\"color\":\"#FFFFFF\"},\"showarrow\":false,\"text\":\"-0.07\",\"x\":\"Temp3pm\",\"xref\":\"x\",\"y\":\"Rainfall\",\"yref\":\"y\"},{\"font\":{\"color\":\"#000000\"},\"showarrow\":false,\"text\":\"0.25\",\"x\":\"RainTomorrow_int\",\"xref\":\"x\",\"y\":\"Rainfall\",\"yref\":\"y\"},{\"font\":{\"color\":\"#000000\"},\"showarrow\":false,\"text\":\"0.51\",\"x\":\"MinTemp\",\"xref\":\"x\",\"y\":\"Evaporation\",\"yref\":\"y\"},{\"font\":{\"color\":\"#000000\"},\"showarrow\":false,\"text\":\"0.65\",\"x\":\"MaxTemp\",\"xref\":\"x\",\"y\":\"Evaporation\",\"yref\":\"y\"},{\"font\":{\"color\":\"#FFFFFF\"},\"showarrow\":false,\"text\":\"-0.08\",\"x\":\"Rainfall\",\"xref\":\"x\",\"y\":\"Evaporation\",\"yref\":\"y\"},{\"font\":{\"color\":\"#000000\"},\"showarrow\":false,\"text\":\"1.0\",\"x\":\"Evaporation\",\"xref\":\"x\",\"y\":\"Evaporation\",\"yref\":\"y\"},{\"font\":{\"color\":\"#000000\"},\"showarrow\":false,\"text\":\"0.37\",\"x\":\"Sunshine\",\"xref\":\"x\",\"y\":\"Evaporation\",\"yref\":\"y\"},{\"font\":{\"color\":\"#000000\"},\"showarrow\":false,\"text\":\"0.21\",\"x\":\"WindGustSpeed\",\"xref\":\"x\",\"y\":\"Evaporation\",\"yref\":\"y\"},{\"font\":{\"color\":\"#000000\"},\"showarrow\":false,\"text\":\"0.19\",\"x\":\"WindSpeed9am\",\"xref\":\"x\",\"y\":\"Evaporation\",\"yref\":\"y\"},{\"font\":{\"color\":\"#FFFFFF\"},\"showarrow\":false,\"text\":\"0.12\",\"x\":\"WindSpeed3pm\",\"xref\":\"x\",\"y\":\"Evaporation\",\"yref\":\"y\"},{\"font\":{\"color\":\"#FFFFFF\"},\"showarrow\":false,\"text\":\"-0.55\",\"x\":\"Humidity9am\",\"xref\":\"x\",\"y\":\"Evaporation\",\"yref\":\"y\"},{\"font\":{\"color\":\"#FFFFFF\"},\"showarrow\":false,\"text\":\"-0.42\",\"x\":\"Humidity3pm\",\"xref\":\"x\",\"y\":\"Evaporation\",\"yref\":\"y\"},{\"font\":{\"color\":\"#FFFFFF\"},\"showarrow\":false,\"text\":\"-0.3\",\"x\":\"Pressure9am\",\"xref\":\"x\",\"y\":\"Evaporation\",\"yref\":\"y\"},{\"font\":{\"color\":\"#FFFFFF\"},\"showarrow\":false,\"text\":\"-0.33\",\"x\":\"Pressure3pm\",\"xref\":\"x\",\"y\":\"Evaporation\",\"yref\":\"y\"},{\"font\":{\"color\":\"#FFFFFF\"},\"showarrow\":false,\"text\":\"-0.2\",\"x\":\"Cloud9am\",\"xref\":\"x\",\"y\":\"Evaporation\",\"yref\":\"y\"},{\"font\":{\"color\":\"#FFFFFF\"},\"showarrow\":false,\"text\":\"-0.2\",\"x\":\"Cloud3pm\",\"xref\":\"x\",\"y\":\"Evaporation\",\"yref\":\"y\"},{\"font\":{\"color\":\"#000000\"},\"showarrow\":false,\"text\":\"0.59\",\"x\":\"Temp9am\",\"xref\":\"x\",\"y\":\"Evaporation\",\"yref\":\"y\"},{\"font\":{\"color\":\"#000000\"},\"showarrow\":false,\"text\":\"0.63\",\"x\":\"Temp3pm\",\"xref\":\"x\",\"y\":\"Evaporation\",\"yref\":\"y\"},{\"font\":{\"color\":\"#FFFFFF\"},\"showarrow\":false,\"text\":\"-0.13\",\"x\":\"RainTomorrow_int\",\"xref\":\"x\",\"y\":\"Evaporation\",\"yref\":\"y\"},{\"font\":{\"color\":\"#FFFFFF\"},\"showarrow\":false,\"text\":\"0.08\",\"x\":\"MinTemp\",\"xref\":\"x\",\"y\":\"Sunshine\",\"yref\":\"y\"},{\"font\":{\"color\":\"#000000\"},\"showarrow\":false,\"text\":\"0.46\",\"x\":\"MaxTemp\",\"xref\":\"x\",\"y\":\"Sunshine\",\"yref\":\"y\"},{\"font\":{\"color\":\"#FFFFFF\"},\"showarrow\":false,\"text\":\"-0.25\",\"x\":\"Rainfall\",\"xref\":\"x\",\"y\":\"Sunshine\",\"yref\":\"y\"},{\"font\":{\"color\":\"#000000\"},\"showarrow\":false,\"text\":\"0.37\",\"x\":\"Evaporation\",\"xref\":\"x\",\"y\":\"Sunshine\",\"yref\":\"y\"},{\"font\":{\"color\":\"#000000\"},\"showarrow\":false,\"text\":\"1.0\",\"x\":\"Sunshine\",\"xref\":\"x\",\"y\":\"Sunshine\",\"yref\":\"y\"},{\"font\":{\"color\":\"#FFFFFF\"},\"showarrow\":false,\"text\":\"-0.05\",\"x\":\"WindGustSpeed\",\"xref\":\"x\",\"y\":\"Sunshine\",\"yref\":\"y\"},{\"font\":{\"color\":\"#FFFFFF\"},\"showarrow\":false,\"text\":\"-0.01\",\"x\":\"WindSpeed9am\",\"xref\":\"x\",\"y\":\"Sunshine\",\"yref\":\"y\"},{\"font\":{\"color\":\"#FFFFFF\"},\"showarrow\":false,\"text\":\"0.03\",\"x\":\"WindSpeed3pm\",\"xref\":\"x\",\"y\":\"Sunshine\",\"yref\":\"y\"},{\"font\":{\"color\":\"#FFFFFF\"},\"showarrow\":false,\"text\":\"-0.5\",\"x\":\"Humidity9am\",\"xref\":\"x\",\"y\":\"Sunshine\",\"yref\":\"y\"},{\"font\":{\"color\":\"#FFFFFF\"},\"showarrow\":false,\"text\":\"-0.63\",\"x\":\"Humidity3pm\",\"xref\":\"x\",\"y\":\"Sunshine\",\"yref\":\"y\"},{\"font\":{\"color\":\"#FFFFFF\"},\"showarrow\":false,\"text\":\"0.04\",\"x\":\"Pressure9am\",\"xref\":\"x\",\"y\":\"Sunshine\",\"yref\":\"y\"},{\"font\":{\"color\":\"#FFFFFF\"},\"showarrow\":false,\"text\":\"-0.02\",\"x\":\"Pressure3pm\",\"xref\":\"x\",\"y\":\"Sunshine\",\"yref\":\"y\"},{\"font\":{\"color\":\"#FFFFFF\"},\"showarrow\":false,\"text\":\"-0.68\",\"x\":\"Cloud9am\",\"xref\":\"x\",\"y\":\"Sunshine\",\"yref\":\"y\"},{\"font\":{\"color\":\"#FFFFFF\"},\"showarrow\":false,\"text\":\"-0.7\",\"x\":\"Cloud3pm\",\"xref\":\"x\",\"y\":\"Sunshine\",\"yref\":\"y\"},{\"font\":{\"color\":\"#000000\"},\"showarrow\":false,\"text\":\"0.29\",\"x\":\"Temp9am\",\"xref\":\"x\",\"y\":\"Sunshine\",\"yref\":\"y\"},{\"font\":{\"color\":\"#000000\"},\"showarrow\":false,\"text\":\"0.49\",\"x\":\"Temp3pm\",\"xref\":\"x\",\"y\":\"Sunshine\",\"yref\":\"y\"},{\"font\":{\"color\":\"#FFFFFF\"},\"showarrow\":false,\"text\":\"-0.45\",\"x\":\"RainTomorrow_int\",\"xref\":\"x\",\"y\":\"Sunshine\",\"yref\":\"y\"},{\"font\":{\"color\":\"#FFFFFF\"},\"showarrow\":false,\"text\":\"0.12\",\"x\":\"MinTemp\",\"xref\":\"x\",\"y\":\"WindGustSpeed\",\"yref\":\"y\"},{\"font\":{\"color\":\"#FFFFFF\"},\"showarrow\":false,\"text\":\"0.04\",\"x\":\"MaxTemp\",\"xref\":\"x\",\"y\":\"WindGustSpeed\",\"yref\":\"y\"},{\"font\":{\"color\":\"#FFFFFF\"},\"showarrow\":false,\"text\":\"0.11\",\"x\":\"Rainfall\",\"xref\":\"x\",\"y\":\"WindGustSpeed\",\"yref\":\"y\"},{\"font\":{\"color\":\"#000000\"},\"showarrow\":false,\"text\":\"0.21\",\"x\":\"Evaporation\",\"xref\":\"x\",\"y\":\"WindGustSpeed\",\"yref\":\"y\"},{\"font\":{\"color\":\"#FFFFFF\"},\"showarrow\":false,\"text\":\"-0.05\",\"x\":\"Sunshine\",\"xref\":\"x\",\"y\":\"WindGustSpeed\",\"yref\":\"y\"},{\"font\":{\"color\":\"#000000\"},\"showarrow\":false,\"text\":\"1.0\",\"x\":\"WindGustSpeed\",\"xref\":\"x\",\"y\":\"WindGustSpeed\",\"yref\":\"y\"},{\"font\":{\"color\":\"#000000\"},\"showarrow\":false,\"text\":\"0.61\",\"x\":\"WindSpeed9am\",\"xref\":\"x\",\"y\":\"WindGustSpeed\",\"yref\":\"y\"},{\"font\":{\"color\":\"#000000\"},\"showarrow\":false,\"text\":\"0.69\",\"x\":\"WindSpeed3pm\",\"xref\":\"x\",\"y\":\"WindGustSpeed\",\"yref\":\"y\"},{\"font\":{\"color\":\"#FFFFFF\"},\"showarrow\":false,\"text\":\"-0.19\",\"x\":\"Humidity9am\",\"xref\":\"x\",\"y\":\"WindGustSpeed\",\"yref\":\"y\"},{\"font\":{\"color\":\"#FFFFFF\"},\"showarrow\":false,\"text\":\"-0.04\",\"x\":\"Humidity3pm\",\"xref\":\"x\",\"y\":\"WindGustSpeed\",\"yref\":\"y\"},{\"font\":{\"color\":\"#FFFFFF\"},\"showarrow\":false,\"text\":\"-0.43\",\"x\":\"Pressure9am\",\"xref\":\"x\",\"y\":\"WindGustSpeed\",\"yref\":\"y\"},{\"font\":{\"color\":\"#FFFFFF\"},\"showarrow\":false,\"text\":\"-0.38\",\"x\":\"Pressure3pm\",\"xref\":\"x\",\"y\":\"WindGustSpeed\",\"yref\":\"y\"},{\"font\":{\"color\":\"#FFFFFF\"},\"showarrow\":false,\"text\":\"0.09\",\"x\":\"Cloud9am\",\"xref\":\"x\",\"y\":\"WindGustSpeed\",\"yref\":\"y\"},{\"font\":{\"color\":\"#FFFFFF\"},\"showarrow\":false,\"text\":\"0.13\",\"x\":\"Cloud3pm\",\"xref\":\"x\",\"y\":\"WindGustSpeed\",\"yref\":\"y\"},{\"font\":{\"color\":\"#FFFFFF\"},\"showarrow\":false,\"text\":\"0.09\",\"x\":\"Temp9am\",\"xref\":\"x\",\"y\":\"WindGustSpeed\",\"yref\":\"y\"},{\"font\":{\"color\":\"#FFFFFF\"},\"showarrow\":false,\"text\":\"-0.0\",\"x\":\"Temp3pm\",\"xref\":\"x\",\"y\":\"WindGustSpeed\",\"yref\":\"y\"},{\"font\":{\"color\":\"#000000\"},\"showarrow\":false,\"text\":\"0.23\",\"x\":\"RainTomorrow_int\",\"xref\":\"x\",\"y\":\"WindGustSpeed\",\"yref\":\"y\"},{\"font\":{\"color\":\"#FFFFFF\"},\"showarrow\":false,\"text\":\"0.11\",\"x\":\"MinTemp\",\"xref\":\"x\",\"y\":\"WindSpeed9am\",\"yref\":\"y\"},{\"font\":{\"color\":\"#FFFFFF\"},\"showarrow\":false,\"text\":\"-0.01\",\"x\":\"MaxTemp\",\"xref\":\"x\",\"y\":\"WindSpeed9am\",\"yref\":\"y\"},{\"font\":{\"color\":\"#FFFFFF\"},\"showarrow\":false,\"text\":\"0.05\",\"x\":\"Rainfall\",\"xref\":\"x\",\"y\":\"WindSpeed9am\",\"yref\":\"y\"},{\"font\":{\"color\":\"#000000\"},\"showarrow\":false,\"text\":\"0.19\",\"x\":\"Evaporation\",\"xref\":\"x\",\"y\":\"WindSpeed9am\",\"yref\":\"y\"},{\"font\":{\"color\":\"#FFFFFF\"},\"showarrow\":false,\"text\":\"-0.01\",\"x\":\"Sunshine\",\"xref\":\"x\",\"y\":\"WindSpeed9am\",\"yref\":\"y\"},{\"font\":{\"color\":\"#000000\"},\"showarrow\":false,\"text\":\"0.61\",\"x\":\"WindGustSpeed\",\"xref\":\"x\",\"y\":\"WindSpeed9am\",\"yref\":\"y\"},{\"font\":{\"color\":\"#000000\"},\"showarrow\":false,\"text\":\"1.0\",\"x\":\"WindSpeed9am\",\"xref\":\"x\",\"y\":\"WindSpeed9am\",\"yref\":\"y\"},{\"font\":{\"color\":\"#000000\"},\"showarrow\":false,\"text\":\"0.5\",\"x\":\"WindSpeed3pm\",\"xref\":\"x\",\"y\":\"WindSpeed9am\",\"yref\":\"y\"},{\"font\":{\"color\":\"#FFFFFF\"},\"showarrow\":false,\"text\":\"-0.24\",\"x\":\"Humidity9am\",\"xref\":\"x\",\"y\":\"WindSpeed9am\",\"yref\":\"y\"},{\"font\":{\"color\":\"#FFFFFF\"},\"showarrow\":false,\"text\":\"-0.06\",\"x\":\"Humidity3pm\",\"xref\":\"x\",\"y\":\"WindSpeed9am\",\"yref\":\"y\"},{\"font\":{\"color\":\"#FFFFFF\"},\"showarrow\":false,\"text\":\"-0.2\",\"x\":\"Pressure9am\",\"xref\":\"x\",\"y\":\"WindSpeed9am\",\"yref\":\"y\"},{\"font\":{\"color\":\"#FFFFFF\"},\"showarrow\":false,\"text\":\"-0.16\",\"x\":\"Pressure3pm\",\"xref\":\"x\",\"y\":\"WindSpeed9am\",\"yref\":\"y\"},{\"font\":{\"color\":\"#FFFFFF\"},\"showarrow\":false,\"text\":\"0.03\",\"x\":\"Cloud9am\",\"xref\":\"x\",\"y\":\"WindSpeed9am\",\"yref\":\"y\"},{\"font\":{\"color\":\"#FFFFFF\"},\"showarrow\":false,\"text\":\"0.06\",\"x\":\"Cloud3pm\",\"xref\":\"x\",\"y\":\"WindSpeed9am\",\"yref\":\"y\"},{\"font\":{\"color\":\"#FFFFFF\"},\"showarrow\":false,\"text\":\"0.05\",\"x\":\"Temp9am\",\"xref\":\"x\",\"y\":\"WindSpeed9am\",\"yref\":\"y\"},{\"font\":{\"color\":\"#FFFFFF\"},\"showarrow\":false,\"text\":\"-0.02\",\"x\":\"Temp3pm\",\"xref\":\"x\",\"y\":\"WindSpeed9am\",\"yref\":\"y\"},{\"font\":{\"color\":\"#FFFFFF\"},\"showarrow\":false,\"text\":\"0.08\",\"x\":\"RainTomorrow_int\",\"xref\":\"x\",\"y\":\"WindSpeed9am\",\"yref\":\"y\"},{\"font\":{\"color\":\"#FFFFFF\"},\"showarrow\":false,\"text\":\"0.14\",\"x\":\"MinTemp\",\"xref\":\"x\",\"y\":\"WindSpeed3pm\",\"yref\":\"y\"},{\"font\":{\"color\":\"#FFFFFF\"},\"showarrow\":false,\"text\":\"0.01\",\"x\":\"MaxTemp\",\"xref\":\"x\",\"y\":\"WindSpeed3pm\",\"yref\":\"y\"},{\"font\":{\"color\":\"#FFFFFF\"},\"showarrow\":false,\"text\":\"0.04\",\"x\":\"Rainfall\",\"xref\":\"x\",\"y\":\"WindSpeed3pm\",\"yref\":\"y\"},{\"font\":{\"color\":\"#FFFFFF\"},\"showarrow\":false,\"text\":\"0.12\",\"x\":\"Evaporation\",\"xref\":\"x\",\"y\":\"WindSpeed3pm\",\"yref\":\"y\"},{\"font\":{\"color\":\"#FFFFFF\"},\"showarrow\":false,\"text\":\"0.03\",\"x\":\"Sunshine\",\"xref\":\"x\",\"y\":\"WindSpeed3pm\",\"yref\":\"y\"},{\"font\":{\"color\":\"#000000\"},\"showarrow\":false,\"text\":\"0.69\",\"x\":\"WindGustSpeed\",\"xref\":\"x\",\"y\":\"WindSpeed3pm\",\"yref\":\"y\"},{\"font\":{\"color\":\"#000000\"},\"showarrow\":false,\"text\":\"0.5\",\"x\":\"WindSpeed9am\",\"xref\":\"x\",\"y\":\"WindSpeed3pm\",\"yref\":\"y\"},{\"font\":{\"color\":\"#000000\"},\"showarrow\":false,\"text\":\"1.0\",\"x\":\"WindSpeed3pm\",\"xref\":\"x\",\"y\":\"WindSpeed3pm\",\"yref\":\"y\"},{\"font\":{\"color\":\"#FFFFFF\"},\"showarrow\":false,\"text\":\"-0.1\",\"x\":\"Humidity9am\",\"xref\":\"x\",\"y\":\"WindSpeed3pm\",\"yref\":\"y\"},{\"font\":{\"color\":\"#FFFFFF\"},\"showarrow\":false,\"text\":\"0.03\",\"x\":\"Humidity3pm\",\"xref\":\"x\",\"y\":\"WindSpeed3pm\",\"yref\":\"y\"},{\"font\":{\"color\":\"#FFFFFF\"},\"showarrow\":false,\"text\":\"-0.29\",\"x\":\"Pressure9am\",\"xref\":\"x\",\"y\":\"WindSpeed3pm\",\"yref\":\"y\"},{\"font\":{\"color\":\"#FFFFFF\"},\"showarrow\":false,\"text\":\"-0.25\",\"x\":\"Pressure3pm\",\"xref\":\"x\",\"y\":\"WindSpeed3pm\",\"yref\":\"y\"},{\"font\":{\"color\":\"#FFFFFF\"},\"showarrow\":false,\"text\":\"0.07\",\"x\":\"Cloud9am\",\"xref\":\"x\",\"y\":\"WindSpeed3pm\",\"yref\":\"y\"},{\"font\":{\"color\":\"#FFFFFF\"},\"showarrow\":false,\"text\":\"0.04\",\"x\":\"Cloud3pm\",\"xref\":\"x\",\"y\":\"WindSpeed3pm\",\"yref\":\"y\"},{\"font\":{\"color\":\"#FFFFFF\"},\"showarrow\":false,\"text\":\"0.11\",\"x\":\"Temp9am\",\"xref\":\"x\",\"y\":\"WindSpeed3pm\",\"yref\":\"y\"},{\"font\":{\"color\":\"#FFFFFF\"},\"showarrow\":false,\"text\":\"-0.01\",\"x\":\"Temp3pm\",\"xref\":\"x\",\"y\":\"WindSpeed3pm\",\"yref\":\"y\"},{\"font\":{\"color\":\"#FFFFFF\"},\"showarrow\":false,\"text\":\"0.09\",\"x\":\"RainTomorrow_int\",\"xref\":\"x\",\"y\":\"WindSpeed3pm\",\"yref\":\"y\"},{\"font\":{\"color\":\"#FFFFFF\"},\"showarrow\":false,\"text\":\"-0.17\",\"x\":\"MinTemp\",\"xref\":\"x\",\"y\":\"Humidity9am\",\"yref\":\"y\"},{\"font\":{\"color\":\"#FFFFFF\"},\"showarrow\":false,\"text\":\"-0.5\",\"x\":\"MaxTemp\",\"xref\":\"x\",\"y\":\"Humidity9am\",\"yref\":\"y\"},{\"font\":{\"color\":\"#000000\"},\"showarrow\":false,\"text\":\"0.26\",\"x\":\"Rainfall\",\"xref\":\"x\",\"y\":\"Humidity9am\",\"yref\":\"y\"},{\"font\":{\"color\":\"#FFFFFF\"},\"showarrow\":false,\"text\":\"-0.55\",\"x\":\"Evaporation\",\"xref\":\"x\",\"y\":\"Humidity9am\",\"yref\":\"y\"},{\"font\":{\"color\":\"#FFFFFF\"},\"showarrow\":false,\"text\":\"-0.5\",\"x\":\"Sunshine\",\"xref\":\"x\",\"y\":\"Humidity9am\",\"yref\":\"y\"},{\"font\":{\"color\":\"#FFFFFF\"},\"showarrow\":false,\"text\":\"-0.19\",\"x\":\"WindGustSpeed\",\"xref\":\"x\",\"y\":\"Humidity9am\",\"yref\":\"y\"},{\"font\":{\"color\":\"#FFFFFF\"},\"showarrow\":false,\"text\":\"-0.24\",\"x\":\"WindSpeed9am\",\"xref\":\"x\",\"y\":\"Humidity9am\",\"yref\":\"y\"},{\"font\":{\"color\":\"#FFFFFF\"},\"showarrow\":false,\"text\":\"-0.1\",\"x\":\"WindSpeed3pm\",\"xref\":\"x\",\"y\":\"Humidity9am\",\"yref\":\"y\"},{\"font\":{\"color\":\"#000000\"},\"showarrow\":false,\"text\":\"1.0\",\"x\":\"Humidity9am\",\"xref\":\"x\",\"y\":\"Humidity9am\",\"yref\":\"y\"},{\"font\":{\"color\":\"#000000\"},\"showarrow\":false,\"text\":\"0.69\",\"x\":\"Humidity3pm\",\"xref\":\"x\",\"y\":\"Humidity9am\",\"yref\":\"y\"},{\"font\":{\"color\":\"#FFFFFF\"},\"showarrow\":false,\"text\":\"0.11\",\"x\":\"Pressure9am\",\"xref\":\"x\",\"y\":\"Humidity9am\",\"yref\":\"y\"},{\"font\":{\"color\":\"#000000\"},\"showarrow\":false,\"text\":\"0.17\",\"x\":\"Pressure3pm\",\"xref\":\"x\",\"y\":\"Humidity9am\",\"yref\":\"y\"},{\"font\":{\"color\":\"#000000\"},\"showarrow\":false,\"text\":\"0.44\",\"x\":\"Cloud9am\",\"xref\":\"x\",\"y\":\"Humidity9am\",\"yref\":\"y\"},{\"font\":{\"color\":\"#000000\"},\"showarrow\":false,\"text\":\"0.35\",\"x\":\"Cloud3pm\",\"xref\":\"x\",\"y\":\"Humidity9am\",\"yref\":\"y\"},{\"font\":{\"color\":\"#FFFFFF\"},\"showarrow\":false,\"text\":\"-0.42\",\"x\":\"Temp9am\",\"xref\":\"x\",\"y\":\"Humidity9am\",\"yref\":\"y\"},{\"font\":{\"color\":\"#FFFFFF\"},\"showarrow\":false,\"text\":\"-0.49\",\"x\":\"Temp3pm\",\"xref\":\"x\",\"y\":\"Humidity9am\",\"yref\":\"y\"},{\"font\":{\"color\":\"#000000\"},\"showarrow\":false,\"text\":\"0.27\",\"x\":\"RainTomorrow_int\",\"xref\":\"x\",\"y\":\"Humidity9am\",\"yref\":\"y\"},{\"font\":{\"color\":\"#FFFFFF\"},\"showarrow\":false,\"text\":\"0.07\",\"x\":\"MinTemp\",\"xref\":\"x\",\"y\":\"Humidity3pm\",\"yref\":\"y\"},{\"font\":{\"color\":\"#FFFFFF\"},\"showarrow\":false,\"text\":\"-0.45\",\"x\":\"MaxTemp\",\"xref\":\"x\",\"y\":\"Humidity3pm\",\"yref\":\"y\"},{\"font\":{\"color\":\"#000000\"},\"showarrow\":false,\"text\":\"0.28\",\"x\":\"Rainfall\",\"xref\":\"x\",\"y\":\"Humidity3pm\",\"yref\":\"y\"},{\"font\":{\"color\":\"#FFFFFF\"},\"showarrow\":false,\"text\":\"-0.42\",\"x\":\"Evaporation\",\"xref\":\"x\",\"y\":\"Humidity3pm\",\"yref\":\"y\"},{\"font\":{\"color\":\"#FFFFFF\"},\"showarrow\":false,\"text\":\"-0.63\",\"x\":\"Sunshine\",\"xref\":\"x\",\"y\":\"Humidity3pm\",\"yref\":\"y\"},{\"font\":{\"color\":\"#FFFFFF\"},\"showarrow\":false,\"text\":\"-0.04\",\"x\":\"WindGustSpeed\",\"xref\":\"x\",\"y\":\"Humidity3pm\",\"yref\":\"y\"},{\"font\":{\"color\":\"#FFFFFF\"},\"showarrow\":false,\"text\":\"-0.06\",\"x\":\"WindSpeed9am\",\"xref\":\"x\",\"y\":\"Humidity3pm\",\"yref\":\"y\"},{\"font\":{\"color\":\"#FFFFFF\"},\"showarrow\":false,\"text\":\"0.03\",\"x\":\"WindSpeed3pm\",\"xref\":\"x\",\"y\":\"Humidity3pm\",\"yref\":\"y\"},{\"font\":{\"color\":\"#000000\"},\"showarrow\":false,\"text\":\"0.69\",\"x\":\"Humidity9am\",\"xref\":\"x\",\"y\":\"Humidity3pm\",\"yref\":\"y\"},{\"font\":{\"color\":\"#000000\"},\"showarrow\":false,\"text\":\"1.0\",\"x\":\"Humidity3pm\",\"xref\":\"x\",\"y\":\"Humidity3pm\",\"yref\":\"y\"},{\"font\":{\"color\":\"#FFFFFF\"},\"showarrow\":false,\"text\":\"-0.06\",\"x\":\"Pressure9am\",\"xref\":\"x\",\"y\":\"Humidity3pm\",\"yref\":\"y\"},{\"font\":{\"color\":\"#FFFFFF\"},\"showarrow\":false,\"text\":\"0.02\",\"x\":\"Pressure3pm\",\"xref\":\"x\",\"y\":\"Humidity3pm\",\"yref\":\"y\"},{\"font\":{\"color\":\"#000000\"},\"showarrow\":false,\"text\":\"0.51\",\"x\":\"Cloud9am\",\"xref\":\"x\",\"y\":\"Humidity3pm\",\"yref\":\"y\"},{\"font\":{\"color\":\"#000000\"},\"showarrow\":false,\"text\":\"0.51\",\"x\":\"Cloud3pm\",\"xref\":\"x\",\"y\":\"Humidity3pm\",\"yref\":\"y\"},{\"font\":{\"color\":\"#FFFFFF\"},\"showarrow\":false,\"text\":\"-0.15\",\"x\":\"Temp9am\",\"xref\":\"x\",\"y\":\"Humidity3pm\",\"yref\":\"y\"},{\"font\":{\"color\":\"#FFFFFF\"},\"showarrow\":false,\"text\":\"-0.5\",\"x\":\"Temp3pm\",\"xref\":\"x\",\"y\":\"Humidity3pm\",\"yref\":\"y\"},{\"font\":{\"color\":\"#000000\"},\"showarrow\":false,\"text\":\"0.46\",\"x\":\"RainTomorrow_int\",\"xref\":\"x\",\"y\":\"Humidity3pm\",\"yref\":\"y\"},{\"font\":{\"color\":\"#FFFFFF\"},\"showarrow\":false,\"text\":\"-0.48\",\"x\":\"MinTemp\",\"xref\":\"x\",\"y\":\"Pressure9am\",\"yref\":\"y\"},{\"font\":{\"color\":\"#FFFFFF\"},\"showarrow\":false,\"text\":\"-0.35\",\"x\":\"MaxTemp\",\"xref\":\"x\",\"y\":\"Pressure9am\",\"yref\":\"y\"},{\"font\":{\"color\":\"#FFFFFF\"},\"showarrow\":false,\"text\":\"-0.18\",\"x\":\"Rainfall\",\"xref\":\"x\",\"y\":\"Pressure9am\",\"yref\":\"y\"},{\"font\":{\"color\":\"#FFFFFF\"},\"showarrow\":false,\"text\":\"-0.3\",\"x\":\"Evaporation\",\"xref\":\"x\",\"y\":\"Pressure9am\",\"yref\":\"y\"},{\"font\":{\"color\":\"#FFFFFF\"},\"showarrow\":false,\"text\":\"0.04\",\"x\":\"Sunshine\",\"xref\":\"x\",\"y\":\"Pressure9am\",\"yref\":\"y\"},{\"font\":{\"color\":\"#FFFFFF\"},\"showarrow\":false,\"text\":\"-0.43\",\"x\":\"WindGustSpeed\",\"xref\":\"x\",\"y\":\"Pressure9am\",\"yref\":\"y\"},{\"font\":{\"color\":\"#FFFFFF\"},\"showarrow\":false,\"text\":\"-0.2\",\"x\":\"WindSpeed9am\",\"xref\":\"x\",\"y\":\"Pressure9am\",\"yref\":\"y\"},{\"font\":{\"color\":\"#FFFFFF\"},\"showarrow\":false,\"text\":\"-0.29\",\"x\":\"WindSpeed3pm\",\"xref\":\"x\",\"y\":\"Pressure9am\",\"yref\":\"y\"},{\"font\":{\"color\":\"#FFFFFF\"},\"showarrow\":false,\"text\":\"0.11\",\"x\":\"Humidity9am\",\"xref\":\"x\",\"y\":\"Pressure9am\",\"yref\":\"y\"},{\"font\":{\"color\":\"#FFFFFF\"},\"showarrow\":false,\"text\":\"-0.06\",\"x\":\"Humidity3pm\",\"xref\":\"x\",\"y\":\"Pressure9am\",\"yref\":\"y\"},{\"font\":{\"color\":\"#000000\"},\"showarrow\":false,\"text\":\"1.0\",\"x\":\"Pressure9am\",\"xref\":\"x\",\"y\":\"Pressure9am\",\"yref\":\"y\"},{\"font\":{\"color\":\"#000000\"},\"showarrow\":false,\"text\":\"0.96\",\"x\":\"Pressure3pm\",\"xref\":\"x\",\"y\":\"Pressure9am\",\"yref\":\"y\"},{\"font\":{\"color\":\"#FFFFFF\"},\"showarrow\":false,\"text\":\"-0.15\",\"x\":\"Cloud9am\",\"xref\":\"x\",\"y\":\"Pressure9am\",\"yref\":\"y\"},{\"font\":{\"color\":\"#FFFFFF\"},\"showarrow\":false,\"text\":\"-0.17\",\"x\":\"Cloud3pm\",\"xref\":\"x\",\"y\":\"Pressure9am\",\"yref\":\"y\"},{\"font\":{\"color\":\"#FFFFFF\"},\"showarrow\":false,\"text\":\"-0.44\",\"x\":\"Temp9am\",\"xref\":\"x\",\"y\":\"Pressure9am\",\"yref\":\"y\"},{\"font\":{\"color\":\"#FFFFFF\"},\"showarrow\":false,\"text\":\"-0.31\",\"x\":\"Temp3pm\",\"xref\":\"x\",\"y\":\"Pressure9am\",\"yref\":\"y\"},{\"font\":{\"color\":\"#FFFFFF\"},\"showarrow\":false,\"text\":\"-0.25\",\"x\":\"RainTomorrow_int\",\"xref\":\"x\",\"y\":\"Pressure9am\",\"yref\":\"y\"},{\"font\":{\"color\":\"#FFFFFF\"},\"showarrow\":false,\"text\":\"-0.5\",\"x\":\"MinTemp\",\"xref\":\"x\",\"y\":\"Pressure3pm\",\"yref\":\"y\"},{\"font\":{\"color\":\"#FFFFFF\"},\"showarrow\":false,\"text\":\"-0.45\",\"x\":\"MaxTemp\",\"xref\":\"x\",\"y\":\"Pressure3pm\",\"yref\":\"y\"},{\"font\":{\"color\":\"#FFFFFF\"},\"showarrow\":false,\"text\":\"-0.14\",\"x\":\"Rainfall\",\"xref\":\"x\",\"y\":\"Pressure3pm\",\"yref\":\"y\"},{\"font\":{\"color\":\"#FFFFFF\"},\"showarrow\":false,\"text\":\"-0.33\",\"x\":\"Evaporation\",\"xref\":\"x\",\"y\":\"Pressure3pm\",\"yref\":\"y\"},{\"font\":{\"color\":\"#FFFFFF\"},\"showarrow\":false,\"text\":\"-0.02\",\"x\":\"Sunshine\",\"xref\":\"x\",\"y\":\"Pressure3pm\",\"yref\":\"y\"},{\"font\":{\"color\":\"#FFFFFF\"},\"showarrow\":false,\"text\":\"-0.38\",\"x\":\"WindGustSpeed\",\"xref\":\"x\",\"y\":\"Pressure3pm\",\"yref\":\"y\"},{\"font\":{\"color\":\"#FFFFFF\"},\"showarrow\":false,\"text\":\"-0.16\",\"x\":\"WindSpeed9am\",\"xref\":\"x\",\"y\":\"Pressure3pm\",\"yref\":\"y\"},{\"font\":{\"color\":\"#FFFFFF\"},\"showarrow\":false,\"text\":\"-0.25\",\"x\":\"WindSpeed3pm\",\"xref\":\"x\",\"y\":\"Pressure3pm\",\"yref\":\"y\"},{\"font\":{\"color\":\"#000000\"},\"showarrow\":false,\"text\":\"0.17\",\"x\":\"Humidity9am\",\"xref\":\"x\",\"y\":\"Pressure3pm\",\"yref\":\"y\"},{\"font\":{\"color\":\"#FFFFFF\"},\"showarrow\":false,\"text\":\"0.02\",\"x\":\"Humidity3pm\",\"xref\":\"x\",\"y\":\"Pressure3pm\",\"yref\":\"y\"},{\"font\":{\"color\":\"#000000\"},\"showarrow\":false,\"text\":\"0.96\",\"x\":\"Pressure9am\",\"xref\":\"x\",\"y\":\"Pressure3pm\",\"yref\":\"y\"},{\"font\":{\"color\":\"#000000\"},\"showarrow\":false,\"text\":\"1.0\",\"x\":\"Pressure3pm\",\"xref\":\"x\",\"y\":\"Pressure3pm\",\"yref\":\"y\"},{\"font\":{\"color\":\"#FFFFFF\"},\"showarrow\":false,\"text\":\"-0.08\",\"x\":\"Cloud9am\",\"xref\":\"x\",\"y\":\"Pressure3pm\",\"yref\":\"y\"},{\"font\":{\"color\":\"#FFFFFF\"},\"showarrow\":false,\"text\":\"-0.1\",\"x\":\"Cloud3pm\",\"xref\":\"x\",\"y\":\"Pressure3pm\",\"yref\":\"y\"},{\"font\":{\"color\":\"#FFFFFF\"},\"showarrow\":false,\"text\":\"-0.5\",\"x\":\"Temp9am\",\"xref\":\"x\",\"y\":\"Pressure3pm\",\"yref\":\"y\"},{\"font\":{\"color\":\"#FFFFFF\"},\"showarrow\":false,\"text\":\"-0.42\",\"x\":\"Temp3pm\",\"xref\":\"x\",\"y\":\"Pressure3pm\",\"yref\":\"y\"},{\"font\":{\"color\":\"#FFFFFF\"},\"showarrow\":false,\"text\":\"-0.23\",\"x\":\"RainTomorrow_int\",\"xref\":\"x\",\"y\":\"Pressure3pm\",\"yref\":\"y\"},{\"font\":{\"color\":\"#FFFFFF\"},\"showarrow\":false,\"text\":\"0.11\",\"x\":\"MinTemp\",\"xref\":\"x\",\"y\":\"Cloud9am\",\"yref\":\"y\"},{\"font\":{\"color\":\"#FFFFFF\"},\"showarrow\":false,\"text\":\"-0.26\",\"x\":\"MaxTemp\",\"xref\":\"x\",\"y\":\"Cloud9am\",\"yref\":\"y\"},{\"font\":{\"color\":\"#000000\"},\"showarrow\":false,\"text\":\"0.22\",\"x\":\"Rainfall\",\"xref\":\"x\",\"y\":\"Cloud9am\",\"yref\":\"y\"},{\"font\":{\"color\":\"#FFFFFF\"},\"showarrow\":false,\"text\":\"-0.2\",\"x\":\"Evaporation\",\"xref\":\"x\",\"y\":\"Cloud9am\",\"yref\":\"y\"},{\"font\":{\"color\":\"#FFFFFF\"},\"showarrow\":false,\"text\":\"-0.68\",\"x\":\"Sunshine\",\"xref\":\"x\",\"y\":\"Cloud9am\",\"yref\":\"y\"},{\"font\":{\"color\":\"#FFFFFF\"},\"showarrow\":false,\"text\":\"0.09\",\"x\":\"WindGustSpeed\",\"xref\":\"x\",\"y\":\"Cloud9am\",\"yref\":\"y\"},{\"font\":{\"color\":\"#FFFFFF\"},\"showarrow\":false,\"text\":\"0.03\",\"x\":\"WindSpeed9am\",\"xref\":\"x\",\"y\":\"Cloud9am\",\"yref\":\"y\"},{\"font\":{\"color\":\"#FFFFFF\"},\"showarrow\":false,\"text\":\"0.07\",\"x\":\"WindSpeed3pm\",\"xref\":\"x\",\"y\":\"Cloud9am\",\"yref\":\"y\"},{\"font\":{\"color\":\"#000000\"},\"showarrow\":false,\"text\":\"0.44\",\"x\":\"Humidity9am\",\"xref\":\"x\",\"y\":\"Cloud9am\",\"yref\":\"y\"},{\"font\":{\"color\":\"#000000\"},\"showarrow\":false,\"text\":\"0.51\",\"x\":\"Humidity3pm\",\"xref\":\"x\",\"y\":\"Cloud9am\",\"yref\":\"y\"},{\"font\":{\"color\":\"#FFFFFF\"},\"showarrow\":false,\"text\":\"-0.15\",\"x\":\"Pressure9am\",\"xref\":\"x\",\"y\":\"Cloud9am\",\"yref\":\"y\"},{\"font\":{\"color\":\"#FFFFFF\"},\"showarrow\":false,\"text\":\"-0.08\",\"x\":\"Pressure3pm\",\"xref\":\"x\",\"y\":\"Cloud9am\",\"yref\":\"y\"},{\"font\":{\"color\":\"#000000\"},\"showarrow\":false,\"text\":\"1.0\",\"x\":\"Cloud9am\",\"xref\":\"x\",\"y\":\"Cloud9am\",\"yref\":\"y\"},{\"font\":{\"color\":\"#000000\"},\"showarrow\":false,\"text\":\"0.61\",\"x\":\"Cloud3pm\",\"xref\":\"x\",\"y\":\"Cloud9am\",\"yref\":\"y\"},{\"font\":{\"color\":\"#FFFFFF\"},\"showarrow\":false,\"text\":\"-0.11\",\"x\":\"Temp9am\",\"xref\":\"x\",\"y\":\"Cloud9am\",\"yref\":\"y\"},{\"font\":{\"color\":\"#FFFFFF\"},\"showarrow\":false,\"text\":\"-0.28\",\"x\":\"Temp3pm\",\"xref\":\"x\",\"y\":\"Cloud9am\",\"yref\":\"y\"},{\"font\":{\"color\":\"#000000\"},\"showarrow\":false,\"text\":\"0.32\",\"x\":\"RainTomorrow_int\",\"xref\":\"x\",\"y\":\"Cloud9am\",\"yref\":\"y\"},{\"font\":{\"color\":\"#FFFFFF\"},\"showarrow\":false,\"text\":\"0.04\",\"x\":\"MinTemp\",\"xref\":\"x\",\"y\":\"Cloud3pm\",\"yref\":\"y\"},{\"font\":{\"color\":\"#FFFFFF\"},\"showarrow\":false,\"text\":\"-0.26\",\"x\":\"MaxTemp\",\"xref\":\"x\",\"y\":\"Cloud3pm\",\"yref\":\"y\"},{\"font\":{\"color\":\"#000000\"},\"showarrow\":false,\"text\":\"0.19\",\"x\":\"Rainfall\",\"xref\":\"x\",\"y\":\"Cloud3pm\",\"yref\":\"y\"},{\"font\":{\"color\":\"#FFFFFF\"},\"showarrow\":false,\"text\":\"-0.2\",\"x\":\"Evaporation\",\"xref\":\"x\",\"y\":\"Cloud3pm\",\"yref\":\"y\"},{\"font\":{\"color\":\"#FFFFFF\"},\"showarrow\":false,\"text\":\"-0.7\",\"x\":\"Sunshine\",\"xref\":\"x\",\"y\":\"Cloud3pm\",\"yref\":\"y\"},{\"font\":{\"color\":\"#FFFFFF\"},\"showarrow\":false,\"text\":\"0.13\",\"x\":\"WindGustSpeed\",\"xref\":\"x\",\"y\":\"Cloud3pm\",\"yref\":\"y\"},{\"font\":{\"color\":\"#FFFFFF\"},\"showarrow\":false,\"text\":\"0.06\",\"x\":\"WindSpeed9am\",\"xref\":\"x\",\"y\":\"Cloud3pm\",\"yref\":\"y\"},{\"font\":{\"color\":\"#FFFFFF\"},\"showarrow\":false,\"text\":\"0.04\",\"x\":\"WindSpeed3pm\",\"xref\":\"x\",\"y\":\"Cloud3pm\",\"yref\":\"y\"},{\"font\":{\"color\":\"#000000\"},\"showarrow\":false,\"text\":\"0.35\",\"x\":\"Humidity9am\",\"xref\":\"x\",\"y\":\"Cloud3pm\",\"yref\":\"y\"},{\"font\":{\"color\":\"#000000\"},\"showarrow\":false,\"text\":\"0.51\",\"x\":\"Humidity3pm\",\"xref\":\"x\",\"y\":\"Cloud3pm\",\"yref\":\"y\"},{\"font\":{\"color\":\"#FFFFFF\"},\"showarrow\":false,\"text\":\"-0.17\",\"x\":\"Pressure9am\",\"xref\":\"x\",\"y\":\"Cloud3pm\",\"yref\":\"y\"},{\"font\":{\"color\":\"#FFFFFF\"},\"showarrow\":false,\"text\":\"-0.1\",\"x\":\"Pressure3pm\",\"xref\":\"x\",\"y\":\"Cloud3pm\",\"yref\":\"y\"},{\"font\":{\"color\":\"#000000\"},\"showarrow\":false,\"text\":\"0.61\",\"x\":\"Cloud9am\",\"xref\":\"x\",\"y\":\"Cloud3pm\",\"yref\":\"y\"},{\"font\":{\"color\":\"#000000\"},\"showarrow\":false,\"text\":\"1.0\",\"x\":\"Cloud3pm\",\"xref\":\"x\",\"y\":\"Cloud3pm\",\"yref\":\"y\"},{\"font\":{\"color\":\"#FFFFFF\"},\"showarrow\":false,\"text\":\"-0.11\",\"x\":\"Temp9am\",\"xref\":\"x\",\"y\":\"Cloud3pm\",\"yref\":\"y\"},{\"font\":{\"color\":\"#FFFFFF\"},\"showarrow\":false,\"text\":\"-0.3\",\"x\":\"Temp3pm\",\"xref\":\"x\",\"y\":\"Cloud3pm\",\"yref\":\"y\"},{\"font\":{\"color\":\"#000000\"},\"showarrow\":false,\"text\":\"0.39\",\"x\":\"RainTomorrow_int\",\"xref\":\"x\",\"y\":\"Cloud3pm\",\"yref\":\"y\"},{\"font\":{\"color\":\"#000000\"},\"showarrow\":false,\"text\":\"0.91\",\"x\":\"MinTemp\",\"xref\":\"x\",\"y\":\"Temp9am\",\"yref\":\"y\"},{\"font\":{\"color\":\"#000000\"},\"showarrow\":false,\"text\":\"0.89\",\"x\":\"MaxTemp\",\"xref\":\"x\",\"y\":\"Temp9am\",\"yref\":\"y\"},{\"font\":{\"color\":\"#FFFFFF\"},\"showarrow\":false,\"text\":\"0.01\",\"x\":\"Rainfall\",\"xref\":\"x\",\"y\":\"Temp9am\",\"yref\":\"y\"},{\"font\":{\"color\":\"#000000\"},\"showarrow\":false,\"text\":\"0.59\",\"x\":\"Evaporation\",\"xref\":\"x\",\"y\":\"Temp9am\",\"yref\":\"y\"},{\"font\":{\"color\":\"#000000\"},\"showarrow\":false,\"text\":\"0.29\",\"x\":\"Sunshine\",\"xref\":\"x\",\"y\":\"Temp9am\",\"yref\":\"y\"},{\"font\":{\"color\":\"#FFFFFF\"},\"showarrow\":false,\"text\":\"0.09\",\"x\":\"WindGustSpeed\",\"xref\":\"x\",\"y\":\"Temp9am\",\"yref\":\"y\"},{\"font\":{\"color\":\"#FFFFFF\"},\"showarrow\":false,\"text\":\"0.05\",\"x\":\"WindSpeed9am\",\"xref\":\"x\",\"y\":\"Temp9am\",\"yref\":\"y\"},{\"font\":{\"color\":\"#FFFFFF\"},\"showarrow\":false,\"text\":\"0.11\",\"x\":\"WindSpeed3pm\",\"xref\":\"x\",\"y\":\"Temp9am\",\"yref\":\"y\"},{\"font\":{\"color\":\"#FFFFFF\"},\"showarrow\":false,\"text\":\"-0.42\",\"x\":\"Humidity9am\",\"xref\":\"x\",\"y\":\"Temp9am\",\"yref\":\"y\"},{\"font\":{\"color\":\"#FFFFFF\"},\"showarrow\":false,\"text\":\"-0.15\",\"x\":\"Humidity3pm\",\"xref\":\"x\",\"y\":\"Temp9am\",\"yref\":\"y\"},{\"font\":{\"color\":\"#FFFFFF\"},\"showarrow\":false,\"text\":\"-0.44\",\"x\":\"Pressure9am\",\"xref\":\"x\",\"y\":\"Temp9am\",\"yref\":\"y\"},{\"font\":{\"color\":\"#FFFFFF\"},\"showarrow\":false,\"text\":\"-0.5\",\"x\":\"Pressure3pm\",\"xref\":\"x\",\"y\":\"Temp9am\",\"yref\":\"y\"},{\"font\":{\"color\":\"#FFFFFF\"},\"showarrow\":false,\"text\":\"-0.11\",\"x\":\"Cloud9am\",\"xref\":\"x\",\"y\":\"Temp9am\",\"yref\":\"y\"},{\"font\":{\"color\":\"#FFFFFF\"},\"showarrow\":false,\"text\":\"-0.11\",\"x\":\"Cloud3pm\",\"xref\":\"x\",\"y\":\"Temp9am\",\"yref\":\"y\"},{\"font\":{\"color\":\"#000000\"},\"showarrow\":false,\"text\":\"1.0\",\"x\":\"Temp9am\",\"xref\":\"x\",\"y\":\"Temp9am\",\"yref\":\"y\"},{\"font\":{\"color\":\"#000000\"},\"showarrow\":false,\"text\":\"0.87\",\"x\":\"Temp3pm\",\"xref\":\"x\",\"y\":\"Temp9am\",\"yref\":\"y\"},{\"font\":{\"color\":\"#FFFFFF\"},\"showarrow\":false,\"text\":\"-0.02\",\"x\":\"RainTomorrow_int\",\"xref\":\"x\",\"y\":\"Temp9am\",\"yref\":\"y\"},{\"font\":{\"color\":\"#000000\"},\"showarrow\":false,\"text\":\"0.73\",\"x\":\"MinTemp\",\"xref\":\"x\",\"y\":\"Temp3pm\",\"yref\":\"y\"},{\"font\":{\"color\":\"#000000\"},\"showarrow\":false,\"text\":\"0.98\",\"x\":\"MaxTemp\",\"xref\":\"x\",\"y\":\"Temp3pm\",\"yref\":\"y\"},{\"font\":{\"color\":\"#FFFFFF\"},\"showarrow\":false,\"text\":\"-0.07\",\"x\":\"Rainfall\",\"xref\":\"x\",\"y\":\"Temp3pm\",\"yref\":\"y\"},{\"font\":{\"color\":\"#000000\"},\"showarrow\":false,\"text\":\"0.63\",\"x\":\"Evaporation\",\"xref\":\"x\",\"y\":\"Temp3pm\",\"yref\":\"y\"},{\"font\":{\"color\":\"#000000\"},\"showarrow\":false,\"text\":\"0.49\",\"x\":\"Sunshine\",\"xref\":\"x\",\"y\":\"Temp3pm\",\"yref\":\"y\"},{\"font\":{\"color\":\"#FFFFFF\"},\"showarrow\":false,\"text\":\"-0.0\",\"x\":\"WindGustSpeed\",\"xref\":\"x\",\"y\":\"Temp3pm\",\"yref\":\"y\"},{\"font\":{\"color\":\"#FFFFFF\"},\"showarrow\":false,\"text\":\"-0.02\",\"x\":\"WindSpeed9am\",\"xref\":\"x\",\"y\":\"Temp3pm\",\"yref\":\"y\"},{\"font\":{\"color\":\"#FFFFFF\"},\"showarrow\":false,\"text\":\"-0.01\",\"x\":\"WindSpeed3pm\",\"xref\":\"x\",\"y\":\"Temp3pm\",\"yref\":\"y\"},{\"font\":{\"color\":\"#FFFFFF\"},\"showarrow\":false,\"text\":\"-0.49\",\"x\":\"Humidity9am\",\"xref\":\"x\",\"y\":\"Temp3pm\",\"yref\":\"y\"},{\"font\":{\"color\":\"#FFFFFF\"},\"showarrow\":false,\"text\":\"-0.5\",\"x\":\"Humidity3pm\",\"xref\":\"x\",\"y\":\"Temp3pm\",\"yref\":\"y\"},{\"font\":{\"color\":\"#FFFFFF\"},\"showarrow\":false,\"text\":\"-0.31\",\"x\":\"Pressure9am\",\"xref\":\"x\",\"y\":\"Temp3pm\",\"yref\":\"y\"},{\"font\":{\"color\":\"#FFFFFF\"},\"showarrow\":false,\"text\":\"-0.42\",\"x\":\"Pressure3pm\",\"xref\":\"x\",\"y\":\"Temp3pm\",\"yref\":\"y\"},{\"font\":{\"color\":\"#FFFFFF\"},\"showarrow\":false,\"text\":\"-0.28\",\"x\":\"Cloud9am\",\"xref\":\"x\",\"y\":\"Temp3pm\",\"yref\":\"y\"},{\"font\":{\"color\":\"#FFFFFF\"},\"showarrow\":false,\"text\":\"-0.3\",\"x\":\"Cloud3pm\",\"xref\":\"x\",\"y\":\"Temp3pm\",\"yref\":\"y\"},{\"font\":{\"color\":\"#000000\"},\"showarrow\":false,\"text\":\"0.87\",\"x\":\"Temp9am\",\"xref\":\"x\",\"y\":\"Temp3pm\",\"yref\":\"y\"},{\"font\":{\"color\":\"#000000\"},\"showarrow\":false,\"text\":\"1.0\",\"x\":\"Temp3pm\",\"xref\":\"x\",\"y\":\"Temp3pm\",\"yref\":\"y\"},{\"font\":{\"color\":\"#FFFFFF\"},\"showarrow\":false,\"text\":\"-0.18\",\"x\":\"RainTomorrow_int\",\"xref\":\"x\",\"y\":\"Temp3pm\",\"yref\":\"y\"},{\"font\":{\"color\":\"#FFFFFF\"},\"showarrow\":false,\"text\":\"0.09\",\"x\":\"MinTemp\",\"xref\":\"x\",\"y\":\"RainTomorrow_int\",\"yref\":\"y\"},{\"font\":{\"color\":\"#FFFFFF\"},\"showarrow\":false,\"text\":\"-0.15\",\"x\":\"MaxTemp\",\"xref\":\"x\",\"y\":\"RainTomorrow_int\",\"yref\":\"y\"},{\"font\":{\"color\":\"#000000\"},\"showarrow\":false,\"text\":\"0.25\",\"x\":\"Rainfall\",\"xref\":\"x\",\"y\":\"RainTomorrow_int\",\"yref\":\"y\"},{\"font\":{\"color\":\"#FFFFFF\"},\"showarrow\":false,\"text\":\"-0.13\",\"x\":\"Evaporation\",\"xref\":\"x\",\"y\":\"RainTomorrow_int\",\"yref\":\"y\"},{\"font\":{\"color\":\"#FFFFFF\"},\"showarrow\":false,\"text\":\"-0.45\",\"x\":\"Sunshine\",\"xref\":\"x\",\"y\":\"RainTomorrow_int\",\"yref\":\"y\"},{\"font\":{\"color\":\"#000000\"},\"showarrow\":false,\"text\":\"0.23\",\"x\":\"WindGustSpeed\",\"xref\":\"x\",\"y\":\"RainTomorrow_int\",\"yref\":\"y\"},{\"font\":{\"color\":\"#FFFFFF\"},\"showarrow\":false,\"text\":\"0.08\",\"x\":\"WindSpeed9am\",\"xref\":\"x\",\"y\":\"RainTomorrow_int\",\"yref\":\"y\"},{\"font\":{\"color\":\"#FFFFFF\"},\"showarrow\":false,\"text\":\"0.09\",\"x\":\"WindSpeed3pm\",\"xref\":\"x\",\"y\":\"RainTomorrow_int\",\"yref\":\"y\"},{\"font\":{\"color\":\"#000000\"},\"showarrow\":false,\"text\":\"0.27\",\"x\":\"Humidity9am\",\"xref\":\"x\",\"y\":\"RainTomorrow_int\",\"yref\":\"y\"},{\"font\":{\"color\":\"#000000\"},\"showarrow\":false,\"text\":\"0.46\",\"x\":\"Humidity3pm\",\"xref\":\"x\",\"y\":\"RainTomorrow_int\",\"yref\":\"y\"},{\"font\":{\"color\":\"#FFFFFF\"},\"showarrow\":false,\"text\":\"-0.25\",\"x\":\"Pressure9am\",\"xref\":\"x\",\"y\":\"RainTomorrow_int\",\"yref\":\"y\"},{\"font\":{\"color\":\"#FFFFFF\"},\"showarrow\":false,\"text\":\"-0.23\",\"x\":\"Pressure3pm\",\"xref\":\"x\",\"y\":\"RainTomorrow_int\",\"yref\":\"y\"},{\"font\":{\"color\":\"#000000\"},\"showarrow\":false,\"text\":\"0.32\",\"x\":\"Cloud9am\",\"xref\":\"x\",\"y\":\"RainTomorrow_int\",\"yref\":\"y\"},{\"font\":{\"color\":\"#000000\"},\"showarrow\":false,\"text\":\"0.39\",\"x\":\"Cloud3pm\",\"xref\":\"x\",\"y\":\"RainTomorrow_int\",\"yref\":\"y\"},{\"font\":{\"color\":\"#FFFFFF\"},\"showarrow\":false,\"text\":\"-0.02\",\"x\":\"Temp9am\",\"xref\":\"x\",\"y\":\"RainTomorrow_int\",\"yref\":\"y\"},{\"font\":{\"color\":\"#FFFFFF\"},\"showarrow\":false,\"text\":\"-0.18\",\"x\":\"Temp3pm\",\"xref\":\"x\",\"y\":\"RainTomorrow_int\",\"yref\":\"y\"},{\"font\":{\"color\":\"#000000\"},\"showarrow\":false,\"text\":\"1.0\",\"x\":\"RainTomorrow_int\",\"xref\":\"x\",\"y\":\"RainTomorrow_int\",\"yref\":\"y\"}],\"template\":{\"data\":{\"bar\":[{\"error_x\":{\"color\":\"#2a3f5f\"},\"error_y\":{\"color\":\"#2a3f5f\"},\"marker\":{\"line\":{\"color\":\"#E5ECF6\",\"width\":0.5},\"pattern\":{\"fillmode\":\"overlay\",\"size\":10,\"solidity\":0.2}},\"type\":\"bar\"}],\"barpolar\":[{\"marker\":{\"line\":{\"color\":\"#E5ECF6\",\"width\":0.5},\"pattern\":{\"fillmode\":\"overlay\",\"size\":10,\"solidity\":0.2}},\"type\":\"barpolar\"}],\"carpet\":[{\"aaxis\":{\"endlinecolor\":\"#2a3f5f\",\"gridcolor\":\"white\",\"linecolor\":\"white\",\"minorgridcolor\":\"white\",\"startlinecolor\":\"#2a3f5f\"},\"baxis\":{\"endlinecolor\":\"#2a3f5f\",\"gridcolor\":\"white\",\"linecolor\":\"white\",\"minorgridcolor\":\"white\",\"startlinecolor\":\"#2a3f5f\"},\"type\":\"carpet\"}],\"choropleth\":[{\"colorbar\":{\"outlinewidth\":0,\"ticks\":\"\"},\"type\":\"choropleth\"}],\"contour\":[{\"colorbar\":{\"outlinewidth\":0,\"ticks\":\"\"},\"colorscale\":[[0.0,\"#0d0887\"],[0.1111111111111111,\"#46039f\"],[0.2222222222222222,\"#7201a8\"],[0.3333333333333333,\"#9c179e\"],[0.4444444444444444,\"#bd3786\"],[0.5555555555555556,\"#d8576b\"],[0.6666666666666666,\"#ed7953\"],[0.7777777777777778,\"#fb9f3a\"],[0.8888888888888888,\"#fdca26\"],[1.0,\"#f0f921\"]],\"type\":\"contour\"}],\"contourcarpet\":[{\"colorbar\":{\"outlinewidth\":0,\"ticks\":\"\"},\"type\":\"contourcarpet\"}],\"heatmap\":[{\"colorbar\":{\"outlinewidth\":0,\"ticks\":\"\"},\"colorscale\":[[0.0,\"#0d0887\"],[0.1111111111111111,\"#46039f\"],[0.2222222222222222,\"#7201a8\"],[0.3333333333333333,\"#9c179e\"],[0.4444444444444444,\"#bd3786\"],[0.5555555555555556,\"#d8576b\"],[0.6666666666666666,\"#ed7953\"],[0.7777777777777778,\"#fb9f3a\"],[0.8888888888888888,\"#fdca26\"],[1.0,\"#f0f921\"]],\"type\":\"heatmap\"}],\"heatmapgl\":[{\"colorbar\":{\"outlinewidth\":0,\"ticks\":\"\"},\"colorscale\":[[0.0,\"#0d0887\"],[0.1111111111111111,\"#46039f\"],[0.2222222222222222,\"#7201a8\"],[0.3333333333333333,\"#9c179e\"],[0.4444444444444444,\"#bd3786\"],[0.5555555555555556,\"#d8576b\"],[0.6666666666666666,\"#ed7953\"],[0.7777777777777778,\"#fb9f3a\"],[0.8888888888888888,\"#fdca26\"],[1.0,\"#f0f921\"]],\"type\":\"heatmapgl\"}],\"histogram\":[{\"marker\":{\"pattern\":{\"fillmode\":\"overlay\",\"size\":10,\"solidity\":0.2}},\"type\":\"histogram\"}],\"histogram2d\":[{\"colorbar\":{\"outlinewidth\":0,\"ticks\":\"\"},\"colorscale\":[[0.0,\"#0d0887\"],[0.1111111111111111,\"#46039f\"],[0.2222222222222222,\"#7201a8\"],[0.3333333333333333,\"#9c179e\"],[0.4444444444444444,\"#bd3786\"],[0.5555555555555556,\"#d8576b\"],[0.6666666666666666,\"#ed7953\"],[0.7777777777777778,\"#fb9f3a\"],[0.8888888888888888,\"#fdca26\"],[1.0,\"#f0f921\"]],\"type\":\"histogram2d\"}],\"histogram2dcontour\":[{\"colorbar\":{\"outlinewidth\":0,\"ticks\":\"\"},\"colorscale\":[[0.0,\"#0d0887\"],[0.1111111111111111,\"#46039f\"],[0.2222222222222222,\"#7201a8\"],[0.3333333333333333,\"#9c179e\"],[0.4444444444444444,\"#bd3786\"],[0.5555555555555556,\"#d8576b\"],[0.6666666666666666,\"#ed7953\"],[0.7777777777777778,\"#fb9f3a\"],[0.8888888888888888,\"#fdca26\"],[1.0,\"#f0f921\"]],\"type\":\"histogram2dcontour\"}],\"mesh3d\":[{\"colorbar\":{\"outlinewidth\":0,\"ticks\":\"\"},\"type\":\"mesh3d\"}],\"parcoords\":[{\"line\":{\"colorbar\":{\"outlinewidth\":0,\"ticks\":\"\"}},\"type\":\"parcoords\"}],\"pie\":[{\"automargin\":true,\"type\":\"pie\"}],\"scatter\":[{\"marker\":{\"colorbar\":{\"outlinewidth\":0,\"ticks\":\"\"}},\"type\":\"scatter\"}],\"scatter3d\":[{\"line\":{\"colorbar\":{\"outlinewidth\":0,\"ticks\":\"\"}},\"marker\":{\"colorbar\":{\"outlinewidth\":0,\"ticks\":\"\"}},\"type\":\"scatter3d\"}],\"scattercarpet\":[{\"marker\":{\"colorbar\":{\"outlinewidth\":0,\"ticks\":\"\"}},\"type\":\"scattercarpet\"}],\"scattergeo\":[{\"marker\":{\"colorbar\":{\"outlinewidth\":0,\"ticks\":\"\"}},\"type\":\"scattergeo\"}],\"scattergl\":[{\"marker\":{\"colorbar\":{\"outlinewidth\":0,\"ticks\":\"\"}},\"type\":\"scattergl\"}],\"scattermapbox\":[{\"marker\":{\"colorbar\":{\"outlinewidth\":0,\"ticks\":\"\"}},\"type\":\"scattermapbox\"}],\"scatterpolar\":[{\"marker\":{\"colorbar\":{\"outlinewidth\":0,\"ticks\":\"\"}},\"type\":\"scatterpolar\"}],\"scatterpolargl\":[{\"marker\":{\"colorbar\":{\"outlinewidth\":0,\"ticks\":\"\"}},\"type\":\"scatterpolargl\"}],\"scatterternary\":[{\"marker\":{\"colorbar\":{\"outlinewidth\":0,\"ticks\":\"\"}},\"type\":\"scatterternary\"}],\"surface\":[{\"colorbar\":{\"outlinewidth\":0,\"ticks\":\"\"},\"colorscale\":[[0.0,\"#0d0887\"],[0.1111111111111111,\"#46039f\"],[0.2222222222222222,\"#7201a8\"],[0.3333333333333333,\"#9c179e\"],[0.4444444444444444,\"#bd3786\"],[0.5555555555555556,\"#d8576b\"],[0.6666666666666666,\"#ed7953\"],[0.7777777777777778,\"#fb9f3a\"],[0.8888888888888888,\"#fdca26\"],[1.0,\"#f0f921\"]],\"type\":\"surface\"}],\"table\":[{\"cells\":{\"fill\":{\"color\":\"#EBF0F8\"},\"line\":{\"color\":\"white\"}},\"header\":{\"fill\":{\"color\":\"#C8D4E3\"},\"line\":{\"color\":\"white\"}},\"type\":\"table\"}]},\"layout\":{\"annotationdefaults\":{\"arrowcolor\":\"#2a3f5f\",\"arrowhead\":0,\"arrowwidth\":1},\"autotypenumbers\":\"strict\",\"coloraxis\":{\"colorbar\":{\"outlinewidth\":0,\"ticks\":\"\"}},\"colorscale\":{\"diverging\":[[0,\"#8e0152\"],[0.1,\"#c51b7d\"],[0.2,\"#de77ae\"],[0.3,\"#f1b6da\"],[0.4,\"#fde0ef\"],[0.5,\"#f7f7f7\"],[0.6,\"#e6f5d0\"],[0.7,\"#b8e186\"],[0.8,\"#7fbc41\"],[0.9,\"#4d9221\"],[1,\"#276419\"]],\"sequential\":[[0.0,\"#0d0887\"],[0.1111111111111111,\"#46039f\"],[0.2222222222222222,\"#7201a8\"],[0.3333333333333333,\"#9c179e\"],[0.4444444444444444,\"#bd3786\"],[0.5555555555555556,\"#d8576b\"],[0.6666666666666666,\"#ed7953\"],[0.7777777777777778,\"#fb9f3a\"],[0.8888888888888888,\"#fdca26\"],[1.0,\"#f0f921\"]],\"sequentialminus\":[[0.0,\"#0d0887\"],[0.1111111111111111,\"#46039f\"],[0.2222222222222222,\"#7201a8\"],[0.3333333333333333,\"#9c179e\"],[0.4444444444444444,\"#bd3786\"],[0.5555555555555556,\"#d8576b\"],[0.6666666666666666,\"#ed7953\"],[0.7777777777777778,\"#fb9f3a\"],[0.8888888888888888,\"#fdca26\"],[1.0,\"#f0f921\"]]},\"colorway\":[\"#636efa\",\"#EF553B\",\"#00cc96\",\"#ab63fa\",\"#FFA15A\",\"#19d3f3\",\"#FF6692\",\"#B6E880\",\"#FF97FF\",\"#FECB52\"],\"font\":{\"color\":\"#2a3f5f\"},\"geo\":{\"bgcolor\":\"white\",\"lakecolor\":\"white\",\"landcolor\":\"#E5ECF6\",\"showlakes\":true,\"showland\":true,\"subunitcolor\":\"white\"},\"hoverlabel\":{\"align\":\"left\"},\"hovermode\":\"closest\",\"mapbox\":{\"style\":\"light\"},\"paper_bgcolor\":\"white\",\"plot_bgcolor\":\"#E5ECF6\",\"polar\":{\"angularaxis\":{\"gridcolor\":\"white\",\"linecolor\":\"white\",\"ticks\":\"\"},\"bgcolor\":\"#E5ECF6\",\"radialaxis\":{\"gridcolor\":\"white\",\"linecolor\":\"white\",\"ticks\":\"\"}},\"scene\":{\"xaxis\":{\"backgroundcolor\":\"#E5ECF6\",\"gridcolor\":\"white\",\"gridwidth\":2,\"linecolor\":\"white\",\"showbackground\":true,\"ticks\":\"\",\"zerolinecolor\":\"white\"},\"yaxis\":{\"backgroundcolor\":\"#E5ECF6\",\"gridcolor\":\"white\",\"gridwidth\":2,\"linecolor\":\"white\",\"showbackground\":true,\"ticks\":\"\",\"zerolinecolor\":\"white\"},\"zaxis\":{\"backgroundcolor\":\"#E5ECF6\",\"gridcolor\":\"white\",\"gridwidth\":2,\"linecolor\":\"white\",\"showbackground\":true,\"ticks\":\"\",\"zerolinecolor\":\"white\"}},\"shapedefaults\":{\"line\":{\"color\":\"#2a3f5f\"}},\"ternary\":{\"aaxis\":{\"gridcolor\":\"white\",\"linecolor\":\"white\",\"ticks\":\"\"},\"baxis\":{\"gridcolor\":\"white\",\"linecolor\":\"white\",\"ticks\":\"\"},\"bgcolor\":\"#E5ECF6\",\"caxis\":{\"gridcolor\":\"white\",\"linecolor\":\"white\",\"ticks\":\"\"}},\"title\":{\"x\":0.05},\"xaxis\":{\"automargin\":true,\"gridcolor\":\"white\",\"linecolor\":\"white\",\"ticks\":\"\",\"title\":{\"standoff\":15},\"zerolinecolor\":\"white\",\"zerolinewidth\":2},\"yaxis\":{\"automargin\":true,\"gridcolor\":\"white\",\"linecolor\":\"white\",\"ticks\":\"\",\"title\":{\"standoff\":15},\"zerolinecolor\":\"white\",\"zerolinewidth\":2}}},\"xaxis\":{\"dtick\":1,\"gridcolor\":\"rgb(0, 0, 0)\",\"side\":\"top\",\"ticks\":\"\"},\"yaxis\":{\"dtick\":1,\"ticks\":\"\",\"ticksuffix\":\"  \"}},                        {\"responsive\": true}                    ).then(function(){\n",
       "                            \n",
       "var gd = document.getElementById('1cacf1a8-d7c4-422e-82c4-93857ecc8ecb');\n",
       "var x = new MutationObserver(function (mutations, observer) {{\n",
       "        var display = window.getComputedStyle(gd).display;\n",
       "        if (!display || display === 'none') {{\n",
       "            console.log([gd, 'removed!']);\n",
       "            Plotly.purge(gd);\n",
       "            observer.disconnect();\n",
       "        }}\n",
       "}});\n",
       "\n",
       "// Listen for the removal of the full notebook cells\n",
       "var notebookContainer = gd.closest('#notebook-container');\n",
       "if (notebookContainer) {{\n",
       "    x.observe(notebookContainer, {childList: true});\n",
       "}}\n",
       "\n",
       "// Listen for the clearing of the current output cell\n",
       "var outputEl = gd.closest('.output');\n",
       "if (outputEl) {{\n",
       "    x.observe(outputEl, {childList: true});\n",
       "}}\n",
       "\n",
       "                        })                };                });            </script>        </div>"
      ]
     },
     "metadata": {},
     "output_type": "display_data"
    }
   ],
   "source": [
    "corrs = df.corr()\n",
    "\n",
    "figure = ff.create_annotated_heatmap(\n",
    "    z=corrs.values,\n",
    "    x=list(corrs.columns),\n",
    "    y=list(corrs.index),\n",
    "    annotation_text=corrs.round(2).values,\n",
    "    showscale=True)\n",
    "\n",
    "figure.show()\n",
    "\n",
    "# По тепловой карте видно, что у переменной RainTomorrow нет сильной корреляции с другими переменными (не считая Sunshine),\n",
    "# но можно увидеть сильную зависимость Sunshine от Cloud, Evaporation от MaxTemp и так далее \n",
    "# (если значение больше 0.5, то это уже говорит о средней зависимости, с 0.7 - высокая)"
   ]
  },
  {
   "cell_type": "code",
   "execution_count": 11,
   "id": "f9111156",
   "metadata": {},
   "outputs": [],
   "source": [
    "# Задание 2:\n",
    "\n",
    "# Данные, которые мы видим, представлены в табличном формате и имеют несколько проблем, требующих решения:\n",
    "\n",
    "# 1) Есть пропущенные значения (вероятно, некоторые колонки или строчки следовательно необходимо убрать)\n",
    "# 2) Некоторые признаки представлены не в виде числовых данных (нужно закодировать с помощью Label Encoder)\n",
    "# 3) Дизбаланс данных (не каждый метод оценки подойдет)\n",
    "# 4) Данные имеют разный разброс. Вероятно, требуется скейлинг"
   ]
  },
  {
   "cell_type": "code",
   "execution_count": 12,
   "id": "eb013539",
   "metadata": {},
   "outputs": [],
   "source": [
    "df = df.drop(columns=['RainTomorrow']).rename(columns={'RainTomorrow_int': 'RainTomorrow'})"
   ]
  },
  {
   "cell_type": "code",
   "execution_count": 13,
   "id": "0bda9064",
   "metadata": {},
   "outputs": [
    {
     "data": {
      "text/html": [
       "<div>\n",
       "<style scoped>\n",
       "    .dataframe tbody tr th:only-of-type {\n",
       "        vertical-align: middle;\n",
       "    }\n",
       "\n",
       "    .dataframe tbody tr th {\n",
       "        vertical-align: top;\n",
       "    }\n",
       "\n",
       "    .dataframe thead th {\n",
       "        text-align: right;\n",
       "    }\n",
       "</style>\n",
       "<table border=\"1\" class=\"dataframe\">\n",
       "  <thead>\n",
       "    <tr style=\"text-align: right;\">\n",
       "      <th></th>\n",
       "      <th>Location</th>\n",
       "      <th>MinTemp</th>\n",
       "      <th>MaxTemp</th>\n",
       "      <th>Rainfall</th>\n",
       "      <th>Evaporation</th>\n",
       "      <th>Sunshine</th>\n",
       "      <th>WindGustDir</th>\n",
       "      <th>WindGustSpeed</th>\n",
       "      <th>WindDir9am</th>\n",
       "      <th>WindDir3pm</th>\n",
       "      <th>...</th>\n",
       "      <th>WindSpeed3pm</th>\n",
       "      <th>Humidity9am</th>\n",
       "      <th>Humidity3pm</th>\n",
       "      <th>Pressure9am</th>\n",
       "      <th>Pressure3pm</th>\n",
       "      <th>Cloud9am</th>\n",
       "      <th>Cloud3pm</th>\n",
       "      <th>Temp9am</th>\n",
       "      <th>Temp3pm</th>\n",
       "      <th>RainTomorrow</th>\n",
       "    </tr>\n",
       "  </thead>\n",
       "  <tbody>\n",
       "    <tr>\n",
       "      <th>140623</th>\n",
       "      <td>6</td>\n",
       "      <td>20.2</td>\n",
       "      <td>33.9</td>\n",
       "      <td>0.0</td>\n",
       "      <td>7.0</td>\n",
       "      <td>10.9</td>\n",
       "      <td>3</td>\n",
       "      <td>37.0</td>\n",
       "      <td>4</td>\n",
       "      <td>6</td>\n",
       "      <td>...</td>\n",
       "      <td>26.0</td>\n",
       "      <td>45.0</td>\n",
       "      <td>31.0</td>\n",
       "      <td>1014.5</td>\n",
       "      <td>1009.9</td>\n",
       "      <td>2.0</td>\n",
       "      <td>4.0</td>\n",
       "      <td>28.5</td>\n",
       "      <td>32.4</td>\n",
       "      <td>0</td>\n",
       "    </tr>\n",
       "    <tr>\n",
       "      <th>76917</th>\n",
       "      <td>17</td>\n",
       "      <td>5.8</td>\n",
       "      <td>13.1</td>\n",
       "      <td>1.4</td>\n",
       "      <td>0.8</td>\n",
       "      <td>5.6</td>\n",
       "      <td>14</td>\n",
       "      <td>19.0</td>\n",
       "      <td>7</td>\n",
       "      <td>10</td>\n",
       "      <td>...</td>\n",
       "      <td>9.0</td>\n",
       "      <td>99.0</td>\n",
       "      <td>83.0</td>\n",
       "      <td>1029.2</td>\n",
       "      <td>1026.5</td>\n",
       "      <td>8.0</td>\n",
       "      <td>8.0</td>\n",
       "      <td>8.9</td>\n",
       "      <td>11.6</td>\n",
       "      <td>0</td>\n",
       "    </tr>\n",
       "    <tr>\n",
       "      <th>66800</th>\n",
       "      <td>9</td>\n",
       "      <td>10.0</td>\n",
       "      <td>20.7</td>\n",
       "      <td>0.0</td>\n",
       "      <td>2.8</td>\n",
       "      <td>2.2</td>\n",
       "      <td>3</td>\n",
       "      <td>80.0</td>\n",
       "      <td>5</td>\n",
       "      <td>3</td>\n",
       "      <td>...</td>\n",
       "      <td>39.0</td>\n",
       "      <td>62.0</td>\n",
       "      <td>48.0</td>\n",
       "      <td>1017.1</td>\n",
       "      <td>1012.5</td>\n",
       "      <td>7.0</td>\n",
       "      <td>7.0</td>\n",
       "      <td>15.9</td>\n",
       "      <td>20.4</td>\n",
       "      <td>0</td>\n",
       "    </tr>\n",
       "    <tr>\n",
       "      <th>104947</th>\n",
       "      <td>14</td>\n",
       "      <td>20.2</td>\n",
       "      <td>25.4</td>\n",
       "      <td>0.0</td>\n",
       "      <td>8.0</td>\n",
       "      <td>6.2</td>\n",
       "      <td>14</td>\n",
       "      <td>54.0</td>\n",
       "      <td>13</td>\n",
       "      <td>13</td>\n",
       "      <td>...</td>\n",
       "      <td>20.0</td>\n",
       "      <td>43.0</td>\n",
       "      <td>90.0</td>\n",
       "      <td>1014.1</td>\n",
       "      <td>1012.7</td>\n",
       "      <td>7.0</td>\n",
       "      <td>8.0</td>\n",
       "      <td>23.7</td>\n",
       "      <td>17.3</td>\n",
       "      <td>1</td>\n",
       "    </tr>\n",
       "    <tr>\n",
       "      <th>37696</th>\n",
       "      <td>22</td>\n",
       "      <td>3.6</td>\n",
       "      <td>22.1</td>\n",
       "      <td>0.0</td>\n",
       "      <td>3.0</td>\n",
       "      <td>11.2</td>\n",
       "      <td>15</td>\n",
       "      <td>22.0</td>\n",
       "      <td>1</td>\n",
       "      <td>15</td>\n",
       "      <td>...</td>\n",
       "      <td>13.0</td>\n",
       "      <td>67.0</td>\n",
       "      <td>32.0</td>\n",
       "      <td>1034.6</td>\n",
       "      <td>1030.5</td>\n",
       "      <td>0.0</td>\n",
       "      <td>0.0</td>\n",
       "      <td>11.5</td>\n",
       "      <td>21.9</td>\n",
       "      <td>0</td>\n",
       "    </tr>\n",
       "    <tr>\n",
       "      <th>101886</th>\n",
       "      <td>12</td>\n",
       "      <td>2.4</td>\n",
       "      <td>12.8</td>\n",
       "      <td>0.0</td>\n",
       "      <td>3.0</td>\n",
       "      <td>5.3</td>\n",
       "      <td>8</td>\n",
       "      <td>35.0</td>\n",
       "      <td>9</td>\n",
       "      <td>8</td>\n",
       "      <td>...</td>\n",
       "      <td>20.0</td>\n",
       "      <td>56.0</td>\n",
       "      <td>66.0</td>\n",
       "      <td>1030.2</td>\n",
       "      <td>1028.7</td>\n",
       "      <td>3.0</td>\n",
       "      <td>8.0</td>\n",
       "      <td>10.2</td>\n",
       "      <td>10.2</td>\n",
       "      <td>1</td>\n",
       "    </tr>\n",
       "    <tr>\n",
       "      <th>9620</th>\n",
       "      <td>5</td>\n",
       "      <td>4.5</td>\n",
       "      <td>18.2</td>\n",
       "      <td>0.0</td>\n",
       "      <td>2.8</td>\n",
       "      <td>9.8</td>\n",
       "      <td>11</td>\n",
       "      <td>31.0</td>\n",
       "      <td>12</td>\n",
       "      <td>9</td>\n",
       "      <td>...</td>\n",
       "      <td>15.0</td>\n",
       "      <td>60.0</td>\n",
       "      <td>57.0</td>\n",
       "      <td>1026.9</td>\n",
       "      <td>1024.5</td>\n",
       "      <td>1.0</td>\n",
       "      <td>1.0</td>\n",
       "      <td>13.9</td>\n",
       "      <td>17.2</td>\n",
       "      <td>0</td>\n",
       "    </tr>\n",
       "    <tr>\n",
       "      <th>23566</th>\n",
       "      <td>13</td>\n",
       "      <td>19.1</td>\n",
       "      <td>25.2</td>\n",
       "      <td>0.0</td>\n",
       "      <td>5.2</td>\n",
       "      <td>7.6</td>\n",
       "      <td>5</td>\n",
       "      <td>37.0</td>\n",
       "      <td>5</td>\n",
       "      <td>4</td>\n",
       "      <td>...</td>\n",
       "      <td>20.0</td>\n",
       "      <td>69.0</td>\n",
       "      <td>72.0</td>\n",
       "      <td>1015.9</td>\n",
       "      <td>1014.0</td>\n",
       "      <td>7.0</td>\n",
       "      <td>7.0</td>\n",
       "      <td>22.9</td>\n",
       "      <td>22.9</td>\n",
       "      <td>0</td>\n",
       "    </tr>\n",
       "    <tr>\n",
       "      <th>84302</th>\n",
       "      <td>1</td>\n",
       "      <td>16.5</td>\n",
       "      <td>27.2</td>\n",
       "      <td>1.0</td>\n",
       "      <td>4.2</td>\n",
       "      <td>9.8</td>\n",
       "      <td>10</td>\n",
       "      <td>31.0</td>\n",
       "      <td>11</td>\n",
       "      <td>11</td>\n",
       "      <td>...</td>\n",
       "      <td>11.0</td>\n",
       "      <td>62.0</td>\n",
       "      <td>43.0</td>\n",
       "      <td>1017.9</td>\n",
       "      <td>1014.4</td>\n",
       "      <td>2.0</td>\n",
       "      <td>3.0</td>\n",
       "      <td>21.9</td>\n",
       "      <td>26.5</td>\n",
       "      <td>0</td>\n",
       "    </tr>\n",
       "    <tr>\n",
       "      <th>118198</th>\n",
       "      <td>16</td>\n",
       "      <td>7.7</td>\n",
       "      <td>20.0</td>\n",
       "      <td>0.0</td>\n",
       "      <td>3.2</td>\n",
       "      <td>7.2</td>\n",
       "      <td>3</td>\n",
       "      <td>35.0</td>\n",
       "      <td>4</td>\n",
       "      <td>5</td>\n",
       "      <td>...</td>\n",
       "      <td>17.0</td>\n",
       "      <td>52.0</td>\n",
       "      <td>32.0</td>\n",
       "      <td>1027.8</td>\n",
       "      <td>1022.8</td>\n",
       "      <td>7.0</td>\n",
       "      <td>7.0</td>\n",
       "      <td>11.9</td>\n",
       "      <td>19.5</td>\n",
       "      <td>0</td>\n",
       "    </tr>\n",
       "  </tbody>\n",
       "</table>\n",
       "<p>10 rows × 21 columns</p>\n",
       "</div>"
      ],
      "text/plain": [
       "        Location  MinTemp  MaxTemp  Rainfall  Evaporation  Sunshine  \\\n",
       "140623         6     20.2     33.9       0.0          7.0      10.9   \n",
       "76917         17      5.8     13.1       1.4          0.8       5.6   \n",
       "66800          9     10.0     20.7       0.0          2.8       2.2   \n",
       "104947        14     20.2     25.4       0.0          8.0       6.2   \n",
       "37696         22      3.6     22.1       0.0          3.0      11.2   \n",
       "101886        12      2.4     12.8       0.0          3.0       5.3   \n",
       "9620           5      4.5     18.2       0.0          2.8       9.8   \n",
       "23566         13     19.1     25.2       0.0          5.2       7.6   \n",
       "84302          1     16.5     27.2       1.0          4.2       9.8   \n",
       "118198        16      7.7     20.0       0.0          3.2       7.2   \n",
       "\n",
       "        WindGustDir  WindGustSpeed  WindDir9am  WindDir3pm  ...  WindSpeed3pm  \\\n",
       "140623            3           37.0           4           6  ...          26.0   \n",
       "76917            14           19.0           7          10  ...           9.0   \n",
       "66800             3           80.0           5           3  ...          39.0   \n",
       "104947           14           54.0          13          13  ...          20.0   \n",
       "37696            15           22.0           1          15  ...          13.0   \n",
       "101886            8           35.0           9           8  ...          20.0   \n",
       "9620             11           31.0          12           9  ...          15.0   \n",
       "23566             5           37.0           5           4  ...          20.0   \n",
       "84302            10           31.0          11          11  ...          11.0   \n",
       "118198            3           35.0           4           5  ...          17.0   \n",
       "\n",
       "        Humidity9am  Humidity3pm  Pressure9am  Pressure3pm  Cloud9am  \\\n",
       "140623         45.0         31.0       1014.5       1009.9       2.0   \n",
       "76917          99.0         83.0       1029.2       1026.5       8.0   \n",
       "66800          62.0         48.0       1017.1       1012.5       7.0   \n",
       "104947         43.0         90.0       1014.1       1012.7       7.0   \n",
       "37696          67.0         32.0       1034.6       1030.5       0.0   \n",
       "101886         56.0         66.0       1030.2       1028.7       3.0   \n",
       "9620           60.0         57.0       1026.9       1024.5       1.0   \n",
       "23566          69.0         72.0       1015.9       1014.0       7.0   \n",
       "84302          62.0         43.0       1017.9       1014.4       2.0   \n",
       "118198         52.0         32.0       1027.8       1022.8       7.0   \n",
       "\n",
       "        Cloud3pm  Temp9am  Temp3pm  RainTomorrow  \n",
       "140623       4.0     28.5     32.4             0  \n",
       "76917        8.0      8.9     11.6             0  \n",
       "66800        7.0     15.9     20.4             0  \n",
       "104947       8.0     23.7     17.3             1  \n",
       "37696        0.0     11.5     21.9             0  \n",
       "101886       8.0     10.2     10.2             1  \n",
       "9620         1.0     13.9     17.2             0  \n",
       "23566        7.0     22.9     22.9             0  \n",
       "84302        3.0     21.9     26.5             0  \n",
       "118198       7.0     11.9     19.5             0  \n",
       "\n",
       "[10 rows x 21 columns]"
      ]
     },
     "execution_count": 13,
     "metadata": {},
     "output_type": "execute_result"
    }
   ],
   "source": [
    "le = LabelEncoder()\n",
    "df['Location'] = le.fit_transform(df['Location'])\n",
    "df['WindGustDir'] = le.fit_transform(df['WindGustDir'])\n",
    "df['WindDir9am'] = le.fit_transform(df['WindDir9am'])\n",
    "df['WindDir3pm'] = le.fit_transform(df['WindDir3pm'])\n",
    "\n",
    "df.sample(10)"
   ]
  },
  {
   "cell_type": "code",
   "execution_count": 14,
   "id": "d2f4b540",
   "metadata": {},
   "outputs": [
    {
     "data": {
      "text/html": [
       "<div>\n",
       "<style scoped>\n",
       "    .dataframe tbody tr th:only-of-type {\n",
       "        vertical-align: middle;\n",
       "    }\n",
       "\n",
       "    .dataframe tbody tr th {\n",
       "        vertical-align: top;\n",
       "    }\n",
       "\n",
       "    .dataframe thead th {\n",
       "        text-align: right;\n",
       "    }\n",
       "</style>\n",
       "<table border=\"1\" class=\"dataframe\">\n",
       "  <thead>\n",
       "    <tr style=\"text-align: right;\">\n",
       "      <th></th>\n",
       "      <th>Location</th>\n",
       "      <th>MinTemp</th>\n",
       "      <th>MaxTemp</th>\n",
       "      <th>Rainfall</th>\n",
       "      <th>Evaporation</th>\n",
       "      <th>Sunshine</th>\n",
       "      <th>WindGustDir</th>\n",
       "      <th>WindGustSpeed</th>\n",
       "      <th>WindDir9am</th>\n",
       "      <th>WindDir3pm</th>\n",
       "      <th>...</th>\n",
       "      <th>WindSpeed3pm</th>\n",
       "      <th>Humidity9am</th>\n",
       "      <th>Humidity3pm</th>\n",
       "      <th>Pressure9am</th>\n",
       "      <th>Pressure3pm</th>\n",
       "      <th>Cloud9am</th>\n",
       "      <th>Cloud3pm</th>\n",
       "      <th>Temp9am</th>\n",
       "      <th>Temp3pm</th>\n",
       "      <th>RainTomorrow</th>\n",
       "    </tr>\n",
       "  </thead>\n",
       "  <tbody>\n",
       "    <tr>\n",
       "      <th>132291</th>\n",
       "      <td>7</td>\n",
       "      <td>-0.773735</td>\n",
       "      <td>-1.853381</td>\n",
       "      <td>1.036330</td>\n",
       "      <td>-1.380625</td>\n",
       "      <td>-1.792286</td>\n",
       "      <td>8</td>\n",
       "      <td>0.984066</td>\n",
       "      <td>8</td>\n",
       "      <td>8</td>\n",
       "      <td>...</td>\n",
       "      <td>-0.327467</td>\n",
       "      <td>1.411208</td>\n",
       "      <td>1.208010</td>\n",
       "      <td>-0.135977</td>\n",
       "      <td>0.451826</td>\n",
       "      <td>1.343622</td>\n",
       "      <td>0.632165</td>\n",
       "      <td>-1.325373</td>\n",
       "      <td>-1.756800</td>\n",
       "      <td>1</td>\n",
       "    </tr>\n",
       "    <tr>\n",
       "      <th>104309</th>\n",
       "      <td>14</td>\n",
       "      <td>-0.088017</td>\n",
       "      <td>1.001460</td>\n",
       "      <td>-0.303702</td>\n",
       "      <td>0.675513</td>\n",
       "      <td>1.480627</td>\n",
       "      <td>9</td>\n",
       "      <td>-0.590724</td>\n",
       "      <td>9</td>\n",
       "      <td>0</td>\n",
       "      <td>...</td>\n",
       "      <td>-0.797496</td>\n",
       "      <td>-0.533358</td>\n",
       "      <td>-0.673470</td>\n",
       "      <td>-0.685961</td>\n",
       "      <td>-0.683408</td>\n",
       "      <td>-1.516445</td>\n",
       "      <td>-1.634357</td>\n",
       "      <td>-0.137785</td>\n",
       "      <td>0.217900</td>\n",
       "      <td>0</td>\n",
       "    </tr>\n",
       "    <tr>\n",
       "      <th>89347</th>\n",
       "      <td>2</td>\n",
       "      <td>2.015891</td>\n",
       "      <td>1.202303</td>\n",
       "      <td>0.466103</td>\n",
       "      <td>0.404968</td>\n",
       "      <td>-0.009480</td>\n",
       "      <td>15</td>\n",
       "      <td>-0.965674</td>\n",
       "      <td>15</td>\n",
       "      <td>3</td>\n",
       "      <td>...</td>\n",
       "      <td>-0.562482</td>\n",
       "      <td>0.763020</td>\n",
       "      <td>1.307036</td>\n",
       "      <td>-1.337257</td>\n",
       "      <td>-1.483893</td>\n",
       "      <td>1.343622</td>\n",
       "      <td>0.254411</td>\n",
       "      <td>1.658823</td>\n",
       "      <td>1.227191</td>\n",
       "      <td>0</td>\n",
       "    </tr>\n",
       "    <tr>\n",
       "      <th>118780</th>\n",
       "      <td>16</td>\n",
       "      <td>-0.539967</td>\n",
       "      <td>0.499353</td>\n",
       "      <td>-0.303702</td>\n",
       "      <td>-0.027903</td>\n",
       "      <td>0.815401</td>\n",
       "      <td>12</td>\n",
       "      <td>-0.140784</td>\n",
       "      <td>11</td>\n",
       "      <td>15</td>\n",
       "      <td>...</td>\n",
       "      <td>0.965114</td>\n",
       "      <td>-0.101232</td>\n",
       "      <td>-0.673470</td>\n",
       "      <td>0.153488</td>\n",
       "      <td>0.204403</td>\n",
       "      <td>-1.516445</td>\n",
       "      <td>-1.634357</td>\n",
       "      <td>0.273303</td>\n",
       "      <td>0.525075</td>\n",
       "      <td>0</td>\n",
       "    </tr>\n",
       "    <tr>\n",
       "      <th>78218</th>\n",
       "      <td>23</td>\n",
       "      <td>-1.007502</td>\n",
       "      <td>-1.207814</td>\n",
       "      <td>-0.303702</td>\n",
       "      <td>-0.460774</td>\n",
       "      <td>0.043738</td>\n",
       "      <td>3</td>\n",
       "      <td>-0.740704</td>\n",
       "      <td>6</td>\n",
       "      <td>6</td>\n",
       "      <td>...</td>\n",
       "      <td>-0.327467</td>\n",
       "      <td>0.492941</td>\n",
       "      <td>0.366295</td>\n",
       "      <td>1.485028</td>\n",
       "      <td>1.499734</td>\n",
       "      <td>-0.443920</td>\n",
       "      <td>-0.123342</td>\n",
       "      <td>-1.234020</td>\n",
       "      <td>-1.113194</td>\n",
       "      <td>0</td>\n",
       "    </tr>\n",
       "  </tbody>\n",
       "</table>\n",
       "<p>5 rows × 21 columns</p>\n",
       "</div>"
      ],
      "text/plain": [
       "        Location   MinTemp   MaxTemp  Rainfall  Evaporation  Sunshine  \\\n",
       "132291         7 -0.773735 -1.853381  1.036330    -1.380625 -1.792286   \n",
       "104309        14 -0.088017  1.001460 -0.303702     0.675513  1.480627   \n",
       "89347          2  2.015891  1.202303  0.466103     0.404968 -0.009480   \n",
       "118780        16 -0.539967  0.499353 -0.303702    -0.027903  0.815401   \n",
       "78218         23 -1.007502 -1.207814 -0.303702    -0.460774  0.043738   \n",
       "\n",
       "        WindGustDir  WindGustSpeed  WindDir9am  WindDir3pm  ...  WindSpeed3pm  \\\n",
       "132291            8       0.984066           8           8  ...     -0.327467   \n",
       "104309            9      -0.590724           9           0  ...     -0.797496   \n",
       "89347            15      -0.965674          15           3  ...     -0.562482   \n",
       "118780           12      -0.140784          11          15  ...      0.965114   \n",
       "78218             3      -0.740704           6           6  ...     -0.327467   \n",
       "\n",
       "        Humidity9am  Humidity3pm  Pressure9am  Pressure3pm  Cloud9am  \\\n",
       "132291     1.411208     1.208010    -0.135977     0.451826  1.343622   \n",
       "104309    -0.533358    -0.673470    -0.685961    -0.683408 -1.516445   \n",
       "89347      0.763020     1.307036    -1.337257    -1.483893  1.343622   \n",
       "118780    -0.101232    -0.673470     0.153488     0.204403 -1.516445   \n",
       "78218      0.492941     0.366295     1.485028     1.499734 -0.443920   \n",
       "\n",
       "        Cloud3pm   Temp9am   Temp3pm  RainTomorrow  \n",
       "132291  0.632165 -1.325373 -1.756800             1  \n",
       "104309 -1.634357 -0.137785  0.217900             0  \n",
       "89347   0.254411  1.658823  1.227191             0  \n",
       "118780 -1.634357  0.273303  0.525075             0  \n",
       "78218  -0.123342 -1.234020 -1.113194             0  \n",
       "\n",
       "[5 rows x 21 columns]"
      ]
     },
     "execution_count": 14,
     "metadata": {},
     "output_type": "execute_result"
    }
   ],
   "source": [
    "scaler = StandardScaler()\n",
    "df[['Humidity9am', 'Humidity3pm']] = scaler.fit_transform(df[['Humidity9am', 'Humidity3pm']])\n",
    "df[['MinTemp', 'MaxTemp']] = scaler.fit_transform(df[['MinTemp', 'MaxTemp']])\n",
    "df[['Rainfall', 'WindGustSpeed']] = scaler.fit_transform(df[['Rainfall', 'WindGustSpeed']])\n",
    "df[['Sunshine', 'Evaporation']] = scaler.fit_transform(df[['Sunshine', 'Evaporation']])\n",
    "df[['WindSpeed9am', 'WindSpeed3pm']] = scaler.fit_transform(df[['WindSpeed9am', 'WindSpeed3pm']])\n",
    "df[['Pressure9am', 'Pressure3pm']] = scaler.fit_transform(df[['Pressure9am', 'Pressure3pm']])\n",
    "df[['Cloud9am', 'Cloud3pm']] = scaler.fit_transform(df[['Cloud9am', 'Cloud3pm']])\n",
    "df[['Temp9am', 'Temp3pm']] = scaler.fit_transform(df[['Temp9am', 'Temp3pm']])\n",
    "\n",
    "df.sample(5)"
   ]
  },
  {
   "cell_type": "code",
   "execution_count": 15,
   "id": "79ec0326",
   "metadata": {},
   "outputs": [],
   "source": [
    "X = df.drop(['RainTomorrow'], axis=1).values\n",
    "y = df['RainTomorrow'].values\n",
    "\n",
    "X_train, X_test, y_train, y_test = train_test_split(X, y, shuffle=True, random_state=42, test_size=0.25)"
   ]
  },
  {
   "cell_type": "code",
   "execution_count": 16,
   "id": "d62640a2",
   "metadata": {},
   "outputs": [],
   "source": [
    "# Задание 3: Построить свой DataLoader\n",
    "\n",
    "class DataLoader:\n",
    "\n",
    "    def __init__(self, X_data, y_data, batch_size=64, shuffle=True):\n",
    "        self.X_data = X_data\n",
    "        self.y_data = y_data\n",
    "        self.batch_size = batch_size\n",
    "        self.data_indexes = list(range(len(self.X_data)))\n",
    "        if shuffle:\n",
    "            np.random.shuffle(self.data_indexes)\n",
    "\n",
    "    def __getitem__(self, index):\n",
    "        return self.X_data[index], self.y_data[index]\n",
    "\n",
    "    def __len__(self):\n",
    "        length = len(self.data_indexes)\n",
    "        quotient = length // self.batch_size\n",
    "        reminder = length % self.batch_size\n",
    "        if reminder != 0:\n",
    "            quotient += 1\n",
    "        return quotient\n",
    "\n",
    "    def __iter__(self):\n",
    "        return self._create_our_iterator()\n",
    "\n",
    "    def _create_our_iterator(self):\n",
    "        # Это генераторная функция - вернёт генератор\n",
    "        features = []\n",
    "        labels = []\n",
    "        n = 0\n",
    "        for i in self.data_indexes:\n",
    "            features.append(self.X_data[i])\n",
    "            labels.append(self.y_data[i])\n",
    "            n += 1\n",
    "            if n == self.batch_size:\n",
    "                yield features, labels\n",
    "                n = 0\n",
    "                features = []\n",
    "                labels = []\n",
    "        if features and labels:\n",
    "            yield features, labels"
   ]
  },
  {
   "cell_type": "code",
   "execution_count": 17,
   "id": "1ea56eef",
   "metadata": {},
   "outputs": [],
   "source": [
    "train_loader = DataLoader(X_data=X_train, y_data=y_train)\n",
    "test_loader = DataLoader(X_data=X_test, y_data=y_test)"
   ]
  },
  {
   "cell_type": "code",
   "execution_count": 18,
   "id": "60b0d7bf",
   "metadata": {},
   "outputs": [],
   "source": [
    "class ShallowPerceptron(nn.Module):\n",
    "\n",
    "    def __init__(self, n_features, hidden_size):\n",
    "        super(ShallowPerceptron, self).__init__()\n",
    "\n",
    "        self.layer_1 = nn.Linear(n_features, hidden_size)\n",
    "        self.layer_2 = nn.Linear(hidden_size, hidden_size)\n",
    "        self.layer_out = nn.Linear(hidden_size, 1)\n",
    "\n",
    "        # Read about ReLU: https://www.kaggle.com/dansbecker/rectified-linear-units-relu-in-deep-learning\n",
    "        self.relu = nn.ReLU()\n",
    "\n",
    "        # Read about Dropout: https://jmlr.org/papers/volume15/srivastava14a/srivastava14a.pdf\n",
    "        self.dropout = nn.Dropout(p=0.1)\n",
    "\n",
    "    def forward(self, inputs):\n",
    "        # Каждый слой по сути является функцией, в которую передаются некоторые input\n",
    "        # Очередность: layer_1 --> relu --> layer_2 --> relu --> dropout --> layer_out\n",
    "        x = self.layer_1(inputs)\n",
    "        x = self.relu(x)\n",
    "        x = self.layer_2(x)\n",
    "        x = self.relu(x)\n",
    "        x = self.dropout(x)\n",
    "        x = self.layer_out(x)\n",
    "        return x"
   ]
  },
  {
   "cell_type": "code",
   "execution_count": 19,
   "id": "c4db185a",
   "metadata": {},
   "outputs": [
    {
     "name": "stdout",
     "output_type": "stream",
     "text": [
      "ShallowPerceptron(\n",
      "  (layer_1): Linear(in_features=20, out_features=100, bias=True)\n",
      "  (layer_2): Linear(in_features=100, out_features=100, bias=True)\n",
      "  (layer_out): Linear(in_features=100, out_features=1, bias=True)\n",
      "  (relu): ReLU()\n",
      "  (dropout): Dropout(p=0.1, inplace=False)\n",
      ")\n"
     ]
    }
   ],
   "source": [
    "EPOCHS = 50\n",
    "BATCH_SIZE = 64\n",
    "LEARNING_RATE = 0.001\n",
    "\n",
    "model = ShallowPerceptron(n_features=X_train.shape[1], hidden_size=100)\n",
    "print(model)\n",
    "criterion = nn.BCEWithLogitsLoss()\n",
    "optimizer = optim.Adam(model.parameters(), lr=LEARNING_RATE)\n"
   ]
  },
  {
   "cell_type": "code",
   "execution_count": 20,
   "id": "dfbb266e",
   "metadata": {},
   "outputs": [
    {
     "name": "stdout",
     "output_type": "stream",
     "text": [
      "Epoch 0: loss = 0.36, F1 = 0.84\n",
      "Epoch 1: loss = 0.34, F1 = 0.85\n",
      "Epoch 2: loss = 0.33, F1 = 0.85\n",
      "Epoch 3: loss = 0.33, F1 = 0.86\n",
      "Epoch 4: loss = 0.32, F1 = 0.86\n",
      "Epoch 5: loss = 0.32, F1 = 0.86\n",
      "Epoch 6: loss = 0.32, F1 = 0.86\n",
      "Epoch 7: loss = 0.32, F1 = 0.86\n",
      "Epoch 8: loss = 0.32, F1 = 0.86\n",
      "Epoch 9: loss = 0.31, F1 = 0.86\n",
      "Epoch 10: loss = 0.31, F1 = 0.86\n",
      "Epoch 11: loss = 0.31, F1 = 0.86\n",
      "Epoch 12: loss = 0.31, F1 = 0.87\n",
      "Epoch 13: loss = 0.31, F1 = 0.87\n",
      "Epoch 14: loss = 0.31, F1 = 0.87\n",
      "Epoch 15: loss = 0.3, F1 = 0.87\n",
      "Epoch 16: loss = 0.3, F1 = 0.87\n",
      "Epoch 17: loss = 0.3, F1 = 0.87\n",
      "Epoch 18: loss = 0.3, F1 = 0.87\n",
      "Epoch 19: loss = 0.3, F1 = 0.87\n",
      "Epoch 20: loss = 0.3, F1 = 0.87\n",
      "Epoch 21: loss = 0.3, F1 = 0.87\n",
      "Epoch 22: loss = 0.29, F1 = 0.87\n",
      "Epoch 23: loss = 0.29, F1 = 0.87\n",
      "Epoch 24: loss = 0.29, F1 = 0.87\n",
      "Epoch 25: loss = 0.29, F1 = 0.88\n",
      "Epoch 26: loss = 0.29, F1 = 0.88\n",
      "Epoch 27: loss = 0.29, F1 = 0.88\n",
      "Epoch 28: loss = 0.29, F1 = 0.88\n",
      "Epoch 29: loss = 0.29, F1 = 0.88\n",
      "Epoch 30: loss = 0.28, F1 = 0.88\n",
      "Epoch 31: loss = 0.28, F1 = 0.88\n",
      "Epoch 32: loss = 0.28, F1 = 0.88\n",
      "Epoch 33: loss = 0.28, F1 = 0.88\n",
      "Epoch 34: loss = 0.28, F1 = 0.88\n",
      "Epoch 35: loss = 0.28, F1 = 0.88\n",
      "Epoch 36: loss = 0.28, F1 = 0.88\n",
      "Epoch 37: loss = 0.28, F1 = 0.88\n",
      "Epoch 38: loss = 0.27, F1 = 0.88\n",
      "Epoch 39: loss = 0.27, F1 = 0.88\n",
      "Epoch 40: loss = 0.27, F1 = 0.88\n",
      "Epoch 41: loss = 0.27, F1 = 0.88\n",
      "Epoch 42: loss = 0.27, F1 = 0.88\n",
      "Epoch 43: loss = 0.27, F1 = 0.89\n",
      "Epoch 44: loss = 0.27, F1 = 0.89\n",
      "Epoch 45: loss = 0.27, F1 = 0.89\n",
      "Epoch 46: loss = 0.27, F1 = 0.89\n",
      "Epoch 47: loss = 0.26, F1 = 0.89\n",
      "Epoch 48: loss = 0.26, F1 = 0.89\n",
      "Epoch 49: loss = 0.26, F1 = 0.89\n"
     ]
    }
   ],
   "source": [
    "# Задание 5: написать цикл обучения\n",
    "\n",
    "# Переводим модель в режим \"тренировки\"\n",
    "model.train()\n",
    "\n",
    "# Одна эпоха - один полный проход по данным\n",
    "for epoch in range(EPOCHS):\n",
    "\n",
    "    # На каждой эпохе необходимо отслеживать суммарный лосс и считать метрику качества\n",
    "    # В качестве метрики можно использовать F1 score\n",
    "    epoch_loss = 0\n",
    "    epoch_f1 = 0\n",
    "    for X_batch, y_batch in train_loader:\n",
    "        # Зануляем градиенты с предыдущего шага\n",
    "        optimizer.zero_grad()\n",
    "\n",
    "        # Делаем forward\n",
    "        y_pred = model(torch.FloatTensor(np.array(X_batch)))\n",
    "\n",
    "        # Считаем лосс с помощью нашего criterion\n",
    "        y_batch = torch.FloatTensor(np.array(y_batch)).unsqueeze(1)\n",
    "        loss = criterion(y_pred, y_batch)\n",
    "\n",
    "        # Считаем метрику\n",
    "        f1 = f1_score(y_batch, np.round(torch.sigmoid(y_pred).detach()), average='micro')\n",
    "\n",
    "        # Делаем backpropagation\n",
    "        loss.backward()\n",
    "\n",
    "        # Изменяем веса\n",
    "        optimizer.step()\n",
    "\n",
    "        epoch_loss += loss.item()\n",
    "        epoch_f1 += f1\n",
    "\n",
    "    # Тут нужно вывести: Номер текущей эпохи | Лосс, усредненный на количество батчей | усредненный F1\n",
    "    print(\n",
    "        f'Epoch {epoch}: '\n",
    "        f'loss = {round(epoch_loss / len(train_loader), 2)}, '\n",
    "        f'F1 = {round(epoch_f1 / len(train_loader), 2)}'\n",
    "    )"
   ]
  },
  {
   "cell_type": "code",
   "execution_count": 21,
   "id": "c6ecd389",
   "metadata": {},
   "outputs": [],
   "source": [
    "# Задание 6: Провести оценку на тестовых данных\n",
    "\n",
    "model.eval()\n",
    "y_true = []\n",
    "y_pred = []\n",
    "with torch.no_grad():\n",
    "    for X_batch, y_batch in test_loader:\n",
    "        y_test_pred = model(torch.FloatTensor(np.array(X_batch)))\n",
    "        # Нужно сохранять результаты\n",
    "        y_pred.append(np.round(torch.sigmoid(y_test_pred).detach()))\n",
    "        y_true.append(torch.FloatTensor(np.array(y_batch)).unsqueeze(1))"
   ]
  },
  {
   "cell_type": "code",
   "execution_count": 23,
   "id": "a77681eb",
   "metadata": {},
   "outputs": [
    {
     "name": "stdout",
     "output_type": "stream",
     "text": [
      "              precision    recall  f1-score   support\n",
      "\n",
      "   Wont Rain       0.88      0.95      0.91     10979\n",
      "   Will Rain       0.74      0.54      0.62      3126\n",
      "\n",
      "    accuracy                           0.86     14105\n",
      "   macro avg       0.81      0.74      0.77     14105\n",
      "weighted avg       0.85      0.86      0.85     14105\n",
      "\n"
     ]
    }
   ],
   "source": [
    "# Здесь считаем метрику на полученных предсказаниях\n",
    "print(classification_report(torch.cat(y_true), torch.cat(y_pred), target_names=['Wont Rain', 'Will Rain']))"
   ]
  }
 ],
 "metadata": {
  "kernelspec": {
   "display_name": "Python 3 (ipykernel)",
   "language": "python",
   "name": "python3"
  },
  "language_info": {
   "codemirror_mode": {
    "name": "ipython",
    "version": 3
   },
   "file_extension": ".py",
   "mimetype": "text/x-python",
   "name": "python",
   "nbconvert_exporter": "python",
   "pygments_lexer": "ipython3",
   "version": "3.9.5"
  }
 },
 "nbformat": 4,
 "nbformat_minor": 5
}
