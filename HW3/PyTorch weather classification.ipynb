{
 "cells": [
  {
   "cell_type": "code",
   "execution_count": 27,
   "id": "291fc186",
   "metadata": {},
   "outputs": [],
   "source": [
    "import pandas as pd\n",
    "import numpy as np\n",
    "\n",
    "import torch\n",
    "import torch.nn as nn\n",
    "import torch.optim as optim\n",
    "\n",
    "from sklearn.preprocessing import StandardScaler, LabelEncoder  \n",
    "from sklearn.model_selection import train_test_split\n",
    "from sklearn.metrics import confusion_matrix, classification_report\n",
    "\n",
    "import matplotlib.pyplot as plt\n",
    "import chart_studio.plotly as py\n",
    "import plotly.figure_factory as ff"
   ]
  },
  {
   "cell_type": "code",
   "execution_count": 28,
   "id": "038cbd23",
   "metadata": {},
   "outputs": [],
   "source": [
    "df = pd.read_csv('weatherAUS.csv.zip', compression='zip')\n",
    "df = df.drop(['RainToday', 'Date'], axis=1)"
   ]
  },
  {
   "cell_type": "code",
   "execution_count": 29,
   "id": "d5ee07f8",
   "metadata": {},
   "outputs": [
    {
     "data": {
      "text/html": [
       "<div>\n",
       "<style scoped>\n",
       "    .dataframe tbody tr th:only-of-type {\n",
       "        vertical-align: middle;\n",
       "    }\n",
       "\n",
       "    .dataframe tbody tr th {\n",
       "        vertical-align: top;\n",
       "    }\n",
       "\n",
       "    .dataframe thead th {\n",
       "        text-align: right;\n",
       "    }\n",
       "</style>\n",
       "<table border=\"1\" class=\"dataframe\">\n",
       "  <thead>\n",
       "    <tr style=\"text-align: right;\">\n",
       "      <th></th>\n",
       "      <th>Location</th>\n",
       "      <th>MinTemp</th>\n",
       "      <th>MaxTemp</th>\n",
       "      <th>Rainfall</th>\n",
       "      <th>Evaporation</th>\n",
       "      <th>Sunshine</th>\n",
       "      <th>WindGustDir</th>\n",
       "      <th>WindGustSpeed</th>\n",
       "      <th>WindDir9am</th>\n",
       "      <th>WindDir3pm</th>\n",
       "      <th>...</th>\n",
       "      <th>WindSpeed3pm</th>\n",
       "      <th>Humidity9am</th>\n",
       "      <th>Humidity3pm</th>\n",
       "      <th>Pressure9am</th>\n",
       "      <th>Pressure3pm</th>\n",
       "      <th>Cloud9am</th>\n",
       "      <th>Cloud3pm</th>\n",
       "      <th>Temp9am</th>\n",
       "      <th>Temp3pm</th>\n",
       "      <th>RainTomorrow</th>\n",
       "    </tr>\n",
       "  </thead>\n",
       "  <tbody>\n",
       "    <tr>\n",
       "      <th>91350</th>\n",
       "      <td>GoldCoast</td>\n",
       "      <td>19.5</td>\n",
       "      <td>26.1</td>\n",
       "      <td>0.2</td>\n",
       "      <td>NaN</td>\n",
       "      <td>NaN</td>\n",
       "      <td>E</td>\n",
       "      <td>80.0</td>\n",
       "      <td>SSW</td>\n",
       "      <td>SE</td>\n",
       "      <td>...</td>\n",
       "      <td>33.0</td>\n",
       "      <td>79.0</td>\n",
       "      <td>78.0</td>\n",
       "      <td>1015.2</td>\n",
       "      <td>1013.9</td>\n",
       "      <td>NaN</td>\n",
       "      <td>NaN</td>\n",
       "      <td>21.9</td>\n",
       "      <td>22.9</td>\n",
       "      <td>Yes</td>\n",
       "    </tr>\n",
       "    <tr>\n",
       "      <th>19405</th>\n",
       "      <td>NorahHead</td>\n",
       "      <td>10.1</td>\n",
       "      <td>16.3</td>\n",
       "      <td>5.0</td>\n",
       "      <td>NaN</td>\n",
       "      <td>NaN</td>\n",
       "      <td>SSW</td>\n",
       "      <td>26.0</td>\n",
       "      <td>WSW</td>\n",
       "      <td>SSE</td>\n",
       "      <td>...</td>\n",
       "      <td>13.0</td>\n",
       "      <td>73.0</td>\n",
       "      <td>65.0</td>\n",
       "      <td>1026.7</td>\n",
       "      <td>1023.0</td>\n",
       "      <td>NaN</td>\n",
       "      <td>NaN</td>\n",
       "      <td>12.6</td>\n",
       "      <td>15.7</td>\n",
       "      <td>No</td>\n",
       "    </tr>\n",
       "    <tr>\n",
       "      <th>34045</th>\n",
       "      <td>SydneyAirport</td>\n",
       "      <td>9.8</td>\n",
       "      <td>15.5</td>\n",
       "      <td>0.0</td>\n",
       "      <td>3.8</td>\n",
       "      <td>7.2</td>\n",
       "      <td>W</td>\n",
       "      <td>65.0</td>\n",
       "      <td>W</td>\n",
       "      <td>SSW</td>\n",
       "      <td>...</td>\n",
       "      <td>24.0</td>\n",
       "      <td>47.0</td>\n",
       "      <td>39.0</td>\n",
       "      <td>1017.8</td>\n",
       "      <td>1017.8</td>\n",
       "      <td>1.0</td>\n",
       "      <td>1.0</td>\n",
       "      <td>12.0</td>\n",
       "      <td>15.4</td>\n",
       "      <td>No</td>\n",
       "    </tr>\n",
       "    <tr>\n",
       "      <th>133150</th>\n",
       "      <td>Launceston</td>\n",
       "      <td>13.1</td>\n",
       "      <td>19.7</td>\n",
       "      <td>0.0</td>\n",
       "      <td>12.0</td>\n",
       "      <td>NaN</td>\n",
       "      <td>SSE</td>\n",
       "      <td>41.0</td>\n",
       "      <td>SSE</td>\n",
       "      <td>S</td>\n",
       "      <td>...</td>\n",
       "      <td>26.0</td>\n",
       "      <td>72.0</td>\n",
       "      <td>55.0</td>\n",
       "      <td>1029.5</td>\n",
       "      <td>1029.8</td>\n",
       "      <td>NaN</td>\n",
       "      <td>NaN</td>\n",
       "      <td>14.5</td>\n",
       "      <td>19.0</td>\n",
       "      <td>No</td>\n",
       "    </tr>\n",
       "    <tr>\n",
       "      <th>64635</th>\n",
       "      <td>MelbourneAirport</td>\n",
       "      <td>14.5</td>\n",
       "      <td>24.0</td>\n",
       "      <td>0.0</td>\n",
       "      <td>5.4</td>\n",
       "      <td>8.2</td>\n",
       "      <td>SW</td>\n",
       "      <td>54.0</td>\n",
       "      <td>W</td>\n",
       "      <td>SW</td>\n",
       "      <td>...</td>\n",
       "      <td>31.0</td>\n",
       "      <td>57.0</td>\n",
       "      <td>53.0</td>\n",
       "      <td>1019.9</td>\n",
       "      <td>1020.2</td>\n",
       "      <td>7.0</td>\n",
       "      <td>7.0</td>\n",
       "      <td>17.3</td>\n",
       "      <td>20.4</td>\n",
       "      <td>No</td>\n",
       "    </tr>\n",
       "  </tbody>\n",
       "</table>\n",
       "<p>5 rows × 21 columns</p>\n",
       "</div>"
      ],
      "text/plain": [
       "                Location  MinTemp  MaxTemp  Rainfall  Evaporation  Sunshine  \\\n",
       "91350          GoldCoast     19.5     26.1       0.2          NaN       NaN   \n",
       "19405          NorahHead     10.1     16.3       5.0          NaN       NaN   \n",
       "34045      SydneyAirport      9.8     15.5       0.0          3.8       7.2   \n",
       "133150        Launceston     13.1     19.7       0.0         12.0       NaN   \n",
       "64635   MelbourneAirport     14.5     24.0       0.0          5.4       8.2   \n",
       "\n",
       "       WindGustDir  WindGustSpeed WindDir9am WindDir3pm  ...  WindSpeed3pm  \\\n",
       "91350            E           80.0        SSW         SE  ...          33.0   \n",
       "19405          SSW           26.0        WSW        SSE  ...          13.0   \n",
       "34045            W           65.0          W        SSW  ...          24.0   \n",
       "133150         SSE           41.0        SSE          S  ...          26.0   \n",
       "64635           SW           54.0          W         SW  ...          31.0   \n",
       "\n",
       "        Humidity9am  Humidity3pm  Pressure9am  Pressure3pm  Cloud9am  \\\n",
       "91350          79.0         78.0       1015.2       1013.9       NaN   \n",
       "19405          73.0         65.0       1026.7       1023.0       NaN   \n",
       "34045          47.0         39.0       1017.8       1017.8       1.0   \n",
       "133150         72.0         55.0       1029.5       1029.8       NaN   \n",
       "64635          57.0         53.0       1019.9       1020.2       7.0   \n",
       "\n",
       "        Cloud3pm  Temp9am  Temp3pm  RainTomorrow  \n",
       "91350        NaN     21.9     22.9           Yes  \n",
       "19405        NaN     12.6     15.7            No  \n",
       "34045        1.0     12.0     15.4            No  \n",
       "133150       NaN     14.5     19.0            No  \n",
       "64635        7.0     17.3     20.4            No  \n",
       "\n",
       "[5 rows x 21 columns]"
      ]
     },
     "execution_count": 29,
     "metadata": {},
     "output_type": "execute_result"
    }
   ],
   "source": [
    "df.sample(5)"
   ]
  },
  {
   "cell_type": "code",
   "execution_count": 30,
   "id": "37e96e83",
   "metadata": {},
   "outputs": [
    {
     "data": {
      "text/plain": [
       "No     110316\n",
       "Yes     31877\n",
       "Name: RainTomorrow, dtype: int64"
      ]
     },
     "execution_count": 30,
     "metadata": {},
     "output_type": "execute_result"
    }
   ],
   "source": [
    "df.RainTomorrow.value_counts()"
   ]
  },
  {
   "cell_type": "code",
   "execution_count": 31,
   "id": "62df27b3",
   "metadata": {},
   "outputs": [],
   "source": [
    "# Задание 1: провести EDA (Explanatory Data Analysis)\n",
    "\n",
    "# Желательно построить графики по некоторым, на ваш взгляд, ключевым признакам и целевой переменной,\n",
    "# чтобы оценить данные, с которыми мы работаем. Это задание полностью творческое и будет оценено субъективно\n",
    "# с точки зрения степени раскрытия инсайтов и \"красивости\" графиков и статистических расчетов"
   ]
  },
  {
   "cell_type": "code",
   "execution_count": 32,
   "id": "3337edd1",
   "metadata": {},
   "outputs": [
    {
     "data": {
      "text/html": [
       "<div>\n",
       "<style scoped>\n",
       "    .dataframe tbody tr th:only-of-type {\n",
       "        vertical-align: middle;\n",
       "    }\n",
       "\n",
       "    .dataframe tbody tr th {\n",
       "        vertical-align: top;\n",
       "    }\n",
       "\n",
       "    .dataframe thead th {\n",
       "        text-align: right;\n",
       "    }\n",
       "</style>\n",
       "<table border=\"1\" class=\"dataframe\">\n",
       "  <thead>\n",
       "    <tr style=\"text-align: right;\">\n",
       "      <th></th>\n",
       "      <th>Location</th>\n",
       "      <th>MinTemp</th>\n",
       "      <th>MaxTemp</th>\n",
       "      <th>Rainfall</th>\n",
       "      <th>Evaporation</th>\n",
       "      <th>Sunshine</th>\n",
       "      <th>WindGustDir</th>\n",
       "      <th>WindGustSpeed</th>\n",
       "      <th>WindDir9am</th>\n",
       "      <th>WindDir3pm</th>\n",
       "      <th>...</th>\n",
       "      <th>Humidity9am</th>\n",
       "      <th>Humidity3pm</th>\n",
       "      <th>Pressure9am</th>\n",
       "      <th>Pressure3pm</th>\n",
       "      <th>Cloud9am</th>\n",
       "      <th>Cloud3pm</th>\n",
       "      <th>Temp9am</th>\n",
       "      <th>Temp3pm</th>\n",
       "      <th>RainTomorrow</th>\n",
       "      <th>RainTomorrow_int</th>\n",
       "    </tr>\n",
       "  </thead>\n",
       "  <tbody>\n",
       "    <tr>\n",
       "      <th>6049</th>\n",
       "      <td>Cobar</td>\n",
       "      <td>17.9</td>\n",
       "      <td>35.2</td>\n",
       "      <td>0.0</td>\n",
       "      <td>12.0</td>\n",
       "      <td>12.3</td>\n",
       "      <td>SSW</td>\n",
       "      <td>48.0</td>\n",
       "      <td>ENE</td>\n",
       "      <td>SW</td>\n",
       "      <td>...</td>\n",
       "      <td>20.0</td>\n",
       "      <td>13.0</td>\n",
       "      <td>1006.3</td>\n",
       "      <td>1004.4</td>\n",
       "      <td>2.0</td>\n",
       "      <td>5.0</td>\n",
       "      <td>26.6</td>\n",
       "      <td>33.4</td>\n",
       "      <td>No</td>\n",
       "      <td>0</td>\n",
       "    </tr>\n",
       "    <tr>\n",
       "      <th>6050</th>\n",
       "      <td>Cobar</td>\n",
       "      <td>18.4</td>\n",
       "      <td>28.9</td>\n",
       "      <td>0.0</td>\n",
       "      <td>14.8</td>\n",
       "      <td>13.0</td>\n",
       "      <td>S</td>\n",
       "      <td>37.0</td>\n",
       "      <td>SSE</td>\n",
       "      <td>SSE</td>\n",
       "      <td>...</td>\n",
       "      <td>30.0</td>\n",
       "      <td>8.0</td>\n",
       "      <td>1012.9</td>\n",
       "      <td>1012.1</td>\n",
       "      <td>1.0</td>\n",
       "      <td>1.0</td>\n",
       "      <td>20.3</td>\n",
       "      <td>27.0</td>\n",
       "      <td>No</td>\n",
       "      <td>0</td>\n",
       "    </tr>\n",
       "    <tr>\n",
       "      <th>6052</th>\n",
       "      <td>Cobar</td>\n",
       "      <td>19.4</td>\n",
       "      <td>37.6</td>\n",
       "      <td>0.0</td>\n",
       "      <td>10.8</td>\n",
       "      <td>10.6</td>\n",
       "      <td>NNE</td>\n",
       "      <td>46.0</td>\n",
       "      <td>NNE</td>\n",
       "      <td>NNW</td>\n",
       "      <td>...</td>\n",
       "      <td>42.0</td>\n",
       "      <td>22.0</td>\n",
       "      <td>1012.3</td>\n",
       "      <td>1009.2</td>\n",
       "      <td>1.0</td>\n",
       "      <td>6.0</td>\n",
       "      <td>28.7</td>\n",
       "      <td>34.9</td>\n",
       "      <td>No</td>\n",
       "      <td>0</td>\n",
       "    </tr>\n",
       "    <tr>\n",
       "      <th>6053</th>\n",
       "      <td>Cobar</td>\n",
       "      <td>21.9</td>\n",
       "      <td>38.4</td>\n",
       "      <td>0.0</td>\n",
       "      <td>11.4</td>\n",
       "      <td>12.2</td>\n",
       "      <td>WNW</td>\n",
       "      <td>31.0</td>\n",
       "      <td>WNW</td>\n",
       "      <td>WSW</td>\n",
       "      <td>...</td>\n",
       "      <td>37.0</td>\n",
       "      <td>22.0</td>\n",
       "      <td>1012.7</td>\n",
       "      <td>1009.1</td>\n",
       "      <td>1.0</td>\n",
       "      <td>5.0</td>\n",
       "      <td>29.1</td>\n",
       "      <td>35.6</td>\n",
       "      <td>No</td>\n",
       "      <td>0</td>\n",
       "    </tr>\n",
       "    <tr>\n",
       "      <th>6054</th>\n",
       "      <td>Cobar</td>\n",
       "      <td>24.2</td>\n",
       "      <td>41.0</td>\n",
       "      <td>0.0</td>\n",
       "      <td>11.2</td>\n",
       "      <td>8.4</td>\n",
       "      <td>WNW</td>\n",
       "      <td>35.0</td>\n",
       "      <td>NW</td>\n",
       "      <td>WNW</td>\n",
       "      <td>...</td>\n",
       "      <td>19.0</td>\n",
       "      <td>15.0</td>\n",
       "      <td>1010.7</td>\n",
       "      <td>1007.4</td>\n",
       "      <td>1.0</td>\n",
       "      <td>6.0</td>\n",
       "      <td>33.6</td>\n",
       "      <td>37.6</td>\n",
       "      <td>No</td>\n",
       "      <td>0</td>\n",
       "    </tr>\n",
       "  </tbody>\n",
       "</table>\n",
       "<p>5 rows × 22 columns</p>\n",
       "</div>"
      ],
      "text/plain": [
       "     Location  MinTemp  MaxTemp  Rainfall  Evaporation  Sunshine WindGustDir  \\\n",
       "6049    Cobar     17.9     35.2       0.0         12.0      12.3         SSW   \n",
       "6050    Cobar     18.4     28.9       0.0         14.8      13.0           S   \n",
       "6052    Cobar     19.4     37.6       0.0         10.8      10.6         NNE   \n",
       "6053    Cobar     21.9     38.4       0.0         11.4      12.2         WNW   \n",
       "6054    Cobar     24.2     41.0       0.0         11.2       8.4         WNW   \n",
       "\n",
       "      WindGustSpeed WindDir9am WindDir3pm  ...  Humidity9am  Humidity3pm  \\\n",
       "6049           48.0        ENE         SW  ...         20.0         13.0   \n",
       "6050           37.0        SSE        SSE  ...         30.0          8.0   \n",
       "6052           46.0        NNE        NNW  ...         42.0         22.0   \n",
       "6053           31.0        WNW        WSW  ...         37.0         22.0   \n",
       "6054           35.0         NW        WNW  ...         19.0         15.0   \n",
       "\n",
       "      Pressure9am  Pressure3pm  Cloud9am  Cloud3pm  Temp9am  Temp3pm  \\\n",
       "6049       1006.3       1004.4       2.0       5.0     26.6     33.4   \n",
       "6050       1012.9       1012.1       1.0       1.0     20.3     27.0   \n",
       "6052       1012.3       1009.2       1.0       6.0     28.7     34.9   \n",
       "6053       1012.7       1009.1       1.0       5.0     29.1     35.6   \n",
       "6054       1010.7       1007.4       1.0       6.0     33.6     37.6   \n",
       "\n",
       "      RainTomorrow  RainTomorrow_int  \n",
       "6049            No                 0  \n",
       "6050            No                 0  \n",
       "6052            No                 0  \n",
       "6053            No                 0  \n",
       "6054            No                 0  \n",
       "\n",
       "[5 rows x 22 columns]"
      ]
     },
     "execution_count": 32,
     "metadata": {},
     "output_type": "execute_result"
    }
   ],
   "source": [
    "df = df.dropna()\n",
    "\n",
    "df['RainTomorrow_int'] = np.where(df['RainTomorrow'] == 'Yes', 1, 0)\n",
    "\n",
    "df.head()"
   ]
  },
  {
   "cell_type": "code",
   "execution_count": 33,
   "id": "e768b596",
   "metadata": {},
   "outputs": [
    {
     "data": {
      "text/html": [
       "<div>\n",
       "<style scoped>\n",
       "    .dataframe tbody tr th:only-of-type {\n",
       "        vertical-align: middle;\n",
       "    }\n",
       "\n",
       "    .dataframe tbody tr th {\n",
       "        vertical-align: top;\n",
       "    }\n",
       "\n",
       "    .dataframe thead th {\n",
       "        text-align: right;\n",
       "    }\n",
       "</style>\n",
       "<table border=\"1\" class=\"dataframe\">\n",
       "  <thead>\n",
       "    <tr style=\"text-align: right;\">\n",
       "      <th></th>\n",
       "      <th>MinTemp</th>\n",
       "      <th>MaxTemp</th>\n",
       "      <th>Rainfall</th>\n",
       "      <th>Evaporation</th>\n",
       "      <th>Sunshine</th>\n",
       "      <th>WindGustSpeed</th>\n",
       "      <th>WindSpeed9am</th>\n",
       "      <th>WindSpeed3pm</th>\n",
       "      <th>Humidity9am</th>\n",
       "      <th>Humidity3pm</th>\n",
       "      <th>Pressure9am</th>\n",
       "      <th>Pressure3pm</th>\n",
       "      <th>Cloud9am</th>\n",
       "      <th>Cloud3pm</th>\n",
       "      <th>Temp9am</th>\n",
       "      <th>Temp3pm</th>\n",
       "      <th>RainTomorrow_int</th>\n",
       "    </tr>\n",
       "  </thead>\n",
       "  <tbody>\n",
       "    <tr>\n",
       "      <th>count</th>\n",
       "      <td>12427.000000</td>\n",
       "      <td>12427.000000</td>\n",
       "      <td>12427.000000</td>\n",
       "      <td>12427.000000</td>\n",
       "      <td>12427.000000</td>\n",
       "      <td>12427.000000</td>\n",
       "      <td>12427.000000</td>\n",
       "      <td>12427.000000</td>\n",
       "      <td>12427.000000</td>\n",
       "      <td>12427.000000</td>\n",
       "      <td>12427.000000</td>\n",
       "      <td>12427.000000</td>\n",
       "      <td>12427.000000</td>\n",
       "      <td>12427.000000</td>\n",
       "      <td>12427.000000</td>\n",
       "      <td>12427.000000</td>\n",
       "      <td>12427.0</td>\n",
       "    </tr>\n",
       "    <tr>\n",
       "      <th>mean</th>\n",
       "      <td>14.520286</td>\n",
       "      <td>22.285129</td>\n",
       "      <td>5.487302</td>\n",
       "      <td>4.599026</td>\n",
       "      <td>4.529597</td>\n",
       "      <td>46.727368</td>\n",
       "      <td>16.980204</td>\n",
       "      <td>21.209624</td>\n",
       "      <td>75.314959</td>\n",
       "      <td>66.905931</td>\n",
       "      <td>1013.926909</td>\n",
       "      <td>1011.816834</td>\n",
       "      <td>5.946729</td>\n",
       "      <td>6.261930</td>\n",
       "      <td>17.980309</td>\n",
       "      <td>20.348869</td>\n",
       "      <td>1.0</td>\n",
       "    </tr>\n",
       "    <tr>\n",
       "      <th>std</th>\n",
       "      <td>6.475014</td>\n",
       "      <td>6.866919</td>\n",
       "      <td>11.553907</td>\n",
       "      <td>3.155133</td>\n",
       "      <td>3.390385</td>\n",
       "      <td>15.453586</td>\n",
       "      <td>9.031452</td>\n",
       "      <td>9.284455</td>\n",
       "      <td>15.746792</td>\n",
       "      <td>18.449353</td>\n",
       "      <td>7.127063</td>\n",
       "      <td>7.163316</td>\n",
       "      <td>2.163760</td>\n",
       "      <td>1.840983</td>\n",
       "      <td>6.599997</td>\n",
       "      <td>6.712269</td>\n",
       "      <td>0.0</td>\n",
       "    </tr>\n",
       "    <tr>\n",
       "      <th>min</th>\n",
       "      <td>-4.700000</td>\n",
       "      <td>7.000000</td>\n",
       "      <td>0.000000</td>\n",
       "      <td>0.000000</td>\n",
       "      <td>0.000000</td>\n",
       "      <td>11.000000</td>\n",
       "      <td>2.000000</td>\n",
       "      <td>2.000000</td>\n",
       "      <td>5.000000</td>\n",
       "      <td>1.000000</td>\n",
       "      <td>980.500000</td>\n",
       "      <td>977.100000</td>\n",
       "      <td>0.000000</td>\n",
       "      <td>0.000000</td>\n",
       "      <td>-0.100000</td>\n",
       "      <td>4.300000</td>\n",
       "      <td>1.0</td>\n",
       "    </tr>\n",
       "    <tr>\n",
       "      <th>25%</th>\n",
       "      <td>9.200000</td>\n",
       "      <td>16.800000</td>\n",
       "      <td>0.000000</td>\n",
       "      <td>2.200000</td>\n",
       "      <td>1.400000</td>\n",
       "      <td>35.000000</td>\n",
       "      <td>11.000000</td>\n",
       "      <td>15.000000</td>\n",
       "      <td>66.000000</td>\n",
       "      <td>55.000000</td>\n",
       "      <td>1009.300000</td>\n",
       "      <td>1007.000000</td>\n",
       "      <td>5.000000</td>\n",
       "      <td>6.000000</td>\n",
       "      <td>12.600000</td>\n",
       "      <td>14.900000</td>\n",
       "      <td>1.0</td>\n",
       "    </tr>\n",
       "    <tr>\n",
       "      <th>50%</th>\n",
       "      <td>14.000000</td>\n",
       "      <td>21.400000</td>\n",
       "      <td>0.800000</td>\n",
       "      <td>4.000000</td>\n",
       "      <td>4.300000</td>\n",
       "      <td>44.000000</td>\n",
       "      <td>15.000000</td>\n",
       "      <td>20.000000</td>\n",
       "      <td>77.000000</td>\n",
       "      <td>68.000000</td>\n",
       "      <td>1013.800000</td>\n",
       "      <td>1011.600000</td>\n",
       "      <td>7.000000</td>\n",
       "      <td>7.000000</td>\n",
       "      <td>17.300000</td>\n",
       "      <td>19.600000</td>\n",
       "      <td>1.0</td>\n",
       "    </tr>\n",
       "    <tr>\n",
       "      <th>75%</th>\n",
       "      <td>19.900000</td>\n",
       "      <td>27.800000</td>\n",
       "      <td>5.800000</td>\n",
       "      <td>6.400000</td>\n",
       "      <td>7.200000</td>\n",
       "      <td>56.000000</td>\n",
       "      <td>22.000000</td>\n",
       "      <td>28.000000</td>\n",
       "      <td>88.000000</td>\n",
       "      <td>81.000000</td>\n",
       "      <td>1018.600000</td>\n",
       "      <td>1016.500000</td>\n",
       "      <td>7.000000</td>\n",
       "      <td>7.000000</td>\n",
       "      <td>23.200000</td>\n",
       "      <td>25.400000</td>\n",
       "      <td>1.0</td>\n",
       "    </tr>\n",
       "    <tr>\n",
       "      <th>max</th>\n",
       "      <td>29.800000</td>\n",
       "      <td>46.800000</td>\n",
       "      <td>206.200000</td>\n",
       "      <td>43.000000</td>\n",
       "      <td>13.900000</td>\n",
       "      <td>122.000000</td>\n",
       "      <td>65.000000</td>\n",
       "      <td>65.000000</td>\n",
       "      <td>100.000000</td>\n",
       "      <td>100.000000</td>\n",
       "      <td>1039.500000</td>\n",
       "      <td>1036.000000</td>\n",
       "      <td>8.000000</td>\n",
       "      <td>8.000000</td>\n",
       "      <td>36.400000</td>\n",
       "      <td>46.100000</td>\n",
       "      <td>1.0</td>\n",
       "    </tr>\n",
       "  </tbody>\n",
       "</table>\n",
       "</div>"
      ],
      "text/plain": [
       "            MinTemp       MaxTemp      Rainfall   Evaporation      Sunshine  \\\n",
       "count  12427.000000  12427.000000  12427.000000  12427.000000  12427.000000   \n",
       "mean      14.520286     22.285129      5.487302      4.599026      4.529597   \n",
       "std        6.475014      6.866919     11.553907      3.155133      3.390385   \n",
       "min       -4.700000      7.000000      0.000000      0.000000      0.000000   \n",
       "25%        9.200000     16.800000      0.000000      2.200000      1.400000   \n",
       "50%       14.000000     21.400000      0.800000      4.000000      4.300000   \n",
       "75%       19.900000     27.800000      5.800000      6.400000      7.200000   \n",
       "max       29.800000     46.800000    206.200000     43.000000     13.900000   \n",
       "\n",
       "       WindGustSpeed  WindSpeed9am  WindSpeed3pm   Humidity9am   Humidity3pm  \\\n",
       "count   12427.000000  12427.000000  12427.000000  12427.000000  12427.000000   \n",
       "mean       46.727368     16.980204     21.209624     75.314959     66.905931   \n",
       "std        15.453586      9.031452      9.284455     15.746792     18.449353   \n",
       "min        11.000000      2.000000      2.000000      5.000000      1.000000   \n",
       "25%        35.000000     11.000000     15.000000     66.000000     55.000000   \n",
       "50%        44.000000     15.000000     20.000000     77.000000     68.000000   \n",
       "75%        56.000000     22.000000     28.000000     88.000000     81.000000   \n",
       "max       122.000000     65.000000     65.000000    100.000000    100.000000   \n",
       "\n",
       "        Pressure9am   Pressure3pm      Cloud9am      Cloud3pm       Temp9am  \\\n",
       "count  12427.000000  12427.000000  12427.000000  12427.000000  12427.000000   \n",
       "mean    1013.926909   1011.816834      5.946729      6.261930     17.980309   \n",
       "std        7.127063      7.163316      2.163760      1.840983      6.599997   \n",
       "min      980.500000    977.100000      0.000000      0.000000     -0.100000   \n",
       "25%     1009.300000   1007.000000      5.000000      6.000000     12.600000   \n",
       "50%     1013.800000   1011.600000      7.000000      7.000000     17.300000   \n",
       "75%     1018.600000   1016.500000      7.000000      7.000000     23.200000   \n",
       "max     1039.500000   1036.000000      8.000000      8.000000     36.400000   \n",
       "\n",
       "            Temp3pm  RainTomorrow_int  \n",
       "count  12427.000000           12427.0  \n",
       "mean      20.348869               1.0  \n",
       "std        6.712269               0.0  \n",
       "min        4.300000               1.0  \n",
       "25%       14.900000               1.0  \n",
       "50%       19.600000               1.0  \n",
       "75%       25.400000               1.0  \n",
       "max       46.100000               1.0  "
      ]
     },
     "execution_count": 33,
     "metadata": {},
     "output_type": "execute_result"
    }
   ],
   "source": [
    "df_yes = df[df['RainTomorrow_int'] == 1]\n",
    "df_yes.describe()"
   ]
  },
  {
   "cell_type": "code",
   "execution_count": 34,
   "id": "06ab1c8c",
   "metadata": {},
   "outputs": [
    {
     "data": {
      "text/html": [
       "<div>\n",
       "<style scoped>\n",
       "    .dataframe tbody tr th:only-of-type {\n",
       "        vertical-align: middle;\n",
       "    }\n",
       "\n",
       "    .dataframe tbody tr th {\n",
       "        vertical-align: top;\n",
       "    }\n",
       "\n",
       "    .dataframe thead th {\n",
       "        text-align: right;\n",
       "    }\n",
       "</style>\n",
       "<table border=\"1\" class=\"dataframe\">\n",
       "  <thead>\n",
       "    <tr style=\"text-align: right;\">\n",
       "      <th></th>\n",
       "      <th>MinTemp</th>\n",
       "      <th>MaxTemp</th>\n",
       "      <th>Rainfall</th>\n",
       "      <th>Evaporation</th>\n",
       "      <th>Sunshine</th>\n",
       "      <th>WindGustSpeed</th>\n",
       "      <th>WindSpeed9am</th>\n",
       "      <th>WindSpeed3pm</th>\n",
       "      <th>Humidity9am</th>\n",
       "      <th>Humidity3pm</th>\n",
       "      <th>Pressure9am</th>\n",
       "      <th>Pressure3pm</th>\n",
       "      <th>Cloud9am</th>\n",
       "      <th>Cloud3pm</th>\n",
       "      <th>Temp9am</th>\n",
       "      <th>Temp3pm</th>\n",
       "      <th>RainTomorrow_int</th>\n",
       "    </tr>\n",
       "  </thead>\n",
       "  <tbody>\n",
       "    <tr>\n",
       "      <th>count</th>\n",
       "      <td>43993.000000</td>\n",
       "      <td>43993.000000</td>\n",
       "      <td>43993.000000</td>\n",
       "      <td>43993.000000</td>\n",
       "      <td>43993.000000</td>\n",
       "      <td>43993.000000</td>\n",
       "      <td>43993.000000</td>\n",
       "      <td>43993.000000</td>\n",
       "      <td>43993.000000</td>\n",
       "      <td>43993.000000</td>\n",
       "      <td>43993.000000</td>\n",
       "      <td>43993.000000</td>\n",
       "      <td>43993.000000</td>\n",
       "      <td>43993.000000</td>\n",
       "      <td>43993.000000</td>\n",
       "      <td>43993.000000</td>\n",
       "      <td>43993.0</td>\n",
       "    </tr>\n",
       "    <tr>\n",
       "      <th>mean</th>\n",
       "      <td>13.166611</td>\n",
       "      <td>24.765538</td>\n",
       "      <td>1.182149</td>\n",
       "      <td>5.758525</td>\n",
       "      <td>8.641254</td>\n",
       "      <td>39.224877</td>\n",
       "      <td>15.296343</td>\n",
       "      <td>19.384857</td>\n",
       "      <td>63.207306</td>\n",
       "      <td>44.714023</td>\n",
       "      <td>1018.175237</td>\n",
       "      <td>1015.637006</td>\n",
       "      <td>3.760075</td>\n",
       "      <td>3.779806</td>\n",
       "      <td>18.268420</td>\n",
       "      <td>23.377392</td>\n",
       "      <td>0.0</td>\n",
       "    </tr>\n",
       "    <tr>\n",
       "      <th>std</th>\n",
       "      <td>6.368581</td>\n",
       "      <td>6.902305</td>\n",
       "      <td>4.617274</td>\n",
       "      <td>3.796570</td>\n",
       "      <td>3.338099</td>\n",
       "      <td>12.174093</td>\n",
       "      <td>8.065273</td>\n",
       "      <td>8.234055</td>\n",
       "      <td>18.363871</td>\n",
       "      <td>17.847462</td>\n",
       "      <td>6.549944</td>\n",
       "      <td>6.544964</td>\n",
       "      <td>2.767432</td>\n",
       "      <td>2.583256</td>\n",
       "      <td>6.557603</td>\n",
       "      <td>6.722703</td>\n",
       "      <td>0.0</td>\n",
       "    </tr>\n",
       "    <tr>\n",
       "      <th>min</th>\n",
       "      <td>-6.700000</td>\n",
       "      <td>4.100000</td>\n",
       "      <td>0.000000</td>\n",
       "      <td>0.000000</td>\n",
       "      <td>0.000000</td>\n",
       "      <td>9.000000</td>\n",
       "      <td>2.000000</td>\n",
       "      <td>2.000000</td>\n",
       "      <td>0.000000</td>\n",
       "      <td>0.000000</td>\n",
       "      <td>982.900000</td>\n",
       "      <td>983.200000</td>\n",
       "      <td>0.000000</td>\n",
       "      <td>0.000000</td>\n",
       "      <td>-0.700000</td>\n",
       "      <td>3.700000</td>\n",
       "      <td>0.0</td>\n",
       "    </tr>\n",
       "    <tr>\n",
       "      <th>25%</th>\n",
       "      <td>8.400000</td>\n",
       "      <td>19.300000</td>\n",
       "      <td>0.000000</td>\n",
       "      <td>3.000000</td>\n",
       "      <td>6.700000</td>\n",
       "      <td>31.000000</td>\n",
       "      <td>9.000000</td>\n",
       "      <td>13.000000</td>\n",
       "      <td>53.000000</td>\n",
       "      <td>32.000000</td>\n",
       "      <td>1013.700000</td>\n",
       "      <td>1011.000000</td>\n",
       "      <td>1.000000</td>\n",
       "      <td>1.000000</td>\n",
       "      <td>13.300000</td>\n",
       "      <td>18.100000</td>\n",
       "      <td>0.0</td>\n",
       "    </tr>\n",
       "    <tr>\n",
       "      <th>50%</th>\n",
       "      <td>13.000000</td>\n",
       "      <td>24.600000</td>\n",
       "      <td>0.000000</td>\n",
       "      <td>5.200000</td>\n",
       "      <td>9.500000</td>\n",
       "      <td>37.000000</td>\n",
       "      <td>15.000000</td>\n",
       "      <td>19.000000</td>\n",
       "      <td>64.000000</td>\n",
       "      <td>46.000000</td>\n",
       "      <td>1018.000000</td>\n",
       "      <td>1015.500000</td>\n",
       "      <td>3.000000</td>\n",
       "      <td>3.000000</td>\n",
       "      <td>17.900000</td>\n",
       "      <td>23.100000</td>\n",
       "      <td>0.0</td>\n",
       "    </tr>\n",
       "    <tr>\n",
       "      <th>75%</th>\n",
       "      <td>18.000000</td>\n",
       "      <td>30.100000</td>\n",
       "      <td>0.200000</td>\n",
       "      <td>7.800000</td>\n",
       "      <td>11.000000</td>\n",
       "      <td>46.000000</td>\n",
       "      <td>20.000000</td>\n",
       "      <td>24.000000</td>\n",
       "      <td>76.000000</td>\n",
       "      <td>58.000000</td>\n",
       "      <td>1022.500000</td>\n",
       "      <td>1020.100000</td>\n",
       "      <td>7.000000</td>\n",
       "      <td>6.000000</td>\n",
       "      <td>23.300000</td>\n",
       "      <td>28.500000</td>\n",
       "      <td>0.0</td>\n",
       "    </tr>\n",
       "    <tr>\n",
       "      <th>max</th>\n",
       "      <td>31.400000</td>\n",
       "      <td>48.100000</td>\n",
       "      <td>182.600000</td>\n",
       "      <td>81.200000</td>\n",
       "      <td>14.500000</td>\n",
       "      <td>124.000000</td>\n",
       "      <td>67.000000</td>\n",
       "      <td>76.000000</td>\n",
       "      <td>100.000000</td>\n",
       "      <td>100.000000</td>\n",
       "      <td>1040.400000</td>\n",
       "      <td>1038.900000</td>\n",
       "      <td>8.000000</td>\n",
       "      <td>9.000000</td>\n",
       "      <td>39.400000</td>\n",
       "      <td>46.100000</td>\n",
       "      <td>0.0</td>\n",
       "    </tr>\n",
       "  </tbody>\n",
       "</table>\n",
       "</div>"
      ],
      "text/plain": [
       "            MinTemp       MaxTemp      Rainfall   Evaporation      Sunshine  \\\n",
       "count  43993.000000  43993.000000  43993.000000  43993.000000  43993.000000   \n",
       "mean      13.166611     24.765538      1.182149      5.758525      8.641254   \n",
       "std        6.368581      6.902305      4.617274      3.796570      3.338099   \n",
       "min       -6.700000      4.100000      0.000000      0.000000      0.000000   \n",
       "25%        8.400000     19.300000      0.000000      3.000000      6.700000   \n",
       "50%       13.000000     24.600000      0.000000      5.200000      9.500000   \n",
       "75%       18.000000     30.100000      0.200000      7.800000     11.000000   \n",
       "max       31.400000     48.100000    182.600000     81.200000     14.500000   \n",
       "\n",
       "       WindGustSpeed  WindSpeed9am  WindSpeed3pm   Humidity9am   Humidity3pm  \\\n",
       "count   43993.000000  43993.000000  43993.000000  43993.000000  43993.000000   \n",
       "mean       39.224877     15.296343     19.384857     63.207306     44.714023   \n",
       "std        12.174093      8.065273      8.234055     18.363871     17.847462   \n",
       "min         9.000000      2.000000      2.000000      0.000000      0.000000   \n",
       "25%        31.000000      9.000000     13.000000     53.000000     32.000000   \n",
       "50%        37.000000     15.000000     19.000000     64.000000     46.000000   \n",
       "75%        46.000000     20.000000     24.000000     76.000000     58.000000   \n",
       "max       124.000000     67.000000     76.000000    100.000000    100.000000   \n",
       "\n",
       "        Pressure9am   Pressure3pm      Cloud9am      Cloud3pm       Temp9am  \\\n",
       "count  43993.000000  43993.000000  43993.000000  43993.000000  43993.000000   \n",
       "mean    1018.175237   1015.637006      3.760075      3.779806     18.268420   \n",
       "std        6.549944      6.544964      2.767432      2.583256      6.557603   \n",
       "min      982.900000    983.200000      0.000000      0.000000     -0.700000   \n",
       "25%     1013.700000   1011.000000      1.000000      1.000000     13.300000   \n",
       "50%     1018.000000   1015.500000      3.000000      3.000000     17.900000   \n",
       "75%     1022.500000   1020.100000      7.000000      6.000000     23.300000   \n",
       "max     1040.400000   1038.900000      8.000000      9.000000     39.400000   \n",
       "\n",
       "            Temp3pm  RainTomorrow_int  \n",
       "count  43993.000000           43993.0  \n",
       "mean      23.377392               0.0  \n",
       "std        6.722703               0.0  \n",
       "min        3.700000               0.0  \n",
       "25%       18.100000               0.0  \n",
       "50%       23.100000               0.0  \n",
       "75%       28.500000               0.0  \n",
       "max       46.100000               0.0  "
      ]
     },
     "execution_count": 34,
     "metadata": {},
     "output_type": "execute_result"
    }
   ],
   "source": [
    "df_no = df[df['RainTomorrow_int'] == 0]\n",
    "df_no.describe()"
   ]
  },
  {
   "cell_type": "code",
   "execution_count": 35,
   "id": "41ac0d15",
   "metadata": {},
   "outputs": [],
   "source": [
    "# Если смотреть по mean, то сильные различия есть в столбцах Rainfall, WindGustSpeed, Humidity9am, Humidity3pm"
   ]
  },
  {
   "cell_type": "code",
   "execution_count": 36,
   "id": "abbece01",
   "metadata": {},
   "outputs": [
    {
     "data": {
      "application/vnd.plotly.v1+json": {
       "config": {
        "plotlyServerURL": "https://plot.ly"
       },
       "data": [
        {
         "colorscale": [
          [
           0,
           "#0d0887"
          ],
          [
           0.1111111111111111,
           "#46039f"
          ],
          [
           0.2222222222222222,
           "#7201a8"
          ],
          [
           0.3333333333333333,
           "#9c179e"
          ],
          [
           0.4444444444444444,
           "#bd3786"
          ],
          [
           0.5555555555555556,
           "#d8576b"
          ],
          [
           0.6666666666666666,
           "#ed7953"
          ],
          [
           0.7777777777777778,
           "#fb9f3a"
          ],
          [
           0.8888888888888888,
           "#fdca26"
          ],
          [
           1,
           "#f0f921"
          ]
         ],
         "reversescale": false,
         "showscale": true,
         "type": "heatmap",
         "x": [
          "MinTemp",
          "MaxTemp",
          "Rainfall",
          "Evaporation",
          "Sunshine",
          "WindGustSpeed",
          "WindSpeed9am",
          "WindSpeed3pm",
          "Humidity9am",
          "Humidity3pm",
          "Pressure9am",
          "Pressure3pm",
          "Cloud9am",
          "Cloud3pm",
          "Temp9am",
          "Temp3pm",
          "RainTomorrow_int"
         ],
         "y": [
          "MinTemp",
          "MaxTemp",
          "Rainfall",
          "Evaporation",
          "Sunshine",
          "WindGustSpeed",
          "WindSpeed9am",
          "WindSpeed3pm",
          "Humidity9am",
          "Humidity3pm",
          "Pressure9am",
          "Pressure3pm",
          "Cloud9am",
          "Cloud3pm",
          "Temp9am",
          "Temp3pm",
          "RainTomorrow_int"
         ],
         "z": [
          [
           1,
           0.74968725006187,
           0.11079983536062248,
           0.5067643004002697,
           0.07608698967168084,
           0.11805376093581034,
           0.10852150348181126,
           0.13727348637824113,
           -0.17499134378437972,
           0.07082706420666895,
           -0.47566107183127704,
           -0.4955770150750671,
           0.10617711693657131,
           0.04217282588875977,
           0.9062947809969243,
           0.7272220532100605,
           0.08742777349456149
          ],
          [
           0.74968725006187,
           1,
           -0.06998069074898317,
           0.6509644138597251,
           0.46391279450932077,
           0.03553098852264497,
           -0.008171392771255304,
           0.012265736544026552,
           -0.49578136824708025,
           -0.44811551118983883,
           -0.3509795644242887,
           -0.4516908712770106,
           -0.26363392858210893,
           -0.2577517446323383,
           0.8933869518819971,
           0.9848414081018141,
           -0.14746671406446152
          ],
          [
           0.11079983536062248,
           -0.06998069074898317,
           1,
           -0.07723881151626667,
           -0.24637932231846418,
           0.10630831835042477,
           0.05058410947371728,
           0.04411181285206474,
           0.2636252673337517,
           0.27762523292502245,
           -0.18060598542640616,
           -0.1373019599956863,
           0.21716854040629338,
           0.19143323222444925,
           0.0137131678588351,
           -0.07462669577576876,
           0.2543416983102593
          ],
          [
           0.5067643004002697,
           0.6509644138597251,
           -0.07723881151626667,
           1,
           0.36924973356036134,
           0.20956619898537918,
           0.19315402426057698,
           0.12434479988518055,
           -0.5542319011705917,
           -0.4224357733021531,
           -0.2973187589137575,
           -0.32595442140487463,
           -0.19980920156228646,
           -0.20236643598138268,
           0.593121539131916,
           0.6307274157062941,
           -0.13000226520358316
          ],
          [
           0.07608698967168084,
           0.46391279450932077,
           -0.24637932231846418,
           0.36924973356036134,
           1,
           -0.05242215686779018,
           -0.013841629316877059,
           0.029200104989720515,
           -0.5003426508855054,
           -0.629298732550077,
           0.04332978336011984,
           -0.020631851998052005,
           -0.6779385107635449,
           -0.7020222558338544,
           0.2890376351352365,
           0.4861289657005702,
           -0.4534069127165123
          ],
          [
           0.11805376093581034,
           0.03553098852264497,
           0.10630831835042477,
           0.20956619898537918,
           -0.05242215686779018,
           1,
           0.6088518372528908,
           0.6852363743295763,
           -0.1934104031458954,
           -0.0426528146914665,
           -0.4303628691260885,
           -0.38368252993078056,
           0.08812859389474738,
           0.1315895244819006,
           0.08552002605963162,
           -0.0003821692382510493,
           0.2331581691859726
          ],
          [
           0.10852150348181126,
           -0.008171392771255304,
           0.05058410947371728,
           0.19315402426057698,
           -0.013841629316877059,
           0.6088518372528908,
           1,
           0.5022263737692769,
           -0.23679457105648194,
           -0.05844919481009932,
           -0.20151791767339372,
           -0.15548392681852968,
           0.03490810196149203,
           0.06250687913418103,
           0.05374853734394071,
           -0.018357398621067285,
           0.08390448846790978
          ],
          [
           0.13727348637824113,
           0.012265736544026552,
           0.04411181285206474,
           0.12434479988518055,
           0.029200104989720515,
           0.6852363743295763,
           0.5022263737692769,
           1,
           -0.10062638568537392,
           0.03184310443182262,
           -0.29315549502997723,
           -0.25209516944283644,
           0.06822374161075984,
           0.04147545920743049,
           0.11404267167558209,
           -0.00943578927853742,
           0.0888616713970024
          ],
          [
           -0.17499134378437972,
           -0.49578136824708025,
           0.2636252673337517,
           -0.5542319011705917,
           -0.5003426508855054,
           -0.1934104031458954,
           -0.23679457105648194,
           -0.10062638568537392,
           1,
           0.6856969247641806,
           0.11457464703860352,
           0.17297235221429605,
           0.43896228172093,
           0.34870702487545746,
           -0.4235980056118628,
           -0.4877579791178821,
           0.2710329603474702
          ],
          [
           0.07082706420666895,
           -0.44811551118983883,
           0.27762523292502245,
           -0.4224357733021531,
           -0.629298732550077,
           -0.0426528146914665,
           -0.05844919481009932,
           0.03184310443182262,
           0.6856969247641806,
           1,
           -0.0634543267674232,
           0.024109359922735055,
           0.5092229901379068,
           0.5109960795626295,
           -0.15161404659760935,
           -0.49724528658038253,
           0.45535763701195064
          ],
          [
           -0.47566107183127704,
           -0.3509795644242887,
           -0.18060598542640616,
           -0.2973187589137575,
           0.04332978336011984,
           -0.4303628691260885,
           -0.20151791767339372,
           -0.29315549502997723,
           0.11457464703860352,
           -0.0634543267674232,
           1,
           0.961538322269745,
           -0.15042680432107913,
           -0.16633408702910807,
           -0.4434102107964896,
           -0.3107736567828055,
           -0.25481565590711786
          ],
          [
           -0.4955770150750671,
           -0.4516908712770106,
           -0.1373019599956863,
           -0.32595442140487463,
           -0.020631851998052005,
           -0.38368252993078056,
           -0.15548392681852968,
           -0.25209516944283644,
           0.17297235221429605,
           0.024109359922735055,
           0.961538322269745,
           1,
           -0.08179124791512812,
           -0.10317283768892051,
           -0.5005092665210911,
           -0.42131786440762253,
           -0.23041750623236035
          ],
          [
           0.10617711693657131,
           -0.26363392858210893,
           0.21716854040629338,
           -0.19980920156228646,
           -0.6779385107635449,
           0.08812859389474738,
           0.03490810196149203,
           0.06822374161075984,
           0.43896228172093,
           0.5092229901379068,
           -0.15042680432107913,
           -0.08179124791512812,
           1,
           0.6143804777488254,
           -0.10959102899531596,
           -0.2812133809403684,
           0.32397238104945836
          ],
          [
           0.04217282588875977,
           -0.2577517446323383,
           0.19143323222444925,
           -0.20236643598138268,
           -0.7020222558338544,
           0.1315895244819006,
           0.06250687913418103,
           0.04147545920743049,
           0.34870702487545746,
           0.5109960795626295,
           -0.16633408702910807,
           -0.10317283768892051,
           0.6143804777488254,
           1,
           -0.10788487672858303,
           -0.297230008512919,
           0.38857421111885565
          ],
          [
           0.9062947809969243,
           0.8933869518819971,
           0.0137131678588351,
           0.593121539131916,
           0.2890376351352365,
           0.08552002605963162,
           0.05374853734394071,
           0.11404267167558209,
           -0.4235980056118628,
           -0.15161404659760935,
           -0.4434102107964896,
           -0.5005092665210911,
           -0.10959102899531596,
           -0.10788487672858303,
           1,
           0.8706196502876495,
           -0.01817912343389307
          ],
          [
           0.7272220532100605,
           0.9848414081018141,
           -0.07462669577576876,
           0.6307274157062941,
           0.4861289657005702,
           -0.0003821692382510493,
           -0.018357398621067285,
           -0.00943578927853742,
           -0.4877579791178821,
           -0.49724528658038253,
           -0.3107736567828055,
           -0.42131786440762253,
           -0.2812133809403684,
           -0.297230008512919,
           0.8706196502876495,
           1,
           -0.18358616395145888
          ],
          [
           0.08742777349456149,
           -0.14746671406446152,
           0.2543416983102593,
           -0.13000226520358316,
           -0.4534069127165123,
           0.2331581691859726,
           0.08390448846790978,
           0.0888616713970024,
           0.2710329603474702,
           0.45535763701195064,
           -0.25481565590711786,
           -0.23041750623236035,
           0.32397238104945836,
           0.38857421111885565,
           -0.01817912343389307,
           -0.18358616395145888,
           1
          ]
         ]
        }
       ],
       "layout": {
        "annotations": [
         {
          "font": {
           "color": "#000000"
          },
          "showarrow": false,
          "text": "1.0",
          "x": "MinTemp",
          "xref": "x",
          "y": "MinTemp",
          "yref": "y"
         },
         {
          "font": {
           "color": "#000000"
          },
          "showarrow": false,
          "text": "0.75",
          "x": "MaxTemp",
          "xref": "x",
          "y": "MinTemp",
          "yref": "y"
         },
         {
          "font": {
           "color": "#FFFFFF"
          },
          "showarrow": false,
          "text": "0.11",
          "x": "Rainfall",
          "xref": "x",
          "y": "MinTemp",
          "yref": "y"
         },
         {
          "font": {
           "color": "#000000"
          },
          "showarrow": false,
          "text": "0.51",
          "x": "Evaporation",
          "xref": "x",
          "y": "MinTemp",
          "yref": "y"
         },
         {
          "font": {
           "color": "#FFFFFF"
          },
          "showarrow": false,
          "text": "0.08",
          "x": "Sunshine",
          "xref": "x",
          "y": "MinTemp",
          "yref": "y"
         },
         {
          "font": {
           "color": "#FFFFFF"
          },
          "showarrow": false,
          "text": "0.12",
          "x": "WindGustSpeed",
          "xref": "x",
          "y": "MinTemp",
          "yref": "y"
         },
         {
          "font": {
           "color": "#FFFFFF"
          },
          "showarrow": false,
          "text": "0.11",
          "x": "WindSpeed9am",
          "xref": "x",
          "y": "MinTemp",
          "yref": "y"
         },
         {
          "font": {
           "color": "#FFFFFF"
          },
          "showarrow": false,
          "text": "0.14",
          "x": "WindSpeed3pm",
          "xref": "x",
          "y": "MinTemp",
          "yref": "y"
         },
         {
          "font": {
           "color": "#FFFFFF"
          },
          "showarrow": false,
          "text": "-0.17",
          "x": "Humidity9am",
          "xref": "x",
          "y": "MinTemp",
          "yref": "y"
         },
         {
          "font": {
           "color": "#FFFFFF"
          },
          "showarrow": false,
          "text": "0.07",
          "x": "Humidity3pm",
          "xref": "x",
          "y": "MinTemp",
          "yref": "y"
         },
         {
          "font": {
           "color": "#FFFFFF"
          },
          "showarrow": false,
          "text": "-0.48",
          "x": "Pressure9am",
          "xref": "x",
          "y": "MinTemp",
          "yref": "y"
         },
         {
          "font": {
           "color": "#FFFFFF"
          },
          "showarrow": false,
          "text": "-0.5",
          "x": "Pressure3pm",
          "xref": "x",
          "y": "MinTemp",
          "yref": "y"
         },
         {
          "font": {
           "color": "#FFFFFF"
          },
          "showarrow": false,
          "text": "0.11",
          "x": "Cloud9am",
          "xref": "x",
          "y": "MinTemp",
          "yref": "y"
         },
         {
          "font": {
           "color": "#FFFFFF"
          },
          "showarrow": false,
          "text": "0.04",
          "x": "Cloud3pm",
          "xref": "x",
          "y": "MinTemp",
          "yref": "y"
         },
         {
          "font": {
           "color": "#000000"
          },
          "showarrow": false,
          "text": "0.91",
          "x": "Temp9am",
          "xref": "x",
          "y": "MinTemp",
          "yref": "y"
         },
         {
          "font": {
           "color": "#000000"
          },
          "showarrow": false,
          "text": "0.73",
          "x": "Temp3pm",
          "xref": "x",
          "y": "MinTemp",
          "yref": "y"
         },
         {
          "font": {
           "color": "#FFFFFF"
          },
          "showarrow": false,
          "text": "0.09",
          "x": "RainTomorrow_int",
          "xref": "x",
          "y": "MinTemp",
          "yref": "y"
         },
         {
          "font": {
           "color": "#000000"
          },
          "showarrow": false,
          "text": "0.75",
          "x": "MinTemp",
          "xref": "x",
          "y": "MaxTemp",
          "yref": "y"
         },
         {
          "font": {
           "color": "#000000"
          },
          "showarrow": false,
          "text": "1.0",
          "x": "MaxTemp",
          "xref": "x",
          "y": "MaxTemp",
          "yref": "y"
         },
         {
          "font": {
           "color": "#FFFFFF"
          },
          "showarrow": false,
          "text": "-0.07",
          "x": "Rainfall",
          "xref": "x",
          "y": "MaxTemp",
          "yref": "y"
         },
         {
          "font": {
           "color": "#000000"
          },
          "showarrow": false,
          "text": "0.65",
          "x": "Evaporation",
          "xref": "x",
          "y": "MaxTemp",
          "yref": "y"
         },
         {
          "font": {
           "color": "#000000"
          },
          "showarrow": false,
          "text": "0.46",
          "x": "Sunshine",
          "xref": "x",
          "y": "MaxTemp",
          "yref": "y"
         },
         {
          "font": {
           "color": "#FFFFFF"
          },
          "showarrow": false,
          "text": "0.04",
          "x": "WindGustSpeed",
          "xref": "x",
          "y": "MaxTemp",
          "yref": "y"
         },
         {
          "font": {
           "color": "#FFFFFF"
          },
          "showarrow": false,
          "text": "-0.01",
          "x": "WindSpeed9am",
          "xref": "x",
          "y": "MaxTemp",
          "yref": "y"
         },
         {
          "font": {
           "color": "#FFFFFF"
          },
          "showarrow": false,
          "text": "0.01",
          "x": "WindSpeed3pm",
          "xref": "x",
          "y": "MaxTemp",
          "yref": "y"
         },
         {
          "font": {
           "color": "#FFFFFF"
          },
          "showarrow": false,
          "text": "-0.5",
          "x": "Humidity9am",
          "xref": "x",
          "y": "MaxTemp",
          "yref": "y"
         },
         {
          "font": {
           "color": "#FFFFFF"
          },
          "showarrow": false,
          "text": "-0.45",
          "x": "Humidity3pm",
          "xref": "x",
          "y": "MaxTemp",
          "yref": "y"
         },
         {
          "font": {
           "color": "#FFFFFF"
          },
          "showarrow": false,
          "text": "-0.35",
          "x": "Pressure9am",
          "xref": "x",
          "y": "MaxTemp",
          "yref": "y"
         },
         {
          "font": {
           "color": "#FFFFFF"
          },
          "showarrow": false,
          "text": "-0.45",
          "x": "Pressure3pm",
          "xref": "x",
          "y": "MaxTemp",
          "yref": "y"
         },
         {
          "font": {
           "color": "#FFFFFF"
          },
          "showarrow": false,
          "text": "-0.26",
          "x": "Cloud9am",
          "xref": "x",
          "y": "MaxTemp",
          "yref": "y"
         },
         {
          "font": {
           "color": "#FFFFFF"
          },
          "showarrow": false,
          "text": "-0.26",
          "x": "Cloud3pm",
          "xref": "x",
          "y": "MaxTemp",
          "yref": "y"
         },
         {
          "font": {
           "color": "#000000"
          },
          "showarrow": false,
          "text": "0.89",
          "x": "Temp9am",
          "xref": "x",
          "y": "MaxTemp",
          "yref": "y"
         },
         {
          "font": {
           "color": "#000000"
          },
          "showarrow": false,
          "text": "0.98",
          "x": "Temp3pm",
          "xref": "x",
          "y": "MaxTemp",
          "yref": "y"
         },
         {
          "font": {
           "color": "#FFFFFF"
          },
          "showarrow": false,
          "text": "-0.15",
          "x": "RainTomorrow_int",
          "xref": "x",
          "y": "MaxTemp",
          "yref": "y"
         },
         {
          "font": {
           "color": "#FFFFFF"
          },
          "showarrow": false,
          "text": "0.11",
          "x": "MinTemp",
          "xref": "x",
          "y": "Rainfall",
          "yref": "y"
         },
         {
          "font": {
           "color": "#FFFFFF"
          },
          "showarrow": false,
          "text": "-0.07",
          "x": "MaxTemp",
          "xref": "x",
          "y": "Rainfall",
          "yref": "y"
         },
         {
          "font": {
           "color": "#000000"
          },
          "showarrow": false,
          "text": "1.0",
          "x": "Rainfall",
          "xref": "x",
          "y": "Rainfall",
          "yref": "y"
         },
         {
          "font": {
           "color": "#FFFFFF"
          },
          "showarrow": false,
          "text": "-0.08",
          "x": "Evaporation",
          "xref": "x",
          "y": "Rainfall",
          "yref": "y"
         },
         {
          "font": {
           "color": "#FFFFFF"
          },
          "showarrow": false,
          "text": "-0.25",
          "x": "Sunshine",
          "xref": "x",
          "y": "Rainfall",
          "yref": "y"
         },
         {
          "font": {
           "color": "#FFFFFF"
          },
          "showarrow": false,
          "text": "0.11",
          "x": "WindGustSpeed",
          "xref": "x",
          "y": "Rainfall",
          "yref": "y"
         },
         {
          "font": {
           "color": "#FFFFFF"
          },
          "showarrow": false,
          "text": "0.05",
          "x": "WindSpeed9am",
          "xref": "x",
          "y": "Rainfall",
          "yref": "y"
         },
         {
          "font": {
           "color": "#FFFFFF"
          },
          "showarrow": false,
          "text": "0.04",
          "x": "WindSpeed3pm",
          "xref": "x",
          "y": "Rainfall",
          "yref": "y"
         },
         {
          "font": {
           "color": "#000000"
          },
          "showarrow": false,
          "text": "0.26",
          "x": "Humidity9am",
          "xref": "x",
          "y": "Rainfall",
          "yref": "y"
         },
         {
          "font": {
           "color": "#000000"
          },
          "showarrow": false,
          "text": "0.28",
          "x": "Humidity3pm",
          "xref": "x",
          "y": "Rainfall",
          "yref": "y"
         },
         {
          "font": {
           "color": "#FFFFFF"
          },
          "showarrow": false,
          "text": "-0.18",
          "x": "Pressure9am",
          "xref": "x",
          "y": "Rainfall",
          "yref": "y"
         },
         {
          "font": {
           "color": "#FFFFFF"
          },
          "showarrow": false,
          "text": "-0.14",
          "x": "Pressure3pm",
          "xref": "x",
          "y": "Rainfall",
          "yref": "y"
         },
         {
          "font": {
           "color": "#000000"
          },
          "showarrow": false,
          "text": "0.22",
          "x": "Cloud9am",
          "xref": "x",
          "y": "Rainfall",
          "yref": "y"
         },
         {
          "font": {
           "color": "#000000"
          },
          "showarrow": false,
          "text": "0.19",
          "x": "Cloud3pm",
          "xref": "x",
          "y": "Rainfall",
          "yref": "y"
         },
         {
          "font": {
           "color": "#FFFFFF"
          },
          "showarrow": false,
          "text": "0.01",
          "x": "Temp9am",
          "xref": "x",
          "y": "Rainfall",
          "yref": "y"
         },
         {
          "font": {
           "color": "#FFFFFF"
          },
          "showarrow": false,
          "text": "-0.07",
          "x": "Temp3pm",
          "xref": "x",
          "y": "Rainfall",
          "yref": "y"
         },
         {
          "font": {
           "color": "#000000"
          },
          "showarrow": false,
          "text": "0.25",
          "x": "RainTomorrow_int",
          "xref": "x",
          "y": "Rainfall",
          "yref": "y"
         },
         {
          "font": {
           "color": "#000000"
          },
          "showarrow": false,
          "text": "0.51",
          "x": "MinTemp",
          "xref": "x",
          "y": "Evaporation",
          "yref": "y"
         },
         {
          "font": {
           "color": "#000000"
          },
          "showarrow": false,
          "text": "0.65",
          "x": "MaxTemp",
          "xref": "x",
          "y": "Evaporation",
          "yref": "y"
         },
         {
          "font": {
           "color": "#FFFFFF"
          },
          "showarrow": false,
          "text": "-0.08",
          "x": "Rainfall",
          "xref": "x",
          "y": "Evaporation",
          "yref": "y"
         },
         {
          "font": {
           "color": "#000000"
          },
          "showarrow": false,
          "text": "1.0",
          "x": "Evaporation",
          "xref": "x",
          "y": "Evaporation",
          "yref": "y"
         },
         {
          "font": {
           "color": "#000000"
          },
          "showarrow": false,
          "text": "0.37",
          "x": "Sunshine",
          "xref": "x",
          "y": "Evaporation",
          "yref": "y"
         },
         {
          "font": {
           "color": "#000000"
          },
          "showarrow": false,
          "text": "0.21",
          "x": "WindGustSpeed",
          "xref": "x",
          "y": "Evaporation",
          "yref": "y"
         },
         {
          "font": {
           "color": "#000000"
          },
          "showarrow": false,
          "text": "0.19",
          "x": "WindSpeed9am",
          "xref": "x",
          "y": "Evaporation",
          "yref": "y"
         },
         {
          "font": {
           "color": "#FFFFFF"
          },
          "showarrow": false,
          "text": "0.12",
          "x": "WindSpeed3pm",
          "xref": "x",
          "y": "Evaporation",
          "yref": "y"
         },
         {
          "font": {
           "color": "#FFFFFF"
          },
          "showarrow": false,
          "text": "-0.55",
          "x": "Humidity9am",
          "xref": "x",
          "y": "Evaporation",
          "yref": "y"
         },
         {
          "font": {
           "color": "#FFFFFF"
          },
          "showarrow": false,
          "text": "-0.42",
          "x": "Humidity3pm",
          "xref": "x",
          "y": "Evaporation",
          "yref": "y"
         },
         {
          "font": {
           "color": "#FFFFFF"
          },
          "showarrow": false,
          "text": "-0.3",
          "x": "Pressure9am",
          "xref": "x",
          "y": "Evaporation",
          "yref": "y"
         },
         {
          "font": {
           "color": "#FFFFFF"
          },
          "showarrow": false,
          "text": "-0.33",
          "x": "Pressure3pm",
          "xref": "x",
          "y": "Evaporation",
          "yref": "y"
         },
         {
          "font": {
           "color": "#FFFFFF"
          },
          "showarrow": false,
          "text": "-0.2",
          "x": "Cloud9am",
          "xref": "x",
          "y": "Evaporation",
          "yref": "y"
         },
         {
          "font": {
           "color": "#FFFFFF"
          },
          "showarrow": false,
          "text": "-0.2",
          "x": "Cloud3pm",
          "xref": "x",
          "y": "Evaporation",
          "yref": "y"
         },
         {
          "font": {
           "color": "#000000"
          },
          "showarrow": false,
          "text": "0.59",
          "x": "Temp9am",
          "xref": "x",
          "y": "Evaporation",
          "yref": "y"
         },
         {
          "font": {
           "color": "#000000"
          },
          "showarrow": false,
          "text": "0.63",
          "x": "Temp3pm",
          "xref": "x",
          "y": "Evaporation",
          "yref": "y"
         },
         {
          "font": {
           "color": "#FFFFFF"
          },
          "showarrow": false,
          "text": "-0.13",
          "x": "RainTomorrow_int",
          "xref": "x",
          "y": "Evaporation",
          "yref": "y"
         },
         {
          "font": {
           "color": "#FFFFFF"
          },
          "showarrow": false,
          "text": "0.08",
          "x": "MinTemp",
          "xref": "x",
          "y": "Sunshine",
          "yref": "y"
         },
         {
          "font": {
           "color": "#000000"
          },
          "showarrow": false,
          "text": "0.46",
          "x": "MaxTemp",
          "xref": "x",
          "y": "Sunshine",
          "yref": "y"
         },
         {
          "font": {
           "color": "#FFFFFF"
          },
          "showarrow": false,
          "text": "-0.25",
          "x": "Rainfall",
          "xref": "x",
          "y": "Sunshine",
          "yref": "y"
         },
         {
          "font": {
           "color": "#000000"
          },
          "showarrow": false,
          "text": "0.37",
          "x": "Evaporation",
          "xref": "x",
          "y": "Sunshine",
          "yref": "y"
         },
         {
          "font": {
           "color": "#000000"
          },
          "showarrow": false,
          "text": "1.0",
          "x": "Sunshine",
          "xref": "x",
          "y": "Sunshine",
          "yref": "y"
         },
         {
          "font": {
           "color": "#FFFFFF"
          },
          "showarrow": false,
          "text": "-0.05",
          "x": "WindGustSpeed",
          "xref": "x",
          "y": "Sunshine",
          "yref": "y"
         },
         {
          "font": {
           "color": "#FFFFFF"
          },
          "showarrow": false,
          "text": "-0.01",
          "x": "WindSpeed9am",
          "xref": "x",
          "y": "Sunshine",
          "yref": "y"
         },
         {
          "font": {
           "color": "#FFFFFF"
          },
          "showarrow": false,
          "text": "0.03",
          "x": "WindSpeed3pm",
          "xref": "x",
          "y": "Sunshine",
          "yref": "y"
         },
         {
          "font": {
           "color": "#FFFFFF"
          },
          "showarrow": false,
          "text": "-0.5",
          "x": "Humidity9am",
          "xref": "x",
          "y": "Sunshine",
          "yref": "y"
         },
         {
          "font": {
           "color": "#FFFFFF"
          },
          "showarrow": false,
          "text": "-0.63",
          "x": "Humidity3pm",
          "xref": "x",
          "y": "Sunshine",
          "yref": "y"
         },
         {
          "font": {
           "color": "#FFFFFF"
          },
          "showarrow": false,
          "text": "0.04",
          "x": "Pressure9am",
          "xref": "x",
          "y": "Sunshine",
          "yref": "y"
         },
         {
          "font": {
           "color": "#FFFFFF"
          },
          "showarrow": false,
          "text": "-0.02",
          "x": "Pressure3pm",
          "xref": "x",
          "y": "Sunshine",
          "yref": "y"
         },
         {
          "font": {
           "color": "#FFFFFF"
          },
          "showarrow": false,
          "text": "-0.68",
          "x": "Cloud9am",
          "xref": "x",
          "y": "Sunshine",
          "yref": "y"
         },
         {
          "font": {
           "color": "#FFFFFF"
          },
          "showarrow": false,
          "text": "-0.7",
          "x": "Cloud3pm",
          "xref": "x",
          "y": "Sunshine",
          "yref": "y"
         },
         {
          "font": {
           "color": "#000000"
          },
          "showarrow": false,
          "text": "0.29",
          "x": "Temp9am",
          "xref": "x",
          "y": "Sunshine",
          "yref": "y"
         },
         {
          "font": {
           "color": "#000000"
          },
          "showarrow": false,
          "text": "0.49",
          "x": "Temp3pm",
          "xref": "x",
          "y": "Sunshine",
          "yref": "y"
         },
         {
          "font": {
           "color": "#FFFFFF"
          },
          "showarrow": false,
          "text": "-0.45",
          "x": "RainTomorrow_int",
          "xref": "x",
          "y": "Sunshine",
          "yref": "y"
         },
         {
          "font": {
           "color": "#FFFFFF"
          },
          "showarrow": false,
          "text": "0.12",
          "x": "MinTemp",
          "xref": "x",
          "y": "WindGustSpeed",
          "yref": "y"
         },
         {
          "font": {
           "color": "#FFFFFF"
          },
          "showarrow": false,
          "text": "0.04",
          "x": "MaxTemp",
          "xref": "x",
          "y": "WindGustSpeed",
          "yref": "y"
         },
         {
          "font": {
           "color": "#FFFFFF"
          },
          "showarrow": false,
          "text": "0.11",
          "x": "Rainfall",
          "xref": "x",
          "y": "WindGustSpeed",
          "yref": "y"
         },
         {
          "font": {
           "color": "#000000"
          },
          "showarrow": false,
          "text": "0.21",
          "x": "Evaporation",
          "xref": "x",
          "y": "WindGustSpeed",
          "yref": "y"
         },
         {
          "font": {
           "color": "#FFFFFF"
          },
          "showarrow": false,
          "text": "-0.05",
          "x": "Sunshine",
          "xref": "x",
          "y": "WindGustSpeed",
          "yref": "y"
         },
         {
          "font": {
           "color": "#000000"
          },
          "showarrow": false,
          "text": "1.0",
          "x": "WindGustSpeed",
          "xref": "x",
          "y": "WindGustSpeed",
          "yref": "y"
         },
         {
          "font": {
           "color": "#000000"
          },
          "showarrow": false,
          "text": "0.61",
          "x": "WindSpeed9am",
          "xref": "x",
          "y": "WindGustSpeed",
          "yref": "y"
         },
         {
          "font": {
           "color": "#000000"
          },
          "showarrow": false,
          "text": "0.69",
          "x": "WindSpeed3pm",
          "xref": "x",
          "y": "WindGustSpeed",
          "yref": "y"
         },
         {
          "font": {
           "color": "#FFFFFF"
          },
          "showarrow": false,
          "text": "-0.19",
          "x": "Humidity9am",
          "xref": "x",
          "y": "WindGustSpeed",
          "yref": "y"
         },
         {
          "font": {
           "color": "#FFFFFF"
          },
          "showarrow": false,
          "text": "-0.04",
          "x": "Humidity3pm",
          "xref": "x",
          "y": "WindGustSpeed",
          "yref": "y"
         },
         {
          "font": {
           "color": "#FFFFFF"
          },
          "showarrow": false,
          "text": "-0.43",
          "x": "Pressure9am",
          "xref": "x",
          "y": "WindGustSpeed",
          "yref": "y"
         },
         {
          "font": {
           "color": "#FFFFFF"
          },
          "showarrow": false,
          "text": "-0.38",
          "x": "Pressure3pm",
          "xref": "x",
          "y": "WindGustSpeed",
          "yref": "y"
         },
         {
          "font": {
           "color": "#FFFFFF"
          },
          "showarrow": false,
          "text": "0.09",
          "x": "Cloud9am",
          "xref": "x",
          "y": "WindGustSpeed",
          "yref": "y"
         },
         {
          "font": {
           "color": "#FFFFFF"
          },
          "showarrow": false,
          "text": "0.13",
          "x": "Cloud3pm",
          "xref": "x",
          "y": "WindGustSpeed",
          "yref": "y"
         },
         {
          "font": {
           "color": "#FFFFFF"
          },
          "showarrow": false,
          "text": "0.09",
          "x": "Temp9am",
          "xref": "x",
          "y": "WindGustSpeed",
          "yref": "y"
         },
         {
          "font": {
           "color": "#FFFFFF"
          },
          "showarrow": false,
          "text": "-0.0",
          "x": "Temp3pm",
          "xref": "x",
          "y": "WindGustSpeed",
          "yref": "y"
         },
         {
          "font": {
           "color": "#000000"
          },
          "showarrow": false,
          "text": "0.23",
          "x": "RainTomorrow_int",
          "xref": "x",
          "y": "WindGustSpeed",
          "yref": "y"
         },
         {
          "font": {
           "color": "#FFFFFF"
          },
          "showarrow": false,
          "text": "0.11",
          "x": "MinTemp",
          "xref": "x",
          "y": "WindSpeed9am",
          "yref": "y"
         },
         {
          "font": {
           "color": "#FFFFFF"
          },
          "showarrow": false,
          "text": "-0.01",
          "x": "MaxTemp",
          "xref": "x",
          "y": "WindSpeed9am",
          "yref": "y"
         },
         {
          "font": {
           "color": "#FFFFFF"
          },
          "showarrow": false,
          "text": "0.05",
          "x": "Rainfall",
          "xref": "x",
          "y": "WindSpeed9am",
          "yref": "y"
         },
         {
          "font": {
           "color": "#000000"
          },
          "showarrow": false,
          "text": "0.19",
          "x": "Evaporation",
          "xref": "x",
          "y": "WindSpeed9am",
          "yref": "y"
         },
         {
          "font": {
           "color": "#FFFFFF"
          },
          "showarrow": false,
          "text": "-0.01",
          "x": "Sunshine",
          "xref": "x",
          "y": "WindSpeed9am",
          "yref": "y"
         },
         {
          "font": {
           "color": "#000000"
          },
          "showarrow": false,
          "text": "0.61",
          "x": "WindGustSpeed",
          "xref": "x",
          "y": "WindSpeed9am",
          "yref": "y"
         },
         {
          "font": {
           "color": "#000000"
          },
          "showarrow": false,
          "text": "1.0",
          "x": "WindSpeed9am",
          "xref": "x",
          "y": "WindSpeed9am",
          "yref": "y"
         },
         {
          "font": {
           "color": "#000000"
          },
          "showarrow": false,
          "text": "0.5",
          "x": "WindSpeed3pm",
          "xref": "x",
          "y": "WindSpeed9am",
          "yref": "y"
         },
         {
          "font": {
           "color": "#FFFFFF"
          },
          "showarrow": false,
          "text": "-0.24",
          "x": "Humidity9am",
          "xref": "x",
          "y": "WindSpeed9am",
          "yref": "y"
         },
         {
          "font": {
           "color": "#FFFFFF"
          },
          "showarrow": false,
          "text": "-0.06",
          "x": "Humidity3pm",
          "xref": "x",
          "y": "WindSpeed9am",
          "yref": "y"
         },
         {
          "font": {
           "color": "#FFFFFF"
          },
          "showarrow": false,
          "text": "-0.2",
          "x": "Pressure9am",
          "xref": "x",
          "y": "WindSpeed9am",
          "yref": "y"
         },
         {
          "font": {
           "color": "#FFFFFF"
          },
          "showarrow": false,
          "text": "-0.16",
          "x": "Pressure3pm",
          "xref": "x",
          "y": "WindSpeed9am",
          "yref": "y"
         },
         {
          "font": {
           "color": "#FFFFFF"
          },
          "showarrow": false,
          "text": "0.03",
          "x": "Cloud9am",
          "xref": "x",
          "y": "WindSpeed9am",
          "yref": "y"
         },
         {
          "font": {
           "color": "#FFFFFF"
          },
          "showarrow": false,
          "text": "0.06",
          "x": "Cloud3pm",
          "xref": "x",
          "y": "WindSpeed9am",
          "yref": "y"
         },
         {
          "font": {
           "color": "#FFFFFF"
          },
          "showarrow": false,
          "text": "0.05",
          "x": "Temp9am",
          "xref": "x",
          "y": "WindSpeed9am",
          "yref": "y"
         },
         {
          "font": {
           "color": "#FFFFFF"
          },
          "showarrow": false,
          "text": "-0.02",
          "x": "Temp3pm",
          "xref": "x",
          "y": "WindSpeed9am",
          "yref": "y"
         },
         {
          "font": {
           "color": "#FFFFFF"
          },
          "showarrow": false,
          "text": "0.08",
          "x": "RainTomorrow_int",
          "xref": "x",
          "y": "WindSpeed9am",
          "yref": "y"
         },
         {
          "font": {
           "color": "#FFFFFF"
          },
          "showarrow": false,
          "text": "0.14",
          "x": "MinTemp",
          "xref": "x",
          "y": "WindSpeed3pm",
          "yref": "y"
         },
         {
          "font": {
           "color": "#FFFFFF"
          },
          "showarrow": false,
          "text": "0.01",
          "x": "MaxTemp",
          "xref": "x",
          "y": "WindSpeed3pm",
          "yref": "y"
         },
         {
          "font": {
           "color": "#FFFFFF"
          },
          "showarrow": false,
          "text": "0.04",
          "x": "Rainfall",
          "xref": "x",
          "y": "WindSpeed3pm",
          "yref": "y"
         },
         {
          "font": {
           "color": "#FFFFFF"
          },
          "showarrow": false,
          "text": "0.12",
          "x": "Evaporation",
          "xref": "x",
          "y": "WindSpeed3pm",
          "yref": "y"
         },
         {
          "font": {
           "color": "#FFFFFF"
          },
          "showarrow": false,
          "text": "0.03",
          "x": "Sunshine",
          "xref": "x",
          "y": "WindSpeed3pm",
          "yref": "y"
         },
         {
          "font": {
           "color": "#000000"
          },
          "showarrow": false,
          "text": "0.69",
          "x": "WindGustSpeed",
          "xref": "x",
          "y": "WindSpeed3pm",
          "yref": "y"
         },
         {
          "font": {
           "color": "#000000"
          },
          "showarrow": false,
          "text": "0.5",
          "x": "WindSpeed9am",
          "xref": "x",
          "y": "WindSpeed3pm",
          "yref": "y"
         },
         {
          "font": {
           "color": "#000000"
          },
          "showarrow": false,
          "text": "1.0",
          "x": "WindSpeed3pm",
          "xref": "x",
          "y": "WindSpeed3pm",
          "yref": "y"
         },
         {
          "font": {
           "color": "#FFFFFF"
          },
          "showarrow": false,
          "text": "-0.1",
          "x": "Humidity9am",
          "xref": "x",
          "y": "WindSpeed3pm",
          "yref": "y"
         },
         {
          "font": {
           "color": "#FFFFFF"
          },
          "showarrow": false,
          "text": "0.03",
          "x": "Humidity3pm",
          "xref": "x",
          "y": "WindSpeed3pm",
          "yref": "y"
         },
         {
          "font": {
           "color": "#FFFFFF"
          },
          "showarrow": false,
          "text": "-0.29",
          "x": "Pressure9am",
          "xref": "x",
          "y": "WindSpeed3pm",
          "yref": "y"
         },
         {
          "font": {
           "color": "#FFFFFF"
          },
          "showarrow": false,
          "text": "-0.25",
          "x": "Pressure3pm",
          "xref": "x",
          "y": "WindSpeed3pm",
          "yref": "y"
         },
         {
          "font": {
           "color": "#FFFFFF"
          },
          "showarrow": false,
          "text": "0.07",
          "x": "Cloud9am",
          "xref": "x",
          "y": "WindSpeed3pm",
          "yref": "y"
         },
         {
          "font": {
           "color": "#FFFFFF"
          },
          "showarrow": false,
          "text": "0.04",
          "x": "Cloud3pm",
          "xref": "x",
          "y": "WindSpeed3pm",
          "yref": "y"
         },
         {
          "font": {
           "color": "#FFFFFF"
          },
          "showarrow": false,
          "text": "0.11",
          "x": "Temp9am",
          "xref": "x",
          "y": "WindSpeed3pm",
          "yref": "y"
         },
         {
          "font": {
           "color": "#FFFFFF"
          },
          "showarrow": false,
          "text": "-0.01",
          "x": "Temp3pm",
          "xref": "x",
          "y": "WindSpeed3pm",
          "yref": "y"
         },
         {
          "font": {
           "color": "#FFFFFF"
          },
          "showarrow": false,
          "text": "0.09",
          "x": "RainTomorrow_int",
          "xref": "x",
          "y": "WindSpeed3pm",
          "yref": "y"
         },
         {
          "font": {
           "color": "#FFFFFF"
          },
          "showarrow": false,
          "text": "-0.17",
          "x": "MinTemp",
          "xref": "x",
          "y": "Humidity9am",
          "yref": "y"
         },
         {
          "font": {
           "color": "#FFFFFF"
          },
          "showarrow": false,
          "text": "-0.5",
          "x": "MaxTemp",
          "xref": "x",
          "y": "Humidity9am",
          "yref": "y"
         },
         {
          "font": {
           "color": "#000000"
          },
          "showarrow": false,
          "text": "0.26",
          "x": "Rainfall",
          "xref": "x",
          "y": "Humidity9am",
          "yref": "y"
         },
         {
          "font": {
           "color": "#FFFFFF"
          },
          "showarrow": false,
          "text": "-0.55",
          "x": "Evaporation",
          "xref": "x",
          "y": "Humidity9am",
          "yref": "y"
         },
         {
          "font": {
           "color": "#FFFFFF"
          },
          "showarrow": false,
          "text": "-0.5",
          "x": "Sunshine",
          "xref": "x",
          "y": "Humidity9am",
          "yref": "y"
         },
         {
          "font": {
           "color": "#FFFFFF"
          },
          "showarrow": false,
          "text": "-0.19",
          "x": "WindGustSpeed",
          "xref": "x",
          "y": "Humidity9am",
          "yref": "y"
         },
         {
          "font": {
           "color": "#FFFFFF"
          },
          "showarrow": false,
          "text": "-0.24",
          "x": "WindSpeed9am",
          "xref": "x",
          "y": "Humidity9am",
          "yref": "y"
         },
         {
          "font": {
           "color": "#FFFFFF"
          },
          "showarrow": false,
          "text": "-0.1",
          "x": "WindSpeed3pm",
          "xref": "x",
          "y": "Humidity9am",
          "yref": "y"
         },
         {
          "font": {
           "color": "#000000"
          },
          "showarrow": false,
          "text": "1.0",
          "x": "Humidity9am",
          "xref": "x",
          "y": "Humidity9am",
          "yref": "y"
         },
         {
          "font": {
           "color": "#000000"
          },
          "showarrow": false,
          "text": "0.69",
          "x": "Humidity3pm",
          "xref": "x",
          "y": "Humidity9am",
          "yref": "y"
         },
         {
          "font": {
           "color": "#FFFFFF"
          },
          "showarrow": false,
          "text": "0.11",
          "x": "Pressure9am",
          "xref": "x",
          "y": "Humidity9am",
          "yref": "y"
         },
         {
          "font": {
           "color": "#000000"
          },
          "showarrow": false,
          "text": "0.17",
          "x": "Pressure3pm",
          "xref": "x",
          "y": "Humidity9am",
          "yref": "y"
         },
         {
          "font": {
           "color": "#000000"
          },
          "showarrow": false,
          "text": "0.44",
          "x": "Cloud9am",
          "xref": "x",
          "y": "Humidity9am",
          "yref": "y"
         },
         {
          "font": {
           "color": "#000000"
          },
          "showarrow": false,
          "text": "0.35",
          "x": "Cloud3pm",
          "xref": "x",
          "y": "Humidity9am",
          "yref": "y"
         },
         {
          "font": {
           "color": "#FFFFFF"
          },
          "showarrow": false,
          "text": "-0.42",
          "x": "Temp9am",
          "xref": "x",
          "y": "Humidity9am",
          "yref": "y"
         },
         {
          "font": {
           "color": "#FFFFFF"
          },
          "showarrow": false,
          "text": "-0.49",
          "x": "Temp3pm",
          "xref": "x",
          "y": "Humidity9am",
          "yref": "y"
         },
         {
          "font": {
           "color": "#000000"
          },
          "showarrow": false,
          "text": "0.27",
          "x": "RainTomorrow_int",
          "xref": "x",
          "y": "Humidity9am",
          "yref": "y"
         },
         {
          "font": {
           "color": "#FFFFFF"
          },
          "showarrow": false,
          "text": "0.07",
          "x": "MinTemp",
          "xref": "x",
          "y": "Humidity3pm",
          "yref": "y"
         },
         {
          "font": {
           "color": "#FFFFFF"
          },
          "showarrow": false,
          "text": "-0.45",
          "x": "MaxTemp",
          "xref": "x",
          "y": "Humidity3pm",
          "yref": "y"
         },
         {
          "font": {
           "color": "#000000"
          },
          "showarrow": false,
          "text": "0.28",
          "x": "Rainfall",
          "xref": "x",
          "y": "Humidity3pm",
          "yref": "y"
         },
         {
          "font": {
           "color": "#FFFFFF"
          },
          "showarrow": false,
          "text": "-0.42",
          "x": "Evaporation",
          "xref": "x",
          "y": "Humidity3pm",
          "yref": "y"
         },
         {
          "font": {
           "color": "#FFFFFF"
          },
          "showarrow": false,
          "text": "-0.63",
          "x": "Sunshine",
          "xref": "x",
          "y": "Humidity3pm",
          "yref": "y"
         },
         {
          "font": {
           "color": "#FFFFFF"
          },
          "showarrow": false,
          "text": "-0.04",
          "x": "WindGustSpeed",
          "xref": "x",
          "y": "Humidity3pm",
          "yref": "y"
         },
         {
          "font": {
           "color": "#FFFFFF"
          },
          "showarrow": false,
          "text": "-0.06",
          "x": "WindSpeed9am",
          "xref": "x",
          "y": "Humidity3pm",
          "yref": "y"
         },
         {
          "font": {
           "color": "#FFFFFF"
          },
          "showarrow": false,
          "text": "0.03",
          "x": "WindSpeed3pm",
          "xref": "x",
          "y": "Humidity3pm",
          "yref": "y"
         },
         {
          "font": {
           "color": "#000000"
          },
          "showarrow": false,
          "text": "0.69",
          "x": "Humidity9am",
          "xref": "x",
          "y": "Humidity3pm",
          "yref": "y"
         },
         {
          "font": {
           "color": "#000000"
          },
          "showarrow": false,
          "text": "1.0",
          "x": "Humidity3pm",
          "xref": "x",
          "y": "Humidity3pm",
          "yref": "y"
         },
         {
          "font": {
           "color": "#FFFFFF"
          },
          "showarrow": false,
          "text": "-0.06",
          "x": "Pressure9am",
          "xref": "x",
          "y": "Humidity3pm",
          "yref": "y"
         },
         {
          "font": {
           "color": "#FFFFFF"
          },
          "showarrow": false,
          "text": "0.02",
          "x": "Pressure3pm",
          "xref": "x",
          "y": "Humidity3pm",
          "yref": "y"
         },
         {
          "font": {
           "color": "#000000"
          },
          "showarrow": false,
          "text": "0.51",
          "x": "Cloud9am",
          "xref": "x",
          "y": "Humidity3pm",
          "yref": "y"
         },
         {
          "font": {
           "color": "#000000"
          },
          "showarrow": false,
          "text": "0.51",
          "x": "Cloud3pm",
          "xref": "x",
          "y": "Humidity3pm",
          "yref": "y"
         },
         {
          "font": {
           "color": "#FFFFFF"
          },
          "showarrow": false,
          "text": "-0.15",
          "x": "Temp9am",
          "xref": "x",
          "y": "Humidity3pm",
          "yref": "y"
         },
         {
          "font": {
           "color": "#FFFFFF"
          },
          "showarrow": false,
          "text": "-0.5",
          "x": "Temp3pm",
          "xref": "x",
          "y": "Humidity3pm",
          "yref": "y"
         },
         {
          "font": {
           "color": "#000000"
          },
          "showarrow": false,
          "text": "0.46",
          "x": "RainTomorrow_int",
          "xref": "x",
          "y": "Humidity3pm",
          "yref": "y"
         },
         {
          "font": {
           "color": "#FFFFFF"
          },
          "showarrow": false,
          "text": "-0.48",
          "x": "MinTemp",
          "xref": "x",
          "y": "Pressure9am",
          "yref": "y"
         },
         {
          "font": {
           "color": "#FFFFFF"
          },
          "showarrow": false,
          "text": "-0.35",
          "x": "MaxTemp",
          "xref": "x",
          "y": "Pressure9am",
          "yref": "y"
         },
         {
          "font": {
           "color": "#FFFFFF"
          },
          "showarrow": false,
          "text": "-0.18",
          "x": "Rainfall",
          "xref": "x",
          "y": "Pressure9am",
          "yref": "y"
         },
         {
          "font": {
           "color": "#FFFFFF"
          },
          "showarrow": false,
          "text": "-0.3",
          "x": "Evaporation",
          "xref": "x",
          "y": "Pressure9am",
          "yref": "y"
         },
         {
          "font": {
           "color": "#FFFFFF"
          },
          "showarrow": false,
          "text": "0.04",
          "x": "Sunshine",
          "xref": "x",
          "y": "Pressure9am",
          "yref": "y"
         },
         {
          "font": {
           "color": "#FFFFFF"
          },
          "showarrow": false,
          "text": "-0.43",
          "x": "WindGustSpeed",
          "xref": "x",
          "y": "Pressure9am",
          "yref": "y"
         },
         {
          "font": {
           "color": "#FFFFFF"
          },
          "showarrow": false,
          "text": "-0.2",
          "x": "WindSpeed9am",
          "xref": "x",
          "y": "Pressure9am",
          "yref": "y"
         },
         {
          "font": {
           "color": "#FFFFFF"
          },
          "showarrow": false,
          "text": "-0.29",
          "x": "WindSpeed3pm",
          "xref": "x",
          "y": "Pressure9am",
          "yref": "y"
         },
         {
          "font": {
           "color": "#FFFFFF"
          },
          "showarrow": false,
          "text": "0.11",
          "x": "Humidity9am",
          "xref": "x",
          "y": "Pressure9am",
          "yref": "y"
         },
         {
          "font": {
           "color": "#FFFFFF"
          },
          "showarrow": false,
          "text": "-0.06",
          "x": "Humidity3pm",
          "xref": "x",
          "y": "Pressure9am",
          "yref": "y"
         },
         {
          "font": {
           "color": "#000000"
          },
          "showarrow": false,
          "text": "1.0",
          "x": "Pressure9am",
          "xref": "x",
          "y": "Pressure9am",
          "yref": "y"
         },
         {
          "font": {
           "color": "#000000"
          },
          "showarrow": false,
          "text": "0.96",
          "x": "Pressure3pm",
          "xref": "x",
          "y": "Pressure9am",
          "yref": "y"
         },
         {
          "font": {
           "color": "#FFFFFF"
          },
          "showarrow": false,
          "text": "-0.15",
          "x": "Cloud9am",
          "xref": "x",
          "y": "Pressure9am",
          "yref": "y"
         },
         {
          "font": {
           "color": "#FFFFFF"
          },
          "showarrow": false,
          "text": "-0.17",
          "x": "Cloud3pm",
          "xref": "x",
          "y": "Pressure9am",
          "yref": "y"
         },
         {
          "font": {
           "color": "#FFFFFF"
          },
          "showarrow": false,
          "text": "-0.44",
          "x": "Temp9am",
          "xref": "x",
          "y": "Pressure9am",
          "yref": "y"
         },
         {
          "font": {
           "color": "#FFFFFF"
          },
          "showarrow": false,
          "text": "-0.31",
          "x": "Temp3pm",
          "xref": "x",
          "y": "Pressure9am",
          "yref": "y"
         },
         {
          "font": {
           "color": "#FFFFFF"
          },
          "showarrow": false,
          "text": "-0.25",
          "x": "RainTomorrow_int",
          "xref": "x",
          "y": "Pressure9am",
          "yref": "y"
         },
         {
          "font": {
           "color": "#FFFFFF"
          },
          "showarrow": false,
          "text": "-0.5",
          "x": "MinTemp",
          "xref": "x",
          "y": "Pressure3pm",
          "yref": "y"
         },
         {
          "font": {
           "color": "#FFFFFF"
          },
          "showarrow": false,
          "text": "-0.45",
          "x": "MaxTemp",
          "xref": "x",
          "y": "Pressure3pm",
          "yref": "y"
         },
         {
          "font": {
           "color": "#FFFFFF"
          },
          "showarrow": false,
          "text": "-0.14",
          "x": "Rainfall",
          "xref": "x",
          "y": "Pressure3pm",
          "yref": "y"
         },
         {
          "font": {
           "color": "#FFFFFF"
          },
          "showarrow": false,
          "text": "-0.33",
          "x": "Evaporation",
          "xref": "x",
          "y": "Pressure3pm",
          "yref": "y"
         },
         {
          "font": {
           "color": "#FFFFFF"
          },
          "showarrow": false,
          "text": "-0.02",
          "x": "Sunshine",
          "xref": "x",
          "y": "Pressure3pm",
          "yref": "y"
         },
         {
          "font": {
           "color": "#FFFFFF"
          },
          "showarrow": false,
          "text": "-0.38",
          "x": "WindGustSpeed",
          "xref": "x",
          "y": "Pressure3pm",
          "yref": "y"
         },
         {
          "font": {
           "color": "#FFFFFF"
          },
          "showarrow": false,
          "text": "-0.16",
          "x": "WindSpeed9am",
          "xref": "x",
          "y": "Pressure3pm",
          "yref": "y"
         },
         {
          "font": {
           "color": "#FFFFFF"
          },
          "showarrow": false,
          "text": "-0.25",
          "x": "WindSpeed3pm",
          "xref": "x",
          "y": "Pressure3pm",
          "yref": "y"
         },
         {
          "font": {
           "color": "#000000"
          },
          "showarrow": false,
          "text": "0.17",
          "x": "Humidity9am",
          "xref": "x",
          "y": "Pressure3pm",
          "yref": "y"
         },
         {
          "font": {
           "color": "#FFFFFF"
          },
          "showarrow": false,
          "text": "0.02",
          "x": "Humidity3pm",
          "xref": "x",
          "y": "Pressure3pm",
          "yref": "y"
         },
         {
          "font": {
           "color": "#000000"
          },
          "showarrow": false,
          "text": "0.96",
          "x": "Pressure9am",
          "xref": "x",
          "y": "Pressure3pm",
          "yref": "y"
         },
         {
          "font": {
           "color": "#000000"
          },
          "showarrow": false,
          "text": "1.0",
          "x": "Pressure3pm",
          "xref": "x",
          "y": "Pressure3pm",
          "yref": "y"
         },
         {
          "font": {
           "color": "#FFFFFF"
          },
          "showarrow": false,
          "text": "-0.08",
          "x": "Cloud9am",
          "xref": "x",
          "y": "Pressure3pm",
          "yref": "y"
         },
         {
          "font": {
           "color": "#FFFFFF"
          },
          "showarrow": false,
          "text": "-0.1",
          "x": "Cloud3pm",
          "xref": "x",
          "y": "Pressure3pm",
          "yref": "y"
         },
         {
          "font": {
           "color": "#FFFFFF"
          },
          "showarrow": false,
          "text": "-0.5",
          "x": "Temp9am",
          "xref": "x",
          "y": "Pressure3pm",
          "yref": "y"
         },
         {
          "font": {
           "color": "#FFFFFF"
          },
          "showarrow": false,
          "text": "-0.42",
          "x": "Temp3pm",
          "xref": "x",
          "y": "Pressure3pm",
          "yref": "y"
         },
         {
          "font": {
           "color": "#FFFFFF"
          },
          "showarrow": false,
          "text": "-0.23",
          "x": "RainTomorrow_int",
          "xref": "x",
          "y": "Pressure3pm",
          "yref": "y"
         },
         {
          "font": {
           "color": "#FFFFFF"
          },
          "showarrow": false,
          "text": "0.11",
          "x": "MinTemp",
          "xref": "x",
          "y": "Cloud9am",
          "yref": "y"
         },
         {
          "font": {
           "color": "#FFFFFF"
          },
          "showarrow": false,
          "text": "-0.26",
          "x": "MaxTemp",
          "xref": "x",
          "y": "Cloud9am",
          "yref": "y"
         },
         {
          "font": {
           "color": "#000000"
          },
          "showarrow": false,
          "text": "0.22",
          "x": "Rainfall",
          "xref": "x",
          "y": "Cloud9am",
          "yref": "y"
         },
         {
          "font": {
           "color": "#FFFFFF"
          },
          "showarrow": false,
          "text": "-0.2",
          "x": "Evaporation",
          "xref": "x",
          "y": "Cloud9am",
          "yref": "y"
         },
         {
          "font": {
           "color": "#FFFFFF"
          },
          "showarrow": false,
          "text": "-0.68",
          "x": "Sunshine",
          "xref": "x",
          "y": "Cloud9am",
          "yref": "y"
         },
         {
          "font": {
           "color": "#FFFFFF"
          },
          "showarrow": false,
          "text": "0.09",
          "x": "WindGustSpeed",
          "xref": "x",
          "y": "Cloud9am",
          "yref": "y"
         },
         {
          "font": {
           "color": "#FFFFFF"
          },
          "showarrow": false,
          "text": "0.03",
          "x": "WindSpeed9am",
          "xref": "x",
          "y": "Cloud9am",
          "yref": "y"
         },
         {
          "font": {
           "color": "#FFFFFF"
          },
          "showarrow": false,
          "text": "0.07",
          "x": "WindSpeed3pm",
          "xref": "x",
          "y": "Cloud9am",
          "yref": "y"
         },
         {
          "font": {
           "color": "#000000"
          },
          "showarrow": false,
          "text": "0.44",
          "x": "Humidity9am",
          "xref": "x",
          "y": "Cloud9am",
          "yref": "y"
         },
         {
          "font": {
           "color": "#000000"
          },
          "showarrow": false,
          "text": "0.51",
          "x": "Humidity3pm",
          "xref": "x",
          "y": "Cloud9am",
          "yref": "y"
         },
         {
          "font": {
           "color": "#FFFFFF"
          },
          "showarrow": false,
          "text": "-0.15",
          "x": "Pressure9am",
          "xref": "x",
          "y": "Cloud9am",
          "yref": "y"
         },
         {
          "font": {
           "color": "#FFFFFF"
          },
          "showarrow": false,
          "text": "-0.08",
          "x": "Pressure3pm",
          "xref": "x",
          "y": "Cloud9am",
          "yref": "y"
         },
         {
          "font": {
           "color": "#000000"
          },
          "showarrow": false,
          "text": "1.0",
          "x": "Cloud9am",
          "xref": "x",
          "y": "Cloud9am",
          "yref": "y"
         },
         {
          "font": {
           "color": "#000000"
          },
          "showarrow": false,
          "text": "0.61",
          "x": "Cloud3pm",
          "xref": "x",
          "y": "Cloud9am",
          "yref": "y"
         },
         {
          "font": {
           "color": "#FFFFFF"
          },
          "showarrow": false,
          "text": "-0.11",
          "x": "Temp9am",
          "xref": "x",
          "y": "Cloud9am",
          "yref": "y"
         },
         {
          "font": {
           "color": "#FFFFFF"
          },
          "showarrow": false,
          "text": "-0.28",
          "x": "Temp3pm",
          "xref": "x",
          "y": "Cloud9am",
          "yref": "y"
         },
         {
          "font": {
           "color": "#000000"
          },
          "showarrow": false,
          "text": "0.32",
          "x": "RainTomorrow_int",
          "xref": "x",
          "y": "Cloud9am",
          "yref": "y"
         },
         {
          "font": {
           "color": "#FFFFFF"
          },
          "showarrow": false,
          "text": "0.04",
          "x": "MinTemp",
          "xref": "x",
          "y": "Cloud3pm",
          "yref": "y"
         },
         {
          "font": {
           "color": "#FFFFFF"
          },
          "showarrow": false,
          "text": "-0.26",
          "x": "MaxTemp",
          "xref": "x",
          "y": "Cloud3pm",
          "yref": "y"
         },
         {
          "font": {
           "color": "#000000"
          },
          "showarrow": false,
          "text": "0.19",
          "x": "Rainfall",
          "xref": "x",
          "y": "Cloud3pm",
          "yref": "y"
         },
         {
          "font": {
           "color": "#FFFFFF"
          },
          "showarrow": false,
          "text": "-0.2",
          "x": "Evaporation",
          "xref": "x",
          "y": "Cloud3pm",
          "yref": "y"
         },
         {
          "font": {
           "color": "#FFFFFF"
          },
          "showarrow": false,
          "text": "-0.7",
          "x": "Sunshine",
          "xref": "x",
          "y": "Cloud3pm",
          "yref": "y"
         },
         {
          "font": {
           "color": "#FFFFFF"
          },
          "showarrow": false,
          "text": "0.13",
          "x": "WindGustSpeed",
          "xref": "x",
          "y": "Cloud3pm",
          "yref": "y"
         },
         {
          "font": {
           "color": "#FFFFFF"
          },
          "showarrow": false,
          "text": "0.06",
          "x": "WindSpeed9am",
          "xref": "x",
          "y": "Cloud3pm",
          "yref": "y"
         },
         {
          "font": {
           "color": "#FFFFFF"
          },
          "showarrow": false,
          "text": "0.04",
          "x": "WindSpeed3pm",
          "xref": "x",
          "y": "Cloud3pm",
          "yref": "y"
         },
         {
          "font": {
           "color": "#000000"
          },
          "showarrow": false,
          "text": "0.35",
          "x": "Humidity9am",
          "xref": "x",
          "y": "Cloud3pm",
          "yref": "y"
         },
         {
          "font": {
           "color": "#000000"
          },
          "showarrow": false,
          "text": "0.51",
          "x": "Humidity3pm",
          "xref": "x",
          "y": "Cloud3pm",
          "yref": "y"
         },
         {
          "font": {
           "color": "#FFFFFF"
          },
          "showarrow": false,
          "text": "-0.17",
          "x": "Pressure9am",
          "xref": "x",
          "y": "Cloud3pm",
          "yref": "y"
         },
         {
          "font": {
           "color": "#FFFFFF"
          },
          "showarrow": false,
          "text": "-0.1",
          "x": "Pressure3pm",
          "xref": "x",
          "y": "Cloud3pm",
          "yref": "y"
         },
         {
          "font": {
           "color": "#000000"
          },
          "showarrow": false,
          "text": "0.61",
          "x": "Cloud9am",
          "xref": "x",
          "y": "Cloud3pm",
          "yref": "y"
         },
         {
          "font": {
           "color": "#000000"
          },
          "showarrow": false,
          "text": "1.0",
          "x": "Cloud3pm",
          "xref": "x",
          "y": "Cloud3pm",
          "yref": "y"
         },
         {
          "font": {
           "color": "#FFFFFF"
          },
          "showarrow": false,
          "text": "-0.11",
          "x": "Temp9am",
          "xref": "x",
          "y": "Cloud3pm",
          "yref": "y"
         },
         {
          "font": {
           "color": "#FFFFFF"
          },
          "showarrow": false,
          "text": "-0.3",
          "x": "Temp3pm",
          "xref": "x",
          "y": "Cloud3pm",
          "yref": "y"
         },
         {
          "font": {
           "color": "#000000"
          },
          "showarrow": false,
          "text": "0.39",
          "x": "RainTomorrow_int",
          "xref": "x",
          "y": "Cloud3pm",
          "yref": "y"
         },
         {
          "font": {
           "color": "#000000"
          },
          "showarrow": false,
          "text": "0.91",
          "x": "MinTemp",
          "xref": "x",
          "y": "Temp9am",
          "yref": "y"
         },
         {
          "font": {
           "color": "#000000"
          },
          "showarrow": false,
          "text": "0.89",
          "x": "MaxTemp",
          "xref": "x",
          "y": "Temp9am",
          "yref": "y"
         },
         {
          "font": {
           "color": "#FFFFFF"
          },
          "showarrow": false,
          "text": "0.01",
          "x": "Rainfall",
          "xref": "x",
          "y": "Temp9am",
          "yref": "y"
         },
         {
          "font": {
           "color": "#000000"
          },
          "showarrow": false,
          "text": "0.59",
          "x": "Evaporation",
          "xref": "x",
          "y": "Temp9am",
          "yref": "y"
         },
         {
          "font": {
           "color": "#000000"
          },
          "showarrow": false,
          "text": "0.29",
          "x": "Sunshine",
          "xref": "x",
          "y": "Temp9am",
          "yref": "y"
         },
         {
          "font": {
           "color": "#FFFFFF"
          },
          "showarrow": false,
          "text": "0.09",
          "x": "WindGustSpeed",
          "xref": "x",
          "y": "Temp9am",
          "yref": "y"
         },
         {
          "font": {
           "color": "#FFFFFF"
          },
          "showarrow": false,
          "text": "0.05",
          "x": "WindSpeed9am",
          "xref": "x",
          "y": "Temp9am",
          "yref": "y"
         },
         {
          "font": {
           "color": "#FFFFFF"
          },
          "showarrow": false,
          "text": "0.11",
          "x": "WindSpeed3pm",
          "xref": "x",
          "y": "Temp9am",
          "yref": "y"
         },
         {
          "font": {
           "color": "#FFFFFF"
          },
          "showarrow": false,
          "text": "-0.42",
          "x": "Humidity9am",
          "xref": "x",
          "y": "Temp9am",
          "yref": "y"
         },
         {
          "font": {
           "color": "#FFFFFF"
          },
          "showarrow": false,
          "text": "-0.15",
          "x": "Humidity3pm",
          "xref": "x",
          "y": "Temp9am",
          "yref": "y"
         },
         {
          "font": {
           "color": "#FFFFFF"
          },
          "showarrow": false,
          "text": "-0.44",
          "x": "Pressure9am",
          "xref": "x",
          "y": "Temp9am",
          "yref": "y"
         },
         {
          "font": {
           "color": "#FFFFFF"
          },
          "showarrow": false,
          "text": "-0.5",
          "x": "Pressure3pm",
          "xref": "x",
          "y": "Temp9am",
          "yref": "y"
         },
         {
          "font": {
           "color": "#FFFFFF"
          },
          "showarrow": false,
          "text": "-0.11",
          "x": "Cloud9am",
          "xref": "x",
          "y": "Temp9am",
          "yref": "y"
         },
         {
          "font": {
           "color": "#FFFFFF"
          },
          "showarrow": false,
          "text": "-0.11",
          "x": "Cloud3pm",
          "xref": "x",
          "y": "Temp9am",
          "yref": "y"
         },
         {
          "font": {
           "color": "#000000"
          },
          "showarrow": false,
          "text": "1.0",
          "x": "Temp9am",
          "xref": "x",
          "y": "Temp9am",
          "yref": "y"
         },
         {
          "font": {
           "color": "#000000"
          },
          "showarrow": false,
          "text": "0.87",
          "x": "Temp3pm",
          "xref": "x",
          "y": "Temp9am",
          "yref": "y"
         },
         {
          "font": {
           "color": "#FFFFFF"
          },
          "showarrow": false,
          "text": "-0.02",
          "x": "RainTomorrow_int",
          "xref": "x",
          "y": "Temp9am",
          "yref": "y"
         },
         {
          "font": {
           "color": "#000000"
          },
          "showarrow": false,
          "text": "0.73",
          "x": "MinTemp",
          "xref": "x",
          "y": "Temp3pm",
          "yref": "y"
         },
         {
          "font": {
           "color": "#000000"
          },
          "showarrow": false,
          "text": "0.98",
          "x": "MaxTemp",
          "xref": "x",
          "y": "Temp3pm",
          "yref": "y"
         },
         {
          "font": {
           "color": "#FFFFFF"
          },
          "showarrow": false,
          "text": "-0.07",
          "x": "Rainfall",
          "xref": "x",
          "y": "Temp3pm",
          "yref": "y"
         },
         {
          "font": {
           "color": "#000000"
          },
          "showarrow": false,
          "text": "0.63",
          "x": "Evaporation",
          "xref": "x",
          "y": "Temp3pm",
          "yref": "y"
         },
         {
          "font": {
           "color": "#000000"
          },
          "showarrow": false,
          "text": "0.49",
          "x": "Sunshine",
          "xref": "x",
          "y": "Temp3pm",
          "yref": "y"
         },
         {
          "font": {
           "color": "#FFFFFF"
          },
          "showarrow": false,
          "text": "-0.0",
          "x": "WindGustSpeed",
          "xref": "x",
          "y": "Temp3pm",
          "yref": "y"
         },
         {
          "font": {
           "color": "#FFFFFF"
          },
          "showarrow": false,
          "text": "-0.02",
          "x": "WindSpeed9am",
          "xref": "x",
          "y": "Temp3pm",
          "yref": "y"
         },
         {
          "font": {
           "color": "#FFFFFF"
          },
          "showarrow": false,
          "text": "-0.01",
          "x": "WindSpeed3pm",
          "xref": "x",
          "y": "Temp3pm",
          "yref": "y"
         },
         {
          "font": {
           "color": "#FFFFFF"
          },
          "showarrow": false,
          "text": "-0.49",
          "x": "Humidity9am",
          "xref": "x",
          "y": "Temp3pm",
          "yref": "y"
         },
         {
          "font": {
           "color": "#FFFFFF"
          },
          "showarrow": false,
          "text": "-0.5",
          "x": "Humidity3pm",
          "xref": "x",
          "y": "Temp3pm",
          "yref": "y"
         },
         {
          "font": {
           "color": "#FFFFFF"
          },
          "showarrow": false,
          "text": "-0.31",
          "x": "Pressure9am",
          "xref": "x",
          "y": "Temp3pm",
          "yref": "y"
         },
         {
          "font": {
           "color": "#FFFFFF"
          },
          "showarrow": false,
          "text": "-0.42",
          "x": "Pressure3pm",
          "xref": "x",
          "y": "Temp3pm",
          "yref": "y"
         },
         {
          "font": {
           "color": "#FFFFFF"
          },
          "showarrow": false,
          "text": "-0.28",
          "x": "Cloud9am",
          "xref": "x",
          "y": "Temp3pm",
          "yref": "y"
         },
         {
          "font": {
           "color": "#FFFFFF"
          },
          "showarrow": false,
          "text": "-0.3",
          "x": "Cloud3pm",
          "xref": "x",
          "y": "Temp3pm",
          "yref": "y"
         },
         {
          "font": {
           "color": "#000000"
          },
          "showarrow": false,
          "text": "0.87",
          "x": "Temp9am",
          "xref": "x",
          "y": "Temp3pm",
          "yref": "y"
         },
         {
          "font": {
           "color": "#000000"
          },
          "showarrow": false,
          "text": "1.0",
          "x": "Temp3pm",
          "xref": "x",
          "y": "Temp3pm",
          "yref": "y"
         },
         {
          "font": {
           "color": "#FFFFFF"
          },
          "showarrow": false,
          "text": "-0.18",
          "x": "RainTomorrow_int",
          "xref": "x",
          "y": "Temp3pm",
          "yref": "y"
         },
         {
          "font": {
           "color": "#FFFFFF"
          },
          "showarrow": false,
          "text": "0.09",
          "x": "MinTemp",
          "xref": "x",
          "y": "RainTomorrow_int",
          "yref": "y"
         },
         {
          "font": {
           "color": "#FFFFFF"
          },
          "showarrow": false,
          "text": "-0.15",
          "x": "MaxTemp",
          "xref": "x",
          "y": "RainTomorrow_int",
          "yref": "y"
         },
         {
          "font": {
           "color": "#000000"
          },
          "showarrow": false,
          "text": "0.25",
          "x": "Rainfall",
          "xref": "x",
          "y": "RainTomorrow_int",
          "yref": "y"
         },
         {
          "font": {
           "color": "#FFFFFF"
          },
          "showarrow": false,
          "text": "-0.13",
          "x": "Evaporation",
          "xref": "x",
          "y": "RainTomorrow_int",
          "yref": "y"
         },
         {
          "font": {
           "color": "#FFFFFF"
          },
          "showarrow": false,
          "text": "-0.45",
          "x": "Sunshine",
          "xref": "x",
          "y": "RainTomorrow_int",
          "yref": "y"
         },
         {
          "font": {
           "color": "#000000"
          },
          "showarrow": false,
          "text": "0.23",
          "x": "WindGustSpeed",
          "xref": "x",
          "y": "RainTomorrow_int",
          "yref": "y"
         },
         {
          "font": {
           "color": "#FFFFFF"
          },
          "showarrow": false,
          "text": "0.08",
          "x": "WindSpeed9am",
          "xref": "x",
          "y": "RainTomorrow_int",
          "yref": "y"
         },
         {
          "font": {
           "color": "#FFFFFF"
          },
          "showarrow": false,
          "text": "0.09",
          "x": "WindSpeed3pm",
          "xref": "x",
          "y": "RainTomorrow_int",
          "yref": "y"
         },
         {
          "font": {
           "color": "#000000"
          },
          "showarrow": false,
          "text": "0.27",
          "x": "Humidity9am",
          "xref": "x",
          "y": "RainTomorrow_int",
          "yref": "y"
         },
         {
          "font": {
           "color": "#000000"
          },
          "showarrow": false,
          "text": "0.46",
          "x": "Humidity3pm",
          "xref": "x",
          "y": "RainTomorrow_int",
          "yref": "y"
         },
         {
          "font": {
           "color": "#FFFFFF"
          },
          "showarrow": false,
          "text": "-0.25",
          "x": "Pressure9am",
          "xref": "x",
          "y": "RainTomorrow_int",
          "yref": "y"
         },
         {
          "font": {
           "color": "#FFFFFF"
          },
          "showarrow": false,
          "text": "-0.23",
          "x": "Pressure3pm",
          "xref": "x",
          "y": "RainTomorrow_int",
          "yref": "y"
         },
         {
          "font": {
           "color": "#000000"
          },
          "showarrow": false,
          "text": "0.32",
          "x": "Cloud9am",
          "xref": "x",
          "y": "RainTomorrow_int",
          "yref": "y"
         },
         {
          "font": {
           "color": "#000000"
          },
          "showarrow": false,
          "text": "0.39",
          "x": "Cloud3pm",
          "xref": "x",
          "y": "RainTomorrow_int",
          "yref": "y"
         },
         {
          "font": {
           "color": "#FFFFFF"
          },
          "showarrow": false,
          "text": "-0.02",
          "x": "Temp9am",
          "xref": "x",
          "y": "RainTomorrow_int",
          "yref": "y"
         },
         {
          "font": {
           "color": "#FFFFFF"
          },
          "showarrow": false,
          "text": "-0.18",
          "x": "Temp3pm",
          "xref": "x",
          "y": "RainTomorrow_int",
          "yref": "y"
         },
         {
          "font": {
           "color": "#000000"
          },
          "showarrow": false,
          "text": "1.0",
          "x": "RainTomorrow_int",
          "xref": "x",
          "y": "RainTomorrow_int",
          "yref": "y"
         }
        ],
        "template": {
         "data": {
          "bar": [
           {
            "error_x": {
             "color": "#2a3f5f"
            },
            "error_y": {
             "color": "#2a3f5f"
            },
            "marker": {
             "line": {
              "color": "#E5ECF6",
              "width": 0.5
             },
             "pattern": {
              "fillmode": "overlay",
              "size": 10,
              "solidity": 0.2
             }
            },
            "type": "bar"
           }
          ],
          "barpolar": [
           {
            "marker": {
             "line": {
              "color": "#E5ECF6",
              "width": 0.5
             },
             "pattern": {
              "fillmode": "overlay",
              "size": 10,
              "solidity": 0.2
             }
            },
            "type": "barpolar"
           }
          ],
          "carpet": [
           {
            "aaxis": {
             "endlinecolor": "#2a3f5f",
             "gridcolor": "white",
             "linecolor": "white",
             "minorgridcolor": "white",
             "startlinecolor": "#2a3f5f"
            },
            "baxis": {
             "endlinecolor": "#2a3f5f",
             "gridcolor": "white",
             "linecolor": "white",
             "minorgridcolor": "white",
             "startlinecolor": "#2a3f5f"
            },
            "type": "carpet"
           }
          ],
          "choropleth": [
           {
            "colorbar": {
             "outlinewidth": 0,
             "ticks": ""
            },
            "type": "choropleth"
           }
          ],
          "contour": [
           {
            "colorbar": {
             "outlinewidth": 0,
             "ticks": ""
            },
            "colorscale": [
             [
              0,
              "#0d0887"
             ],
             [
              0.1111111111111111,
              "#46039f"
             ],
             [
              0.2222222222222222,
              "#7201a8"
             ],
             [
              0.3333333333333333,
              "#9c179e"
             ],
             [
              0.4444444444444444,
              "#bd3786"
             ],
             [
              0.5555555555555556,
              "#d8576b"
             ],
             [
              0.6666666666666666,
              "#ed7953"
             ],
             [
              0.7777777777777778,
              "#fb9f3a"
             ],
             [
              0.8888888888888888,
              "#fdca26"
             ],
             [
              1,
              "#f0f921"
             ]
            ],
            "type": "contour"
           }
          ],
          "contourcarpet": [
           {
            "colorbar": {
             "outlinewidth": 0,
             "ticks": ""
            },
            "type": "contourcarpet"
           }
          ],
          "heatmap": [
           {
            "colorbar": {
             "outlinewidth": 0,
             "ticks": ""
            },
            "colorscale": [
             [
              0,
              "#0d0887"
             ],
             [
              0.1111111111111111,
              "#46039f"
             ],
             [
              0.2222222222222222,
              "#7201a8"
             ],
             [
              0.3333333333333333,
              "#9c179e"
             ],
             [
              0.4444444444444444,
              "#bd3786"
             ],
             [
              0.5555555555555556,
              "#d8576b"
             ],
             [
              0.6666666666666666,
              "#ed7953"
             ],
             [
              0.7777777777777778,
              "#fb9f3a"
             ],
             [
              0.8888888888888888,
              "#fdca26"
             ],
             [
              1,
              "#f0f921"
             ]
            ],
            "type": "heatmap"
           }
          ],
          "heatmapgl": [
           {
            "colorbar": {
             "outlinewidth": 0,
             "ticks": ""
            },
            "colorscale": [
             [
              0,
              "#0d0887"
             ],
             [
              0.1111111111111111,
              "#46039f"
             ],
             [
              0.2222222222222222,
              "#7201a8"
             ],
             [
              0.3333333333333333,
              "#9c179e"
             ],
             [
              0.4444444444444444,
              "#bd3786"
             ],
             [
              0.5555555555555556,
              "#d8576b"
             ],
             [
              0.6666666666666666,
              "#ed7953"
             ],
             [
              0.7777777777777778,
              "#fb9f3a"
             ],
             [
              0.8888888888888888,
              "#fdca26"
             ],
             [
              1,
              "#f0f921"
             ]
            ],
            "type": "heatmapgl"
           }
          ],
          "histogram": [
           {
            "marker": {
             "pattern": {
              "fillmode": "overlay",
              "size": 10,
              "solidity": 0.2
             }
            },
            "type": "histogram"
           }
          ],
          "histogram2d": [
           {
            "colorbar": {
             "outlinewidth": 0,
             "ticks": ""
            },
            "colorscale": [
             [
              0,
              "#0d0887"
             ],
             [
              0.1111111111111111,
              "#46039f"
             ],
             [
              0.2222222222222222,
              "#7201a8"
             ],
             [
              0.3333333333333333,
              "#9c179e"
             ],
             [
              0.4444444444444444,
              "#bd3786"
             ],
             [
              0.5555555555555556,
              "#d8576b"
             ],
             [
              0.6666666666666666,
              "#ed7953"
             ],
             [
              0.7777777777777778,
              "#fb9f3a"
             ],
             [
              0.8888888888888888,
              "#fdca26"
             ],
             [
              1,
              "#f0f921"
             ]
            ],
            "type": "histogram2d"
           }
          ],
          "histogram2dcontour": [
           {
            "colorbar": {
             "outlinewidth": 0,
             "ticks": ""
            },
            "colorscale": [
             [
              0,
              "#0d0887"
             ],
             [
              0.1111111111111111,
              "#46039f"
             ],
             [
              0.2222222222222222,
              "#7201a8"
             ],
             [
              0.3333333333333333,
              "#9c179e"
             ],
             [
              0.4444444444444444,
              "#bd3786"
             ],
             [
              0.5555555555555556,
              "#d8576b"
             ],
             [
              0.6666666666666666,
              "#ed7953"
             ],
             [
              0.7777777777777778,
              "#fb9f3a"
             ],
             [
              0.8888888888888888,
              "#fdca26"
             ],
             [
              1,
              "#f0f921"
             ]
            ],
            "type": "histogram2dcontour"
           }
          ],
          "mesh3d": [
           {
            "colorbar": {
             "outlinewidth": 0,
             "ticks": ""
            },
            "type": "mesh3d"
           }
          ],
          "parcoords": [
           {
            "line": {
             "colorbar": {
              "outlinewidth": 0,
              "ticks": ""
             }
            },
            "type": "parcoords"
           }
          ],
          "pie": [
           {
            "automargin": true,
            "type": "pie"
           }
          ],
          "scatter": [
           {
            "marker": {
             "colorbar": {
              "outlinewidth": 0,
              "ticks": ""
             }
            },
            "type": "scatter"
           }
          ],
          "scatter3d": [
           {
            "line": {
             "colorbar": {
              "outlinewidth": 0,
              "ticks": ""
             }
            },
            "marker": {
             "colorbar": {
              "outlinewidth": 0,
              "ticks": ""
             }
            },
            "type": "scatter3d"
           }
          ],
          "scattercarpet": [
           {
            "marker": {
             "colorbar": {
              "outlinewidth": 0,
              "ticks": ""
             }
            },
            "type": "scattercarpet"
           }
          ],
          "scattergeo": [
           {
            "marker": {
             "colorbar": {
              "outlinewidth": 0,
              "ticks": ""
             }
            },
            "type": "scattergeo"
           }
          ],
          "scattergl": [
           {
            "marker": {
             "colorbar": {
              "outlinewidth": 0,
              "ticks": ""
             }
            },
            "type": "scattergl"
           }
          ],
          "scattermapbox": [
           {
            "marker": {
             "colorbar": {
              "outlinewidth": 0,
              "ticks": ""
             }
            },
            "type": "scattermapbox"
           }
          ],
          "scatterpolar": [
           {
            "marker": {
             "colorbar": {
              "outlinewidth": 0,
              "ticks": ""
             }
            },
            "type": "scatterpolar"
           }
          ],
          "scatterpolargl": [
           {
            "marker": {
             "colorbar": {
              "outlinewidth": 0,
              "ticks": ""
             }
            },
            "type": "scatterpolargl"
           }
          ],
          "scatterternary": [
           {
            "marker": {
             "colorbar": {
              "outlinewidth": 0,
              "ticks": ""
             }
            },
            "type": "scatterternary"
           }
          ],
          "surface": [
           {
            "colorbar": {
             "outlinewidth": 0,
             "ticks": ""
            },
            "colorscale": [
             [
              0,
              "#0d0887"
             ],
             [
              0.1111111111111111,
              "#46039f"
             ],
             [
              0.2222222222222222,
              "#7201a8"
             ],
             [
              0.3333333333333333,
              "#9c179e"
             ],
             [
              0.4444444444444444,
              "#bd3786"
             ],
             [
              0.5555555555555556,
              "#d8576b"
             ],
             [
              0.6666666666666666,
              "#ed7953"
             ],
             [
              0.7777777777777778,
              "#fb9f3a"
             ],
             [
              0.8888888888888888,
              "#fdca26"
             ],
             [
              1,
              "#f0f921"
             ]
            ],
            "type": "surface"
           }
          ],
          "table": [
           {
            "cells": {
             "fill": {
              "color": "#EBF0F8"
             },
             "line": {
              "color": "white"
             }
            },
            "header": {
             "fill": {
              "color": "#C8D4E3"
             },
             "line": {
              "color": "white"
             }
            },
            "type": "table"
           }
          ]
         },
         "layout": {
          "annotationdefaults": {
           "arrowcolor": "#2a3f5f",
           "arrowhead": 0,
           "arrowwidth": 1
          },
          "autotypenumbers": "strict",
          "coloraxis": {
           "colorbar": {
            "outlinewidth": 0,
            "ticks": ""
           }
          },
          "colorscale": {
           "diverging": [
            [
             0,
             "#8e0152"
            ],
            [
             0.1,
             "#c51b7d"
            ],
            [
             0.2,
             "#de77ae"
            ],
            [
             0.3,
             "#f1b6da"
            ],
            [
             0.4,
             "#fde0ef"
            ],
            [
             0.5,
             "#f7f7f7"
            ],
            [
             0.6,
             "#e6f5d0"
            ],
            [
             0.7,
             "#b8e186"
            ],
            [
             0.8,
             "#7fbc41"
            ],
            [
             0.9,
             "#4d9221"
            ],
            [
             1,
             "#276419"
            ]
           ],
           "sequential": [
            [
             0,
             "#0d0887"
            ],
            [
             0.1111111111111111,
             "#46039f"
            ],
            [
             0.2222222222222222,
             "#7201a8"
            ],
            [
             0.3333333333333333,
             "#9c179e"
            ],
            [
             0.4444444444444444,
             "#bd3786"
            ],
            [
             0.5555555555555556,
             "#d8576b"
            ],
            [
             0.6666666666666666,
             "#ed7953"
            ],
            [
             0.7777777777777778,
             "#fb9f3a"
            ],
            [
             0.8888888888888888,
             "#fdca26"
            ],
            [
             1,
             "#f0f921"
            ]
           ],
           "sequentialminus": [
            [
             0,
             "#0d0887"
            ],
            [
             0.1111111111111111,
             "#46039f"
            ],
            [
             0.2222222222222222,
             "#7201a8"
            ],
            [
             0.3333333333333333,
             "#9c179e"
            ],
            [
             0.4444444444444444,
             "#bd3786"
            ],
            [
             0.5555555555555556,
             "#d8576b"
            ],
            [
             0.6666666666666666,
             "#ed7953"
            ],
            [
             0.7777777777777778,
             "#fb9f3a"
            ],
            [
             0.8888888888888888,
             "#fdca26"
            ],
            [
             1,
             "#f0f921"
            ]
           ]
          },
          "colorway": [
           "#636efa",
           "#EF553B",
           "#00cc96",
           "#ab63fa",
           "#FFA15A",
           "#19d3f3",
           "#FF6692",
           "#B6E880",
           "#FF97FF",
           "#FECB52"
          ],
          "font": {
           "color": "#2a3f5f"
          },
          "geo": {
           "bgcolor": "white",
           "lakecolor": "white",
           "landcolor": "#E5ECF6",
           "showlakes": true,
           "showland": true,
           "subunitcolor": "white"
          },
          "hoverlabel": {
           "align": "left"
          },
          "hovermode": "closest",
          "mapbox": {
           "style": "light"
          },
          "paper_bgcolor": "white",
          "plot_bgcolor": "#E5ECF6",
          "polar": {
           "angularaxis": {
            "gridcolor": "white",
            "linecolor": "white",
            "ticks": ""
           },
           "bgcolor": "#E5ECF6",
           "radialaxis": {
            "gridcolor": "white",
            "linecolor": "white",
            "ticks": ""
           }
          },
          "scene": {
           "xaxis": {
            "backgroundcolor": "#E5ECF6",
            "gridcolor": "white",
            "gridwidth": 2,
            "linecolor": "white",
            "showbackground": true,
            "ticks": "",
            "zerolinecolor": "white"
           },
           "yaxis": {
            "backgroundcolor": "#E5ECF6",
            "gridcolor": "white",
            "gridwidth": 2,
            "linecolor": "white",
            "showbackground": true,
            "ticks": "",
            "zerolinecolor": "white"
           },
           "zaxis": {
            "backgroundcolor": "#E5ECF6",
            "gridcolor": "white",
            "gridwidth": 2,
            "linecolor": "white",
            "showbackground": true,
            "ticks": "",
            "zerolinecolor": "white"
           }
          },
          "shapedefaults": {
           "line": {
            "color": "#2a3f5f"
           }
          },
          "ternary": {
           "aaxis": {
            "gridcolor": "white",
            "linecolor": "white",
            "ticks": ""
           },
           "baxis": {
            "gridcolor": "white",
            "linecolor": "white",
            "ticks": ""
           },
           "bgcolor": "#E5ECF6",
           "caxis": {
            "gridcolor": "white",
            "linecolor": "white",
            "ticks": ""
           }
          },
          "title": {
           "x": 0.05
          },
          "xaxis": {
           "automargin": true,
           "gridcolor": "white",
           "linecolor": "white",
           "ticks": "",
           "title": {
            "standoff": 15
           },
           "zerolinecolor": "white",
           "zerolinewidth": 2
          },
          "yaxis": {
           "automargin": true,
           "gridcolor": "white",
           "linecolor": "white",
           "ticks": "",
           "title": {
            "standoff": 15
           },
           "zerolinecolor": "white",
           "zerolinewidth": 2
          }
         }
        },
        "xaxis": {
         "dtick": 1,
         "gridcolor": "rgb(0, 0, 0)",
         "side": "top",
         "ticks": ""
        },
        "yaxis": {
         "dtick": 1,
         "ticks": "",
         "ticksuffix": "  "
        }
       }
      },
      "text/html": [
       "<div>                            <div id=\"31e6a0bd-253f-4caf-bfb5-857472180cf2\" class=\"plotly-graph-div\" style=\"height:525px; width:100%;\"></div>            <script type=\"text/javascript\">                require([\"plotly\"], function(Plotly) {                    window.PLOTLYENV=window.PLOTLYENV || {};                                    if (document.getElementById(\"31e6a0bd-253f-4caf-bfb5-857472180cf2\")) {                    Plotly.newPlot(                        \"31e6a0bd-253f-4caf-bfb5-857472180cf2\",                        [{\"colorscale\":[[0.0,\"#0d0887\"],[0.1111111111111111,\"#46039f\"],[0.2222222222222222,\"#7201a8\"],[0.3333333333333333,\"#9c179e\"],[0.4444444444444444,\"#bd3786\"],[0.5555555555555556,\"#d8576b\"],[0.6666666666666666,\"#ed7953\"],[0.7777777777777778,\"#fb9f3a\"],[0.8888888888888888,\"#fdca26\"],[1.0,\"#f0f921\"]],\"reversescale\":false,\"showscale\":true,\"type\":\"heatmap\",\"x\":[\"MinTemp\",\"MaxTemp\",\"Rainfall\",\"Evaporation\",\"Sunshine\",\"WindGustSpeed\",\"WindSpeed9am\",\"WindSpeed3pm\",\"Humidity9am\",\"Humidity3pm\",\"Pressure9am\",\"Pressure3pm\",\"Cloud9am\",\"Cloud3pm\",\"Temp9am\",\"Temp3pm\",\"RainTomorrow_int\"],\"y\":[\"MinTemp\",\"MaxTemp\",\"Rainfall\",\"Evaporation\",\"Sunshine\",\"WindGustSpeed\",\"WindSpeed9am\",\"WindSpeed3pm\",\"Humidity9am\",\"Humidity3pm\",\"Pressure9am\",\"Pressure3pm\",\"Cloud9am\",\"Cloud3pm\",\"Temp9am\",\"Temp3pm\",\"RainTomorrow_int\"],\"z\":[[1.0,0.74968725006187,0.11079983536062248,0.5067643004002697,0.07608698967168084,0.11805376093581034,0.10852150348181126,0.13727348637824113,-0.17499134378437972,0.07082706420666895,-0.47566107183127704,-0.4955770150750671,0.10617711693657131,0.04217282588875977,0.9062947809969243,0.7272220532100605,0.08742777349456149],[0.74968725006187,1.0,-0.06998069074898317,0.6509644138597251,0.46391279450932077,0.03553098852264497,-0.008171392771255304,0.012265736544026552,-0.49578136824708025,-0.44811551118983883,-0.3509795644242887,-0.4516908712770106,-0.26363392858210893,-0.2577517446323383,0.8933869518819971,0.9848414081018141,-0.14746671406446152],[0.11079983536062248,-0.06998069074898317,1.0,-0.07723881151626667,-0.24637932231846418,0.10630831835042477,0.05058410947371728,0.04411181285206474,0.2636252673337517,0.27762523292502245,-0.18060598542640616,-0.1373019599956863,0.21716854040629338,0.19143323222444925,0.0137131678588351,-0.07462669577576876,0.2543416983102593],[0.5067643004002697,0.6509644138597251,-0.07723881151626667,1.0,0.36924973356036134,0.20956619898537918,0.19315402426057698,0.12434479988518055,-0.5542319011705917,-0.4224357733021531,-0.2973187589137575,-0.32595442140487463,-0.19980920156228646,-0.20236643598138268,0.593121539131916,0.6307274157062941,-0.13000226520358316],[0.07608698967168084,0.46391279450932077,-0.24637932231846418,0.36924973356036134,1.0,-0.05242215686779018,-0.013841629316877059,0.029200104989720515,-0.5003426508855054,-0.629298732550077,0.04332978336011984,-0.020631851998052005,-0.6779385107635449,-0.7020222558338544,0.2890376351352365,0.4861289657005702,-0.4534069127165123],[0.11805376093581034,0.03553098852264497,0.10630831835042477,0.20956619898537918,-0.05242215686779018,1.0,0.6088518372528908,0.6852363743295763,-0.1934104031458954,-0.0426528146914665,-0.4303628691260885,-0.38368252993078056,0.08812859389474738,0.1315895244819006,0.08552002605963162,-0.0003821692382510493,0.2331581691859726],[0.10852150348181126,-0.008171392771255304,0.05058410947371728,0.19315402426057698,-0.013841629316877059,0.6088518372528908,1.0,0.5022263737692769,-0.23679457105648194,-0.05844919481009932,-0.20151791767339372,-0.15548392681852968,0.03490810196149203,0.06250687913418103,0.05374853734394071,-0.018357398621067285,0.08390448846790978],[0.13727348637824113,0.012265736544026552,0.04411181285206474,0.12434479988518055,0.029200104989720515,0.6852363743295763,0.5022263737692769,1.0,-0.10062638568537392,0.03184310443182262,-0.29315549502997723,-0.25209516944283644,0.06822374161075984,0.04147545920743049,0.11404267167558209,-0.00943578927853742,0.0888616713970024],[-0.17499134378437972,-0.49578136824708025,0.2636252673337517,-0.5542319011705917,-0.5003426508855054,-0.1934104031458954,-0.23679457105648194,-0.10062638568537392,1.0,0.6856969247641806,0.11457464703860352,0.17297235221429605,0.43896228172093,0.34870702487545746,-0.4235980056118628,-0.4877579791178821,0.2710329603474702],[0.07082706420666895,-0.44811551118983883,0.27762523292502245,-0.4224357733021531,-0.629298732550077,-0.0426528146914665,-0.05844919481009932,0.03184310443182262,0.6856969247641806,1.0,-0.0634543267674232,0.024109359922735055,0.5092229901379068,0.5109960795626295,-0.15161404659760935,-0.49724528658038253,0.45535763701195064],[-0.47566107183127704,-0.3509795644242887,-0.18060598542640616,-0.2973187589137575,0.04332978336011984,-0.4303628691260885,-0.20151791767339372,-0.29315549502997723,0.11457464703860352,-0.0634543267674232,1.0,0.961538322269745,-0.15042680432107913,-0.16633408702910807,-0.4434102107964896,-0.3107736567828055,-0.25481565590711786],[-0.4955770150750671,-0.4516908712770106,-0.1373019599956863,-0.32595442140487463,-0.020631851998052005,-0.38368252993078056,-0.15548392681852968,-0.25209516944283644,0.17297235221429605,0.024109359922735055,0.961538322269745,1.0,-0.08179124791512812,-0.10317283768892051,-0.5005092665210911,-0.42131786440762253,-0.23041750623236035],[0.10617711693657131,-0.26363392858210893,0.21716854040629338,-0.19980920156228646,-0.6779385107635449,0.08812859389474738,0.03490810196149203,0.06822374161075984,0.43896228172093,0.5092229901379068,-0.15042680432107913,-0.08179124791512812,1.0,0.6143804777488254,-0.10959102899531596,-0.2812133809403684,0.32397238104945836],[0.04217282588875977,-0.2577517446323383,0.19143323222444925,-0.20236643598138268,-0.7020222558338544,0.1315895244819006,0.06250687913418103,0.04147545920743049,0.34870702487545746,0.5109960795626295,-0.16633408702910807,-0.10317283768892051,0.6143804777488254,1.0,-0.10788487672858303,-0.297230008512919,0.38857421111885565],[0.9062947809969243,0.8933869518819971,0.0137131678588351,0.593121539131916,0.2890376351352365,0.08552002605963162,0.05374853734394071,0.11404267167558209,-0.4235980056118628,-0.15161404659760935,-0.4434102107964896,-0.5005092665210911,-0.10959102899531596,-0.10788487672858303,1.0,0.8706196502876495,-0.01817912343389307],[0.7272220532100605,0.9848414081018141,-0.07462669577576876,0.6307274157062941,0.4861289657005702,-0.0003821692382510493,-0.018357398621067285,-0.00943578927853742,-0.4877579791178821,-0.49724528658038253,-0.3107736567828055,-0.42131786440762253,-0.2812133809403684,-0.297230008512919,0.8706196502876495,1.0,-0.18358616395145888],[0.08742777349456149,-0.14746671406446152,0.2543416983102593,-0.13000226520358316,-0.4534069127165123,0.2331581691859726,0.08390448846790978,0.0888616713970024,0.2710329603474702,0.45535763701195064,-0.25481565590711786,-0.23041750623236035,0.32397238104945836,0.38857421111885565,-0.01817912343389307,-0.18358616395145888,1.0]]}],                        {\"annotations\":[{\"font\":{\"color\":\"#000000\"},\"showarrow\":false,\"text\":\"1.0\",\"x\":\"MinTemp\",\"xref\":\"x\",\"y\":\"MinTemp\",\"yref\":\"y\"},{\"font\":{\"color\":\"#000000\"},\"showarrow\":false,\"text\":\"0.75\",\"x\":\"MaxTemp\",\"xref\":\"x\",\"y\":\"MinTemp\",\"yref\":\"y\"},{\"font\":{\"color\":\"#FFFFFF\"},\"showarrow\":false,\"text\":\"0.11\",\"x\":\"Rainfall\",\"xref\":\"x\",\"y\":\"MinTemp\",\"yref\":\"y\"},{\"font\":{\"color\":\"#000000\"},\"showarrow\":false,\"text\":\"0.51\",\"x\":\"Evaporation\",\"xref\":\"x\",\"y\":\"MinTemp\",\"yref\":\"y\"},{\"font\":{\"color\":\"#FFFFFF\"},\"showarrow\":false,\"text\":\"0.08\",\"x\":\"Sunshine\",\"xref\":\"x\",\"y\":\"MinTemp\",\"yref\":\"y\"},{\"font\":{\"color\":\"#FFFFFF\"},\"showarrow\":false,\"text\":\"0.12\",\"x\":\"WindGustSpeed\",\"xref\":\"x\",\"y\":\"MinTemp\",\"yref\":\"y\"},{\"font\":{\"color\":\"#FFFFFF\"},\"showarrow\":false,\"text\":\"0.11\",\"x\":\"WindSpeed9am\",\"xref\":\"x\",\"y\":\"MinTemp\",\"yref\":\"y\"},{\"font\":{\"color\":\"#FFFFFF\"},\"showarrow\":false,\"text\":\"0.14\",\"x\":\"WindSpeed3pm\",\"xref\":\"x\",\"y\":\"MinTemp\",\"yref\":\"y\"},{\"font\":{\"color\":\"#FFFFFF\"},\"showarrow\":false,\"text\":\"-0.17\",\"x\":\"Humidity9am\",\"xref\":\"x\",\"y\":\"MinTemp\",\"yref\":\"y\"},{\"font\":{\"color\":\"#FFFFFF\"},\"showarrow\":false,\"text\":\"0.07\",\"x\":\"Humidity3pm\",\"xref\":\"x\",\"y\":\"MinTemp\",\"yref\":\"y\"},{\"font\":{\"color\":\"#FFFFFF\"},\"showarrow\":false,\"text\":\"-0.48\",\"x\":\"Pressure9am\",\"xref\":\"x\",\"y\":\"MinTemp\",\"yref\":\"y\"},{\"font\":{\"color\":\"#FFFFFF\"},\"showarrow\":false,\"text\":\"-0.5\",\"x\":\"Pressure3pm\",\"xref\":\"x\",\"y\":\"MinTemp\",\"yref\":\"y\"},{\"font\":{\"color\":\"#FFFFFF\"},\"showarrow\":false,\"text\":\"0.11\",\"x\":\"Cloud9am\",\"xref\":\"x\",\"y\":\"MinTemp\",\"yref\":\"y\"},{\"font\":{\"color\":\"#FFFFFF\"},\"showarrow\":false,\"text\":\"0.04\",\"x\":\"Cloud3pm\",\"xref\":\"x\",\"y\":\"MinTemp\",\"yref\":\"y\"},{\"font\":{\"color\":\"#000000\"},\"showarrow\":false,\"text\":\"0.91\",\"x\":\"Temp9am\",\"xref\":\"x\",\"y\":\"MinTemp\",\"yref\":\"y\"},{\"font\":{\"color\":\"#000000\"},\"showarrow\":false,\"text\":\"0.73\",\"x\":\"Temp3pm\",\"xref\":\"x\",\"y\":\"MinTemp\",\"yref\":\"y\"},{\"font\":{\"color\":\"#FFFFFF\"},\"showarrow\":false,\"text\":\"0.09\",\"x\":\"RainTomorrow_int\",\"xref\":\"x\",\"y\":\"MinTemp\",\"yref\":\"y\"},{\"font\":{\"color\":\"#000000\"},\"showarrow\":false,\"text\":\"0.75\",\"x\":\"MinTemp\",\"xref\":\"x\",\"y\":\"MaxTemp\",\"yref\":\"y\"},{\"font\":{\"color\":\"#000000\"},\"showarrow\":false,\"text\":\"1.0\",\"x\":\"MaxTemp\",\"xref\":\"x\",\"y\":\"MaxTemp\",\"yref\":\"y\"},{\"font\":{\"color\":\"#FFFFFF\"},\"showarrow\":false,\"text\":\"-0.07\",\"x\":\"Rainfall\",\"xref\":\"x\",\"y\":\"MaxTemp\",\"yref\":\"y\"},{\"font\":{\"color\":\"#000000\"},\"showarrow\":false,\"text\":\"0.65\",\"x\":\"Evaporation\",\"xref\":\"x\",\"y\":\"MaxTemp\",\"yref\":\"y\"},{\"font\":{\"color\":\"#000000\"},\"showarrow\":false,\"text\":\"0.46\",\"x\":\"Sunshine\",\"xref\":\"x\",\"y\":\"MaxTemp\",\"yref\":\"y\"},{\"font\":{\"color\":\"#FFFFFF\"},\"showarrow\":false,\"text\":\"0.04\",\"x\":\"WindGustSpeed\",\"xref\":\"x\",\"y\":\"MaxTemp\",\"yref\":\"y\"},{\"font\":{\"color\":\"#FFFFFF\"},\"showarrow\":false,\"text\":\"-0.01\",\"x\":\"WindSpeed9am\",\"xref\":\"x\",\"y\":\"MaxTemp\",\"yref\":\"y\"},{\"font\":{\"color\":\"#FFFFFF\"},\"showarrow\":false,\"text\":\"0.01\",\"x\":\"WindSpeed3pm\",\"xref\":\"x\",\"y\":\"MaxTemp\",\"yref\":\"y\"},{\"font\":{\"color\":\"#FFFFFF\"},\"showarrow\":false,\"text\":\"-0.5\",\"x\":\"Humidity9am\",\"xref\":\"x\",\"y\":\"MaxTemp\",\"yref\":\"y\"},{\"font\":{\"color\":\"#FFFFFF\"},\"showarrow\":false,\"text\":\"-0.45\",\"x\":\"Humidity3pm\",\"xref\":\"x\",\"y\":\"MaxTemp\",\"yref\":\"y\"},{\"font\":{\"color\":\"#FFFFFF\"},\"showarrow\":false,\"text\":\"-0.35\",\"x\":\"Pressure9am\",\"xref\":\"x\",\"y\":\"MaxTemp\",\"yref\":\"y\"},{\"font\":{\"color\":\"#FFFFFF\"},\"showarrow\":false,\"text\":\"-0.45\",\"x\":\"Pressure3pm\",\"xref\":\"x\",\"y\":\"MaxTemp\",\"yref\":\"y\"},{\"font\":{\"color\":\"#FFFFFF\"},\"showarrow\":false,\"text\":\"-0.26\",\"x\":\"Cloud9am\",\"xref\":\"x\",\"y\":\"MaxTemp\",\"yref\":\"y\"},{\"font\":{\"color\":\"#FFFFFF\"},\"showarrow\":false,\"text\":\"-0.26\",\"x\":\"Cloud3pm\",\"xref\":\"x\",\"y\":\"MaxTemp\",\"yref\":\"y\"},{\"font\":{\"color\":\"#000000\"},\"showarrow\":false,\"text\":\"0.89\",\"x\":\"Temp9am\",\"xref\":\"x\",\"y\":\"MaxTemp\",\"yref\":\"y\"},{\"font\":{\"color\":\"#000000\"},\"showarrow\":false,\"text\":\"0.98\",\"x\":\"Temp3pm\",\"xref\":\"x\",\"y\":\"MaxTemp\",\"yref\":\"y\"},{\"font\":{\"color\":\"#FFFFFF\"},\"showarrow\":false,\"text\":\"-0.15\",\"x\":\"RainTomorrow_int\",\"xref\":\"x\",\"y\":\"MaxTemp\",\"yref\":\"y\"},{\"font\":{\"color\":\"#FFFFFF\"},\"showarrow\":false,\"text\":\"0.11\",\"x\":\"MinTemp\",\"xref\":\"x\",\"y\":\"Rainfall\",\"yref\":\"y\"},{\"font\":{\"color\":\"#FFFFFF\"},\"showarrow\":false,\"text\":\"-0.07\",\"x\":\"MaxTemp\",\"xref\":\"x\",\"y\":\"Rainfall\",\"yref\":\"y\"},{\"font\":{\"color\":\"#000000\"},\"showarrow\":false,\"text\":\"1.0\",\"x\":\"Rainfall\",\"xref\":\"x\",\"y\":\"Rainfall\",\"yref\":\"y\"},{\"font\":{\"color\":\"#FFFFFF\"},\"showarrow\":false,\"text\":\"-0.08\",\"x\":\"Evaporation\",\"xref\":\"x\",\"y\":\"Rainfall\",\"yref\":\"y\"},{\"font\":{\"color\":\"#FFFFFF\"},\"showarrow\":false,\"text\":\"-0.25\",\"x\":\"Sunshine\",\"xref\":\"x\",\"y\":\"Rainfall\",\"yref\":\"y\"},{\"font\":{\"color\":\"#FFFFFF\"},\"showarrow\":false,\"text\":\"0.11\",\"x\":\"WindGustSpeed\",\"xref\":\"x\",\"y\":\"Rainfall\",\"yref\":\"y\"},{\"font\":{\"color\":\"#FFFFFF\"},\"showarrow\":false,\"text\":\"0.05\",\"x\":\"WindSpeed9am\",\"xref\":\"x\",\"y\":\"Rainfall\",\"yref\":\"y\"},{\"font\":{\"color\":\"#FFFFFF\"},\"showarrow\":false,\"text\":\"0.04\",\"x\":\"WindSpeed3pm\",\"xref\":\"x\",\"y\":\"Rainfall\",\"yref\":\"y\"},{\"font\":{\"color\":\"#000000\"},\"showarrow\":false,\"text\":\"0.26\",\"x\":\"Humidity9am\",\"xref\":\"x\",\"y\":\"Rainfall\",\"yref\":\"y\"},{\"font\":{\"color\":\"#000000\"},\"showarrow\":false,\"text\":\"0.28\",\"x\":\"Humidity3pm\",\"xref\":\"x\",\"y\":\"Rainfall\",\"yref\":\"y\"},{\"font\":{\"color\":\"#FFFFFF\"},\"showarrow\":false,\"text\":\"-0.18\",\"x\":\"Pressure9am\",\"xref\":\"x\",\"y\":\"Rainfall\",\"yref\":\"y\"},{\"font\":{\"color\":\"#FFFFFF\"},\"showarrow\":false,\"text\":\"-0.14\",\"x\":\"Pressure3pm\",\"xref\":\"x\",\"y\":\"Rainfall\",\"yref\":\"y\"},{\"font\":{\"color\":\"#000000\"},\"showarrow\":false,\"text\":\"0.22\",\"x\":\"Cloud9am\",\"xref\":\"x\",\"y\":\"Rainfall\",\"yref\":\"y\"},{\"font\":{\"color\":\"#000000\"},\"showarrow\":false,\"text\":\"0.19\",\"x\":\"Cloud3pm\",\"xref\":\"x\",\"y\":\"Rainfall\",\"yref\":\"y\"},{\"font\":{\"color\":\"#FFFFFF\"},\"showarrow\":false,\"text\":\"0.01\",\"x\":\"Temp9am\",\"xref\":\"x\",\"y\":\"Rainfall\",\"yref\":\"y\"},{\"font\":{\"color\":\"#FFFFFF\"},\"showarrow\":false,\"text\":\"-0.07\",\"x\":\"Temp3pm\",\"xref\":\"x\",\"y\":\"Rainfall\",\"yref\":\"y\"},{\"font\":{\"color\":\"#000000\"},\"showarrow\":false,\"text\":\"0.25\",\"x\":\"RainTomorrow_int\",\"xref\":\"x\",\"y\":\"Rainfall\",\"yref\":\"y\"},{\"font\":{\"color\":\"#000000\"},\"showarrow\":false,\"text\":\"0.51\",\"x\":\"MinTemp\",\"xref\":\"x\",\"y\":\"Evaporation\",\"yref\":\"y\"},{\"font\":{\"color\":\"#000000\"},\"showarrow\":false,\"text\":\"0.65\",\"x\":\"MaxTemp\",\"xref\":\"x\",\"y\":\"Evaporation\",\"yref\":\"y\"},{\"font\":{\"color\":\"#FFFFFF\"},\"showarrow\":false,\"text\":\"-0.08\",\"x\":\"Rainfall\",\"xref\":\"x\",\"y\":\"Evaporation\",\"yref\":\"y\"},{\"font\":{\"color\":\"#000000\"},\"showarrow\":false,\"text\":\"1.0\",\"x\":\"Evaporation\",\"xref\":\"x\",\"y\":\"Evaporation\",\"yref\":\"y\"},{\"font\":{\"color\":\"#000000\"},\"showarrow\":false,\"text\":\"0.37\",\"x\":\"Sunshine\",\"xref\":\"x\",\"y\":\"Evaporation\",\"yref\":\"y\"},{\"font\":{\"color\":\"#000000\"},\"showarrow\":false,\"text\":\"0.21\",\"x\":\"WindGustSpeed\",\"xref\":\"x\",\"y\":\"Evaporation\",\"yref\":\"y\"},{\"font\":{\"color\":\"#000000\"},\"showarrow\":false,\"text\":\"0.19\",\"x\":\"WindSpeed9am\",\"xref\":\"x\",\"y\":\"Evaporation\",\"yref\":\"y\"},{\"font\":{\"color\":\"#FFFFFF\"},\"showarrow\":false,\"text\":\"0.12\",\"x\":\"WindSpeed3pm\",\"xref\":\"x\",\"y\":\"Evaporation\",\"yref\":\"y\"},{\"font\":{\"color\":\"#FFFFFF\"},\"showarrow\":false,\"text\":\"-0.55\",\"x\":\"Humidity9am\",\"xref\":\"x\",\"y\":\"Evaporation\",\"yref\":\"y\"},{\"font\":{\"color\":\"#FFFFFF\"},\"showarrow\":false,\"text\":\"-0.42\",\"x\":\"Humidity3pm\",\"xref\":\"x\",\"y\":\"Evaporation\",\"yref\":\"y\"},{\"font\":{\"color\":\"#FFFFFF\"},\"showarrow\":false,\"text\":\"-0.3\",\"x\":\"Pressure9am\",\"xref\":\"x\",\"y\":\"Evaporation\",\"yref\":\"y\"},{\"font\":{\"color\":\"#FFFFFF\"},\"showarrow\":false,\"text\":\"-0.33\",\"x\":\"Pressure3pm\",\"xref\":\"x\",\"y\":\"Evaporation\",\"yref\":\"y\"},{\"font\":{\"color\":\"#FFFFFF\"},\"showarrow\":false,\"text\":\"-0.2\",\"x\":\"Cloud9am\",\"xref\":\"x\",\"y\":\"Evaporation\",\"yref\":\"y\"},{\"font\":{\"color\":\"#FFFFFF\"},\"showarrow\":false,\"text\":\"-0.2\",\"x\":\"Cloud3pm\",\"xref\":\"x\",\"y\":\"Evaporation\",\"yref\":\"y\"},{\"font\":{\"color\":\"#000000\"},\"showarrow\":false,\"text\":\"0.59\",\"x\":\"Temp9am\",\"xref\":\"x\",\"y\":\"Evaporation\",\"yref\":\"y\"},{\"font\":{\"color\":\"#000000\"},\"showarrow\":false,\"text\":\"0.63\",\"x\":\"Temp3pm\",\"xref\":\"x\",\"y\":\"Evaporation\",\"yref\":\"y\"},{\"font\":{\"color\":\"#FFFFFF\"},\"showarrow\":false,\"text\":\"-0.13\",\"x\":\"RainTomorrow_int\",\"xref\":\"x\",\"y\":\"Evaporation\",\"yref\":\"y\"},{\"font\":{\"color\":\"#FFFFFF\"},\"showarrow\":false,\"text\":\"0.08\",\"x\":\"MinTemp\",\"xref\":\"x\",\"y\":\"Sunshine\",\"yref\":\"y\"},{\"font\":{\"color\":\"#000000\"},\"showarrow\":false,\"text\":\"0.46\",\"x\":\"MaxTemp\",\"xref\":\"x\",\"y\":\"Sunshine\",\"yref\":\"y\"},{\"font\":{\"color\":\"#FFFFFF\"},\"showarrow\":false,\"text\":\"-0.25\",\"x\":\"Rainfall\",\"xref\":\"x\",\"y\":\"Sunshine\",\"yref\":\"y\"},{\"font\":{\"color\":\"#000000\"},\"showarrow\":false,\"text\":\"0.37\",\"x\":\"Evaporation\",\"xref\":\"x\",\"y\":\"Sunshine\",\"yref\":\"y\"},{\"font\":{\"color\":\"#000000\"},\"showarrow\":false,\"text\":\"1.0\",\"x\":\"Sunshine\",\"xref\":\"x\",\"y\":\"Sunshine\",\"yref\":\"y\"},{\"font\":{\"color\":\"#FFFFFF\"},\"showarrow\":false,\"text\":\"-0.05\",\"x\":\"WindGustSpeed\",\"xref\":\"x\",\"y\":\"Sunshine\",\"yref\":\"y\"},{\"font\":{\"color\":\"#FFFFFF\"},\"showarrow\":false,\"text\":\"-0.01\",\"x\":\"WindSpeed9am\",\"xref\":\"x\",\"y\":\"Sunshine\",\"yref\":\"y\"},{\"font\":{\"color\":\"#FFFFFF\"},\"showarrow\":false,\"text\":\"0.03\",\"x\":\"WindSpeed3pm\",\"xref\":\"x\",\"y\":\"Sunshine\",\"yref\":\"y\"},{\"font\":{\"color\":\"#FFFFFF\"},\"showarrow\":false,\"text\":\"-0.5\",\"x\":\"Humidity9am\",\"xref\":\"x\",\"y\":\"Sunshine\",\"yref\":\"y\"},{\"font\":{\"color\":\"#FFFFFF\"},\"showarrow\":false,\"text\":\"-0.63\",\"x\":\"Humidity3pm\",\"xref\":\"x\",\"y\":\"Sunshine\",\"yref\":\"y\"},{\"font\":{\"color\":\"#FFFFFF\"},\"showarrow\":false,\"text\":\"0.04\",\"x\":\"Pressure9am\",\"xref\":\"x\",\"y\":\"Sunshine\",\"yref\":\"y\"},{\"font\":{\"color\":\"#FFFFFF\"},\"showarrow\":false,\"text\":\"-0.02\",\"x\":\"Pressure3pm\",\"xref\":\"x\",\"y\":\"Sunshine\",\"yref\":\"y\"},{\"font\":{\"color\":\"#FFFFFF\"},\"showarrow\":false,\"text\":\"-0.68\",\"x\":\"Cloud9am\",\"xref\":\"x\",\"y\":\"Sunshine\",\"yref\":\"y\"},{\"font\":{\"color\":\"#FFFFFF\"},\"showarrow\":false,\"text\":\"-0.7\",\"x\":\"Cloud3pm\",\"xref\":\"x\",\"y\":\"Sunshine\",\"yref\":\"y\"},{\"font\":{\"color\":\"#000000\"},\"showarrow\":false,\"text\":\"0.29\",\"x\":\"Temp9am\",\"xref\":\"x\",\"y\":\"Sunshine\",\"yref\":\"y\"},{\"font\":{\"color\":\"#000000\"},\"showarrow\":false,\"text\":\"0.49\",\"x\":\"Temp3pm\",\"xref\":\"x\",\"y\":\"Sunshine\",\"yref\":\"y\"},{\"font\":{\"color\":\"#FFFFFF\"},\"showarrow\":false,\"text\":\"-0.45\",\"x\":\"RainTomorrow_int\",\"xref\":\"x\",\"y\":\"Sunshine\",\"yref\":\"y\"},{\"font\":{\"color\":\"#FFFFFF\"},\"showarrow\":false,\"text\":\"0.12\",\"x\":\"MinTemp\",\"xref\":\"x\",\"y\":\"WindGustSpeed\",\"yref\":\"y\"},{\"font\":{\"color\":\"#FFFFFF\"},\"showarrow\":false,\"text\":\"0.04\",\"x\":\"MaxTemp\",\"xref\":\"x\",\"y\":\"WindGustSpeed\",\"yref\":\"y\"},{\"font\":{\"color\":\"#FFFFFF\"},\"showarrow\":false,\"text\":\"0.11\",\"x\":\"Rainfall\",\"xref\":\"x\",\"y\":\"WindGustSpeed\",\"yref\":\"y\"},{\"font\":{\"color\":\"#000000\"},\"showarrow\":false,\"text\":\"0.21\",\"x\":\"Evaporation\",\"xref\":\"x\",\"y\":\"WindGustSpeed\",\"yref\":\"y\"},{\"font\":{\"color\":\"#FFFFFF\"},\"showarrow\":false,\"text\":\"-0.05\",\"x\":\"Sunshine\",\"xref\":\"x\",\"y\":\"WindGustSpeed\",\"yref\":\"y\"},{\"font\":{\"color\":\"#000000\"},\"showarrow\":false,\"text\":\"1.0\",\"x\":\"WindGustSpeed\",\"xref\":\"x\",\"y\":\"WindGustSpeed\",\"yref\":\"y\"},{\"font\":{\"color\":\"#000000\"},\"showarrow\":false,\"text\":\"0.61\",\"x\":\"WindSpeed9am\",\"xref\":\"x\",\"y\":\"WindGustSpeed\",\"yref\":\"y\"},{\"font\":{\"color\":\"#000000\"},\"showarrow\":false,\"text\":\"0.69\",\"x\":\"WindSpeed3pm\",\"xref\":\"x\",\"y\":\"WindGustSpeed\",\"yref\":\"y\"},{\"font\":{\"color\":\"#FFFFFF\"},\"showarrow\":false,\"text\":\"-0.19\",\"x\":\"Humidity9am\",\"xref\":\"x\",\"y\":\"WindGustSpeed\",\"yref\":\"y\"},{\"font\":{\"color\":\"#FFFFFF\"},\"showarrow\":false,\"text\":\"-0.04\",\"x\":\"Humidity3pm\",\"xref\":\"x\",\"y\":\"WindGustSpeed\",\"yref\":\"y\"},{\"font\":{\"color\":\"#FFFFFF\"},\"showarrow\":false,\"text\":\"-0.43\",\"x\":\"Pressure9am\",\"xref\":\"x\",\"y\":\"WindGustSpeed\",\"yref\":\"y\"},{\"font\":{\"color\":\"#FFFFFF\"},\"showarrow\":false,\"text\":\"-0.38\",\"x\":\"Pressure3pm\",\"xref\":\"x\",\"y\":\"WindGustSpeed\",\"yref\":\"y\"},{\"font\":{\"color\":\"#FFFFFF\"},\"showarrow\":false,\"text\":\"0.09\",\"x\":\"Cloud9am\",\"xref\":\"x\",\"y\":\"WindGustSpeed\",\"yref\":\"y\"},{\"font\":{\"color\":\"#FFFFFF\"},\"showarrow\":false,\"text\":\"0.13\",\"x\":\"Cloud3pm\",\"xref\":\"x\",\"y\":\"WindGustSpeed\",\"yref\":\"y\"},{\"font\":{\"color\":\"#FFFFFF\"},\"showarrow\":false,\"text\":\"0.09\",\"x\":\"Temp9am\",\"xref\":\"x\",\"y\":\"WindGustSpeed\",\"yref\":\"y\"},{\"font\":{\"color\":\"#FFFFFF\"},\"showarrow\":false,\"text\":\"-0.0\",\"x\":\"Temp3pm\",\"xref\":\"x\",\"y\":\"WindGustSpeed\",\"yref\":\"y\"},{\"font\":{\"color\":\"#000000\"},\"showarrow\":false,\"text\":\"0.23\",\"x\":\"RainTomorrow_int\",\"xref\":\"x\",\"y\":\"WindGustSpeed\",\"yref\":\"y\"},{\"font\":{\"color\":\"#FFFFFF\"},\"showarrow\":false,\"text\":\"0.11\",\"x\":\"MinTemp\",\"xref\":\"x\",\"y\":\"WindSpeed9am\",\"yref\":\"y\"},{\"font\":{\"color\":\"#FFFFFF\"},\"showarrow\":false,\"text\":\"-0.01\",\"x\":\"MaxTemp\",\"xref\":\"x\",\"y\":\"WindSpeed9am\",\"yref\":\"y\"},{\"font\":{\"color\":\"#FFFFFF\"},\"showarrow\":false,\"text\":\"0.05\",\"x\":\"Rainfall\",\"xref\":\"x\",\"y\":\"WindSpeed9am\",\"yref\":\"y\"},{\"font\":{\"color\":\"#000000\"},\"showarrow\":false,\"text\":\"0.19\",\"x\":\"Evaporation\",\"xref\":\"x\",\"y\":\"WindSpeed9am\",\"yref\":\"y\"},{\"font\":{\"color\":\"#FFFFFF\"},\"showarrow\":false,\"text\":\"-0.01\",\"x\":\"Sunshine\",\"xref\":\"x\",\"y\":\"WindSpeed9am\",\"yref\":\"y\"},{\"font\":{\"color\":\"#000000\"},\"showarrow\":false,\"text\":\"0.61\",\"x\":\"WindGustSpeed\",\"xref\":\"x\",\"y\":\"WindSpeed9am\",\"yref\":\"y\"},{\"font\":{\"color\":\"#000000\"},\"showarrow\":false,\"text\":\"1.0\",\"x\":\"WindSpeed9am\",\"xref\":\"x\",\"y\":\"WindSpeed9am\",\"yref\":\"y\"},{\"font\":{\"color\":\"#000000\"},\"showarrow\":false,\"text\":\"0.5\",\"x\":\"WindSpeed3pm\",\"xref\":\"x\",\"y\":\"WindSpeed9am\",\"yref\":\"y\"},{\"font\":{\"color\":\"#FFFFFF\"},\"showarrow\":false,\"text\":\"-0.24\",\"x\":\"Humidity9am\",\"xref\":\"x\",\"y\":\"WindSpeed9am\",\"yref\":\"y\"},{\"font\":{\"color\":\"#FFFFFF\"},\"showarrow\":false,\"text\":\"-0.06\",\"x\":\"Humidity3pm\",\"xref\":\"x\",\"y\":\"WindSpeed9am\",\"yref\":\"y\"},{\"font\":{\"color\":\"#FFFFFF\"},\"showarrow\":false,\"text\":\"-0.2\",\"x\":\"Pressure9am\",\"xref\":\"x\",\"y\":\"WindSpeed9am\",\"yref\":\"y\"},{\"font\":{\"color\":\"#FFFFFF\"},\"showarrow\":false,\"text\":\"-0.16\",\"x\":\"Pressure3pm\",\"xref\":\"x\",\"y\":\"WindSpeed9am\",\"yref\":\"y\"},{\"font\":{\"color\":\"#FFFFFF\"},\"showarrow\":false,\"text\":\"0.03\",\"x\":\"Cloud9am\",\"xref\":\"x\",\"y\":\"WindSpeed9am\",\"yref\":\"y\"},{\"font\":{\"color\":\"#FFFFFF\"},\"showarrow\":false,\"text\":\"0.06\",\"x\":\"Cloud3pm\",\"xref\":\"x\",\"y\":\"WindSpeed9am\",\"yref\":\"y\"},{\"font\":{\"color\":\"#FFFFFF\"},\"showarrow\":false,\"text\":\"0.05\",\"x\":\"Temp9am\",\"xref\":\"x\",\"y\":\"WindSpeed9am\",\"yref\":\"y\"},{\"font\":{\"color\":\"#FFFFFF\"},\"showarrow\":false,\"text\":\"-0.02\",\"x\":\"Temp3pm\",\"xref\":\"x\",\"y\":\"WindSpeed9am\",\"yref\":\"y\"},{\"font\":{\"color\":\"#FFFFFF\"},\"showarrow\":false,\"text\":\"0.08\",\"x\":\"RainTomorrow_int\",\"xref\":\"x\",\"y\":\"WindSpeed9am\",\"yref\":\"y\"},{\"font\":{\"color\":\"#FFFFFF\"},\"showarrow\":false,\"text\":\"0.14\",\"x\":\"MinTemp\",\"xref\":\"x\",\"y\":\"WindSpeed3pm\",\"yref\":\"y\"},{\"font\":{\"color\":\"#FFFFFF\"},\"showarrow\":false,\"text\":\"0.01\",\"x\":\"MaxTemp\",\"xref\":\"x\",\"y\":\"WindSpeed3pm\",\"yref\":\"y\"},{\"font\":{\"color\":\"#FFFFFF\"},\"showarrow\":false,\"text\":\"0.04\",\"x\":\"Rainfall\",\"xref\":\"x\",\"y\":\"WindSpeed3pm\",\"yref\":\"y\"},{\"font\":{\"color\":\"#FFFFFF\"},\"showarrow\":false,\"text\":\"0.12\",\"x\":\"Evaporation\",\"xref\":\"x\",\"y\":\"WindSpeed3pm\",\"yref\":\"y\"},{\"font\":{\"color\":\"#FFFFFF\"},\"showarrow\":false,\"text\":\"0.03\",\"x\":\"Sunshine\",\"xref\":\"x\",\"y\":\"WindSpeed3pm\",\"yref\":\"y\"},{\"font\":{\"color\":\"#000000\"},\"showarrow\":false,\"text\":\"0.69\",\"x\":\"WindGustSpeed\",\"xref\":\"x\",\"y\":\"WindSpeed3pm\",\"yref\":\"y\"},{\"font\":{\"color\":\"#000000\"},\"showarrow\":false,\"text\":\"0.5\",\"x\":\"WindSpeed9am\",\"xref\":\"x\",\"y\":\"WindSpeed3pm\",\"yref\":\"y\"},{\"font\":{\"color\":\"#000000\"},\"showarrow\":false,\"text\":\"1.0\",\"x\":\"WindSpeed3pm\",\"xref\":\"x\",\"y\":\"WindSpeed3pm\",\"yref\":\"y\"},{\"font\":{\"color\":\"#FFFFFF\"},\"showarrow\":false,\"text\":\"-0.1\",\"x\":\"Humidity9am\",\"xref\":\"x\",\"y\":\"WindSpeed3pm\",\"yref\":\"y\"},{\"font\":{\"color\":\"#FFFFFF\"},\"showarrow\":false,\"text\":\"0.03\",\"x\":\"Humidity3pm\",\"xref\":\"x\",\"y\":\"WindSpeed3pm\",\"yref\":\"y\"},{\"font\":{\"color\":\"#FFFFFF\"},\"showarrow\":false,\"text\":\"-0.29\",\"x\":\"Pressure9am\",\"xref\":\"x\",\"y\":\"WindSpeed3pm\",\"yref\":\"y\"},{\"font\":{\"color\":\"#FFFFFF\"},\"showarrow\":false,\"text\":\"-0.25\",\"x\":\"Pressure3pm\",\"xref\":\"x\",\"y\":\"WindSpeed3pm\",\"yref\":\"y\"},{\"font\":{\"color\":\"#FFFFFF\"},\"showarrow\":false,\"text\":\"0.07\",\"x\":\"Cloud9am\",\"xref\":\"x\",\"y\":\"WindSpeed3pm\",\"yref\":\"y\"},{\"font\":{\"color\":\"#FFFFFF\"},\"showarrow\":false,\"text\":\"0.04\",\"x\":\"Cloud3pm\",\"xref\":\"x\",\"y\":\"WindSpeed3pm\",\"yref\":\"y\"},{\"font\":{\"color\":\"#FFFFFF\"},\"showarrow\":false,\"text\":\"0.11\",\"x\":\"Temp9am\",\"xref\":\"x\",\"y\":\"WindSpeed3pm\",\"yref\":\"y\"},{\"font\":{\"color\":\"#FFFFFF\"},\"showarrow\":false,\"text\":\"-0.01\",\"x\":\"Temp3pm\",\"xref\":\"x\",\"y\":\"WindSpeed3pm\",\"yref\":\"y\"},{\"font\":{\"color\":\"#FFFFFF\"},\"showarrow\":false,\"text\":\"0.09\",\"x\":\"RainTomorrow_int\",\"xref\":\"x\",\"y\":\"WindSpeed3pm\",\"yref\":\"y\"},{\"font\":{\"color\":\"#FFFFFF\"},\"showarrow\":false,\"text\":\"-0.17\",\"x\":\"MinTemp\",\"xref\":\"x\",\"y\":\"Humidity9am\",\"yref\":\"y\"},{\"font\":{\"color\":\"#FFFFFF\"},\"showarrow\":false,\"text\":\"-0.5\",\"x\":\"MaxTemp\",\"xref\":\"x\",\"y\":\"Humidity9am\",\"yref\":\"y\"},{\"font\":{\"color\":\"#000000\"},\"showarrow\":false,\"text\":\"0.26\",\"x\":\"Rainfall\",\"xref\":\"x\",\"y\":\"Humidity9am\",\"yref\":\"y\"},{\"font\":{\"color\":\"#FFFFFF\"},\"showarrow\":false,\"text\":\"-0.55\",\"x\":\"Evaporation\",\"xref\":\"x\",\"y\":\"Humidity9am\",\"yref\":\"y\"},{\"font\":{\"color\":\"#FFFFFF\"},\"showarrow\":false,\"text\":\"-0.5\",\"x\":\"Sunshine\",\"xref\":\"x\",\"y\":\"Humidity9am\",\"yref\":\"y\"},{\"font\":{\"color\":\"#FFFFFF\"},\"showarrow\":false,\"text\":\"-0.19\",\"x\":\"WindGustSpeed\",\"xref\":\"x\",\"y\":\"Humidity9am\",\"yref\":\"y\"},{\"font\":{\"color\":\"#FFFFFF\"},\"showarrow\":false,\"text\":\"-0.24\",\"x\":\"WindSpeed9am\",\"xref\":\"x\",\"y\":\"Humidity9am\",\"yref\":\"y\"},{\"font\":{\"color\":\"#FFFFFF\"},\"showarrow\":false,\"text\":\"-0.1\",\"x\":\"WindSpeed3pm\",\"xref\":\"x\",\"y\":\"Humidity9am\",\"yref\":\"y\"},{\"font\":{\"color\":\"#000000\"},\"showarrow\":false,\"text\":\"1.0\",\"x\":\"Humidity9am\",\"xref\":\"x\",\"y\":\"Humidity9am\",\"yref\":\"y\"},{\"font\":{\"color\":\"#000000\"},\"showarrow\":false,\"text\":\"0.69\",\"x\":\"Humidity3pm\",\"xref\":\"x\",\"y\":\"Humidity9am\",\"yref\":\"y\"},{\"font\":{\"color\":\"#FFFFFF\"},\"showarrow\":false,\"text\":\"0.11\",\"x\":\"Pressure9am\",\"xref\":\"x\",\"y\":\"Humidity9am\",\"yref\":\"y\"},{\"font\":{\"color\":\"#000000\"},\"showarrow\":false,\"text\":\"0.17\",\"x\":\"Pressure3pm\",\"xref\":\"x\",\"y\":\"Humidity9am\",\"yref\":\"y\"},{\"font\":{\"color\":\"#000000\"},\"showarrow\":false,\"text\":\"0.44\",\"x\":\"Cloud9am\",\"xref\":\"x\",\"y\":\"Humidity9am\",\"yref\":\"y\"},{\"font\":{\"color\":\"#000000\"},\"showarrow\":false,\"text\":\"0.35\",\"x\":\"Cloud3pm\",\"xref\":\"x\",\"y\":\"Humidity9am\",\"yref\":\"y\"},{\"font\":{\"color\":\"#FFFFFF\"},\"showarrow\":false,\"text\":\"-0.42\",\"x\":\"Temp9am\",\"xref\":\"x\",\"y\":\"Humidity9am\",\"yref\":\"y\"},{\"font\":{\"color\":\"#FFFFFF\"},\"showarrow\":false,\"text\":\"-0.49\",\"x\":\"Temp3pm\",\"xref\":\"x\",\"y\":\"Humidity9am\",\"yref\":\"y\"},{\"font\":{\"color\":\"#000000\"},\"showarrow\":false,\"text\":\"0.27\",\"x\":\"RainTomorrow_int\",\"xref\":\"x\",\"y\":\"Humidity9am\",\"yref\":\"y\"},{\"font\":{\"color\":\"#FFFFFF\"},\"showarrow\":false,\"text\":\"0.07\",\"x\":\"MinTemp\",\"xref\":\"x\",\"y\":\"Humidity3pm\",\"yref\":\"y\"},{\"font\":{\"color\":\"#FFFFFF\"},\"showarrow\":false,\"text\":\"-0.45\",\"x\":\"MaxTemp\",\"xref\":\"x\",\"y\":\"Humidity3pm\",\"yref\":\"y\"},{\"font\":{\"color\":\"#000000\"},\"showarrow\":false,\"text\":\"0.28\",\"x\":\"Rainfall\",\"xref\":\"x\",\"y\":\"Humidity3pm\",\"yref\":\"y\"},{\"font\":{\"color\":\"#FFFFFF\"},\"showarrow\":false,\"text\":\"-0.42\",\"x\":\"Evaporation\",\"xref\":\"x\",\"y\":\"Humidity3pm\",\"yref\":\"y\"},{\"font\":{\"color\":\"#FFFFFF\"},\"showarrow\":false,\"text\":\"-0.63\",\"x\":\"Sunshine\",\"xref\":\"x\",\"y\":\"Humidity3pm\",\"yref\":\"y\"},{\"font\":{\"color\":\"#FFFFFF\"},\"showarrow\":false,\"text\":\"-0.04\",\"x\":\"WindGustSpeed\",\"xref\":\"x\",\"y\":\"Humidity3pm\",\"yref\":\"y\"},{\"font\":{\"color\":\"#FFFFFF\"},\"showarrow\":false,\"text\":\"-0.06\",\"x\":\"WindSpeed9am\",\"xref\":\"x\",\"y\":\"Humidity3pm\",\"yref\":\"y\"},{\"font\":{\"color\":\"#FFFFFF\"},\"showarrow\":false,\"text\":\"0.03\",\"x\":\"WindSpeed3pm\",\"xref\":\"x\",\"y\":\"Humidity3pm\",\"yref\":\"y\"},{\"font\":{\"color\":\"#000000\"},\"showarrow\":false,\"text\":\"0.69\",\"x\":\"Humidity9am\",\"xref\":\"x\",\"y\":\"Humidity3pm\",\"yref\":\"y\"},{\"font\":{\"color\":\"#000000\"},\"showarrow\":false,\"text\":\"1.0\",\"x\":\"Humidity3pm\",\"xref\":\"x\",\"y\":\"Humidity3pm\",\"yref\":\"y\"},{\"font\":{\"color\":\"#FFFFFF\"},\"showarrow\":false,\"text\":\"-0.06\",\"x\":\"Pressure9am\",\"xref\":\"x\",\"y\":\"Humidity3pm\",\"yref\":\"y\"},{\"font\":{\"color\":\"#FFFFFF\"},\"showarrow\":false,\"text\":\"0.02\",\"x\":\"Pressure3pm\",\"xref\":\"x\",\"y\":\"Humidity3pm\",\"yref\":\"y\"},{\"font\":{\"color\":\"#000000\"},\"showarrow\":false,\"text\":\"0.51\",\"x\":\"Cloud9am\",\"xref\":\"x\",\"y\":\"Humidity3pm\",\"yref\":\"y\"},{\"font\":{\"color\":\"#000000\"},\"showarrow\":false,\"text\":\"0.51\",\"x\":\"Cloud3pm\",\"xref\":\"x\",\"y\":\"Humidity3pm\",\"yref\":\"y\"},{\"font\":{\"color\":\"#FFFFFF\"},\"showarrow\":false,\"text\":\"-0.15\",\"x\":\"Temp9am\",\"xref\":\"x\",\"y\":\"Humidity3pm\",\"yref\":\"y\"},{\"font\":{\"color\":\"#FFFFFF\"},\"showarrow\":false,\"text\":\"-0.5\",\"x\":\"Temp3pm\",\"xref\":\"x\",\"y\":\"Humidity3pm\",\"yref\":\"y\"},{\"font\":{\"color\":\"#000000\"},\"showarrow\":false,\"text\":\"0.46\",\"x\":\"RainTomorrow_int\",\"xref\":\"x\",\"y\":\"Humidity3pm\",\"yref\":\"y\"},{\"font\":{\"color\":\"#FFFFFF\"},\"showarrow\":false,\"text\":\"-0.48\",\"x\":\"MinTemp\",\"xref\":\"x\",\"y\":\"Pressure9am\",\"yref\":\"y\"},{\"font\":{\"color\":\"#FFFFFF\"},\"showarrow\":false,\"text\":\"-0.35\",\"x\":\"MaxTemp\",\"xref\":\"x\",\"y\":\"Pressure9am\",\"yref\":\"y\"},{\"font\":{\"color\":\"#FFFFFF\"},\"showarrow\":false,\"text\":\"-0.18\",\"x\":\"Rainfall\",\"xref\":\"x\",\"y\":\"Pressure9am\",\"yref\":\"y\"},{\"font\":{\"color\":\"#FFFFFF\"},\"showarrow\":false,\"text\":\"-0.3\",\"x\":\"Evaporation\",\"xref\":\"x\",\"y\":\"Pressure9am\",\"yref\":\"y\"},{\"font\":{\"color\":\"#FFFFFF\"},\"showarrow\":false,\"text\":\"0.04\",\"x\":\"Sunshine\",\"xref\":\"x\",\"y\":\"Pressure9am\",\"yref\":\"y\"},{\"font\":{\"color\":\"#FFFFFF\"},\"showarrow\":false,\"text\":\"-0.43\",\"x\":\"WindGustSpeed\",\"xref\":\"x\",\"y\":\"Pressure9am\",\"yref\":\"y\"},{\"font\":{\"color\":\"#FFFFFF\"},\"showarrow\":false,\"text\":\"-0.2\",\"x\":\"WindSpeed9am\",\"xref\":\"x\",\"y\":\"Pressure9am\",\"yref\":\"y\"},{\"font\":{\"color\":\"#FFFFFF\"},\"showarrow\":false,\"text\":\"-0.29\",\"x\":\"WindSpeed3pm\",\"xref\":\"x\",\"y\":\"Pressure9am\",\"yref\":\"y\"},{\"font\":{\"color\":\"#FFFFFF\"},\"showarrow\":false,\"text\":\"0.11\",\"x\":\"Humidity9am\",\"xref\":\"x\",\"y\":\"Pressure9am\",\"yref\":\"y\"},{\"font\":{\"color\":\"#FFFFFF\"},\"showarrow\":false,\"text\":\"-0.06\",\"x\":\"Humidity3pm\",\"xref\":\"x\",\"y\":\"Pressure9am\",\"yref\":\"y\"},{\"font\":{\"color\":\"#000000\"},\"showarrow\":false,\"text\":\"1.0\",\"x\":\"Pressure9am\",\"xref\":\"x\",\"y\":\"Pressure9am\",\"yref\":\"y\"},{\"font\":{\"color\":\"#000000\"},\"showarrow\":false,\"text\":\"0.96\",\"x\":\"Pressure3pm\",\"xref\":\"x\",\"y\":\"Pressure9am\",\"yref\":\"y\"},{\"font\":{\"color\":\"#FFFFFF\"},\"showarrow\":false,\"text\":\"-0.15\",\"x\":\"Cloud9am\",\"xref\":\"x\",\"y\":\"Pressure9am\",\"yref\":\"y\"},{\"font\":{\"color\":\"#FFFFFF\"},\"showarrow\":false,\"text\":\"-0.17\",\"x\":\"Cloud3pm\",\"xref\":\"x\",\"y\":\"Pressure9am\",\"yref\":\"y\"},{\"font\":{\"color\":\"#FFFFFF\"},\"showarrow\":false,\"text\":\"-0.44\",\"x\":\"Temp9am\",\"xref\":\"x\",\"y\":\"Pressure9am\",\"yref\":\"y\"},{\"font\":{\"color\":\"#FFFFFF\"},\"showarrow\":false,\"text\":\"-0.31\",\"x\":\"Temp3pm\",\"xref\":\"x\",\"y\":\"Pressure9am\",\"yref\":\"y\"},{\"font\":{\"color\":\"#FFFFFF\"},\"showarrow\":false,\"text\":\"-0.25\",\"x\":\"RainTomorrow_int\",\"xref\":\"x\",\"y\":\"Pressure9am\",\"yref\":\"y\"},{\"font\":{\"color\":\"#FFFFFF\"},\"showarrow\":false,\"text\":\"-0.5\",\"x\":\"MinTemp\",\"xref\":\"x\",\"y\":\"Pressure3pm\",\"yref\":\"y\"},{\"font\":{\"color\":\"#FFFFFF\"},\"showarrow\":false,\"text\":\"-0.45\",\"x\":\"MaxTemp\",\"xref\":\"x\",\"y\":\"Pressure3pm\",\"yref\":\"y\"},{\"font\":{\"color\":\"#FFFFFF\"},\"showarrow\":false,\"text\":\"-0.14\",\"x\":\"Rainfall\",\"xref\":\"x\",\"y\":\"Pressure3pm\",\"yref\":\"y\"},{\"font\":{\"color\":\"#FFFFFF\"},\"showarrow\":false,\"text\":\"-0.33\",\"x\":\"Evaporation\",\"xref\":\"x\",\"y\":\"Pressure3pm\",\"yref\":\"y\"},{\"font\":{\"color\":\"#FFFFFF\"},\"showarrow\":false,\"text\":\"-0.02\",\"x\":\"Sunshine\",\"xref\":\"x\",\"y\":\"Pressure3pm\",\"yref\":\"y\"},{\"font\":{\"color\":\"#FFFFFF\"},\"showarrow\":false,\"text\":\"-0.38\",\"x\":\"WindGustSpeed\",\"xref\":\"x\",\"y\":\"Pressure3pm\",\"yref\":\"y\"},{\"font\":{\"color\":\"#FFFFFF\"},\"showarrow\":false,\"text\":\"-0.16\",\"x\":\"WindSpeed9am\",\"xref\":\"x\",\"y\":\"Pressure3pm\",\"yref\":\"y\"},{\"font\":{\"color\":\"#FFFFFF\"},\"showarrow\":false,\"text\":\"-0.25\",\"x\":\"WindSpeed3pm\",\"xref\":\"x\",\"y\":\"Pressure3pm\",\"yref\":\"y\"},{\"font\":{\"color\":\"#000000\"},\"showarrow\":false,\"text\":\"0.17\",\"x\":\"Humidity9am\",\"xref\":\"x\",\"y\":\"Pressure3pm\",\"yref\":\"y\"},{\"font\":{\"color\":\"#FFFFFF\"},\"showarrow\":false,\"text\":\"0.02\",\"x\":\"Humidity3pm\",\"xref\":\"x\",\"y\":\"Pressure3pm\",\"yref\":\"y\"},{\"font\":{\"color\":\"#000000\"},\"showarrow\":false,\"text\":\"0.96\",\"x\":\"Pressure9am\",\"xref\":\"x\",\"y\":\"Pressure3pm\",\"yref\":\"y\"},{\"font\":{\"color\":\"#000000\"},\"showarrow\":false,\"text\":\"1.0\",\"x\":\"Pressure3pm\",\"xref\":\"x\",\"y\":\"Pressure3pm\",\"yref\":\"y\"},{\"font\":{\"color\":\"#FFFFFF\"},\"showarrow\":false,\"text\":\"-0.08\",\"x\":\"Cloud9am\",\"xref\":\"x\",\"y\":\"Pressure3pm\",\"yref\":\"y\"},{\"font\":{\"color\":\"#FFFFFF\"},\"showarrow\":false,\"text\":\"-0.1\",\"x\":\"Cloud3pm\",\"xref\":\"x\",\"y\":\"Pressure3pm\",\"yref\":\"y\"},{\"font\":{\"color\":\"#FFFFFF\"},\"showarrow\":false,\"text\":\"-0.5\",\"x\":\"Temp9am\",\"xref\":\"x\",\"y\":\"Pressure3pm\",\"yref\":\"y\"},{\"font\":{\"color\":\"#FFFFFF\"},\"showarrow\":false,\"text\":\"-0.42\",\"x\":\"Temp3pm\",\"xref\":\"x\",\"y\":\"Pressure3pm\",\"yref\":\"y\"},{\"font\":{\"color\":\"#FFFFFF\"},\"showarrow\":false,\"text\":\"-0.23\",\"x\":\"RainTomorrow_int\",\"xref\":\"x\",\"y\":\"Pressure3pm\",\"yref\":\"y\"},{\"font\":{\"color\":\"#FFFFFF\"},\"showarrow\":false,\"text\":\"0.11\",\"x\":\"MinTemp\",\"xref\":\"x\",\"y\":\"Cloud9am\",\"yref\":\"y\"},{\"font\":{\"color\":\"#FFFFFF\"},\"showarrow\":false,\"text\":\"-0.26\",\"x\":\"MaxTemp\",\"xref\":\"x\",\"y\":\"Cloud9am\",\"yref\":\"y\"},{\"font\":{\"color\":\"#000000\"},\"showarrow\":false,\"text\":\"0.22\",\"x\":\"Rainfall\",\"xref\":\"x\",\"y\":\"Cloud9am\",\"yref\":\"y\"},{\"font\":{\"color\":\"#FFFFFF\"},\"showarrow\":false,\"text\":\"-0.2\",\"x\":\"Evaporation\",\"xref\":\"x\",\"y\":\"Cloud9am\",\"yref\":\"y\"},{\"font\":{\"color\":\"#FFFFFF\"},\"showarrow\":false,\"text\":\"-0.68\",\"x\":\"Sunshine\",\"xref\":\"x\",\"y\":\"Cloud9am\",\"yref\":\"y\"},{\"font\":{\"color\":\"#FFFFFF\"},\"showarrow\":false,\"text\":\"0.09\",\"x\":\"WindGustSpeed\",\"xref\":\"x\",\"y\":\"Cloud9am\",\"yref\":\"y\"},{\"font\":{\"color\":\"#FFFFFF\"},\"showarrow\":false,\"text\":\"0.03\",\"x\":\"WindSpeed9am\",\"xref\":\"x\",\"y\":\"Cloud9am\",\"yref\":\"y\"},{\"font\":{\"color\":\"#FFFFFF\"},\"showarrow\":false,\"text\":\"0.07\",\"x\":\"WindSpeed3pm\",\"xref\":\"x\",\"y\":\"Cloud9am\",\"yref\":\"y\"},{\"font\":{\"color\":\"#000000\"},\"showarrow\":false,\"text\":\"0.44\",\"x\":\"Humidity9am\",\"xref\":\"x\",\"y\":\"Cloud9am\",\"yref\":\"y\"},{\"font\":{\"color\":\"#000000\"},\"showarrow\":false,\"text\":\"0.51\",\"x\":\"Humidity3pm\",\"xref\":\"x\",\"y\":\"Cloud9am\",\"yref\":\"y\"},{\"font\":{\"color\":\"#FFFFFF\"},\"showarrow\":false,\"text\":\"-0.15\",\"x\":\"Pressure9am\",\"xref\":\"x\",\"y\":\"Cloud9am\",\"yref\":\"y\"},{\"font\":{\"color\":\"#FFFFFF\"},\"showarrow\":false,\"text\":\"-0.08\",\"x\":\"Pressure3pm\",\"xref\":\"x\",\"y\":\"Cloud9am\",\"yref\":\"y\"},{\"font\":{\"color\":\"#000000\"},\"showarrow\":false,\"text\":\"1.0\",\"x\":\"Cloud9am\",\"xref\":\"x\",\"y\":\"Cloud9am\",\"yref\":\"y\"},{\"font\":{\"color\":\"#000000\"},\"showarrow\":false,\"text\":\"0.61\",\"x\":\"Cloud3pm\",\"xref\":\"x\",\"y\":\"Cloud9am\",\"yref\":\"y\"},{\"font\":{\"color\":\"#FFFFFF\"},\"showarrow\":false,\"text\":\"-0.11\",\"x\":\"Temp9am\",\"xref\":\"x\",\"y\":\"Cloud9am\",\"yref\":\"y\"},{\"font\":{\"color\":\"#FFFFFF\"},\"showarrow\":false,\"text\":\"-0.28\",\"x\":\"Temp3pm\",\"xref\":\"x\",\"y\":\"Cloud9am\",\"yref\":\"y\"},{\"font\":{\"color\":\"#000000\"},\"showarrow\":false,\"text\":\"0.32\",\"x\":\"RainTomorrow_int\",\"xref\":\"x\",\"y\":\"Cloud9am\",\"yref\":\"y\"},{\"font\":{\"color\":\"#FFFFFF\"},\"showarrow\":false,\"text\":\"0.04\",\"x\":\"MinTemp\",\"xref\":\"x\",\"y\":\"Cloud3pm\",\"yref\":\"y\"},{\"font\":{\"color\":\"#FFFFFF\"},\"showarrow\":false,\"text\":\"-0.26\",\"x\":\"MaxTemp\",\"xref\":\"x\",\"y\":\"Cloud3pm\",\"yref\":\"y\"},{\"font\":{\"color\":\"#000000\"},\"showarrow\":false,\"text\":\"0.19\",\"x\":\"Rainfall\",\"xref\":\"x\",\"y\":\"Cloud3pm\",\"yref\":\"y\"},{\"font\":{\"color\":\"#FFFFFF\"},\"showarrow\":false,\"text\":\"-0.2\",\"x\":\"Evaporation\",\"xref\":\"x\",\"y\":\"Cloud3pm\",\"yref\":\"y\"},{\"font\":{\"color\":\"#FFFFFF\"},\"showarrow\":false,\"text\":\"-0.7\",\"x\":\"Sunshine\",\"xref\":\"x\",\"y\":\"Cloud3pm\",\"yref\":\"y\"},{\"font\":{\"color\":\"#FFFFFF\"},\"showarrow\":false,\"text\":\"0.13\",\"x\":\"WindGustSpeed\",\"xref\":\"x\",\"y\":\"Cloud3pm\",\"yref\":\"y\"},{\"font\":{\"color\":\"#FFFFFF\"},\"showarrow\":false,\"text\":\"0.06\",\"x\":\"WindSpeed9am\",\"xref\":\"x\",\"y\":\"Cloud3pm\",\"yref\":\"y\"},{\"font\":{\"color\":\"#FFFFFF\"},\"showarrow\":false,\"text\":\"0.04\",\"x\":\"WindSpeed3pm\",\"xref\":\"x\",\"y\":\"Cloud3pm\",\"yref\":\"y\"},{\"font\":{\"color\":\"#000000\"},\"showarrow\":false,\"text\":\"0.35\",\"x\":\"Humidity9am\",\"xref\":\"x\",\"y\":\"Cloud3pm\",\"yref\":\"y\"},{\"font\":{\"color\":\"#000000\"},\"showarrow\":false,\"text\":\"0.51\",\"x\":\"Humidity3pm\",\"xref\":\"x\",\"y\":\"Cloud3pm\",\"yref\":\"y\"},{\"font\":{\"color\":\"#FFFFFF\"},\"showarrow\":false,\"text\":\"-0.17\",\"x\":\"Pressure9am\",\"xref\":\"x\",\"y\":\"Cloud3pm\",\"yref\":\"y\"},{\"font\":{\"color\":\"#FFFFFF\"},\"showarrow\":false,\"text\":\"-0.1\",\"x\":\"Pressure3pm\",\"xref\":\"x\",\"y\":\"Cloud3pm\",\"yref\":\"y\"},{\"font\":{\"color\":\"#000000\"},\"showarrow\":false,\"text\":\"0.61\",\"x\":\"Cloud9am\",\"xref\":\"x\",\"y\":\"Cloud3pm\",\"yref\":\"y\"},{\"font\":{\"color\":\"#000000\"},\"showarrow\":false,\"text\":\"1.0\",\"x\":\"Cloud3pm\",\"xref\":\"x\",\"y\":\"Cloud3pm\",\"yref\":\"y\"},{\"font\":{\"color\":\"#FFFFFF\"},\"showarrow\":false,\"text\":\"-0.11\",\"x\":\"Temp9am\",\"xref\":\"x\",\"y\":\"Cloud3pm\",\"yref\":\"y\"},{\"font\":{\"color\":\"#FFFFFF\"},\"showarrow\":false,\"text\":\"-0.3\",\"x\":\"Temp3pm\",\"xref\":\"x\",\"y\":\"Cloud3pm\",\"yref\":\"y\"},{\"font\":{\"color\":\"#000000\"},\"showarrow\":false,\"text\":\"0.39\",\"x\":\"RainTomorrow_int\",\"xref\":\"x\",\"y\":\"Cloud3pm\",\"yref\":\"y\"},{\"font\":{\"color\":\"#000000\"},\"showarrow\":false,\"text\":\"0.91\",\"x\":\"MinTemp\",\"xref\":\"x\",\"y\":\"Temp9am\",\"yref\":\"y\"},{\"font\":{\"color\":\"#000000\"},\"showarrow\":false,\"text\":\"0.89\",\"x\":\"MaxTemp\",\"xref\":\"x\",\"y\":\"Temp9am\",\"yref\":\"y\"},{\"font\":{\"color\":\"#FFFFFF\"},\"showarrow\":false,\"text\":\"0.01\",\"x\":\"Rainfall\",\"xref\":\"x\",\"y\":\"Temp9am\",\"yref\":\"y\"},{\"font\":{\"color\":\"#000000\"},\"showarrow\":false,\"text\":\"0.59\",\"x\":\"Evaporation\",\"xref\":\"x\",\"y\":\"Temp9am\",\"yref\":\"y\"},{\"font\":{\"color\":\"#000000\"},\"showarrow\":false,\"text\":\"0.29\",\"x\":\"Sunshine\",\"xref\":\"x\",\"y\":\"Temp9am\",\"yref\":\"y\"},{\"font\":{\"color\":\"#FFFFFF\"},\"showarrow\":false,\"text\":\"0.09\",\"x\":\"WindGustSpeed\",\"xref\":\"x\",\"y\":\"Temp9am\",\"yref\":\"y\"},{\"font\":{\"color\":\"#FFFFFF\"},\"showarrow\":false,\"text\":\"0.05\",\"x\":\"WindSpeed9am\",\"xref\":\"x\",\"y\":\"Temp9am\",\"yref\":\"y\"},{\"font\":{\"color\":\"#FFFFFF\"},\"showarrow\":false,\"text\":\"0.11\",\"x\":\"WindSpeed3pm\",\"xref\":\"x\",\"y\":\"Temp9am\",\"yref\":\"y\"},{\"font\":{\"color\":\"#FFFFFF\"},\"showarrow\":false,\"text\":\"-0.42\",\"x\":\"Humidity9am\",\"xref\":\"x\",\"y\":\"Temp9am\",\"yref\":\"y\"},{\"font\":{\"color\":\"#FFFFFF\"},\"showarrow\":false,\"text\":\"-0.15\",\"x\":\"Humidity3pm\",\"xref\":\"x\",\"y\":\"Temp9am\",\"yref\":\"y\"},{\"font\":{\"color\":\"#FFFFFF\"},\"showarrow\":false,\"text\":\"-0.44\",\"x\":\"Pressure9am\",\"xref\":\"x\",\"y\":\"Temp9am\",\"yref\":\"y\"},{\"font\":{\"color\":\"#FFFFFF\"},\"showarrow\":false,\"text\":\"-0.5\",\"x\":\"Pressure3pm\",\"xref\":\"x\",\"y\":\"Temp9am\",\"yref\":\"y\"},{\"font\":{\"color\":\"#FFFFFF\"},\"showarrow\":false,\"text\":\"-0.11\",\"x\":\"Cloud9am\",\"xref\":\"x\",\"y\":\"Temp9am\",\"yref\":\"y\"},{\"font\":{\"color\":\"#FFFFFF\"},\"showarrow\":false,\"text\":\"-0.11\",\"x\":\"Cloud3pm\",\"xref\":\"x\",\"y\":\"Temp9am\",\"yref\":\"y\"},{\"font\":{\"color\":\"#000000\"},\"showarrow\":false,\"text\":\"1.0\",\"x\":\"Temp9am\",\"xref\":\"x\",\"y\":\"Temp9am\",\"yref\":\"y\"},{\"font\":{\"color\":\"#000000\"},\"showarrow\":false,\"text\":\"0.87\",\"x\":\"Temp3pm\",\"xref\":\"x\",\"y\":\"Temp9am\",\"yref\":\"y\"},{\"font\":{\"color\":\"#FFFFFF\"},\"showarrow\":false,\"text\":\"-0.02\",\"x\":\"RainTomorrow_int\",\"xref\":\"x\",\"y\":\"Temp9am\",\"yref\":\"y\"},{\"font\":{\"color\":\"#000000\"},\"showarrow\":false,\"text\":\"0.73\",\"x\":\"MinTemp\",\"xref\":\"x\",\"y\":\"Temp3pm\",\"yref\":\"y\"},{\"font\":{\"color\":\"#000000\"},\"showarrow\":false,\"text\":\"0.98\",\"x\":\"MaxTemp\",\"xref\":\"x\",\"y\":\"Temp3pm\",\"yref\":\"y\"},{\"font\":{\"color\":\"#FFFFFF\"},\"showarrow\":false,\"text\":\"-0.07\",\"x\":\"Rainfall\",\"xref\":\"x\",\"y\":\"Temp3pm\",\"yref\":\"y\"},{\"font\":{\"color\":\"#000000\"},\"showarrow\":false,\"text\":\"0.63\",\"x\":\"Evaporation\",\"xref\":\"x\",\"y\":\"Temp3pm\",\"yref\":\"y\"},{\"font\":{\"color\":\"#000000\"},\"showarrow\":false,\"text\":\"0.49\",\"x\":\"Sunshine\",\"xref\":\"x\",\"y\":\"Temp3pm\",\"yref\":\"y\"},{\"font\":{\"color\":\"#FFFFFF\"},\"showarrow\":false,\"text\":\"-0.0\",\"x\":\"WindGustSpeed\",\"xref\":\"x\",\"y\":\"Temp3pm\",\"yref\":\"y\"},{\"font\":{\"color\":\"#FFFFFF\"},\"showarrow\":false,\"text\":\"-0.02\",\"x\":\"WindSpeed9am\",\"xref\":\"x\",\"y\":\"Temp3pm\",\"yref\":\"y\"},{\"font\":{\"color\":\"#FFFFFF\"},\"showarrow\":false,\"text\":\"-0.01\",\"x\":\"WindSpeed3pm\",\"xref\":\"x\",\"y\":\"Temp3pm\",\"yref\":\"y\"},{\"font\":{\"color\":\"#FFFFFF\"},\"showarrow\":false,\"text\":\"-0.49\",\"x\":\"Humidity9am\",\"xref\":\"x\",\"y\":\"Temp3pm\",\"yref\":\"y\"},{\"font\":{\"color\":\"#FFFFFF\"},\"showarrow\":false,\"text\":\"-0.5\",\"x\":\"Humidity3pm\",\"xref\":\"x\",\"y\":\"Temp3pm\",\"yref\":\"y\"},{\"font\":{\"color\":\"#FFFFFF\"},\"showarrow\":false,\"text\":\"-0.31\",\"x\":\"Pressure9am\",\"xref\":\"x\",\"y\":\"Temp3pm\",\"yref\":\"y\"},{\"font\":{\"color\":\"#FFFFFF\"},\"showarrow\":false,\"text\":\"-0.42\",\"x\":\"Pressure3pm\",\"xref\":\"x\",\"y\":\"Temp3pm\",\"yref\":\"y\"},{\"font\":{\"color\":\"#FFFFFF\"},\"showarrow\":false,\"text\":\"-0.28\",\"x\":\"Cloud9am\",\"xref\":\"x\",\"y\":\"Temp3pm\",\"yref\":\"y\"},{\"font\":{\"color\":\"#FFFFFF\"},\"showarrow\":false,\"text\":\"-0.3\",\"x\":\"Cloud3pm\",\"xref\":\"x\",\"y\":\"Temp3pm\",\"yref\":\"y\"},{\"font\":{\"color\":\"#000000\"},\"showarrow\":false,\"text\":\"0.87\",\"x\":\"Temp9am\",\"xref\":\"x\",\"y\":\"Temp3pm\",\"yref\":\"y\"},{\"font\":{\"color\":\"#000000\"},\"showarrow\":false,\"text\":\"1.0\",\"x\":\"Temp3pm\",\"xref\":\"x\",\"y\":\"Temp3pm\",\"yref\":\"y\"},{\"font\":{\"color\":\"#FFFFFF\"},\"showarrow\":false,\"text\":\"-0.18\",\"x\":\"RainTomorrow_int\",\"xref\":\"x\",\"y\":\"Temp3pm\",\"yref\":\"y\"},{\"font\":{\"color\":\"#FFFFFF\"},\"showarrow\":false,\"text\":\"0.09\",\"x\":\"MinTemp\",\"xref\":\"x\",\"y\":\"RainTomorrow_int\",\"yref\":\"y\"},{\"font\":{\"color\":\"#FFFFFF\"},\"showarrow\":false,\"text\":\"-0.15\",\"x\":\"MaxTemp\",\"xref\":\"x\",\"y\":\"RainTomorrow_int\",\"yref\":\"y\"},{\"font\":{\"color\":\"#000000\"},\"showarrow\":false,\"text\":\"0.25\",\"x\":\"Rainfall\",\"xref\":\"x\",\"y\":\"RainTomorrow_int\",\"yref\":\"y\"},{\"font\":{\"color\":\"#FFFFFF\"},\"showarrow\":false,\"text\":\"-0.13\",\"x\":\"Evaporation\",\"xref\":\"x\",\"y\":\"RainTomorrow_int\",\"yref\":\"y\"},{\"font\":{\"color\":\"#FFFFFF\"},\"showarrow\":false,\"text\":\"-0.45\",\"x\":\"Sunshine\",\"xref\":\"x\",\"y\":\"RainTomorrow_int\",\"yref\":\"y\"},{\"font\":{\"color\":\"#000000\"},\"showarrow\":false,\"text\":\"0.23\",\"x\":\"WindGustSpeed\",\"xref\":\"x\",\"y\":\"RainTomorrow_int\",\"yref\":\"y\"},{\"font\":{\"color\":\"#FFFFFF\"},\"showarrow\":false,\"text\":\"0.08\",\"x\":\"WindSpeed9am\",\"xref\":\"x\",\"y\":\"RainTomorrow_int\",\"yref\":\"y\"},{\"font\":{\"color\":\"#FFFFFF\"},\"showarrow\":false,\"text\":\"0.09\",\"x\":\"WindSpeed3pm\",\"xref\":\"x\",\"y\":\"RainTomorrow_int\",\"yref\":\"y\"},{\"font\":{\"color\":\"#000000\"},\"showarrow\":false,\"text\":\"0.27\",\"x\":\"Humidity9am\",\"xref\":\"x\",\"y\":\"RainTomorrow_int\",\"yref\":\"y\"},{\"font\":{\"color\":\"#000000\"},\"showarrow\":false,\"text\":\"0.46\",\"x\":\"Humidity3pm\",\"xref\":\"x\",\"y\":\"RainTomorrow_int\",\"yref\":\"y\"},{\"font\":{\"color\":\"#FFFFFF\"},\"showarrow\":false,\"text\":\"-0.25\",\"x\":\"Pressure9am\",\"xref\":\"x\",\"y\":\"RainTomorrow_int\",\"yref\":\"y\"},{\"font\":{\"color\":\"#FFFFFF\"},\"showarrow\":false,\"text\":\"-0.23\",\"x\":\"Pressure3pm\",\"xref\":\"x\",\"y\":\"RainTomorrow_int\",\"yref\":\"y\"},{\"font\":{\"color\":\"#000000\"},\"showarrow\":false,\"text\":\"0.32\",\"x\":\"Cloud9am\",\"xref\":\"x\",\"y\":\"RainTomorrow_int\",\"yref\":\"y\"},{\"font\":{\"color\":\"#000000\"},\"showarrow\":false,\"text\":\"0.39\",\"x\":\"Cloud3pm\",\"xref\":\"x\",\"y\":\"RainTomorrow_int\",\"yref\":\"y\"},{\"font\":{\"color\":\"#FFFFFF\"},\"showarrow\":false,\"text\":\"-0.02\",\"x\":\"Temp9am\",\"xref\":\"x\",\"y\":\"RainTomorrow_int\",\"yref\":\"y\"},{\"font\":{\"color\":\"#FFFFFF\"},\"showarrow\":false,\"text\":\"-0.18\",\"x\":\"Temp3pm\",\"xref\":\"x\",\"y\":\"RainTomorrow_int\",\"yref\":\"y\"},{\"font\":{\"color\":\"#000000\"},\"showarrow\":false,\"text\":\"1.0\",\"x\":\"RainTomorrow_int\",\"xref\":\"x\",\"y\":\"RainTomorrow_int\",\"yref\":\"y\"}],\"template\":{\"data\":{\"bar\":[{\"error_x\":{\"color\":\"#2a3f5f\"},\"error_y\":{\"color\":\"#2a3f5f\"},\"marker\":{\"line\":{\"color\":\"#E5ECF6\",\"width\":0.5},\"pattern\":{\"fillmode\":\"overlay\",\"size\":10,\"solidity\":0.2}},\"type\":\"bar\"}],\"barpolar\":[{\"marker\":{\"line\":{\"color\":\"#E5ECF6\",\"width\":0.5},\"pattern\":{\"fillmode\":\"overlay\",\"size\":10,\"solidity\":0.2}},\"type\":\"barpolar\"}],\"carpet\":[{\"aaxis\":{\"endlinecolor\":\"#2a3f5f\",\"gridcolor\":\"white\",\"linecolor\":\"white\",\"minorgridcolor\":\"white\",\"startlinecolor\":\"#2a3f5f\"},\"baxis\":{\"endlinecolor\":\"#2a3f5f\",\"gridcolor\":\"white\",\"linecolor\":\"white\",\"minorgridcolor\":\"white\",\"startlinecolor\":\"#2a3f5f\"},\"type\":\"carpet\"}],\"choropleth\":[{\"colorbar\":{\"outlinewidth\":0,\"ticks\":\"\"},\"type\":\"choropleth\"}],\"contour\":[{\"colorbar\":{\"outlinewidth\":0,\"ticks\":\"\"},\"colorscale\":[[0.0,\"#0d0887\"],[0.1111111111111111,\"#46039f\"],[0.2222222222222222,\"#7201a8\"],[0.3333333333333333,\"#9c179e\"],[0.4444444444444444,\"#bd3786\"],[0.5555555555555556,\"#d8576b\"],[0.6666666666666666,\"#ed7953\"],[0.7777777777777778,\"#fb9f3a\"],[0.8888888888888888,\"#fdca26\"],[1.0,\"#f0f921\"]],\"type\":\"contour\"}],\"contourcarpet\":[{\"colorbar\":{\"outlinewidth\":0,\"ticks\":\"\"},\"type\":\"contourcarpet\"}],\"heatmap\":[{\"colorbar\":{\"outlinewidth\":0,\"ticks\":\"\"},\"colorscale\":[[0.0,\"#0d0887\"],[0.1111111111111111,\"#46039f\"],[0.2222222222222222,\"#7201a8\"],[0.3333333333333333,\"#9c179e\"],[0.4444444444444444,\"#bd3786\"],[0.5555555555555556,\"#d8576b\"],[0.6666666666666666,\"#ed7953\"],[0.7777777777777778,\"#fb9f3a\"],[0.8888888888888888,\"#fdca26\"],[1.0,\"#f0f921\"]],\"type\":\"heatmap\"}],\"heatmapgl\":[{\"colorbar\":{\"outlinewidth\":0,\"ticks\":\"\"},\"colorscale\":[[0.0,\"#0d0887\"],[0.1111111111111111,\"#46039f\"],[0.2222222222222222,\"#7201a8\"],[0.3333333333333333,\"#9c179e\"],[0.4444444444444444,\"#bd3786\"],[0.5555555555555556,\"#d8576b\"],[0.6666666666666666,\"#ed7953\"],[0.7777777777777778,\"#fb9f3a\"],[0.8888888888888888,\"#fdca26\"],[1.0,\"#f0f921\"]],\"type\":\"heatmapgl\"}],\"histogram\":[{\"marker\":{\"pattern\":{\"fillmode\":\"overlay\",\"size\":10,\"solidity\":0.2}},\"type\":\"histogram\"}],\"histogram2d\":[{\"colorbar\":{\"outlinewidth\":0,\"ticks\":\"\"},\"colorscale\":[[0.0,\"#0d0887\"],[0.1111111111111111,\"#46039f\"],[0.2222222222222222,\"#7201a8\"],[0.3333333333333333,\"#9c179e\"],[0.4444444444444444,\"#bd3786\"],[0.5555555555555556,\"#d8576b\"],[0.6666666666666666,\"#ed7953\"],[0.7777777777777778,\"#fb9f3a\"],[0.8888888888888888,\"#fdca26\"],[1.0,\"#f0f921\"]],\"type\":\"histogram2d\"}],\"histogram2dcontour\":[{\"colorbar\":{\"outlinewidth\":0,\"ticks\":\"\"},\"colorscale\":[[0.0,\"#0d0887\"],[0.1111111111111111,\"#46039f\"],[0.2222222222222222,\"#7201a8\"],[0.3333333333333333,\"#9c179e\"],[0.4444444444444444,\"#bd3786\"],[0.5555555555555556,\"#d8576b\"],[0.6666666666666666,\"#ed7953\"],[0.7777777777777778,\"#fb9f3a\"],[0.8888888888888888,\"#fdca26\"],[1.0,\"#f0f921\"]],\"type\":\"histogram2dcontour\"}],\"mesh3d\":[{\"colorbar\":{\"outlinewidth\":0,\"ticks\":\"\"},\"type\":\"mesh3d\"}],\"parcoords\":[{\"line\":{\"colorbar\":{\"outlinewidth\":0,\"ticks\":\"\"}},\"type\":\"parcoords\"}],\"pie\":[{\"automargin\":true,\"type\":\"pie\"}],\"scatter\":[{\"marker\":{\"colorbar\":{\"outlinewidth\":0,\"ticks\":\"\"}},\"type\":\"scatter\"}],\"scatter3d\":[{\"line\":{\"colorbar\":{\"outlinewidth\":0,\"ticks\":\"\"}},\"marker\":{\"colorbar\":{\"outlinewidth\":0,\"ticks\":\"\"}},\"type\":\"scatter3d\"}],\"scattercarpet\":[{\"marker\":{\"colorbar\":{\"outlinewidth\":0,\"ticks\":\"\"}},\"type\":\"scattercarpet\"}],\"scattergeo\":[{\"marker\":{\"colorbar\":{\"outlinewidth\":0,\"ticks\":\"\"}},\"type\":\"scattergeo\"}],\"scattergl\":[{\"marker\":{\"colorbar\":{\"outlinewidth\":0,\"ticks\":\"\"}},\"type\":\"scattergl\"}],\"scattermapbox\":[{\"marker\":{\"colorbar\":{\"outlinewidth\":0,\"ticks\":\"\"}},\"type\":\"scattermapbox\"}],\"scatterpolar\":[{\"marker\":{\"colorbar\":{\"outlinewidth\":0,\"ticks\":\"\"}},\"type\":\"scatterpolar\"}],\"scatterpolargl\":[{\"marker\":{\"colorbar\":{\"outlinewidth\":0,\"ticks\":\"\"}},\"type\":\"scatterpolargl\"}],\"scatterternary\":[{\"marker\":{\"colorbar\":{\"outlinewidth\":0,\"ticks\":\"\"}},\"type\":\"scatterternary\"}],\"surface\":[{\"colorbar\":{\"outlinewidth\":0,\"ticks\":\"\"},\"colorscale\":[[0.0,\"#0d0887\"],[0.1111111111111111,\"#46039f\"],[0.2222222222222222,\"#7201a8\"],[0.3333333333333333,\"#9c179e\"],[0.4444444444444444,\"#bd3786\"],[0.5555555555555556,\"#d8576b\"],[0.6666666666666666,\"#ed7953\"],[0.7777777777777778,\"#fb9f3a\"],[0.8888888888888888,\"#fdca26\"],[1.0,\"#f0f921\"]],\"type\":\"surface\"}],\"table\":[{\"cells\":{\"fill\":{\"color\":\"#EBF0F8\"},\"line\":{\"color\":\"white\"}},\"header\":{\"fill\":{\"color\":\"#C8D4E3\"},\"line\":{\"color\":\"white\"}},\"type\":\"table\"}]},\"layout\":{\"annotationdefaults\":{\"arrowcolor\":\"#2a3f5f\",\"arrowhead\":0,\"arrowwidth\":1},\"autotypenumbers\":\"strict\",\"coloraxis\":{\"colorbar\":{\"outlinewidth\":0,\"ticks\":\"\"}},\"colorscale\":{\"diverging\":[[0,\"#8e0152\"],[0.1,\"#c51b7d\"],[0.2,\"#de77ae\"],[0.3,\"#f1b6da\"],[0.4,\"#fde0ef\"],[0.5,\"#f7f7f7\"],[0.6,\"#e6f5d0\"],[0.7,\"#b8e186\"],[0.8,\"#7fbc41\"],[0.9,\"#4d9221\"],[1,\"#276419\"]],\"sequential\":[[0.0,\"#0d0887\"],[0.1111111111111111,\"#46039f\"],[0.2222222222222222,\"#7201a8\"],[0.3333333333333333,\"#9c179e\"],[0.4444444444444444,\"#bd3786\"],[0.5555555555555556,\"#d8576b\"],[0.6666666666666666,\"#ed7953\"],[0.7777777777777778,\"#fb9f3a\"],[0.8888888888888888,\"#fdca26\"],[1.0,\"#f0f921\"]],\"sequentialminus\":[[0.0,\"#0d0887\"],[0.1111111111111111,\"#46039f\"],[0.2222222222222222,\"#7201a8\"],[0.3333333333333333,\"#9c179e\"],[0.4444444444444444,\"#bd3786\"],[0.5555555555555556,\"#d8576b\"],[0.6666666666666666,\"#ed7953\"],[0.7777777777777778,\"#fb9f3a\"],[0.8888888888888888,\"#fdca26\"],[1.0,\"#f0f921\"]]},\"colorway\":[\"#636efa\",\"#EF553B\",\"#00cc96\",\"#ab63fa\",\"#FFA15A\",\"#19d3f3\",\"#FF6692\",\"#B6E880\",\"#FF97FF\",\"#FECB52\"],\"font\":{\"color\":\"#2a3f5f\"},\"geo\":{\"bgcolor\":\"white\",\"lakecolor\":\"white\",\"landcolor\":\"#E5ECF6\",\"showlakes\":true,\"showland\":true,\"subunitcolor\":\"white\"},\"hoverlabel\":{\"align\":\"left\"},\"hovermode\":\"closest\",\"mapbox\":{\"style\":\"light\"},\"paper_bgcolor\":\"white\",\"plot_bgcolor\":\"#E5ECF6\",\"polar\":{\"angularaxis\":{\"gridcolor\":\"white\",\"linecolor\":\"white\",\"ticks\":\"\"},\"bgcolor\":\"#E5ECF6\",\"radialaxis\":{\"gridcolor\":\"white\",\"linecolor\":\"white\",\"ticks\":\"\"}},\"scene\":{\"xaxis\":{\"backgroundcolor\":\"#E5ECF6\",\"gridcolor\":\"white\",\"gridwidth\":2,\"linecolor\":\"white\",\"showbackground\":true,\"ticks\":\"\",\"zerolinecolor\":\"white\"},\"yaxis\":{\"backgroundcolor\":\"#E5ECF6\",\"gridcolor\":\"white\",\"gridwidth\":2,\"linecolor\":\"white\",\"showbackground\":true,\"ticks\":\"\",\"zerolinecolor\":\"white\"},\"zaxis\":{\"backgroundcolor\":\"#E5ECF6\",\"gridcolor\":\"white\",\"gridwidth\":2,\"linecolor\":\"white\",\"showbackground\":true,\"ticks\":\"\",\"zerolinecolor\":\"white\"}},\"shapedefaults\":{\"line\":{\"color\":\"#2a3f5f\"}},\"ternary\":{\"aaxis\":{\"gridcolor\":\"white\",\"linecolor\":\"white\",\"ticks\":\"\"},\"baxis\":{\"gridcolor\":\"white\",\"linecolor\":\"white\",\"ticks\":\"\"},\"bgcolor\":\"#E5ECF6\",\"caxis\":{\"gridcolor\":\"white\",\"linecolor\":\"white\",\"ticks\":\"\"}},\"title\":{\"x\":0.05},\"xaxis\":{\"automargin\":true,\"gridcolor\":\"white\",\"linecolor\":\"white\",\"ticks\":\"\",\"title\":{\"standoff\":15},\"zerolinecolor\":\"white\",\"zerolinewidth\":2},\"yaxis\":{\"automargin\":true,\"gridcolor\":\"white\",\"linecolor\":\"white\",\"ticks\":\"\",\"title\":{\"standoff\":15},\"zerolinecolor\":\"white\",\"zerolinewidth\":2}}},\"xaxis\":{\"dtick\":1,\"gridcolor\":\"rgb(0, 0, 0)\",\"side\":\"top\",\"ticks\":\"\"},\"yaxis\":{\"dtick\":1,\"ticks\":\"\",\"ticksuffix\":\"  \"}},                        {\"responsive\": true}                    ).then(function(){\n",
       "                            \n",
       "var gd = document.getElementById('31e6a0bd-253f-4caf-bfb5-857472180cf2');\n",
       "var x = new MutationObserver(function (mutations, observer) {{\n",
       "        var display = window.getComputedStyle(gd).display;\n",
       "        if (!display || display === 'none') {{\n",
       "            console.log([gd, 'removed!']);\n",
       "            Plotly.purge(gd);\n",
       "            observer.disconnect();\n",
       "        }}\n",
       "}});\n",
       "\n",
       "// Listen for the removal of the full notebook cells\n",
       "var notebookContainer = gd.closest('#notebook-container');\n",
       "if (notebookContainer) {{\n",
       "    x.observe(notebookContainer, {childList: true});\n",
       "}}\n",
       "\n",
       "// Listen for the clearing of the current output cell\n",
       "var outputEl = gd.closest('.output');\n",
       "if (outputEl) {{\n",
       "    x.observe(outputEl, {childList: true});\n",
       "}}\n",
       "\n",
       "                        })                };                });            </script>        </div>"
      ]
     },
     "metadata": {},
     "output_type": "display_data"
    }
   ],
   "source": [
    "corrs = df.corr()\n",
    "\n",
    "figure = ff.create_annotated_heatmap(\n",
    "    z=corrs.values,\n",
    "    x=list(corrs.columns),\n",
    "    y=list(corrs.index),\n",
    "    annotation_text=corrs.round(2).values,\n",
    "    showscale=True)\n",
    "\n",
    "figure.show()\n",
    "\n",
    "# Судя по всему, влияние на RainTomorrow оказывают Rainfall, Sunshine, Humidity9am, Humidity3pm, Cloud3pm, Temp3pm"
   ]
  },
  {
   "cell_type": "code",
   "execution_count": null,
   "id": "98c02f90",
   "metadata": {},
   "outputs": [],
   "source": []
  },
  {
   "cell_type": "code",
   "execution_count": null,
   "id": "f9111156",
   "metadata": {},
   "outputs": [],
   "source": [
    "# Задание 2:\n",
    "\n",
    "# Данные, которые мы видим, представлены в табличном формате и имеют несколько проблем, требующих решения:\n",
    "\n",
    "# 1) Есть пропущенные значения (вероятно, некоторые колонки или строчки следовательно необходимо убрать)\n",
    "# 2) Некоторые признаки представлены не в виде числовых данных (нужно закодировать с помощью Label Encoder)\n",
    "# 3) Дизбаланс данных (не каждый метод оценки подойдет)\n",
    "# 4) Данные имеют разный разброс. Вероятно, требуется скейлинг"
   ]
  },
  {
   "cell_type": "code",
   "execution_count": 38,
   "id": "7e668aee",
   "metadata": {},
   "outputs": [],
   "source": [
    "df = df.drop(columns=['RainTomorrow']).rename(columns={'RainTomorrow_int': 'RainTomorrow'}).reset_index()"
   ]
  },
  {
   "cell_type": "code",
   "execution_count": 39,
   "id": "717af5ac",
   "metadata": {},
   "outputs": [
    {
     "data": {
      "text/html": [
       "<div>\n",
       "<style scoped>\n",
       "    .dataframe tbody tr th:only-of-type {\n",
       "        vertical-align: middle;\n",
       "    }\n",
       "\n",
       "    .dataframe tbody tr th {\n",
       "        vertical-align: top;\n",
       "    }\n",
       "\n",
       "    .dataframe thead th {\n",
       "        text-align: right;\n",
       "    }\n",
       "</style>\n",
       "<table border=\"1\" class=\"dataframe\">\n",
       "  <thead>\n",
       "    <tr style=\"text-align: right;\">\n",
       "      <th></th>\n",
       "      <th>level_0</th>\n",
       "      <th>index</th>\n",
       "      <th>Location</th>\n",
       "      <th>MinTemp</th>\n",
       "      <th>MaxTemp</th>\n",
       "      <th>Rainfall</th>\n",
       "      <th>Evaporation</th>\n",
       "      <th>Sunshine</th>\n",
       "      <th>WindGustDir</th>\n",
       "      <th>WindGustSpeed</th>\n",
       "      <th>...</th>\n",
       "      <th>WindSpeed9am</th>\n",
       "      <th>WindSpeed3pm</th>\n",
       "      <th>Humidity9am</th>\n",
       "      <th>Humidity3pm</th>\n",
       "      <th>Pressure9am</th>\n",
       "      <th>Pressure3pm</th>\n",
       "      <th>Cloud9am</th>\n",
       "      <th>Cloud3pm</th>\n",
       "      <th>Temp9am</th>\n",
       "      <th>Temp3pm</th>\n",
       "    </tr>\n",
       "  </thead>\n",
       "  <tbody>\n",
       "    <tr>\n",
       "      <th>52421</th>\n",
       "      <td>52421</td>\n",
       "      <td>137575</td>\n",
       "      <td>0</td>\n",
       "      <td>11.3</td>\n",
       "      <td>30.3</td>\n",
       "      <td>0.0</td>\n",
       "      <td>11.0</td>\n",
       "      <td>11.3</td>\n",
       "      <td>2</td>\n",
       "      <td>46.0</td>\n",
       "      <td>...</td>\n",
       "      <td>9.0</td>\n",
       "      <td>24.0</td>\n",
       "      <td>30.0</td>\n",
       "      <td>13.0</td>\n",
       "      <td>1018.1</td>\n",
       "      <td>1013.6</td>\n",
       "      <td>0.0</td>\n",
       "      <td>2.0</td>\n",
       "      <td>21.4</td>\n",
       "      <td>29.1</td>\n",
       "    </tr>\n",
       "    <tr>\n",
       "      <th>18610</th>\n",
       "      <td>18610</td>\n",
       "      <td>65620</td>\n",
       "      <td>9</td>\n",
       "      <td>8.5</td>\n",
       "      <td>28.7</td>\n",
       "      <td>0.0</td>\n",
       "      <td>6.4</td>\n",
       "      <td>13.1</td>\n",
       "      <td>10</td>\n",
       "      <td>33.0</td>\n",
       "      <td>...</td>\n",
       "      <td>11.0</td>\n",
       "      <td>11.0</td>\n",
       "      <td>55.0</td>\n",
       "      <td>29.0</td>\n",
       "      <td>1015.0</td>\n",
       "      <td>1012.2</td>\n",
       "      <td>1.0</td>\n",
       "      <td>3.0</td>\n",
       "      <td>16.2</td>\n",
       "      <td>25.8</td>\n",
       "    </tr>\n",
       "    <tr>\n",
       "      <th>1170</th>\n",
       "      <td>1170</td>\n",
       "      <td>9761</td>\n",
       "      <td>5</td>\n",
       "      <td>19.4</td>\n",
       "      <td>23.4</td>\n",
       "      <td>4.0</td>\n",
       "      <td>2.6</td>\n",
       "      <td>0.0</td>\n",
       "      <td>5</td>\n",
       "      <td>22.0</td>\n",
       "      <td>...</td>\n",
       "      <td>11.0</td>\n",
       "      <td>11.0</td>\n",
       "      <td>94.0</td>\n",
       "      <td>93.0</td>\n",
       "      <td>1012.4</td>\n",
       "      <td>1011.3</td>\n",
       "      <td>8.0</td>\n",
       "      <td>8.0</td>\n",
       "      <td>19.8</td>\n",
       "      <td>20.0</td>\n",
       "    </tr>\n",
       "    <tr>\n",
       "      <th>23420</th>\n",
       "      <td>23420</td>\n",
       "      <td>71864</td>\n",
       "      <td>10</td>\n",
       "      <td>11.8</td>\n",
       "      <td>31.5</td>\n",
       "      <td>0.0</td>\n",
       "      <td>6.8</td>\n",
       "      <td>10.8</td>\n",
       "      <td>8</td>\n",
       "      <td>43.0</td>\n",
       "      <td>...</td>\n",
       "      <td>6.0</td>\n",
       "      <td>13.0</td>\n",
       "      <td>47.0</td>\n",
       "      <td>14.0</td>\n",
       "      <td>1022.5</td>\n",
       "      <td>1019.2</td>\n",
       "      <td>0.0</td>\n",
       "      <td>1.0</td>\n",
       "      <td>17.9</td>\n",
       "      <td>30.8</td>\n",
       "    </tr>\n",
       "    <tr>\n",
       "      <th>38195</th>\n",
       "      <td>38195</td>\n",
       "      <td>100732</td>\n",
       "      <td>12</td>\n",
       "      <td>5.2</td>\n",
       "      <td>15.9</td>\n",
       "      <td>2.4</td>\n",
       "      <td>1.6</td>\n",
       "      <td>6.1</td>\n",
       "      <td>11</td>\n",
       "      <td>52.0</td>\n",
       "      <td>...</td>\n",
       "      <td>13.0</td>\n",
       "      <td>24.0</td>\n",
       "      <td>92.0</td>\n",
       "      <td>88.0</td>\n",
       "      <td>1025.3</td>\n",
       "      <td>1023.0</td>\n",
       "      <td>7.0</td>\n",
       "      <td>3.0</td>\n",
       "      <td>12.2</td>\n",
       "      <td>12.3</td>\n",
       "    </tr>\n",
       "    <tr>\n",
       "      <th>52556</th>\n",
       "      <td>52556</td>\n",
       "      <td>137754</td>\n",
       "      <td>0</td>\n",
       "      <td>13.5</td>\n",
       "      <td>38.4</td>\n",
       "      <td>0.0</td>\n",
       "      <td>11.6</td>\n",
       "      <td>11.9</td>\n",
       "      <td>2</td>\n",
       "      <td>57.0</td>\n",
       "      <td>...</td>\n",
       "      <td>26.0</td>\n",
       "      <td>26.0</td>\n",
       "      <td>8.0</td>\n",
       "      <td>6.0</td>\n",
       "      <td>1015.6</td>\n",
       "      <td>1010.9</td>\n",
       "      <td>0.0</td>\n",
       "      <td>0.0</td>\n",
       "      <td>28.8</td>\n",
       "      <td>36.1</td>\n",
       "    </tr>\n",
       "    <tr>\n",
       "      <th>46834</th>\n",
       "      <td>46834</td>\n",
       "      <td>121346</td>\n",
       "      <td>15</td>\n",
       "      <td>6.4</td>\n",
       "      <td>17.8</td>\n",
       "      <td>0.0</td>\n",
       "      <td>3.0</td>\n",
       "      <td>9.1</td>\n",
       "      <td>0</td>\n",
       "      <td>31.0</td>\n",
       "      <td>...</td>\n",
       "      <td>11.0</td>\n",
       "      <td>11.0</td>\n",
       "      <td>57.0</td>\n",
       "      <td>36.0</td>\n",
       "      <td>1030.6</td>\n",
       "      <td>1026.5</td>\n",
       "      <td>0.0</td>\n",
       "      <td>0.0</td>\n",
       "      <td>11.6</td>\n",
       "      <td>17.3</td>\n",
       "    </tr>\n",
       "    <tr>\n",
       "      <th>31110</th>\n",
       "      <td>31110</td>\n",
       "      <td>86025</td>\n",
       "      <td>1</td>\n",
       "      <td>17.8</td>\n",
       "      <td>27.0</td>\n",
       "      <td>0.0</td>\n",
       "      <td>6.2</td>\n",
       "      <td>5.5</td>\n",
       "      <td>10</td>\n",
       "      <td>26.0</td>\n",
       "      <td>...</td>\n",
       "      <td>9.0</td>\n",
       "      <td>9.0</td>\n",
       "      <td>59.0</td>\n",
       "      <td>58.0</td>\n",
       "      <td>1019.9</td>\n",
       "      <td>1017.0</td>\n",
       "      <td>3.0</td>\n",
       "      <td>6.0</td>\n",
       "      <td>23.1</td>\n",
       "      <td>25.3</td>\n",
       "    </tr>\n",
       "    <tr>\n",
       "      <th>53349</th>\n",
       "      <td>53349</td>\n",
       "      <td>138675</td>\n",
       "      <td>0</td>\n",
       "      <td>12.0</td>\n",
       "      <td>30.8</td>\n",
       "      <td>0.0</td>\n",
       "      <td>7.4</td>\n",
       "      <td>11.2</td>\n",
       "      <td>8</td>\n",
       "      <td>39.0</td>\n",
       "      <td>...</td>\n",
       "      <td>2.0</td>\n",
       "      <td>17.0</td>\n",
       "      <td>24.0</td>\n",
       "      <td>12.0</td>\n",
       "      <td>1020.2</td>\n",
       "      <td>1016.2</td>\n",
       "      <td>0.0</td>\n",
       "      <td>1.0</td>\n",
       "      <td>22.6</td>\n",
       "      <td>29.3</td>\n",
       "    </tr>\n",
       "    <tr>\n",
       "      <th>44329</th>\n",
       "      <td>44329</td>\n",
       "      <td>118741</td>\n",
       "      <td>16</td>\n",
       "      <td>17.6</td>\n",
       "      <td>29.7</td>\n",
       "      <td>0.0</td>\n",
       "      <td>8.6</td>\n",
       "      <td>12.2</td>\n",
       "      <td>15</td>\n",
       "      <td>41.0</td>\n",
       "      <td>...</td>\n",
       "      <td>17.0</td>\n",
       "      <td>28.0</td>\n",
       "      <td>50.0</td>\n",
       "      <td>52.0</td>\n",
       "      <td>1013.3</td>\n",
       "      <td>1012.6</td>\n",
       "      <td>1.0</td>\n",
       "      <td>6.0</td>\n",
       "      <td>23.8</td>\n",
       "      <td>27.7</td>\n",
       "    </tr>\n",
       "  </tbody>\n",
       "</table>\n",
       "<p>10 rows × 22 columns</p>\n",
       "</div>"
      ],
      "text/plain": [
       "       level_0   index  Location  MinTemp  MaxTemp  Rainfall  Evaporation  \\\n",
       "52421    52421  137575         0     11.3     30.3       0.0         11.0   \n",
       "18610    18610   65620         9      8.5     28.7       0.0          6.4   \n",
       "1170      1170    9761         5     19.4     23.4       4.0          2.6   \n",
       "23420    23420   71864        10     11.8     31.5       0.0          6.8   \n",
       "38195    38195  100732        12      5.2     15.9       2.4          1.6   \n",
       "52556    52556  137754         0     13.5     38.4       0.0         11.6   \n",
       "46834    46834  121346        15      6.4     17.8       0.0          3.0   \n",
       "31110    31110   86025         1     17.8     27.0       0.0          6.2   \n",
       "53349    53349  138675         0     12.0     30.8       0.0          7.4   \n",
       "44329    44329  118741        16     17.6     29.7       0.0          8.6   \n",
       "\n",
       "       Sunshine  WindGustDir  WindGustSpeed  ...  WindSpeed9am  WindSpeed3pm  \\\n",
       "52421      11.3            2           46.0  ...           9.0          24.0   \n",
       "18610      13.1           10           33.0  ...          11.0          11.0   \n",
       "1170        0.0            5           22.0  ...          11.0          11.0   \n",
       "23420      10.8            8           43.0  ...           6.0          13.0   \n",
       "38195       6.1           11           52.0  ...          13.0          24.0   \n",
       "52556      11.9            2           57.0  ...          26.0          26.0   \n",
       "46834       9.1            0           31.0  ...          11.0          11.0   \n",
       "31110       5.5           10           26.0  ...           9.0           9.0   \n",
       "53349      11.2            8           39.0  ...           2.0          17.0   \n",
       "44329      12.2           15           41.0  ...          17.0          28.0   \n",
       "\n",
       "       Humidity9am  Humidity3pm  Pressure9am  Pressure3pm  Cloud9am  Cloud3pm  \\\n",
       "52421         30.0         13.0       1018.1       1013.6       0.0       2.0   \n",
       "18610         55.0         29.0       1015.0       1012.2       1.0       3.0   \n",
       "1170          94.0         93.0       1012.4       1011.3       8.0       8.0   \n",
       "23420         47.0         14.0       1022.5       1019.2       0.0       1.0   \n",
       "38195         92.0         88.0       1025.3       1023.0       7.0       3.0   \n",
       "52556          8.0          6.0       1015.6       1010.9       0.0       0.0   \n",
       "46834         57.0         36.0       1030.6       1026.5       0.0       0.0   \n",
       "31110         59.0         58.0       1019.9       1017.0       3.0       6.0   \n",
       "53349         24.0         12.0       1020.2       1016.2       0.0       1.0   \n",
       "44329         50.0         52.0       1013.3       1012.6       1.0       6.0   \n",
       "\n",
       "       Temp9am  Temp3pm  \n",
       "52421     21.4     29.1  \n",
       "18610     16.2     25.8  \n",
       "1170      19.8     20.0  \n",
       "23420     17.9     30.8  \n",
       "38195     12.2     12.3  \n",
       "52556     28.8     36.1  \n",
       "46834     11.6     17.3  \n",
       "31110     23.1     25.3  \n",
       "53349     22.6     29.3  \n",
       "44329     23.8     27.7  \n",
       "\n",
       "[10 rows x 22 columns]"
      ]
     },
     "execution_count": 39,
     "metadata": {},
     "output_type": "execute_result"
    }
   ],
   "source": [
    "le = preprocessing.LabelEncoder()\n",
    "df['Location'] = le.fit_transform(df['Location'])\n",
    "df['WindGustDir'] = le.fit_transform(df['WindGustDir'])\n",
    "df['WindDir9am'] = le.fit_transform(df['WindDir9am'])\n",
    "df['WindDir3pm'] = le.fit_transform(df['WindDir3pm'])\n",
    "\n",
    "df.sample(10)"
   ]
  },
  {
   "cell_type": "code",
   "execution_count": 43,
   "id": "1b029808",
   "metadata": {},
   "outputs": [],
   "source": [
    "scaler = StandardScaler()\n",
    "df[['Humidity9am', 'Humidity3pm']] = scaler.fit_transform(df[['Humidity9am', 'Humidity3pm']])\n",
    "df[['MinTemp', 'MaxTemp']] = scaler.fit_transform(df[['MinTemp', 'MaxTemp']])\n",
    "df[['Rainfall', 'WindGustSpeed']] = scaler.fit_transform(df[['Rainfall', 'WindGustSpeed']])\n",
    "df[['Sunshine', 'Evaporation']] = scaler.fit_transform(df[['Sunshine', 'Evaporation']])\n",
    "df[['WindSpeed9am', 'WindSpeed3pm']] = scaler.fit_transform(df[['WindSpeed9am', 'WindSpeed3pm']])\n",
    "df[['Pressure9am', 'Pressure3pm']] = scaler.fit_transform(df[['Pressure9am', 'Pressure3pm']])\n",
    "df[['Cloud9am', 'Cloud3pm']] = scaler.fit_transform(df[['Cloud9am', 'Cloud3pm']])\n",
    "df[['Temp9am', 'Temp3pm']] = scaler.fit_transform(df[['Temp9am', 'Temp3pm']])"
   ]
  },
  {
   "cell_type": "code",
   "execution_count": 44,
   "id": "02ae0043",
   "metadata": {},
   "outputs": [
    {
     "data": {
      "text/html": [
       "<div>\n",
       "<style scoped>\n",
       "    .dataframe tbody tr th:only-of-type {\n",
       "        vertical-align: middle;\n",
       "    }\n",
       "\n",
       "    .dataframe tbody tr th {\n",
       "        vertical-align: top;\n",
       "    }\n",
       "\n",
       "    .dataframe thead th {\n",
       "        text-align: right;\n",
       "    }\n",
       "</style>\n",
       "<table border=\"1\" class=\"dataframe\">\n",
       "  <thead>\n",
       "    <tr style=\"text-align: right;\">\n",
       "      <th></th>\n",
       "      <th>level_0</th>\n",
       "      <th>index</th>\n",
       "      <th>Location</th>\n",
       "      <th>MinTemp</th>\n",
       "      <th>MaxTemp</th>\n",
       "      <th>Rainfall</th>\n",
       "      <th>Evaporation</th>\n",
       "      <th>Sunshine</th>\n",
       "      <th>WindGustDir</th>\n",
       "      <th>WindGustSpeed</th>\n",
       "      <th>...</th>\n",
       "      <th>WindSpeed9am</th>\n",
       "      <th>WindSpeed3pm</th>\n",
       "      <th>Humidity9am</th>\n",
       "      <th>Humidity3pm</th>\n",
       "      <th>Pressure9am</th>\n",
       "      <th>Pressure3pm</th>\n",
       "      <th>Cloud9am</th>\n",
       "      <th>Cloud3pm</th>\n",
       "      <th>Temp9am</th>\n",
       "      <th>Temp3pm</th>\n",
       "    </tr>\n",
       "  </thead>\n",
       "  <tbody>\n",
       "    <tr>\n",
       "      <th>23848</th>\n",
       "      <td>23848</td>\n",
       "      <td>72333</td>\n",
       "      <td>10</td>\n",
       "      <td>-1.677636</td>\n",
       "      <td>-0.906549</td>\n",
       "      <td>-0.303702</td>\n",
       "      <td>-1.001863</td>\n",
       "      <td>-1.206887</td>\n",
       "      <td>5</td>\n",
       "      <td>-0.740704</td>\n",
       "      <td>...</td>\n",
       "      <td>-1.042119</td>\n",
       "      <td>0.025055</td>\n",
       "      <td>0.979083</td>\n",
       "      <td>-0.326882</td>\n",
       "      <td>0.703472</td>\n",
       "      <td>0.306283</td>\n",
       "      <td>0.986113</td>\n",
       "      <td>1.009919</td>\n",
       "      <td>-2.010520</td>\n",
       "      <td>-0.849901</td>\n",
       "    </tr>\n",
       "    <tr>\n",
       "      <th>14806</th>\n",
       "      <td>14806</td>\n",
       "      <td>45966</td>\n",
       "      <td>3</td>\n",
       "      <td>0.130166</td>\n",
       "      <td>1.245341</td>\n",
       "      <td>-0.303702</td>\n",
       "      <td>0.729622</td>\n",
       "      <td>0.549310</td>\n",
       "      <td>6</td>\n",
       "      <td>1.508996</td>\n",
       "      <td>...</td>\n",
       "      <td>-0.320699</td>\n",
       "      <td>1.200129</td>\n",
       "      <td>-1.667688</td>\n",
       "      <td>-1.416160</td>\n",
       "      <td>-0.483335</td>\n",
       "      <td>-0.770734</td>\n",
       "      <td>0.986113</td>\n",
       "      <td>0.632165</td>\n",
       "      <td>0.851872</td>\n",
       "      <td>1.344210</td>\n",
       "    </tr>\n",
       "    <tr>\n",
       "      <th>39830</th>\n",
       "      <td>39830</td>\n",
       "      <td>102989</td>\n",
       "      <td>14</td>\n",
       "      <td>0.176920</td>\n",
       "      <td>0.714542</td>\n",
       "      <td>-0.303702</td>\n",
       "      <td>0.729622</td>\n",
       "      <td>0.895228</td>\n",
       "      <td>1</td>\n",
       "      <td>-0.290764</td>\n",
       "      <td>...</td>\n",
       "      <td>-0.080225</td>\n",
       "      <td>0.025055</td>\n",
       "      <td>-1.073515</td>\n",
       "      <td>-1.119084</td>\n",
       "      <td>1.861332</td>\n",
       "      <td>1.732603</td>\n",
       "      <td>-0.443920</td>\n",
       "      <td>0.632165</td>\n",
       "      <td>0.212402</td>\n",
       "      <td>0.773741</td>\n",
       "    </tr>\n",
       "    <tr>\n",
       "      <th>38132</th>\n",
       "      <td>38132</td>\n",
       "      <td>100661</td>\n",
       "      <td>12</td>\n",
       "      <td>-0.275031</td>\n",
       "      <td>0.341547</td>\n",
       "      <td>-0.303702</td>\n",
       "      <td>-0.244338</td>\n",
       "      <td>0.948446</td>\n",
       "      <td>11</td>\n",
       "      <td>-0.290764</td>\n",
       "      <td>...</td>\n",
       "      <td>-0.080225</td>\n",
       "      <td>-0.797496</td>\n",
       "      <td>0.384909</td>\n",
       "      <td>-0.079319</td>\n",
       "      <td>0.110068</td>\n",
       "      <td>0.131632</td>\n",
       "      <td>-0.801428</td>\n",
       "      <td>0.254411</td>\n",
       "      <td>-0.000755</td>\n",
       "      <td>0.247154</td>\n",
       "    </tr>\n",
       "    <tr>\n",
       "      <th>40079</th>\n",
       "      <td>40079</td>\n",
       "      <td>103279</td>\n",
       "      <td>14</td>\n",
       "      <td>-0.462045</td>\n",
       "      <td>0.556736</td>\n",
       "      <td>-0.303702</td>\n",
       "      <td>0.567295</td>\n",
       "      <td>1.507236</td>\n",
       "      <td>9</td>\n",
       "      <td>-0.290764</td>\n",
       "      <td>...</td>\n",
       "      <td>0.400721</td>\n",
       "      <td>-1.502541</td>\n",
       "      <td>-1.019500</td>\n",
       "      <td>-1.515185</td>\n",
       "      <td>-0.092557</td>\n",
       "      <td>-0.363214</td>\n",
       "      <td>-0.086412</td>\n",
       "      <td>-0.878850</td>\n",
       "      <td>-0.640226</td>\n",
       "      <td>0.393428</td>\n",
       "    </tr>\n",
       "  </tbody>\n",
       "</table>\n",
       "<p>5 rows × 22 columns</p>\n",
       "</div>"
      ],
      "text/plain": [
       "       level_0   index  Location   MinTemp   MaxTemp  Rainfall  Evaporation  \\\n",
       "23848    23848   72333        10 -1.677636 -0.906549 -0.303702    -1.001863   \n",
       "14806    14806   45966         3  0.130166  1.245341 -0.303702     0.729622   \n",
       "39830    39830  102989        14  0.176920  0.714542 -0.303702     0.729622   \n",
       "38132    38132  100661        12 -0.275031  0.341547 -0.303702    -0.244338   \n",
       "40079    40079  103279        14 -0.462045  0.556736 -0.303702     0.567295   \n",
       "\n",
       "       Sunshine  WindGustDir  WindGustSpeed  ...  WindSpeed9am  WindSpeed3pm  \\\n",
       "23848 -1.206887            5      -0.740704  ...     -1.042119      0.025055   \n",
       "14806  0.549310            6       1.508996  ...     -0.320699      1.200129   \n",
       "39830  0.895228            1      -0.290764  ...     -0.080225      0.025055   \n",
       "38132  0.948446           11      -0.290764  ...     -0.080225     -0.797496   \n",
       "40079  1.507236            9      -0.290764  ...      0.400721     -1.502541   \n",
       "\n",
       "       Humidity9am  Humidity3pm  Pressure9am  Pressure3pm  Cloud9am  Cloud3pm  \\\n",
       "23848     0.979083    -0.326882     0.703472     0.306283  0.986113  1.009919   \n",
       "14806    -1.667688    -1.416160    -0.483335    -0.770734  0.986113  0.632165   \n",
       "39830    -1.073515    -1.119084     1.861332     1.732603 -0.443920  0.632165   \n",
       "38132     0.384909    -0.079319     0.110068     0.131632 -0.801428  0.254411   \n",
       "40079    -1.019500    -1.515185    -0.092557    -0.363214 -0.086412 -0.878850   \n",
       "\n",
       "        Temp9am   Temp3pm  \n",
       "23848 -2.010520 -0.849901  \n",
       "14806  0.851872  1.344210  \n",
       "39830  0.212402  0.773741  \n",
       "38132 -0.000755  0.247154  \n",
       "40079 -0.640226  0.393428  \n",
       "\n",
       "[5 rows x 22 columns]"
      ]
     },
     "execution_count": 44,
     "metadata": {},
     "output_type": "execute_result"
    }
   ],
   "source": [
    "df.sample(5)"
   ]
  },
  {
   "cell_type": "code",
   "execution_count": 42,
   "id": "79ec0326",
   "metadata": {},
   "outputs": [],
   "source": [
    "df_train, df_test = train_test_split(df, shuffle=True, random_state=42, test_size=0.25)"
   ]
  },
  {
   "cell_type": "code",
   "execution_count": null,
   "id": "d62640a2",
   "metadata": {},
   "outputs": [],
   "source": [
    "# Задание 3: Построить свой DataLoader\n",
    "\n",
    "class DataLoader:\n",
    "\n",
    "    def __init__(self, X_data, y_data, batch_size=64, shuffle=True):\n",
    "        self.X_data = X_data\n",
    "        self.y_data = y_data\n",
    "        self.batch_size = batch_size\n",
    "        self.shuffle = shuffle\n",
    "        self.indexes = list(self.X_data.index)\n",
    "\n",
    "    def __getitem__(self, index):\n",
    "        X_elem, y_elem = self.X_data[index], self.y_data[index]\n",
    "        return (X_elem, y_elem)\n",
    "\n",
    "    def __len__(self):\n",
    "        # количество батчей\n",
    "        pass\n",
    "\n",
    "    def __iter__(self):\n",
    "        return self\n",
    "\n",
    "    def __next__(self):\n",
    "        if self.shuffle == True:\n",
    "            self.indexes = np.random.shuffle(self.indexes)\n",
    "\n",
    "        for i in self.indexes:\n",
    "            batch = []\n",
    "            n = 0\n",
    "            while n < self.batch_size:\n",
    "                batch.append((self.X_data[i], self.y_data[i])\n",
    "            yield batch"
   ]
  },
  {
   "cell_type": "code",
   "execution_count": null,
   "id": "1ea56eef",
   "metadata": {},
   "outputs": [],
   "source": [
    "train_loader, test_loader = None, None"
   ]
  },
  {
   "cell_type": "code",
   "execution_count": 20,
   "id": "08ab150c",
   "metadata": {},
   "outputs": [],
   "source": [
    "# Задание 4: Построить двухслойный перцептрон\n",
    "\n",
    "class ShallowPerceptron(nn.Module):\n",
    "    \n",
    "    def __init__(self):\n",
    "        super(ShallowPerceptron, self).__init__()\n",
    "        \n",
    "        # First nn.Linear shape: (n_features, hidden_size)\n",
    "        self.layer_1 = None\n",
    "        \n",
    "        # Second nn.Linear shape: (hidden_size, hidden_size)\n",
    "        self.layer_2 = None\n",
    "        \n",
    "        # Last nn.Linear shape: (hidden_size, 1)\n",
    "        self.layer_out = None\n",
    "        \n",
    "        # Read about ReLU: https://www.kaggle.com/dansbecker/rectified-linear-units-relu-in-deep-learning\n",
    "        self.relu = nn.ReLU()\n",
    "        \n",
    "        # Read about Dropout: https://jmlr.org/papers/volume15/srivastava14a/srivastava14a.pdf\n",
    "        self.dropout = nn.Dropout(p=0.1)\n",
    "\n",
    "        \n",
    "    def forward(self, inputs):\n",
    "        # Каждый слой по сути является функцией, в которую передаются некоторые input\n",
    "        # Очередность: layer_1 --> relu --> layer_2 --> relu --> dropout --> layer_out\n",
    "        return x"
   ]
  },
  {
   "cell_type": "code",
   "execution_count": 23,
   "id": "c4db185a",
   "metadata": {},
   "outputs": [],
   "source": [
    "EPOCHS = 50\n",
    "BATCH_SIZE = 64\n",
    "LEARNING_RATE = 0.001\n",
    "\n",
    "\n",
    "model = ShallowPerceptron()\n",
    "print(model)\n",
    "criterion = nn.BCEWithLogitsLoss()\n",
    "optimizer = optim.Adam(model.parameters(), lr=LEARNING_RATE)\n"
   ]
  },
  {
   "cell_type": "code",
   "execution_count": 26,
   "id": "dfbb266e",
   "metadata": {},
   "outputs": [],
   "source": [
    "# Задание 5: написать цикл обучения\n",
    "\n",
    "# Переводим модель в режим \"тренировки\"\n",
    "model.train()\n",
    "\n",
    "\n",
    "# Одна эпоха - один полный проход по данным \n",
    "for epoch in range(EPOCHS):\n",
    "    \n",
    "    # На каждой эпохе необходимо отслеживать суммарный лосс и считать метрику качества\n",
    "    # В качестве метрики можно использовать F1 score\n",
    "    epoch_loss = 0\n",
    "    epoch_f1 = 0\n",
    "    for X_batch, y_batch in train_loader:\n",
    "        \n",
    "        # Зануляем градиенты с предыдущего шага\n",
    "        optimizer.zero_grad()\n",
    "        \n",
    "        # Делаем forward\n",
    "        y_pred = model(X_batch)\n",
    "        \n",
    "        # Считаем лосс с помощью нашего criterion\n",
    "        loss = None\n",
    "        \n",
    "        # Считаем метрику\n",
    "        f1 = None\n",
    "        \n",
    "        # Делаем backpropagation\n",
    "        loss.backward()\n",
    "        \n",
    "        # Изменяем веса\n",
    "        optimizer.step()\n",
    "        \n",
    "        epoch_loss += loss.item()\n",
    "        epoch_f1 += f1\n",
    "        \n",
    "    \n",
    "    # Тут нужно вывести: Номер текущей эпохи | Лосс, усредненный на количество батчей | усредненный F1"
   ]
  },
  {
   "cell_type": "code",
   "execution_count": null,
   "id": "c6ecd389",
   "metadata": {},
   "outputs": [],
   "source": [
    "# Задание 6: Провести оценку на тестовых данных\n",
    "\n",
    "\n",
    "model.eval()\n",
    "with torch.no_grad():\n",
    "    for X_batch in test_loader:\n",
    "        y_test_pred = model(X_batch)\n",
    "        # Нужно сохранять результаты\n",
    "\n",
    "# Здесь считаем метрику на полученных предсказаниях\n",
    "# Радуемся!"
   ]
  }
 ],
 "metadata": {
  "kernelspec": {
   "display_name": "Python 3 (ipykernel)",
   "language": "python",
   "name": "python3"
  },
  "language_info": {
   "codemirror_mode": {
    "name": "ipython",
    "version": 3
   },
   "file_extension": ".py",
   "mimetype": "text/x-python",
   "name": "python",
   "nbconvert_exporter": "python",
   "pygments_lexer": "ipython3",
   "version": "3.9.5"
  }
 },
 "nbformat": 4,
 "nbformat_minor": 5
}
